{
 "cells": [
  {
   "cell_type": "code",
   "execution_count": null,
   "id": "83e8584c",
   "metadata": {
    "vscode": {
     "languageId": "plaintext"
    }
   },
   "outputs": [],
   "source": [
    "experiment = \"gbyk\"\n",
    "DATA_DIR = Path(f\"data/{experiment}\")\n",
    "CHECKPOINT_DIR = Path(\"checkpoint/posetoneuro\")\n",
    "CONFIG_DIR = Path(\"config/posetoneuro\")\n",
    "sessions = [\n",
    "    \"bex_20230621_spikes_sorted_SES\",  # before\n",
    "    \"bex_20230624_spikes_sorted_SES\",  # before\n",
    "    \"bex_20230629_spikes_sorted_SES\",  # before\n",
    "    \"bex_20230630_spikes_sorted_SES\",  # before\n",
    "    \"bex_20230701_spikes_sorted_SES\",  # before\n",
    "    \"bex_20230708_spikes_sorted_SES\",  # while\n",
    "    \"ken_20230614_spikes_sorted_SES\",  # while and before\n",
    "    \"ken_20230618_spikes_sorted_SES\",  # before\n",
    "    \"ken_20230622_spikes_sorted_SES\",  # while, before and free\n",
    "    \"ken_20230629_spikes_sorted_SES\",  # while, before and free\n",
    "    \"ken_20230630_spikes_sorted_SES\",  # while\n",
    "    \"ken_20230701_spikes_sorted_SES\",  # before\n",
    "    \"ken_20230703_spikes_sorted_SES\",  # while\n",
    "]\n",
    "hyperparams = {\n",
    "    \"homing\": False,\n",
    "    \"filter\": False,\n",
    "    \"in_modalities\": \"poses\",\n",
    "    \"out_modalities\": \"spike_count\",\n",
    "    \"architecture\": \"gru\",\n",
    "    \"sessions\": sessions,\n",
    "    \"body_repr\": \"centered\",\n",
    "    \"hidden_dim\": 512,\n",
    "    \"n_layers\": 1,\n",
    "    \"n_epochs\": 200,\n",
    "    \"task\": \"regression\",\n",
    "    \"metric\": \"correlation\",\n",
    "}"
   ]
  }
 ],
 "metadata": {
  "language_info": {
   "name": "python"
  }
 },
 "nbformat": 4,
 "nbformat_minor": 5
}
