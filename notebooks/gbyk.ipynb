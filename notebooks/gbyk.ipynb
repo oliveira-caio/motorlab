{
 "cells": [
  {
   "cell_type": "markdown",
   "metadata": {},
   "source": [
    "# imports"
   ]
  },
  {
   "cell_type": "code",
   "execution_count": 1,
   "metadata": {},
   "outputs": [],
   "source": [
    "import os\n",
    "import pickle\n",
    "import sys\n",
    "\n",
    "import matplotlib.pyplot as plt\n",
    "import numpy as np\n",
    "import vci\n",
    "\n",
    "parent_dir = os.path.dirname(os.getcwd())\n",
    "if parent_dir not in sys.path:\n",
    "    sys.path.append(parent_dir)\n",
    "\n",
    "import helpers\n",
    "import gbyk"
   ]
  },
  {
   "cell_type": "markdown",
   "metadata": {},
   "source": [
    "# base dataset\n",
    "\n",
    "keypoints in global coordinates."
   ]
  },
  {
   "cell_type": "code",
   "execution_count": 2,
   "metadata": {},
   "outputs": [],
   "source": [
    "kps_train, kps_val, kps_test = gbyk.preprocess_keypoints()\n",
    "spks_train, spks_val, spks_test = gbyk.preprocess_spikes()\n",
    "\n",
    "train_set = {\n",
    "    \"keno_0\": [\n",
    "        {\"keypoints\": kps, \"spikes\": spks}\n",
    "        for kps, spks in zip(kps_train, spks_train)\n",
    "    ]\n",
    "}\n",
    "\n",
    "val_set = {\n",
    "    \"keno_0\": [\n",
    "        {\"keypoints\": kps, \"spikes\": spks}\n",
    "        for kps, spks in zip(kps_val, spks_val)\n",
    "    ]\n",
    "}\n",
    "\n",
    "test_set = {\n",
    "    \"keno_0\": [\n",
    "        {\"keypoints\": kps, \"spikes\": spks}\n",
    "        for kps, spks in zip(kps_test, spks_test)\n",
    "    ]\n",
    "}\n",
    "\n",
    "dataset = {\"train\": train_set, \"validation\": val_set, \"test\": test_set}\n",
    "\n",
    "with open(\"gbyk.pkl\", \"wb\") as f:\n",
    "    pickle.dump(dataset, f)"
   ]
  },
  {
   "cell_type": "markdown",
   "metadata": {},
   "source": [
    "# nose dataset\n",
    "\n",
    "nose in global coordinates and the other keypoints relative (difference) to the nose."
   ]
  },
  {
   "cell_type": "code",
   "execution_count": 2,
   "metadata": {},
   "outputs": [],
   "source": [
    "with open(\"gbyk.pkl\", \"rb\") as old:\n",
    "    old_data = pickle.load(old)\n",
    "    with open(\"gbyk_nose.pkl\", \"wb\") as new:\n",
    "        new_data = helpers.compute_differences(\n",
    "            old_data, nose_idx=17, add_nose=True\n",
    "        )\n",
    "        pickle.dump(new_data, new)"
   ]
  },
  {
   "cell_type": "markdown",
   "metadata": {},
   "source": [
    "# noseless dataset"
   ]
  },
  {
   "cell_type": "code",
   "execution_count": 3,
   "metadata": {},
   "outputs": [],
   "source": [
    "with open(\"gbyk.pkl\", \"rb\") as old:\n",
    "    old_data = pickle.load(old)\n",
    "    with open(\"gbyk_noseless.pkl\", \"wb\") as new:\n",
    "        new_data = helpers.compute_differences(\n",
    "            old_data, nose_idx=17, add_nose=False\n",
    "        )\n",
    "        pickle.dump(new_data, new)"
   ]
  },
  {
   "cell_type": "markdown",
   "metadata": {},
   "source": [
    "# centered dataset"
   ]
  },
  {
   "cell_type": "code",
   "execution_count": 2,
   "metadata": {},
   "outputs": [],
   "source": [
    "with open(\"gbyk.pkl\", \"rb\") as old:\n",
    "    old_data = pickle.load(old)\n",
    "    with open(\"gbyk_centered.pkl\", \"wb\") as new:\n",
    "        new_data = helpers.center_head_differences(\n",
    "            old_data, l_ear_idx=15, r_ear_idx=16, add_center=True\n",
    "        )\n",
    "        pickle.dump(new_data, new)"
   ]
  },
  {
   "cell_type": "markdown",
   "metadata": {},
   "source": [
    "# uncentered dataset"
   ]
  },
  {
   "cell_type": "code",
   "execution_count": 3,
   "metadata": {},
   "outputs": [],
   "source": [
    "with open(\"gbyk.pkl\", \"rb\") as old:\n",
    "    old_data = pickle.load(old)\n",
    "    with open(\"gbyk_uncentered.pkl\", \"wb\") as new:\n",
    "        new_data = helpers.center_head_differences(\n",
    "            old_data, l_ear_idx=15, r_ear_idx=16, add_center=False\n",
    "        )\n",
    "        pickle.dump(new_data, new)"
   ]
  },
  {
   "cell_type": "markdown",
   "metadata": {},
   "source": [
    "# head dataset\n",
    "\n",
    "change the coordinate system such that the origin is the nose, the x-axis is the vector nose-neck, the y-axis is the vector nose-l_ear and the z-axis is the vector nose-r_ear"
   ]
  },
  {
   "cell_type": "code",
   "execution_count": 2,
   "metadata": {},
   "outputs": [],
   "source": [
    "with open(\"gbyk.pkl\", \"rb\") as old:\n",
    "    old_data = pickle.load(old)\n",
    "    with open(\"gbyk_head.pkl\", \"wb\") as new:\n",
    "        new_data = helpers.head_coordinates(\n",
    "            old_data, face_idxs=[14, 15, 16, 17], add_nose=True\n",
    "        )\n",
    "        pickle.dump(new_data, new)"
   ]
  },
  {
   "cell_type": "markdown",
   "metadata": {},
   "source": [
    "# noseless head dataset\n",
    "\n",
    "i remove the nose (origin) from the head dataset, which means there's only information about the monkeys' body, but not where he's in the room."
   ]
  },
  {
   "cell_type": "code",
   "execution_count": 5,
   "metadata": {},
   "outputs": [],
   "source": [
    "with open(\"gbyk.pkl\", \"rb\") as old:\n",
    "    old_data = pickle.load(old)\n",
    "    with open(\"gbyk_noseless_head.pkl\", \"wb\") as new:\n",
    "        new_data = helpers.head_coordinates(\n",
    "            old_data, face_idxs=[14, 15, 16, 17], add_nose=False\n",
    "        )\n",
    "        pickle.dump(new_data, new)"
   ]
  },
  {
   "cell_type": "markdown",
   "metadata": {},
   "source": [
    "# orthogonal head dataset"
   ]
  },
  {
   "cell_type": "code",
   "execution_count": 2,
   "metadata": {},
   "outputs": [
    {
     "name": "stdout",
     "output_type": "stream",
     "text": [
      "(240, 3, 3)\n",
      "(240, 3, 3)\n",
      "(240, 3, 3)\n",
      "(180, 3, 3)\n",
      "(300, 3, 3)\n",
      "(300, 3, 3)\n",
      "(300, 3, 3)\n",
      "(300, 3, 3)\n",
      "(240, 3, 3)\n",
      "(240, 3, 3)\n",
      "(240, 3, 3)\n",
      "(300, 3, 3)\n",
      "(300, 3, 3)\n",
      "(300, 3, 3)\n",
      "(240, 3, 3)\n",
      "(300, 3, 3)\n",
      "(240, 3, 3)\n",
      "(240, 3, 3)\n",
      "(240, 3, 3)\n",
      "(300, 3, 3)\n",
      "(300, 3, 3)\n",
      "(300, 3, 3)\n",
      "(240, 3, 3)\n",
      "(300, 3, 3)\n",
      "(300, 3, 3)\n",
      "(300, 3, 3)\n",
      "(240, 3, 3)\n",
      "(300, 3, 3)\n",
      "(240, 3, 3)\n",
      "(240, 3, 3)\n",
      "(240, 3, 3)\n",
      "(300, 3, 3)\n",
      "(300, 3, 3)\n",
      "(480, 3, 3)\n",
      "(300, 3, 3)\n",
      "(240, 3, 3)\n",
      "(300, 3, 3)\n",
      "(240, 3, 3)\n",
      "(300, 3, 3)\n",
      "(240, 3, 3)\n",
      "(240, 3, 3)\n",
      "(300, 3, 3)\n",
      "(300, 3, 3)\n",
      "(240, 3, 3)\n",
      "(240, 3, 3)\n",
      "(240, 3, 3)\n",
      "(300, 3, 3)\n",
      "(300, 3, 3)\n",
      "(300, 3, 3)\n",
      "(240, 3, 3)\n",
      "(300, 3, 3)\n",
      "(240, 3, 3)\n",
      "(240, 3, 3)\n",
      "(300, 3, 3)\n",
      "(300, 3, 3)\n",
      "(240, 3, 3)\n",
      "(300, 3, 3)\n",
      "(300, 3, 3)\n",
      "(300, 3, 3)\n",
      "(240, 3, 3)\n",
      "(300, 3, 3)\n",
      "(240, 3, 3)\n",
      "(300, 3, 3)\n",
      "(240, 3, 3)\n",
      "(300, 3, 3)\n",
      "(300, 3, 3)\n",
      "(300, 3, 3)\n",
      "(300, 3, 3)\n",
      "(300, 3, 3)\n",
      "(240, 3, 3)\n",
      "(300, 3, 3)\n",
      "(240, 3, 3)\n",
      "(300, 3, 3)\n",
      "(240, 3, 3)\n",
      "(240, 3, 3)\n",
      "(240, 3, 3)\n",
      "(240, 3, 3)\n",
      "(240, 3, 3)\n",
      "(420, 3, 3)\n",
      "(300, 3, 3)\n",
      "(240, 3, 3)\n",
      "(240, 3, 3)\n",
      "(300, 3, 3)\n",
      "(300, 3, 3)\n",
      "(240, 3, 3)\n",
      "(420, 3, 3)\n",
      "(300, 3, 3)\n",
      "(240, 3, 3)\n",
      "(300, 3, 3)\n",
      "(240, 3, 3)\n",
      "(300, 3, 3)\n",
      "(300, 3, 3)\n",
      "(240, 3, 3)\n",
      "(240, 3, 3)\n",
      "(360, 3, 3)\n",
      "(240, 3, 3)\n",
      "(300, 3, 3)\n",
      "(240, 3, 3)\n",
      "(420, 3, 3)\n",
      "(300, 3, 3)\n",
      "(300, 3, 3)\n",
      "(240, 3, 3)\n",
      "(300, 3, 3)\n",
      "(240, 3, 3)\n",
      "(240, 3, 3)\n",
      "(300, 3, 3)\n",
      "(240, 3, 3)\n",
      "(300, 3, 3)\n",
      "(240, 3, 3)\n",
      "(300, 3, 3)\n",
      "(240, 3, 3)\n",
      "(480, 3, 3)\n",
      "(480, 3, 3)\n",
      "(240, 3, 3)\n",
      "(240, 3, 3)\n",
      "(480, 3, 3)\n",
      "(300, 3, 3)\n",
      "(240, 3, 3)\n",
      "(300, 3, 3)\n",
      "(240, 3, 3)\n",
      "(240, 3, 3)\n",
      "(240, 3, 3)\n",
      "(300, 3, 3)\n",
      "(240, 3, 3)\n",
      "(300, 3, 3)\n",
      "(300, 3, 3)\n",
      "(480, 3, 3)\n",
      "(180, 3, 3)\n",
      "(420, 3, 3)\n",
      "(300, 3, 3)\n",
      "(300, 3, 3)\n",
      "(300, 3, 3)\n",
      "(300, 3, 3)\n",
      "(300, 3, 3)\n",
      "(240, 3, 3)\n",
      "(300, 3, 3)\n",
      "(240, 3, 3)\n",
      "(420, 3, 3)\n",
      "(300, 3, 3)\n",
      "(240, 3, 3)\n",
      "(300, 3, 3)\n",
      "(240, 3, 3)\n",
      "(300, 3, 3)\n",
      "(240, 3, 3)\n",
      "(240, 3, 3)\n",
      "(300, 3, 3)\n",
      "(300, 3, 3)\n",
      "(240, 3, 3)\n",
      "(300, 3, 3)\n",
      "(240, 3, 3)\n",
      "(240, 3, 3)\n",
      "(240, 3, 3)\n",
      "(300, 3, 3)\n",
      "(240, 3, 3)\n",
      "(480, 3, 3)\n",
      "(480, 3, 3)\n",
      "(300, 3, 3)\n",
      "(240, 3, 3)\n",
      "(300, 3, 3)\n",
      "(240, 3, 3)\n",
      "(420, 3, 3)\n",
      "(300, 3, 3)\n",
      "(240, 3, 3)\n",
      "(240, 3, 3)\n",
      "(240, 3, 3)\n",
      "(300, 3, 3)\n",
      "(240, 3, 3)\n",
      "(300, 3, 3)\n",
      "(240, 3, 3)\n",
      "(240, 3, 3)\n",
      "(240, 3, 3)\n",
      "(240, 3, 3)\n",
      "(240, 3, 3)\n",
      "(240, 3, 3)\n",
      "(240, 3, 3)\n",
      "(240, 3, 3)\n",
      "(300, 3, 3)\n",
      "(240, 3, 3)\n",
      "(300, 3, 3)\n",
      "(240, 3, 3)\n",
      "(300, 3, 3)\n",
      "(240, 3, 3)\n",
      "(240, 3, 3)\n",
      "(240, 3, 3)\n",
      "(240, 3, 3)\n",
      "(240, 3, 3)\n",
      "(240, 3, 3)\n",
      "(240, 3, 3)\n",
      "(240, 3, 3)\n",
      "(240, 3, 3)\n",
      "(240, 3, 3)\n",
      "(240, 3, 3)\n",
      "(300, 3, 3)\n",
      "(240, 3, 3)\n",
      "(240, 3, 3)\n",
      "(240, 3, 3)\n",
      "(240, 3, 3)\n",
      "(300, 3, 3)\n",
      "(480, 3, 3)\n",
      "(300, 3, 3)\n",
      "(240, 3, 3)\n",
      "(240, 3, 3)\n",
      "(420, 3, 3)\n",
      "(240, 3, 3)\n",
      "(240, 3, 3)\n",
      "(240, 3, 3)\n",
      "(240, 3, 3)\n",
      "(420, 3, 3)\n",
      "(300, 3, 3)\n",
      "(240, 3, 3)\n",
      "(300, 3, 3)\n",
      "(240, 3, 3)\n",
      "(300, 3, 3)\n",
      "(240, 3, 3)\n",
      "(300, 3, 3)\n",
      "(240, 3, 3)\n",
      "(240, 3, 3)\n",
      "(240, 3, 3)\n",
      "(300, 3, 3)\n",
      "(300, 3, 3)\n",
      "(300, 3, 3)\n",
      "(300, 3, 3)\n",
      "(300, 3, 3)\n",
      "(240, 3, 3)\n",
      "(480, 3, 3)\n",
      "(240, 3, 3)\n",
      "(240, 3, 3)\n",
      "(480, 3, 3)\n",
      "(240, 3, 3)\n",
      "(240, 3, 3)\n",
      "(240, 3, 3)\n",
      "(240, 3, 3)\n",
      "(240, 3, 3)\n",
      "(240, 3, 3)\n",
      "(300, 3, 3)\n",
      "(180, 3, 3)\n",
      "(240, 3, 3)\n",
      "(240, 3, 3)\n",
      "(300, 3, 3)\n",
      "(240, 3, 3)\n",
      "(180, 3, 3)\n",
      "(240, 3, 3)\n",
      "(240, 3, 3)\n",
      "(240, 3, 3)\n",
      "(240, 3, 3)\n",
      "(240, 3, 3)\n",
      "(240, 3, 3)\n",
      "(240, 3, 3)\n",
      "(240, 3, 3)\n",
      "(240, 3, 3)\n",
      "(240, 3, 3)\n",
      "(300, 3, 3)\n",
      "(240, 3, 3)\n",
      "(300, 3, 3)\n",
      "(240, 3, 3)\n",
      "(240, 3, 3)\n",
      "(300, 3, 3)\n",
      "(240, 3, 3)\n",
      "(240, 3, 3)\n",
      "(240, 3, 3)\n",
      "(240, 3, 3)\n",
      "(480, 3, 3)\n"
     ]
    }
   ],
   "source": [
    "with open(\"gbyk.pkl\", \"rb\") as old:\n",
    "    old_data = pickle.load(old)\n",
    "    with open(\"gbyk_orthogonal_head.pkl\", \"wb\") as new:\n",
    "        new_data = helpers.orthogonal_head_coordinates(\n",
    "            old_data, face_idxs=[15, 16, 17], add_origin=True\n",
    "        )\n",
    "        pickle.dump(new_data, new)"
   ]
  },
  {
   "cell_type": "markdown",
   "metadata": {},
   "source": [
    "# originless orthogonal head dataset"
   ]
  },
  {
   "cell_type": "code",
   "execution_count": 3,
   "metadata": {},
   "outputs": [
    {
     "name": "stdout",
     "output_type": "stream",
     "text": [
      "(240, 3, 3)\n",
      "(240, 3, 3)\n",
      "(240, 3, 3)\n",
      "(180, 3, 3)\n",
      "(300, 3, 3)\n",
      "(300, 3, 3)\n",
      "(300, 3, 3)\n",
      "(300, 3, 3)\n",
      "(240, 3, 3)\n",
      "(240, 3, 3)\n",
      "(240, 3, 3)\n",
      "(300, 3, 3)\n",
      "(300, 3, 3)\n",
      "(300, 3, 3)\n",
      "(240, 3, 3)\n",
      "(300, 3, 3)\n",
      "(240, 3, 3)\n",
      "(240, 3, 3)\n",
      "(240, 3, 3)\n",
      "(300, 3, 3)\n",
      "(300, 3, 3)\n",
      "(300, 3, 3)\n",
      "(240, 3, 3)\n",
      "(300, 3, 3)\n",
      "(300, 3, 3)\n",
      "(300, 3, 3)\n",
      "(240, 3, 3)\n",
      "(300, 3, 3)\n",
      "(240, 3, 3)\n",
      "(240, 3, 3)\n",
      "(240, 3, 3)\n",
      "(300, 3, 3)\n",
      "(300, 3, 3)\n",
      "(480, 3, 3)\n",
      "(300, 3, 3)\n",
      "(240, 3, 3)\n",
      "(300, 3, 3)\n",
      "(240, 3, 3)\n",
      "(300, 3, 3)\n",
      "(240, 3, 3)\n",
      "(240, 3, 3)\n",
      "(300, 3, 3)\n",
      "(300, 3, 3)\n",
      "(240, 3, 3)\n",
      "(240, 3, 3)\n",
      "(240, 3, 3)\n",
      "(300, 3, 3)\n",
      "(300, 3, 3)\n",
      "(300, 3, 3)\n",
      "(240, 3, 3)\n",
      "(300, 3, 3)\n",
      "(240, 3, 3)\n",
      "(240, 3, 3)\n",
      "(300, 3, 3)\n",
      "(300, 3, 3)\n",
      "(240, 3, 3)\n",
      "(300, 3, 3)\n",
      "(300, 3, 3)\n",
      "(300, 3, 3)\n",
      "(240, 3, 3)\n",
      "(300, 3, 3)\n",
      "(240, 3, 3)\n",
      "(300, 3, 3)\n",
      "(240, 3, 3)\n",
      "(300, 3, 3)\n",
      "(300, 3, 3)\n",
      "(300, 3, 3)\n",
      "(300, 3, 3)\n",
      "(300, 3, 3)\n",
      "(240, 3, 3)\n",
      "(300, 3, 3)\n",
      "(240, 3, 3)\n",
      "(300, 3, 3)\n",
      "(240, 3, 3)\n",
      "(240, 3, 3)\n",
      "(240, 3, 3)\n",
      "(240, 3, 3)\n",
      "(240, 3, 3)\n",
      "(420, 3, 3)\n",
      "(300, 3, 3)\n",
      "(240, 3, 3)\n",
      "(240, 3, 3)\n",
      "(300, 3, 3)\n",
      "(300, 3, 3)\n",
      "(240, 3, 3)\n",
      "(420, 3, 3)\n",
      "(300, 3, 3)\n",
      "(240, 3, 3)\n",
      "(300, 3, 3)\n",
      "(240, 3, 3)\n",
      "(300, 3, 3)\n",
      "(300, 3, 3)\n",
      "(240, 3, 3)\n",
      "(240, 3, 3)\n",
      "(360, 3, 3)\n",
      "(240, 3, 3)\n",
      "(300, 3, 3)\n",
      "(240, 3, 3)\n",
      "(420, 3, 3)\n",
      "(300, 3, 3)\n",
      "(300, 3, 3)\n",
      "(240, 3, 3)\n",
      "(300, 3, 3)\n",
      "(240, 3, 3)\n",
      "(240, 3, 3)\n",
      "(300, 3, 3)\n",
      "(240, 3, 3)\n",
      "(300, 3, 3)\n",
      "(240, 3, 3)\n",
      "(300, 3, 3)\n",
      "(240, 3, 3)\n",
      "(480, 3, 3)\n",
      "(480, 3, 3)\n",
      "(240, 3, 3)\n",
      "(240, 3, 3)\n",
      "(480, 3, 3)\n",
      "(300, 3, 3)\n",
      "(240, 3, 3)\n",
      "(300, 3, 3)\n",
      "(240, 3, 3)\n",
      "(240, 3, 3)\n",
      "(240, 3, 3)\n",
      "(300, 3, 3)\n",
      "(240, 3, 3)\n",
      "(300, 3, 3)\n",
      "(300, 3, 3)\n",
      "(480, 3, 3)\n",
      "(180, 3, 3)\n",
      "(420, 3, 3)\n",
      "(300, 3, 3)\n",
      "(300, 3, 3)\n",
      "(300, 3, 3)\n",
      "(300, 3, 3)\n",
      "(300, 3, 3)\n",
      "(240, 3, 3)\n",
      "(300, 3, 3)\n",
      "(240, 3, 3)\n",
      "(420, 3, 3)\n",
      "(300, 3, 3)\n",
      "(240, 3, 3)\n",
      "(300, 3, 3)\n",
      "(240, 3, 3)\n",
      "(300, 3, 3)\n",
      "(240, 3, 3)\n",
      "(240, 3, 3)\n",
      "(300, 3, 3)\n",
      "(300, 3, 3)\n",
      "(240, 3, 3)\n",
      "(300, 3, 3)\n",
      "(240, 3, 3)\n",
      "(240, 3, 3)\n",
      "(240, 3, 3)\n",
      "(300, 3, 3)\n",
      "(240, 3, 3)\n",
      "(480, 3, 3)\n",
      "(480, 3, 3)\n",
      "(300, 3, 3)\n",
      "(240, 3, 3)\n",
      "(300, 3, 3)\n",
      "(240, 3, 3)\n",
      "(420, 3, 3)\n",
      "(300, 3, 3)\n",
      "(240, 3, 3)\n",
      "(240, 3, 3)\n",
      "(240, 3, 3)\n",
      "(300, 3, 3)\n",
      "(240, 3, 3)\n",
      "(300, 3, 3)\n",
      "(240, 3, 3)\n",
      "(240, 3, 3)\n",
      "(240, 3, 3)\n",
      "(240, 3, 3)\n",
      "(240, 3, 3)\n",
      "(240, 3, 3)\n",
      "(240, 3, 3)\n",
      "(240, 3, 3)\n",
      "(300, 3, 3)\n",
      "(240, 3, 3)\n",
      "(300, 3, 3)\n",
      "(240, 3, 3)\n",
      "(300, 3, 3)\n",
      "(240, 3, 3)\n",
      "(240, 3, 3)\n",
      "(240, 3, 3)\n",
      "(240, 3, 3)\n",
      "(240, 3, 3)\n",
      "(240, 3, 3)\n",
      "(240, 3, 3)\n",
      "(240, 3, 3)\n",
      "(240, 3, 3)\n",
      "(240, 3, 3)\n",
      "(240, 3, 3)\n",
      "(300, 3, 3)\n",
      "(240, 3, 3)\n",
      "(240, 3, 3)\n",
      "(240, 3, 3)\n",
      "(240, 3, 3)\n",
      "(300, 3, 3)\n",
      "(480, 3, 3)\n",
      "(300, 3, 3)\n",
      "(240, 3, 3)\n",
      "(240, 3, 3)\n",
      "(420, 3, 3)\n",
      "(240, 3, 3)\n",
      "(240, 3, 3)\n",
      "(240, 3, 3)\n",
      "(240, 3, 3)\n",
      "(420, 3, 3)\n",
      "(300, 3, 3)\n",
      "(240, 3, 3)\n",
      "(300, 3, 3)\n",
      "(240, 3, 3)\n",
      "(300, 3, 3)\n",
      "(240, 3, 3)\n",
      "(300, 3, 3)\n",
      "(240, 3, 3)\n",
      "(240, 3, 3)\n",
      "(240, 3, 3)\n",
      "(300, 3, 3)\n",
      "(300, 3, 3)\n",
      "(300, 3, 3)\n",
      "(300, 3, 3)\n",
      "(300, 3, 3)\n",
      "(240, 3, 3)\n",
      "(480, 3, 3)\n",
      "(240, 3, 3)\n",
      "(240, 3, 3)\n",
      "(480, 3, 3)\n",
      "(240, 3, 3)\n",
      "(240, 3, 3)\n",
      "(240, 3, 3)\n",
      "(240, 3, 3)\n",
      "(240, 3, 3)\n",
      "(240, 3, 3)\n",
      "(300, 3, 3)\n",
      "(180, 3, 3)\n",
      "(240, 3, 3)\n",
      "(240, 3, 3)\n",
      "(300, 3, 3)\n",
      "(240, 3, 3)\n",
      "(180, 3, 3)\n",
      "(240, 3, 3)\n",
      "(240, 3, 3)\n",
      "(240, 3, 3)\n",
      "(240, 3, 3)\n",
      "(240, 3, 3)\n",
      "(240, 3, 3)\n",
      "(240, 3, 3)\n",
      "(240, 3, 3)\n",
      "(240, 3, 3)\n",
      "(240, 3, 3)\n",
      "(300, 3, 3)\n",
      "(240, 3, 3)\n",
      "(300, 3, 3)\n",
      "(240, 3, 3)\n",
      "(240, 3, 3)\n",
      "(300, 3, 3)\n",
      "(240, 3, 3)\n",
      "(240, 3, 3)\n",
      "(240, 3, 3)\n",
      "(240, 3, 3)\n",
      "(480, 3, 3)\n"
     ]
    }
   ],
   "source": [
    "with open(\"gbyk.pkl\", \"rb\") as old:\n",
    "    old_data = pickle.load(old)\n",
    "    with open(\"gbyk_originless_orthogonal_head.pkl\", \"wb\") as new:\n",
    "        new_data = helpers.orthogonal_head_coordinates(\n",
    "            old_data, face_idxs=[15, 16, 17], add_origin=False\n",
    "        )\n",
    "        pickle.dump(new_data, new)"
   ]
  },
  {
   "cell_type": "markdown",
   "metadata": {},
   "source": [
    "# low pass filtered dataset\n",
    "\n",
    "applies a Butterworth filter of order 4 and cutoff frequency of 2Hz"
   ]
  },
  {
   "cell_type": "code",
   "execution_count": 15,
   "metadata": {},
   "outputs": [],
   "source": [
    "kps_train, kps_val, kps_test = gbyk.preprocess_keypoints()\n",
    "spks_train, spks_val, spks_test = gbyk.preprocess_spikes(filter=True, cutoff=2)\n",
    "\n",
    "train = {\n",
    "    \"keno_0\": [\n",
    "        {\"keypoints\": kps, \"spikes\": spks}\n",
    "        for kps, spks in zip(kps_train, spks_train)\n",
    "    ]\n",
    "}\n",
    "\n",
    "val = {\n",
    "    \"keno_0\": [\n",
    "        {\"keypoints\": kps, \"spikes\": spks}\n",
    "        for kps, spks in zip(kps_val, spks_val)\n",
    "    ]\n",
    "}\n",
    "\n",
    "test = {\n",
    "    \"keno_0\": [\n",
    "        {\"keypoints\": kps, \"spikes\": spks}\n",
    "        for kps, spks in zip(kps_test, spks_test)\n",
    "    ]\n",
    "}\n",
    "\n",
    "dataset = {\"train\": train, \"validation\": val, \"test\": test}\n",
    "\n",
    "with open(\"gbyk_lowfilter.pkl\", \"wb\") as f:\n",
    "    pickle.dump(dataset, f)"
   ]
  },
  {
   "cell_type": "markdown",
   "metadata": {},
   "source": [
    "# medium pass filtered dataset\n",
    "\n",
    "applies a Butterworth filter of order 4 and cutoff frequency of 10Hz"
   ]
  },
  {
   "cell_type": "code",
   "execution_count": 16,
   "metadata": {},
   "outputs": [],
   "source": [
    "kps_train, kps_test, kps_val = gbyk.preprocess_keypoints()\n",
    "spks_train, spks_test, spks_val = gbyk.preprocess_spikes(filter=True, cutoff=10)\n",
    "\n",
    "train = {\n",
    "    trial: {\"keypoints\": kps_train[trial], \"spikes\": spks_train[trial]}\n",
    "    for trial in kps_train\n",
    "}\n",
    "\n",
    "test = {\n",
    "    trial: {\"keypoints\": kps_test[trial], \"spikes\": spks_test[trial]}\n",
    "    for trial in kps_test\n",
    "}\n",
    "\n",
    "val = {\n",
    "    trial: {\"keypoints\": kps_val[trial], \"spikes\": spks_val[trial]}\n",
    "    for trial in kps_val\n",
    "}\n",
    "\n",
    "dataset = {\n",
    "    \"train\": {\"keno_0\": train},\n",
    "    \"test\": {\"keno_0\": test},\n",
    "    \"validation\": {\"keno_0\": val},\n",
    "}\n",
    "\n",
    "with open(\"gbyk_mediumfilter.pkl\", \"wb\") as f:\n",
    "    pickle.dump(dataset, f)"
   ]
  },
  {
   "cell_type": "markdown",
   "metadata": {},
   "source": [
    "# pca\n",
    "\n",
    "dataset where i extract the first two principal components of the neural data. should be easier to predict."
   ]
  },
  {
   "cell_type": "code",
   "execution_count": 17,
   "metadata": {},
   "outputs": [],
   "source": [
    "kps_train, kps_test, kps_val = gbyk.preprocess_keypoints()\n",
    "spks_train, spks_test, spks_val = gbyk.preprocess_spikes(pca=True, n_comps=2)\n",
    "\n",
    "train = {\n",
    "    trial: {\"keypoints\": kps_train[trial], \"spikes\": spks_train[trial]}\n",
    "    for trial in kps_train\n",
    "}\n",
    "\n",
    "test = {\n",
    "    trial: {\"keypoints\": kps_test[trial], \"spikes\": spks_test[trial]}\n",
    "    for trial in kps_test\n",
    "}\n",
    "\n",
    "val = {\n",
    "    trial: {\"keypoints\": kps_val[trial], \"spikes\": spks_val[trial]}\n",
    "    for trial in kps_val\n",
    "}\n",
    "\n",
    "dataset = {\n",
    "    \"train\": {\"keno_0\": train},\n",
    "    \"test\": {\"keno_0\": test},\n",
    "    \"validation\": {\"keno_0\": val},\n",
    "}\n",
    "\n",
    "with open(\"gbyk_pca.pkl\", \"wb\") as f:\n",
    "    pickle.dump(dataset, f)"
   ]
  },
  {
   "cell_type": "markdown",
   "metadata": {},
   "source": [
    "# random\n",
    "\n",
    "dataset with Gaussian noise as input. the goal is to check whether the model learns anything from the input."
   ]
  },
  {
   "cell_type": "code",
   "execution_count": 5,
   "metadata": {},
   "outputs": [],
   "source": [
    "with open(\"gbyk.pkl\", \"rb\") as old:\n",
    "    old_data = pickle.load(old)\n",
    "    with open(\"gbyk_random.pkl\", \"wb\") as new:\n",
    "        new_data = helpers.randomize(old_data)\n",
    "        pickle.dump(new_data, new)"
   ]
  },
  {
   "cell_type": "markdown",
   "metadata": {},
   "source": [
    "# debugging"
   ]
  },
  {
   "cell_type": "markdown",
   "metadata": {},
   "source": [
    "### dimensions"
   ]
  },
  {
   "cell_type": "code",
   "execution_count": 7,
   "metadata": {},
   "outputs": [],
   "source": [
    "def check(data):\n",
    "    for mode in (\"train\", \"validation\", \"test\"):\n",
    "        for session in data[mode]:\n",
    "            for trial in data[mode][session]:\n",
    "                keypoints = trial[\"keypoints\"]\n",
    "                spikes = trial[\"spikes\"]\n",
    "                assert keypoints.shape[0] == spikes.shape[0]\n",
    "\n",
    "\n",
    "with open(\"gbyk.pkl\", \"rb\") as f:\n",
    "    base = pickle.load(f)\n",
    "\n",
    "check(base)\n",
    "\n",
    "with open(\"gbyk_diff.pkl\", \"rb\") as f:\n",
    "    diff = pickle.load(f)\n",
    "\n",
    "check(diff)\n",
    "\n",
    "with open(\"gbyk_head.pkl\", \"rb\") as f:\n",
    "    head = pickle.load(f)\n",
    "\n",
    "check(head)\n",
    "\n",
    "# with open(\"gbyk_lowfilter.pkl\", \"rb\") as f:\n",
    "#     lowfilter = pickle.load(f)\n",
    "\n",
    "# check(lowfilter)\n",
    "\n",
    "# with open(\"gbyk_mediumfilter.pkl\", \"rb\") as f:\n",
    "#     mediumfilter = pickle.load(f)\n",
    "\n",
    "# check(mediumfilter)\n",
    "\n",
    "# with open(\"gbyk_pca.pkl\", \"rb\") as f:\n",
    "#     pca = pickle.load(f)\n",
    "\n",
    "# check(pca)\n",
    "\n",
    "with open(\"gbyk_random.pkl\", \"rb\") as f:\n",
    "    random = pickle.load(f)\n",
    "\n",
    "check(random)"
   ]
  },
  {
   "cell_type": "markdown",
   "metadata": {},
   "source": [
    "### poses"
   ]
  },
  {
   "cell_type": "code",
   "execution_count": 3,
   "metadata": {},
   "outputs": [],
   "source": [
    "skeleton = [\n",
    "    [13, 12],\n",
    "    [13, 8],\n",
    "    [13, 11],\n",
    "    [10, 11],\n",
    "    [10, 9],\n",
    "    [7, 8],\n",
    "    [7, 6],\n",
    "    [4, 5],\n",
    "    [4, 3],\n",
    "    [1, 2],\n",
    "    [1, 0],\n",
    "    [14, 13],\n",
    "    [14, 17],\n",
    "    [14, 2],\n",
    "    [14, 5],\n",
    "    [14, 15],\n",
    "    [14, 16],\n",
    "    [17, 15],\n",
    "    [17, 16],\n",
    "]"
   ]
  },
  {
   "cell_type": "code",
   "execution_count": 4,
   "metadata": {},
   "outputs": [
    {
     "name": "stdout",
     "output_type": "stream",
     "text": [
      "240\n",
      "(54,)\n"
     ]
    },
    {
     "data": {
      "application/vnd.plotly.v1+json": {
       "config": {
        "plotlyServerURL": "https://plot.ly"
       },
       "data": [
        {
         "line": {
          "color": "blue",
          "width": 7
         },
         "marker": {
          "color": "black",
          "size": 5
         },
         "mode": "lines+markers",
         "type": "scatter3d",
         "x": [
          -0.08607898614334127,
          -0.08402360368146863
         ],
         "y": [
          0.5123852747153922,
          0.4891477241771406
         ],
         "z": [
          0.01562847373561178,
          -0.026600717031730635
         ]
        },
        {
         "line": {
          "color": "blue",
          "width": 7
         },
         "marker": {
          "color": "black",
          "size": 5
         },
         "mode": "lines+markers",
         "type": "scatter3d",
         "x": [
          -0.08607898614334127,
          -0.09819212827924936
         ],
         "y": [
          0.5123852747153922,
          0.5098323965907671
         ],
         "z": [
          0.01562847373561178,
          0.010898030749709697
         ]
        },
        {
         "line": {
          "color": "blue",
          "width": 7
         },
         "marker": {
          "color": "black",
          "size": 5
         },
         "mode": "lines+markers",
         "type": "scatter3d",
         "x": [
          -0.08607898614334127,
          -0.07541580387221879
         ],
         "y": [
          0.5123852747153922,
          0.5187767521396166
         ],
         "z": [
          0.01562847373561178,
          0.011161541429749278
         ]
        },
        {
         "line": {
          "color": "blue",
          "width": 7
         },
         "marker": {
          "color": "black",
          "size": 5
         },
         "mode": "lines+markers",
         "type": "scatter3d",
         "x": [
          -0.07265498528490537,
          -0.07541580387221879
         ],
         "y": [
          0.5122971290515321,
          0.5187767521396166
         ],
         "z": [
          -0.029909673994856095,
          0.011161541429749278
         ]
        },
        {
         "line": {
          "color": "blue",
          "width": 7
         },
         "marker": {
          "color": "black",
          "size": 5
         },
         "mode": "lines+markers",
         "type": "scatter3d",
         "x": [
          -0.07265498528490537,
          -0.06202018051263284
         ],
         "y": [
          0.5122971290515321,
          0.48588159228284733
         ],
         "z": [
          -0.029909673994856095,
          -0.04552360713772268
         ]
        },
        {
         "line": {
          "color": "blue",
          "width": 7
         },
         "marker": {
          "color": "black",
          "size": 5
         },
         "mode": "lines+markers",
         "type": "scatter3d",
         "x": [
          -0.10345175340526325,
          -0.09819212827924936
         ],
         "y": [
          0.5335182168702332,
          0.5098323965907671
         ],
         "z": [
          -0.03151178973245384,
          0.010898030749709697
         ]
        },
        {
         "line": {
          "color": "blue",
          "width": 7
         },
         "marker": {
          "color": "black",
          "size": 5
         },
         "mode": "lines+markers",
         "type": "scatter3d",
         "x": [
          -0.10345175340526325,
          -0.09747196553329132
         ],
         "y": [
          0.5335182168702332,
          0.532593857766774
         ],
         "z": [
          -0.03151178973245384,
          -0.05829843979947526
         ]
        },
        {
         "line": {
          "color": "blue",
          "width": 7
         },
         "marker": {
          "color": "black",
          "size": 5
         },
         "mode": "lines+markers",
         "type": "scatter3d",
         "x": [
          -0.11528180480754036,
          -0.11779436885405717
         ],
         "y": [
          0.6028254889968073,
          0.5992606164062518
         ],
         "z": [
          -0.029906913594048824,
          0.005482480715983432
         ]
        },
        {
         "line": {
          "color": "blue",
          "width": 7
         },
         "marker": {
          "color": "black",
          "size": 5
         },
         "mode": "lines+markers",
         "type": "scatter3d",
         "x": [
          -0.11528180480754036,
          -0.13086744176676196
         ],
         "y": [
          0.6028254889968073,
          0.6153713841163789
         ],
         "z": [
          -0.029906913594048824,
          -0.056394597662974735
         ]
        },
        {
         "line": {
          "color": "blue",
          "width": 7
         },
         "marker": {
          "color": "black",
          "size": 5
         },
         "mode": "lines+markers",
         "type": "scatter3d",
         "x": [
          -0.1215241518529823,
          -0.14060588767084434
         ],
         "y": [
          0.5591743997682798,
          0.5773109846782182
         ],
         "z": [
          -0.03005538507829767,
          0.00548139945541732
         ]
        },
        {
         "line": {
          "color": "blue",
          "width": 7
         },
         "marker": {
          "color": "black",
          "size": 5
         },
         "mode": "lines+markers",
         "type": "scatter3d",
         "x": [
          -0.1215241518529823,
          -0.11144900738205799
         ],
         "y": [
          0.5591743997682798,
          0.5572047306100955
         ],
         "z": [
          -0.03005538507829767,
          -0.057144236431903896
         ]
        },
        {
         "line": {
          "color": "blue",
          "width": 7
         },
         "marker": {
          "color": "black",
          "size": 5
         },
         "mode": "lines+markers",
         "type": "scatter3d",
         "x": [
          -0.12984886913229884,
          -0.08607898614334127
         ],
         "y": [
          0.588595393526572,
          0.5123852747153922
         ],
         "z": [
          0.01896652359073591,
          0.01562847373561178
         ]
        },
        {
         "line": {
          "color": "blue",
          "width": 7
         },
         "marker": {
          "color": "black",
          "size": 5
         },
         "mode": "lines+markers",
         "type": "scatter3d",
         "x": [
          -0.12984886913229884,
          -0.13735944995667018
         ],
         "y": [
          0.588595393526572,
          0.6094973332060954
         ],
         "z": [
          0.01896652359073591,
          0.0019227657983218603
         ]
        },
        {
         "line": {
          "color": "blue",
          "width": 7
         },
         "marker": {
          "color": "black",
          "size": 5
         },
         "mode": "lines+markers",
         "type": "scatter3d",
         "x": [
          -0.12984886913229884,
          -0.14060588767084434
         ],
         "y": [
          0.588595393526572,
          0.5773109846782182
         ],
         "z": [
          0.01896652359073591,
          0.00548139945541732
         ]
        },
        {
         "line": {
          "color": "blue",
          "width": 7
         },
         "marker": {
          "color": "black",
          "size": 5
         },
         "mode": "lines+markers",
         "type": "scatter3d",
         "x": [
          -0.12984886913229884,
          -0.11779436885405717
         ],
         "y": [
          0.588595393526572,
          0.5992606164062518
         ],
         "z": [
          0.01896652359073591,
          0.005482480715983432
         ]
        },
        {
         "line": {
          "color": "blue",
          "width": 7
         },
         "marker": {
          "color": "black",
          "size": 5
         },
         "mode": "lines+markers",
         "type": "scatter3d",
         "x": [
          -0.12984886913229884,
          -0.14996155338445832
         ],
         "y": [
          0.588595393526572,
          0.5908879293550113
         ],
         "z": [
          0.01896652359073591,
          0.01708591482415866
         ]
        },
        {
         "line": {
          "color": "blue",
          "width": 7
         },
         "marker": {
          "color": "black",
          "size": 5
         },
         "mode": "lines+markers",
         "type": "scatter3d",
         "x": [
          -0.12984886913229884,
          -0.12358318796476611
         ],
         "y": [
          0.588595393526572,
          0.6016155638939652
         ],
         "z": [
          0.01896652359073591,
          0.019810314798287064
         ]
        },
        {
         "line": {
          "color": "blue",
          "width": 7
         },
         "marker": {
          "color": "black",
          "size": 5
         },
         "mode": "lines+markers",
         "type": "scatter3d",
         "x": [
          -0.13735944995667018,
          -0.14996155338445832
         ],
         "y": [
          0.6094973332060954,
          0.5908879293550113
         ],
         "z": [
          0.0019227657983218603,
          0.01708591482415866
         ]
        },
        {
         "line": {
          "color": "blue",
          "width": 7
         },
         "marker": {
          "color": "black",
          "size": 5
         },
         "mode": "lines+markers",
         "type": "scatter3d",
         "x": [
          -0.13735944995667018,
          -0.12358318796476611
         ],
         "y": [
          0.6094973332060954,
          0.6016155638939652
         ],
         "z": [
          0.0019227657983218603,
          0.019810314798287064
         ]
        }
       ],
       "layout": {
        "scene": {
         "xaxis": {
          "visible": false
         },
         "yaxis": {
          "visible": false
         },
         "zaxis": {
          "visible": false
         }
        },
        "showlegend": false,
        "template": {
         "data": {
          "bar": [
           {
            "error_x": {
             "color": "#2a3f5f"
            },
            "error_y": {
             "color": "#2a3f5f"
            },
            "marker": {
             "line": {
              "color": "#E5ECF6",
              "width": 0.5
             },
             "pattern": {
              "fillmode": "overlay",
              "size": 10,
              "solidity": 0.2
             }
            },
            "type": "bar"
           }
          ],
          "barpolar": [
           {
            "marker": {
             "line": {
              "color": "#E5ECF6",
              "width": 0.5
             },
             "pattern": {
              "fillmode": "overlay",
              "size": 10,
              "solidity": 0.2
             }
            },
            "type": "barpolar"
           }
          ],
          "carpet": [
           {
            "aaxis": {
             "endlinecolor": "#2a3f5f",
             "gridcolor": "white",
             "linecolor": "white",
             "minorgridcolor": "white",
             "startlinecolor": "#2a3f5f"
            },
            "baxis": {
             "endlinecolor": "#2a3f5f",
             "gridcolor": "white",
             "linecolor": "white",
             "minorgridcolor": "white",
             "startlinecolor": "#2a3f5f"
            },
            "type": "carpet"
           }
          ],
          "choropleth": [
           {
            "colorbar": {
             "outlinewidth": 0,
             "ticks": ""
            },
            "type": "choropleth"
           }
          ],
          "contour": [
           {
            "colorbar": {
             "outlinewidth": 0,
             "ticks": ""
            },
            "colorscale": [
             [
              0,
              "#0d0887"
             ],
             [
              0.1111111111111111,
              "#46039f"
             ],
             [
              0.2222222222222222,
              "#7201a8"
             ],
             [
              0.3333333333333333,
              "#9c179e"
             ],
             [
              0.4444444444444444,
              "#bd3786"
             ],
             [
              0.5555555555555556,
              "#d8576b"
             ],
             [
              0.6666666666666666,
              "#ed7953"
             ],
             [
              0.7777777777777778,
              "#fb9f3a"
             ],
             [
              0.8888888888888888,
              "#fdca26"
             ],
             [
              1,
              "#f0f921"
             ]
            ],
            "type": "contour"
           }
          ],
          "contourcarpet": [
           {
            "colorbar": {
             "outlinewidth": 0,
             "ticks": ""
            },
            "type": "contourcarpet"
           }
          ],
          "heatmap": [
           {
            "colorbar": {
             "outlinewidth": 0,
             "ticks": ""
            },
            "colorscale": [
             [
              0,
              "#0d0887"
             ],
             [
              0.1111111111111111,
              "#46039f"
             ],
             [
              0.2222222222222222,
              "#7201a8"
             ],
             [
              0.3333333333333333,
              "#9c179e"
             ],
             [
              0.4444444444444444,
              "#bd3786"
             ],
             [
              0.5555555555555556,
              "#d8576b"
             ],
             [
              0.6666666666666666,
              "#ed7953"
             ],
             [
              0.7777777777777778,
              "#fb9f3a"
             ],
             [
              0.8888888888888888,
              "#fdca26"
             ],
             [
              1,
              "#f0f921"
             ]
            ],
            "type": "heatmap"
           }
          ],
          "heatmapgl": [
           {
            "colorbar": {
             "outlinewidth": 0,
             "ticks": ""
            },
            "colorscale": [
             [
              0,
              "#0d0887"
             ],
             [
              0.1111111111111111,
              "#46039f"
             ],
             [
              0.2222222222222222,
              "#7201a8"
             ],
             [
              0.3333333333333333,
              "#9c179e"
             ],
             [
              0.4444444444444444,
              "#bd3786"
             ],
             [
              0.5555555555555556,
              "#d8576b"
             ],
             [
              0.6666666666666666,
              "#ed7953"
             ],
             [
              0.7777777777777778,
              "#fb9f3a"
             ],
             [
              0.8888888888888888,
              "#fdca26"
             ],
             [
              1,
              "#f0f921"
             ]
            ],
            "type": "heatmapgl"
           }
          ],
          "histogram": [
           {
            "marker": {
             "pattern": {
              "fillmode": "overlay",
              "size": 10,
              "solidity": 0.2
             }
            },
            "type": "histogram"
           }
          ],
          "histogram2d": [
           {
            "colorbar": {
             "outlinewidth": 0,
             "ticks": ""
            },
            "colorscale": [
             [
              0,
              "#0d0887"
             ],
             [
              0.1111111111111111,
              "#46039f"
             ],
             [
              0.2222222222222222,
              "#7201a8"
             ],
             [
              0.3333333333333333,
              "#9c179e"
             ],
             [
              0.4444444444444444,
              "#bd3786"
             ],
             [
              0.5555555555555556,
              "#d8576b"
             ],
             [
              0.6666666666666666,
              "#ed7953"
             ],
             [
              0.7777777777777778,
              "#fb9f3a"
             ],
             [
              0.8888888888888888,
              "#fdca26"
             ],
             [
              1,
              "#f0f921"
             ]
            ],
            "type": "histogram2d"
           }
          ],
          "histogram2dcontour": [
           {
            "colorbar": {
             "outlinewidth": 0,
             "ticks": ""
            },
            "colorscale": [
             [
              0,
              "#0d0887"
             ],
             [
              0.1111111111111111,
              "#46039f"
             ],
             [
              0.2222222222222222,
              "#7201a8"
             ],
             [
              0.3333333333333333,
              "#9c179e"
             ],
             [
              0.4444444444444444,
              "#bd3786"
             ],
             [
              0.5555555555555556,
              "#d8576b"
             ],
             [
              0.6666666666666666,
              "#ed7953"
             ],
             [
              0.7777777777777778,
              "#fb9f3a"
             ],
             [
              0.8888888888888888,
              "#fdca26"
             ],
             [
              1,
              "#f0f921"
             ]
            ],
            "type": "histogram2dcontour"
           }
          ],
          "mesh3d": [
           {
            "colorbar": {
             "outlinewidth": 0,
             "ticks": ""
            },
            "type": "mesh3d"
           }
          ],
          "parcoords": [
           {
            "line": {
             "colorbar": {
              "outlinewidth": 0,
              "ticks": ""
             }
            },
            "type": "parcoords"
           }
          ],
          "pie": [
           {
            "automargin": true,
            "type": "pie"
           }
          ],
          "scatter": [
           {
            "fillpattern": {
             "fillmode": "overlay",
             "size": 10,
             "solidity": 0.2
            },
            "type": "scatter"
           }
          ],
          "scatter3d": [
           {
            "line": {
             "colorbar": {
              "outlinewidth": 0,
              "ticks": ""
             }
            },
            "marker": {
             "colorbar": {
              "outlinewidth": 0,
              "ticks": ""
             }
            },
            "type": "scatter3d"
           }
          ],
          "scattercarpet": [
           {
            "marker": {
             "colorbar": {
              "outlinewidth": 0,
              "ticks": ""
             }
            },
            "type": "scattercarpet"
           }
          ],
          "scattergeo": [
           {
            "marker": {
             "colorbar": {
              "outlinewidth": 0,
              "ticks": ""
             }
            },
            "type": "scattergeo"
           }
          ],
          "scattergl": [
           {
            "marker": {
             "colorbar": {
              "outlinewidth": 0,
              "ticks": ""
             }
            },
            "type": "scattergl"
           }
          ],
          "scattermapbox": [
           {
            "marker": {
             "colorbar": {
              "outlinewidth": 0,
              "ticks": ""
             }
            },
            "type": "scattermapbox"
           }
          ],
          "scatterpolar": [
           {
            "marker": {
             "colorbar": {
              "outlinewidth": 0,
              "ticks": ""
             }
            },
            "type": "scatterpolar"
           }
          ],
          "scatterpolargl": [
           {
            "marker": {
             "colorbar": {
              "outlinewidth": 0,
              "ticks": ""
             }
            },
            "type": "scatterpolargl"
           }
          ],
          "scatterternary": [
           {
            "marker": {
             "colorbar": {
              "outlinewidth": 0,
              "ticks": ""
             }
            },
            "type": "scatterternary"
           }
          ],
          "surface": [
           {
            "colorbar": {
             "outlinewidth": 0,
             "ticks": ""
            },
            "colorscale": [
             [
              0,
              "#0d0887"
             ],
             [
              0.1111111111111111,
              "#46039f"
             ],
             [
              0.2222222222222222,
              "#7201a8"
             ],
             [
              0.3333333333333333,
              "#9c179e"
             ],
             [
              0.4444444444444444,
              "#bd3786"
             ],
             [
              0.5555555555555556,
              "#d8576b"
             ],
             [
              0.6666666666666666,
              "#ed7953"
             ],
             [
              0.7777777777777778,
              "#fb9f3a"
             ],
             [
              0.8888888888888888,
              "#fdca26"
             ],
             [
              1,
              "#f0f921"
             ]
            ],
            "type": "surface"
           }
          ],
          "table": [
           {
            "cells": {
             "fill": {
              "color": "#EBF0F8"
             },
             "line": {
              "color": "white"
             }
            },
            "header": {
             "fill": {
              "color": "#C8D4E3"
             },
             "line": {
              "color": "white"
             }
            },
            "type": "table"
           }
          ]
         },
         "layout": {
          "annotationdefaults": {
           "arrowcolor": "#2a3f5f",
           "arrowhead": 0,
           "arrowwidth": 1
          },
          "autotypenumbers": "strict",
          "coloraxis": {
           "colorbar": {
            "outlinewidth": 0,
            "ticks": ""
           }
          },
          "colorscale": {
           "diverging": [
            [
             0,
             "#8e0152"
            ],
            [
             0.1,
             "#c51b7d"
            ],
            [
             0.2,
             "#de77ae"
            ],
            [
             0.3,
             "#f1b6da"
            ],
            [
             0.4,
             "#fde0ef"
            ],
            [
             0.5,
             "#f7f7f7"
            ],
            [
             0.6,
             "#e6f5d0"
            ],
            [
             0.7,
             "#b8e186"
            ],
            [
             0.8,
             "#7fbc41"
            ],
            [
             0.9,
             "#4d9221"
            ],
            [
             1,
             "#276419"
            ]
           ],
           "sequential": [
            [
             0,
             "#0d0887"
            ],
            [
             0.1111111111111111,
             "#46039f"
            ],
            [
             0.2222222222222222,
             "#7201a8"
            ],
            [
             0.3333333333333333,
             "#9c179e"
            ],
            [
             0.4444444444444444,
             "#bd3786"
            ],
            [
             0.5555555555555556,
             "#d8576b"
            ],
            [
             0.6666666666666666,
             "#ed7953"
            ],
            [
             0.7777777777777778,
             "#fb9f3a"
            ],
            [
             0.8888888888888888,
             "#fdca26"
            ],
            [
             1,
             "#f0f921"
            ]
           ],
           "sequentialminus": [
            [
             0,
             "#0d0887"
            ],
            [
             0.1111111111111111,
             "#46039f"
            ],
            [
             0.2222222222222222,
             "#7201a8"
            ],
            [
             0.3333333333333333,
             "#9c179e"
            ],
            [
             0.4444444444444444,
             "#bd3786"
            ],
            [
             0.5555555555555556,
             "#d8576b"
            ],
            [
             0.6666666666666666,
             "#ed7953"
            ],
            [
             0.7777777777777778,
             "#fb9f3a"
            ],
            [
             0.8888888888888888,
             "#fdca26"
            ],
            [
             1,
             "#f0f921"
            ]
           ]
          },
          "colorway": [
           "#636efa",
           "#EF553B",
           "#00cc96",
           "#ab63fa",
           "#FFA15A",
           "#19d3f3",
           "#FF6692",
           "#B6E880",
           "#FF97FF",
           "#FECB52"
          ],
          "font": {
           "color": "#2a3f5f"
          },
          "geo": {
           "bgcolor": "white",
           "lakecolor": "white",
           "landcolor": "#E5ECF6",
           "showlakes": true,
           "showland": true,
           "subunitcolor": "white"
          },
          "hoverlabel": {
           "align": "left"
          },
          "hovermode": "closest",
          "mapbox": {
           "style": "light"
          },
          "paper_bgcolor": "white",
          "plot_bgcolor": "#E5ECF6",
          "polar": {
           "angularaxis": {
            "gridcolor": "white",
            "linecolor": "white",
            "ticks": ""
           },
           "bgcolor": "#E5ECF6",
           "radialaxis": {
            "gridcolor": "white",
            "linecolor": "white",
            "ticks": ""
           }
          },
          "scene": {
           "xaxis": {
            "backgroundcolor": "#E5ECF6",
            "gridcolor": "white",
            "gridwidth": 2,
            "linecolor": "white",
            "showbackground": true,
            "ticks": "",
            "zerolinecolor": "white"
           },
           "yaxis": {
            "backgroundcolor": "#E5ECF6",
            "gridcolor": "white",
            "gridwidth": 2,
            "linecolor": "white",
            "showbackground": true,
            "ticks": "",
            "zerolinecolor": "white"
           },
           "zaxis": {
            "backgroundcolor": "#E5ECF6",
            "gridcolor": "white",
            "gridwidth": 2,
            "linecolor": "white",
            "showbackground": true,
            "ticks": "",
            "zerolinecolor": "white"
           }
          },
          "shapedefaults": {
           "line": {
            "color": "#2a3f5f"
           }
          },
          "ternary": {
           "aaxis": {
            "gridcolor": "white",
            "linecolor": "white",
            "ticks": ""
           },
           "baxis": {
            "gridcolor": "white",
            "linecolor": "white",
            "ticks": ""
           },
           "bgcolor": "#E5ECF6",
           "caxis": {
            "gridcolor": "white",
            "linecolor": "white",
            "ticks": ""
           }
          },
          "title": {
           "x": 0.05
          },
          "xaxis": {
           "automargin": true,
           "gridcolor": "white",
           "linecolor": "white",
           "ticks": "",
           "title": {
            "standoff": 15
           },
           "zerolinecolor": "white",
           "zerolinewidth": 2
          },
          "yaxis": {
           "automargin": true,
           "gridcolor": "white",
           "linecolor": "white",
           "ticks": "",
           "title": {
            "standoff": 15
           },
           "zerolinecolor": "white",
           "zerolinewidth": 2
          }
         }
        }
       }
      }
     },
     "metadata": {},
     "output_type": "display_data"
    }
   ],
   "source": [
    "with open(\"gbyk.pkl\", \"rb\") as f:\n",
    "    data = pickle.load(f)\n",
    "\n",
    "keypoints = data[\"train\"][\"keno_0\"][0][\"keypoints\"]\n",
    "print(len(keypoints))\n",
    "keypoints = keypoints[200]\n",
    "print(keypoints.shape)\n",
    "keypoints = np.reshape(keypoints, (-1, 18, 3))\n",
    "vci.plot.plot_pose(keypoints[0], skeleton)"
   ]
  },
  {
   "cell_type": "code",
   "execution_count": 10,
   "metadata": {},
   "outputs": [
    {
     "name": "stdout",
     "output_type": "stream",
     "text": [
      "240\n",
      "(54,)\n"
     ]
    },
    {
     "data": {
      "application/vnd.plotly.v1+json": {
       "config": {
        "plotlyServerURL": "https://plot.ly"
       },
       "data": [
        {
         "line": {
          "color": "blue",
          "width": 7
         },
         "marker": {
          "color": "black",
          "size": 5
         },
         "mode": "lines+markers",
         "type": "scatter3d",
         "x": [
          -0.08607898614334127,
          -0.08402360368146863
         ],
         "y": [
          0.5123852747153922,
          0.4891477241771406
         ],
         "z": [
          0.01562847373561178,
          -0.026600717031730635
         ]
        },
        {
         "line": {
          "color": "blue",
          "width": 7
         },
         "marker": {
          "color": "black",
          "size": 5
         },
         "mode": "lines+markers",
         "type": "scatter3d",
         "x": [
          -0.08607898614334127,
          -0.09819212827924936
         ],
         "y": [
          0.5123852747153922,
          0.5098323965907671
         ],
         "z": [
          0.01562847373561178,
          0.010898030749709697
         ]
        },
        {
         "line": {
          "color": "blue",
          "width": 7
         },
         "marker": {
          "color": "black",
          "size": 5
         },
         "mode": "lines+markers",
         "type": "scatter3d",
         "x": [
          -0.08607898614334127,
          -0.07541580387221879
         ],
         "y": [
          0.5123852747153922,
          0.5187767521396166
         ],
         "z": [
          0.01562847373561178,
          0.011161541429749278
         ]
        },
        {
         "line": {
          "color": "blue",
          "width": 7
         },
         "marker": {
          "color": "black",
          "size": 5
         },
         "mode": "lines+markers",
         "type": "scatter3d",
         "x": [
          -0.07265498528490537,
          -0.07541580387221879
         ],
         "y": [
          0.5122971290515321,
          0.5187767521396166
         ],
         "z": [
          -0.029909673994856098,
          0.011161541429749278
         ]
        },
        {
         "line": {
          "color": "blue",
          "width": 7
         },
         "marker": {
          "color": "black",
          "size": 5
         },
         "mode": "lines+markers",
         "type": "scatter3d",
         "x": [
          -0.07265498528490537,
          -0.06202018051263283
         ],
         "y": [
          0.5122971290515321,
          0.48588159228284733
         ],
         "z": [
          -0.029909673994856098,
          -0.04552360713772268
         ]
        },
        {
         "line": {
          "color": "blue",
          "width": 7
         },
         "marker": {
          "color": "black",
          "size": 5
         },
         "mode": "lines+markers",
         "type": "scatter3d",
         "x": [
          -0.10345175340526325,
          -0.09819212827924936
         ],
         "y": [
          0.5335182168702332,
          0.5098323965907671
         ],
         "z": [
          -0.03151178973245384,
          0.010898030749709697
         ]
        },
        {
         "line": {
          "color": "blue",
          "width": 7
         },
         "marker": {
          "color": "black",
          "size": 5
         },
         "mode": "lines+markers",
         "type": "scatter3d",
         "x": [
          -0.10345175340526325,
          -0.09747196553329132
         ],
         "y": [
          0.5335182168702332,
          0.532593857766774
         ],
         "z": [
          -0.03151178973245384,
          -0.05829843979947526
         ]
        },
        {
         "line": {
          "color": "blue",
          "width": 7
         },
         "marker": {
          "color": "black",
          "size": 5
         },
         "mode": "lines+markers",
         "type": "scatter3d",
         "x": [
          -0.11528180480754036,
          -0.11779436885405717
         ],
         "y": [
          0.6028254889968073,
          0.5992606164062518
         ],
         "z": [
          -0.029906913594048824,
          0.005482480715983432
         ]
        },
        {
         "line": {
          "color": "blue",
          "width": 7
         },
         "marker": {
          "color": "black",
          "size": 5
         },
         "mode": "lines+markers",
         "type": "scatter3d",
         "x": [
          -0.11528180480754036,
          -0.13086744176676196
         ],
         "y": [
          0.6028254889968073,
          0.6153713841163789
         ],
         "z": [
          -0.029906913594048824,
          -0.056394597662974735
         ]
        },
        {
         "line": {
          "color": "blue",
          "width": 7
         },
         "marker": {
          "color": "black",
          "size": 5
         },
         "mode": "lines+markers",
         "type": "scatter3d",
         "x": [
          -0.1215241518529823,
          -0.14060588767084434
         ],
         "y": [
          0.5591743997682798,
          0.5773109846782182
         ],
         "z": [
          -0.03005538507829767,
          0.00548139945541732
         ]
        },
        {
         "line": {
          "color": "blue",
          "width": 7
         },
         "marker": {
          "color": "black",
          "size": 5
         },
         "mode": "lines+markers",
         "type": "scatter3d",
         "x": [
          -0.1215241518529823,
          -0.11144900738205799
         ],
         "y": [
          0.5591743997682798,
          0.5572047306100955
         ],
         "z": [
          -0.03005538507829767,
          -0.057144236431903896
         ]
        },
        {
         "line": {
          "color": "blue",
          "width": 7
         },
         "marker": {
          "color": "black",
          "size": 5
         },
         "mode": "lines+markers",
         "type": "scatter3d",
         "x": [
          -0.12984886913229884,
          -0.08607898614334127
         ],
         "y": [
          0.588595393526572,
          0.5123852747153922
         ],
         "z": [
          0.01896652359073591,
          0.01562847373561178
         ]
        },
        {
         "line": {
          "color": "blue",
          "width": 7
         },
         "marker": {
          "color": "black",
          "size": 5
         },
         "mode": "lines+markers",
         "type": "scatter3d",
         "x": [
          -0.12984886913229884,
          -0.13735944995667018
         ],
         "y": [
          0.588595393526572,
          0.6094973332060954
         ],
         "z": [
          0.01896652359073591,
          0.0019227657983218603
         ]
        },
        {
         "line": {
          "color": "blue",
          "width": 7
         },
         "marker": {
          "color": "black",
          "size": 5
         },
         "mode": "lines+markers",
         "type": "scatter3d",
         "x": [
          -0.12984886913229884,
          -0.14060588767084434
         ],
         "y": [
          0.588595393526572,
          0.5773109846782182
         ],
         "z": [
          0.01896652359073591,
          0.00548139945541732
         ]
        },
        {
         "line": {
          "color": "blue",
          "width": 7
         },
         "marker": {
          "color": "black",
          "size": 5
         },
         "mode": "lines+markers",
         "type": "scatter3d",
         "x": [
          -0.12984886913229884,
          -0.11779436885405717
         ],
         "y": [
          0.588595393526572,
          0.5992606164062518
         ],
         "z": [
          0.01896652359073591,
          0.005482480715983432
         ]
        },
        {
         "line": {
          "color": "blue",
          "width": 7
         },
         "marker": {
          "color": "black",
          "size": 5
         },
         "mode": "lines+markers",
         "type": "scatter3d",
         "x": [
          -0.12984886913229884,
          -0.14996155338445832
         ],
         "y": [
          0.588595393526572,
          0.5908879293550113
         ],
         "z": [
          0.01896652359073591,
          0.01708591482415866
         ]
        },
        {
         "line": {
          "color": "blue",
          "width": 7
         },
         "marker": {
          "color": "black",
          "size": 5
         },
         "mode": "lines+markers",
         "type": "scatter3d",
         "x": [
          -0.12984886913229884,
          -0.12358318796476611
         ],
         "y": [
          0.588595393526572,
          0.6016155638939652
         ],
         "z": [
          0.01896652359073591,
          0.019810314798287064
         ]
        },
        {
         "line": {
          "color": "blue",
          "width": 7
         },
         "marker": {
          "color": "black",
          "size": 5
         },
         "mode": "lines+markers",
         "type": "scatter3d",
         "x": [
          -0.13735944995667018,
          -0.14996155338445832
         ],
         "y": [
          0.6094973332060954,
          0.5908879293550113
         ],
         "z": [
          0.0019227657983218603,
          0.01708591482415866
         ]
        },
        {
         "line": {
          "color": "blue",
          "width": 7
         },
         "marker": {
          "color": "black",
          "size": 5
         },
         "mode": "lines+markers",
         "type": "scatter3d",
         "x": [
          -0.13735944995667018,
          -0.12358318796476611
         ],
         "y": [
          0.6094973332060954,
          0.6016155638939652
         ],
         "z": [
          0.0019227657983218603,
          0.019810314798287064
         ]
        }
       ],
       "layout": {
        "scene": {
         "xaxis": {
          "visible": false
         },
         "yaxis": {
          "visible": false
         },
         "zaxis": {
          "visible": false
         }
        },
        "showlegend": false,
        "template": {
         "data": {
          "bar": [
           {
            "error_x": {
             "color": "#2a3f5f"
            },
            "error_y": {
             "color": "#2a3f5f"
            },
            "marker": {
             "line": {
              "color": "#E5ECF6",
              "width": 0.5
             },
             "pattern": {
              "fillmode": "overlay",
              "size": 10,
              "solidity": 0.2
             }
            },
            "type": "bar"
           }
          ],
          "barpolar": [
           {
            "marker": {
             "line": {
              "color": "#E5ECF6",
              "width": 0.5
             },
             "pattern": {
              "fillmode": "overlay",
              "size": 10,
              "solidity": 0.2
             }
            },
            "type": "barpolar"
           }
          ],
          "carpet": [
           {
            "aaxis": {
             "endlinecolor": "#2a3f5f",
             "gridcolor": "white",
             "linecolor": "white",
             "minorgridcolor": "white",
             "startlinecolor": "#2a3f5f"
            },
            "baxis": {
             "endlinecolor": "#2a3f5f",
             "gridcolor": "white",
             "linecolor": "white",
             "minorgridcolor": "white",
             "startlinecolor": "#2a3f5f"
            },
            "type": "carpet"
           }
          ],
          "choropleth": [
           {
            "colorbar": {
             "outlinewidth": 0,
             "ticks": ""
            },
            "type": "choropleth"
           }
          ],
          "contour": [
           {
            "colorbar": {
             "outlinewidth": 0,
             "ticks": ""
            },
            "colorscale": [
             [
              0,
              "#0d0887"
             ],
             [
              0.1111111111111111,
              "#46039f"
             ],
             [
              0.2222222222222222,
              "#7201a8"
             ],
             [
              0.3333333333333333,
              "#9c179e"
             ],
             [
              0.4444444444444444,
              "#bd3786"
             ],
             [
              0.5555555555555556,
              "#d8576b"
             ],
             [
              0.6666666666666666,
              "#ed7953"
             ],
             [
              0.7777777777777778,
              "#fb9f3a"
             ],
             [
              0.8888888888888888,
              "#fdca26"
             ],
             [
              1,
              "#f0f921"
             ]
            ],
            "type": "contour"
           }
          ],
          "contourcarpet": [
           {
            "colorbar": {
             "outlinewidth": 0,
             "ticks": ""
            },
            "type": "contourcarpet"
           }
          ],
          "heatmap": [
           {
            "colorbar": {
             "outlinewidth": 0,
             "ticks": ""
            },
            "colorscale": [
             [
              0,
              "#0d0887"
             ],
             [
              0.1111111111111111,
              "#46039f"
             ],
             [
              0.2222222222222222,
              "#7201a8"
             ],
             [
              0.3333333333333333,
              "#9c179e"
             ],
             [
              0.4444444444444444,
              "#bd3786"
             ],
             [
              0.5555555555555556,
              "#d8576b"
             ],
             [
              0.6666666666666666,
              "#ed7953"
             ],
             [
              0.7777777777777778,
              "#fb9f3a"
             ],
             [
              0.8888888888888888,
              "#fdca26"
             ],
             [
              1,
              "#f0f921"
             ]
            ],
            "type": "heatmap"
           }
          ],
          "heatmapgl": [
           {
            "colorbar": {
             "outlinewidth": 0,
             "ticks": ""
            },
            "colorscale": [
             [
              0,
              "#0d0887"
             ],
             [
              0.1111111111111111,
              "#46039f"
             ],
             [
              0.2222222222222222,
              "#7201a8"
             ],
             [
              0.3333333333333333,
              "#9c179e"
             ],
             [
              0.4444444444444444,
              "#bd3786"
             ],
             [
              0.5555555555555556,
              "#d8576b"
             ],
             [
              0.6666666666666666,
              "#ed7953"
             ],
             [
              0.7777777777777778,
              "#fb9f3a"
             ],
             [
              0.8888888888888888,
              "#fdca26"
             ],
             [
              1,
              "#f0f921"
             ]
            ],
            "type": "heatmapgl"
           }
          ],
          "histogram": [
           {
            "marker": {
             "pattern": {
              "fillmode": "overlay",
              "size": 10,
              "solidity": 0.2
             }
            },
            "type": "histogram"
           }
          ],
          "histogram2d": [
           {
            "colorbar": {
             "outlinewidth": 0,
             "ticks": ""
            },
            "colorscale": [
             [
              0,
              "#0d0887"
             ],
             [
              0.1111111111111111,
              "#46039f"
             ],
             [
              0.2222222222222222,
              "#7201a8"
             ],
             [
              0.3333333333333333,
              "#9c179e"
             ],
             [
              0.4444444444444444,
              "#bd3786"
             ],
             [
              0.5555555555555556,
              "#d8576b"
             ],
             [
              0.6666666666666666,
              "#ed7953"
             ],
             [
              0.7777777777777778,
              "#fb9f3a"
             ],
             [
              0.8888888888888888,
              "#fdca26"
             ],
             [
              1,
              "#f0f921"
             ]
            ],
            "type": "histogram2d"
           }
          ],
          "histogram2dcontour": [
           {
            "colorbar": {
             "outlinewidth": 0,
             "ticks": ""
            },
            "colorscale": [
             [
              0,
              "#0d0887"
             ],
             [
              0.1111111111111111,
              "#46039f"
             ],
             [
              0.2222222222222222,
              "#7201a8"
             ],
             [
              0.3333333333333333,
              "#9c179e"
             ],
             [
              0.4444444444444444,
              "#bd3786"
             ],
             [
              0.5555555555555556,
              "#d8576b"
             ],
             [
              0.6666666666666666,
              "#ed7953"
             ],
             [
              0.7777777777777778,
              "#fb9f3a"
             ],
             [
              0.8888888888888888,
              "#fdca26"
             ],
             [
              1,
              "#f0f921"
             ]
            ],
            "type": "histogram2dcontour"
           }
          ],
          "mesh3d": [
           {
            "colorbar": {
             "outlinewidth": 0,
             "ticks": ""
            },
            "type": "mesh3d"
           }
          ],
          "parcoords": [
           {
            "line": {
             "colorbar": {
              "outlinewidth": 0,
              "ticks": ""
             }
            },
            "type": "parcoords"
           }
          ],
          "pie": [
           {
            "automargin": true,
            "type": "pie"
           }
          ],
          "scatter": [
           {
            "fillpattern": {
             "fillmode": "overlay",
             "size": 10,
             "solidity": 0.2
            },
            "type": "scatter"
           }
          ],
          "scatter3d": [
           {
            "line": {
             "colorbar": {
              "outlinewidth": 0,
              "ticks": ""
             }
            },
            "marker": {
             "colorbar": {
              "outlinewidth": 0,
              "ticks": ""
             }
            },
            "type": "scatter3d"
           }
          ],
          "scattercarpet": [
           {
            "marker": {
             "colorbar": {
              "outlinewidth": 0,
              "ticks": ""
             }
            },
            "type": "scattercarpet"
           }
          ],
          "scattergeo": [
           {
            "marker": {
             "colorbar": {
              "outlinewidth": 0,
              "ticks": ""
             }
            },
            "type": "scattergeo"
           }
          ],
          "scattergl": [
           {
            "marker": {
             "colorbar": {
              "outlinewidth": 0,
              "ticks": ""
             }
            },
            "type": "scattergl"
           }
          ],
          "scattermapbox": [
           {
            "marker": {
             "colorbar": {
              "outlinewidth": 0,
              "ticks": ""
             }
            },
            "type": "scattermapbox"
           }
          ],
          "scatterpolar": [
           {
            "marker": {
             "colorbar": {
              "outlinewidth": 0,
              "ticks": ""
             }
            },
            "type": "scatterpolar"
           }
          ],
          "scatterpolargl": [
           {
            "marker": {
             "colorbar": {
              "outlinewidth": 0,
              "ticks": ""
             }
            },
            "type": "scatterpolargl"
           }
          ],
          "scatterternary": [
           {
            "marker": {
             "colorbar": {
              "outlinewidth": 0,
              "ticks": ""
             }
            },
            "type": "scatterternary"
           }
          ],
          "surface": [
           {
            "colorbar": {
             "outlinewidth": 0,
             "ticks": ""
            },
            "colorscale": [
             [
              0,
              "#0d0887"
             ],
             [
              0.1111111111111111,
              "#46039f"
             ],
             [
              0.2222222222222222,
              "#7201a8"
             ],
             [
              0.3333333333333333,
              "#9c179e"
             ],
             [
              0.4444444444444444,
              "#bd3786"
             ],
             [
              0.5555555555555556,
              "#d8576b"
             ],
             [
              0.6666666666666666,
              "#ed7953"
             ],
             [
              0.7777777777777778,
              "#fb9f3a"
             ],
             [
              0.8888888888888888,
              "#fdca26"
             ],
             [
              1,
              "#f0f921"
             ]
            ],
            "type": "surface"
           }
          ],
          "table": [
           {
            "cells": {
             "fill": {
              "color": "#EBF0F8"
             },
             "line": {
              "color": "white"
             }
            },
            "header": {
             "fill": {
              "color": "#C8D4E3"
             },
             "line": {
              "color": "white"
             }
            },
            "type": "table"
           }
          ]
         },
         "layout": {
          "annotationdefaults": {
           "arrowcolor": "#2a3f5f",
           "arrowhead": 0,
           "arrowwidth": 1
          },
          "autotypenumbers": "strict",
          "coloraxis": {
           "colorbar": {
            "outlinewidth": 0,
            "ticks": ""
           }
          },
          "colorscale": {
           "diverging": [
            [
             0,
             "#8e0152"
            ],
            [
             0.1,
             "#c51b7d"
            ],
            [
             0.2,
             "#de77ae"
            ],
            [
             0.3,
             "#f1b6da"
            ],
            [
             0.4,
             "#fde0ef"
            ],
            [
             0.5,
             "#f7f7f7"
            ],
            [
             0.6,
             "#e6f5d0"
            ],
            [
             0.7,
             "#b8e186"
            ],
            [
             0.8,
             "#7fbc41"
            ],
            [
             0.9,
             "#4d9221"
            ],
            [
             1,
             "#276419"
            ]
           ],
           "sequential": [
            [
             0,
             "#0d0887"
            ],
            [
             0.1111111111111111,
             "#46039f"
            ],
            [
             0.2222222222222222,
             "#7201a8"
            ],
            [
             0.3333333333333333,
             "#9c179e"
            ],
            [
             0.4444444444444444,
             "#bd3786"
            ],
            [
             0.5555555555555556,
             "#d8576b"
            ],
            [
             0.6666666666666666,
             "#ed7953"
            ],
            [
             0.7777777777777778,
             "#fb9f3a"
            ],
            [
             0.8888888888888888,
             "#fdca26"
            ],
            [
             1,
             "#f0f921"
            ]
           ],
           "sequentialminus": [
            [
             0,
             "#0d0887"
            ],
            [
             0.1111111111111111,
             "#46039f"
            ],
            [
             0.2222222222222222,
             "#7201a8"
            ],
            [
             0.3333333333333333,
             "#9c179e"
            ],
            [
             0.4444444444444444,
             "#bd3786"
            ],
            [
             0.5555555555555556,
             "#d8576b"
            ],
            [
             0.6666666666666666,
             "#ed7953"
            ],
            [
             0.7777777777777778,
             "#fb9f3a"
            ],
            [
             0.8888888888888888,
             "#fdca26"
            ],
            [
             1,
             "#f0f921"
            ]
           ]
          },
          "colorway": [
           "#636efa",
           "#EF553B",
           "#00cc96",
           "#ab63fa",
           "#FFA15A",
           "#19d3f3",
           "#FF6692",
           "#B6E880",
           "#FF97FF",
           "#FECB52"
          ],
          "font": {
           "color": "#2a3f5f"
          },
          "geo": {
           "bgcolor": "white",
           "lakecolor": "white",
           "landcolor": "#E5ECF6",
           "showlakes": true,
           "showland": true,
           "subunitcolor": "white"
          },
          "hoverlabel": {
           "align": "left"
          },
          "hovermode": "closest",
          "mapbox": {
           "style": "light"
          },
          "paper_bgcolor": "white",
          "plot_bgcolor": "#E5ECF6",
          "polar": {
           "angularaxis": {
            "gridcolor": "white",
            "linecolor": "white",
            "ticks": ""
           },
           "bgcolor": "#E5ECF6",
           "radialaxis": {
            "gridcolor": "white",
            "linecolor": "white",
            "ticks": ""
           }
          },
          "scene": {
           "xaxis": {
            "backgroundcolor": "#E5ECF6",
            "gridcolor": "white",
            "gridwidth": 2,
            "linecolor": "white",
            "showbackground": true,
            "ticks": "",
            "zerolinecolor": "white"
           },
           "yaxis": {
            "backgroundcolor": "#E5ECF6",
            "gridcolor": "white",
            "gridwidth": 2,
            "linecolor": "white",
            "showbackground": true,
            "ticks": "",
            "zerolinecolor": "white"
           },
           "zaxis": {
            "backgroundcolor": "#E5ECF6",
            "gridcolor": "white",
            "gridwidth": 2,
            "linecolor": "white",
            "showbackground": true,
            "ticks": "",
            "zerolinecolor": "white"
           }
          },
          "shapedefaults": {
           "line": {
            "color": "#2a3f5f"
           }
          },
          "ternary": {
           "aaxis": {
            "gridcolor": "white",
            "linecolor": "white",
            "ticks": ""
           },
           "baxis": {
            "gridcolor": "white",
            "linecolor": "white",
            "ticks": ""
           },
           "bgcolor": "#E5ECF6",
           "caxis": {
            "gridcolor": "white",
            "linecolor": "white",
            "ticks": ""
           }
          },
          "title": {
           "x": 0.05
          },
          "xaxis": {
           "automargin": true,
           "gridcolor": "white",
           "linecolor": "white",
           "ticks": "",
           "title": {
            "standoff": 15
           },
           "zerolinecolor": "white",
           "zerolinewidth": 2
          },
          "yaxis": {
           "automargin": true,
           "gridcolor": "white",
           "linecolor": "white",
           "ticks": "",
           "title": {
            "standoff": 15
           },
           "zerolinecolor": "white",
           "zerolinewidth": 2
          }
         }
        }
       }
      }
     },
     "metadata": {},
     "output_type": "display_data"
    }
   ],
   "source": [
    "with open(\"gbyk_diff.pkl\", \"rb\") as f:\n",
    "    data = pickle.load(f)\n",
    "    data = helpers.undo_differences(data, nose_idx=17)\n",
    "\n",
    "keypoints = data[\"train\"][\"keno_0\"][0][\"keypoints\"]\n",
    "print(len(keypoints))\n",
    "keypoints = keypoints[200]\n",
    "print(keypoints.shape)\n",
    "keypoints = np.reshape(keypoints, (-1, 18, 3))\n",
    "vci.plot.plot_pose(keypoints[0], skeleton)"
   ]
  },
  {
   "cell_type": "markdown",
   "metadata": {},
   "source": [
    "### filters"
   ]
  },
  {
   "cell_type": "code",
   "execution_count": 24,
   "metadata": {},
   "outputs": [
    {
     "data": {
      "image/png": "[encoded data removed]",
      "text/plain": [
       "<Figure size 1500x1200 with 3 Axes>"
      ]
     },
     "metadata": {},
     "output_type": "display_data"
    }
   ],
   "source": [
    "with open(\"gbyk.pkl\", \"rb\") as f:\n",
    "    base = pickle.load(f)\n",
    "\n",
    "with open(\"gbyk_lowfilter.pkl\", \"rb\") as f:\n",
    "    lowfilter = pickle.load(f)\n",
    "\n",
    "with open(\"gbyk_mediumfilter.pkl\", \"rb\") as f:\n",
    "    mediumfilter = pickle.load(f)\n",
    "\n",
    "mode = \"test\"\n",
    "session = \"keno_0\"\n",
    "size = -1\n",
    "fig, axs = plt.subplots(3, 1, figsize=(15, 12))\n",
    "\n",
    "axs[0].plot(\n",
    "    lowfilter[mode][session][\"trial_0\"][\"spikes\"][:size, 0], label=\"low\"\n",
    ")\n",
    "axs[0].set_title(\"Filtered Signal (Low-pass)\")\n",
    "axs[0].set_ylim(-0.5, 8)\n",
    "\n",
    "axs[1].plot(\n",
    "    mediumfilter[mode][session][\"trial_0\"][\"spikes\"][:size, 0], label=\"medium\"\n",
    ")\n",
    "axs[1].set_title(\"Filtered Signal (Medium-pass)\")\n",
    "axs[1].set_ylim(-0.5, 8)\n",
    "\n",
    "axs[2].plot(base[mode][session][\"trial_0\"][\"spikes\"][:size, 0], label=\"raw\")\n",
    "axs[2].set_title(\"Original Signal\")\n",
    "axs[2].set_ylim(-0.5, 8)\n",
    "\n",
    "plt.tight_layout()"
   ]
  },
  {
   "cell_type": "code",
   "execution_count": 25,
   "metadata": {},
   "outputs": [
    {
     "name": "stdout",
     "output_type": "stream",
     "text": [
      "0.34115779831839355\n"
     ]
    }
   ],
   "source": [
    "corr = 0\n",
    "n_channels = base[mode][session][\"trial_0\"][\"spikes\"].shape[1]\n",
    "\n",
    "for ch in range(n_channels):\n",
    "    corr += np.corrcoef(\n",
    "        base[mode][session][\"trial_0\"][\"spikes\"][:, ch],\n",
    "        lowfilter[mode][session][\"trial_0\"][\"spikes\"][:, ch],\n",
    "    )[0, 1]\n",
    "\n",
    "corr /= n_channels\n",
    "print(corr)"
   ]
  },
  {
   "cell_type": "markdown",
   "metadata": {},
   "source": [
    "### head coordinates"
   ]
  },
  {
   "cell_type": "code",
   "execution_count": 13,
   "metadata": {},
   "outputs": [
    {
     "name": "stdout",
     "output_type": "stream",
     "text": [
      "[[ 1.00000000e+00 -1.66533454e-16  0.00000000e+00]\n",
      " [-6.93889390e-17  1.00000000e+00  2.77555756e-17]\n",
      " [ 1.80411242e-16 -3.33066907e-16  1.00000000e+00]\n",
      " [ 0.00000000e+00  0.00000000e+00  0.00000000e+00]\n",
      " [ 6.24059075e-02  9.59852463e-02  6.70824800e-03]]\n"
     ]
    }
   ],
   "source": [
    "with open(\"gbyk_head.pkl\", \"rb\") as f:\n",
    "    data = pickle.load(f)\n",
    "\n",
    "keypoints = data[\"train\"][\"keno_0\"][0][\"keypoints\"][0].reshape(19, 3)\n",
    "print(keypoints[-5:])"
   ]
  },
  {
   "cell_type": "code",
   "execution_count": 3,
   "metadata": {},
   "outputs": [
    {
     "name": "stdout",
     "output_type": "stream",
     "text": [
      "[[ 1.00000000e+00  6.93889390e-18 -9.43689571e-16]\n",
      " [-1.00000000e+00  9.71445147e-17 -1.19848576e-13]\n",
      " [ 6.37314206e-01  1.00000000e+00  0.00000000e+00]\n",
      " [ 5.36276277e-02  9.60323942e-02  1.51457462e-02]]\n"
     ]
    }
   ],
   "source": [
    "with open(\"gbyk_orthogonal_head.pkl\", \"rb\") as f:\n",
    "    data = pickle.load(f)\n",
    "\n",
    "keypoints = data[\"train\"][\"keno_0\"][0][\"keypoints\"][0].reshape(19, 3)\n",
    "print(keypoints[-4:])"
   ]
  }
 ],
 "metadata": {
  "kernelspec": {
   "display_name": ".venv",
   "language": "python",
   "name": "python3"
  },
  "language_info": {
   "codemirror_mode": {
    "name": "ipython",
    "version": 3
   },
   "file_extension": ".py",
   "mimetype": "text/x-python",
   "name": "python",
   "nbconvert_exporter": "python",
   "pygments_lexer": "ipython3",
   "version": "3.12.11"
  }
 },
 "nbformat": 4,
 "nbformat_minor": 2
}
