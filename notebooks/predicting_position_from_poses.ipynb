{
 "cells": [
  {
   "cell_type": "code",
   "execution_count": null,
   "id": "8ca64803",
   "metadata": {},
   "outputs": [],
   "source": [
    "%load_ext autoreload\n",
    "%autoreload 2"
   ]
  },
  {
   "cell_type": "code",
   "execution_count": 90,
   "id": "7c500a0b",
   "metadata": {},
   "outputs": [],
   "source": [
    "import os\n",
    "\n",
    "from pathlib import Path\n",
    "\n",
    "import matplotlib.pyplot as plt\n",
    "import motorlab as ml\n",
    "import numpy as np\n",
    "import seaborn as sns\n",
    "import yaml"
   ]
  },
  {
   "cell_type": "code",
   "execution_count": null,
   "id": "58f1a7b1",
   "metadata": {},
   "outputs": [],
   "source": [
    "os.chdir(Path().resolve().parent)"
   ]
  },
  {
   "cell_type": "code",
   "execution_count": null,
   "id": "e16964b8",
   "metadata": {},
   "outputs": [],
   "source": [
    "sessions = ml.config.gbyk_sessions[:1]"
   ]
  },
  {
   "cell_type": "code",
   "execution_count": null,
   "id": "186f4f77",
   "metadata": {},
   "outputs": [],
   "source": [
    "poses = dict()\n",
    "trials = dict()\n",
    "\n",
    "for session in sessions:\n",
    "    POSES_DIR = Path(\"data/gbyk/\") / session / \"poses\"\n",
    "    poses_ = ml.data.load_from_memmap(POSES_DIR)\n",
    "    poses_ = ml.poses.change_representation(\n",
    "        poses_,\n",
    "        \"centered\",\n",
    "        \"gbyk\",\n",
    "    )\n",
    "    poses[session] = poses_\n",
    "    trials[session] = dict()\n",
    "    trials_dir = Path(f\"data/gbyk/{session}/trials/\")\n",
    "    for i, meta_trial in enumerate(sorted(trials_dir.iterdir())):\n",
    "        trials[session][i] = {\n",
    "            \"choice\": None,\n",
    "            \"start\": None,\n",
    "            \"end\": None,\n",
    "            \"type\": None,\n",
    "        }\n",
    "        with open(meta_trial, \"r\") as f:\n",
    "            meta_dict = yaml.safe_load(f)\n",
    "            start = int(meta_dict[\"first_frame_idx\"] // 50)\n",
    "            end = start + int(meta_dict[\"num_frames\"] // 50)\n",
    "            trials[session][i][\"start\"] = start\n",
    "            trials[session][i][\"end\"] = end\n",
    "            trials[session][i][\"choice\"] = meta_dict[\"choice\"]\n",
    "            trials[session][i][\"type\"] = meta_dict[\"type\"]"
   ]
  },
  {
   "cell_type": "code",
   "execution_count": null,
   "id": "834036a5",
   "metadata": {},
   "outputs": [],
   "source": [
    "test = ml.poses.compute_trunk(poses_, \"gbyk\")\n",
    "kps_to_exclude = [\"r_eye\", \"r_ear\", \"l_eye\", \"l_ear\", \"nose\", \"head\", \"e_tail\"]\n",
    "idxs = [ml.poses.keypoints_dict[\"gbyk\"][kp] for kp in kps_to_exclude]\n",
    "test = test.reshape(-1, 21, 3)\n",
    "test[:, idxs, :] = np.nan\n",
    "test = test.reshape(-1, 63)"
   ]
  },
  {
   "cell_type": "code",
   "execution_count": null,
   "id": "b422c887",
   "metadata": {},
   "outputs": [],
   "source": [
    "%matplotlib widget\n",
    "s, e = trials[session][\"R\"][0]\n",
    "ml.plot.poses3d(\n",
    "    test[s:e],\n",
    "    # poses[session][s:e],\n",
    "    \"gbyk\",\n",
    "    # return_fig=True,\n",
    "    save_path=\"plots/trunk_centered.gif\",\n",
    ")"
   ]
  },
  {
   "cell_type": "code",
   "execution_count": null,
   "id": "d5ff1d78",
   "metadata": {},
   "outputs": [],
   "source": [
    "runs = {\n",
    "    \"allocentric\": 20250718155104,\n",
    "    \"centered\": 20250718160430,\n",
    "    \"egocentric\": 20250718194301,\n",
    "    \"trunk\": 20250718210623,\n",
    "    \"head\": 20250721174735,\n",
    "    # \"pc\": 20250721180841,\n",
    "}"
   ]
  },
  {
   "cell_type": "code",
   "execution_count": 88,
   "id": "33a72230",
   "metadata": {},
   "outputs": [],
   "source": [
    "results_dict = {\n",
    "    \"representation\": [],\n",
    "    \"monkey\": [],\n",
    "    \"type\": [],\n",
    "    # \"x_acc\": [],\n",
    "    \"acc\": [],\n",
    "    \"direction\": [],\n",
    "}\n",
    "\n",
    "for representation, run in runs.items():\n",
    "    config_path = Path(f\"config/poses_to_position/{run}.yaml\")\n",
    "\n",
    "    with open(config_path, \"r\") as f:\n",
    "        config = yaml.safe_load(f)\n",
    "        config[\"dataset\"][\"entire_trials\"] = True\n",
    "        config[\"dataset\"][\"batch_size\"] = 1\n",
    "\n",
    "    model = ml.model.load(config, is_train=False)\n",
    "    test_intervals, train_intervals, _ = ml.intervals.get_tiers_intervals(\n",
    "        config[\"DATA_DIR\"],\n",
    "        config[\"sessions\"],\n",
    "        config[\"experiment\"],\n",
    "        include_trial=config[\"intervals\"].get(\"include_trial\", True),\n",
    "        include_homing=config[\"intervals\"].get(\"include_homing\", True),\n",
    "        include_sitting=config[\"intervals\"].get(\"include_sitting\", True),\n",
    "    )\n",
    "    data_dict = ml.data.load_all(config, train_intervals)\n",
    "    datasets = ml.datasets.load_datasets(\n",
    "        data_dict,\n",
    "        test_intervals,\n",
    "        ml.utils.list_modalities(config[\"in_modalities\"]),\n",
    "        ml.utils.list_modalities(config[\"out_modalities\"]),\n",
    "        entire_trials=True,\n",
    "    )\n",
    "    dataloaders = ml.datasets.load_dataloaders(\n",
    "        datasets, config[\"dataset\"][\"batch_size\"], is_train=False\n",
    "    )\n",
    "    _, gts, preds = ml.model.iterate_entire_trials(model, dataloaders, 100)\n",
    "\n",
    "    for session in config[\"sessions\"]:\n",
    "        for i in range(len(test_intervals)):\n",
    "            acc = ml.metrics.mse(gts[session][i], preds[session][i])\n",
    "            results_dict[\"representation\"].append(representation)\n",
    "            results_dict[\"monkey\"].append(session[:3])\n",
    "            results_dict[\"type\"].append(test_intervals[session][i].type)\n",
    "            results_dict[\"direction\"].append(\n",
    "                test_intervals[session][i].direction\n",
    "            )\n",
    "            results_dict[\"acc\"].append(acc)"
   ]
  },
  {
   "cell_type": "code",
   "execution_count": 109,
   "id": "c1ad5b91",
   "metadata": {},
   "outputs": [
    {
     "data": {
      "image/png": "[encoded data removed]",
      "text/plain": [
       "<Figure size 1123.5x500 with 2 Axes>"
      ]
     },
     "metadata": {},
     "output_type": "display_data"
    }
   ],
   "source": [
    "%matplotlib inline\n",
    "g = sns.catplot(\n",
    "    data=results_dict,\n",
    "    col=\"monkey\",\n",
    "    x=\"type\",\n",
    "    y=\"acc\",\n",
    "    hue=\"representation\",\n",
    "    kind=\"bar\",\n",
    ")"
   ]
  }
 ],
 "metadata": {
  "kernelspec": {
   "display_name": ".mlab",
   "language": "python",
   "name": "python3"
  },
  "language_info": {
   "codemirror_mode": {
    "name": "ipython",
    "version": 3
   },
   "file_extension": ".py",
   "mimetype": "text/x-python",
   "name": "python",
   "nbconvert_exporter": "python",
   "pygments_lexer": "ipython3",
   "version": "3.13.5"
  }
 },
 "nbformat": 4,
 "nbformat_minor": 5
}
