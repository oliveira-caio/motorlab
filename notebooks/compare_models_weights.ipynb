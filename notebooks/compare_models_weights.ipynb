{
 "cells": [
  {
   "cell_type": "code",
   "execution_count": 1,
   "id": "610822a2",
   "metadata": {},
   "outputs": [],
   "source": [
    "%load_ext autoreload\n",
    "%autoreload 2"
   ]
  },
  {
   "cell_type": "code",
   "execution_count": 2,
   "id": "0d8fb62e",
   "metadata": {},
   "outputs": [],
   "source": [
    "import os\n",
    "from pathlib import Path\n",
    "\n",
    "import matplotlib.pyplot as plt\n",
    "import motorlab as ml\n",
    "import numpy as np\n",
    "import seaborn as sns\n",
    "import torch\n",
    "import yaml"
   ]
  },
  {
   "cell_type": "code",
   "execution_count": 3,
   "id": "db980415",
   "metadata": {},
   "outputs": [],
   "source": [
    "os.chdir(Path().resolve().parent)"
   ]
  },
  {
   "cell_type": "code",
   "execution_count": 6,
   "id": "77008293",
   "metadata": {},
   "outputs": [],
   "source": [
    "runs = [\n",
    "    \"20250807145637\",\n",
    "    \"20250807152324\",\n",
    "]\n",
    "checkpoints = dict()\n",
    "\n",
    "for run in runs:\n",
    "    checkpoints[run] = torch.load(\n",
    "        f\"artifacts/checkpoint/poses_to_position/{run}.pt\"\n",
    "    )"
   ]
  },
  {
   "cell_type": "code",
   "execution_count": null,
   "id": "f5c55c7f",
   "metadata": {},
   "outputs": [
    {
     "name": "stdout",
     "output_type": "stream",
     "text": [
      "Differences between 20250807145637 and 20250807152324:\n",
      "  No differences found.\n"
     ]
    }
   ],
   "source": [
    "def recursive_diff(dict1, dict2, path=\"\"):\n",
    "    diffs = []\n",
    "    for key in dict1:\n",
    "        if key not in dict2:\n",
    "            diffs.append(f\"{path}{key} missing in second dict\")\n",
    "        else:\n",
    "            val1, val2 = dict1[key], dict2[key]\n",
    "            if isinstance(val1, dict) and isinstance(val2, dict):\n",
    "                diffs.extend(recursive_diff(val1, val2, path + f\"{key}.\"))\n",
    "            elif isinstance(val1, torch.Tensor) and isinstance(\n",
    "                val2, torch.Tensor\n",
    "            ):\n",
    "                if not torch.equal(val1, val2):\n",
    "                    diffs.append(f\"{path}{key} differs (tensor values)\")\n",
    "            elif val1 != val2:\n",
    "                diffs.append(f\"{path}{key} differs: {val1} != {val2}\")\n",
    "    for key in dict2:\n",
    "        if key not in dict1:\n",
    "            diffs.append(f\"{path}{key} missing in first dict\")\n",
    "    return diffs\n",
    "\n",
    "\n",
    "first_run = runs[0]\n",
    "for run in runs[1:]:\n",
    "    print(f\"Differences between {first_run} and {run}:\")\n",
    "    diffs = recursive_diff(checkpoints[first_run], checkpoints[run])\n",
    "    if diffs:\n",
    "        for diff in diffs:\n",
    "            print(\"  -\", diff)\n",
    "    else:\n",
    "        print(\"  No differences found.\")"
   ]
  }
 ],
 "metadata": {
  "kernelspec": {
   "display_name": ".mlab (3.13.5)",
   "language": "python",
   "name": "python3"
  },
  "language_info": {
   "codemirror_mode": {
    "name": "ipython",
    "version": 3
   },
   "file_extension": ".py",
   "mimetype": "text/x-python",
   "name": "python",
   "nbconvert_exporter": "python",
   "pygments_lexer": "ipython3",
   "version": "3.13.5"
  }
 },
 "nbformat": 4,
 "nbformat_minor": 5
}
