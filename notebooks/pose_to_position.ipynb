{
 "cells": [
  {
   "cell_type": "code",
   "execution_count": null,
   "id": "ce3e2194",
   "metadata": {},
   "outputs": [],
   "source": [
    "%load_ext autoreload\n",
    "%autoreload 2"
   ]
  },
  {
   "cell_type": "code",
   "execution_count": null,
   "id": "c07068ba",
   "metadata": {},
   "outputs": [],
   "source": [
    "import os\n",
    "\n",
    "from pathlib import Path\n",
    "\n",
    "import motorlab as ml\n",
    "import numpy as np\n",
    "import yaml"
   ]
  },
  {
   "cell_type": "code",
   "execution_count": null,
   "id": "95b3eb57",
   "metadata": {},
   "outputs": [],
   "source": [
    "os.chdir(Path().resolve().parent)"
   ]
  },
  {
   "cell_type": "code",
   "execution_count": null,
   "id": "cf0ac784",
   "metadata": {},
   "outputs": [],
   "source": [
    "def get_config(experiment=\"gbyk\"):\n",
    "    if experiment == \"gbyk\":\n",
    "        sessions = [\n",
    "            \"bex_20230621_spikes_sorted_SES\",  # before\n",
    "            \"bex_20230624_spikes_sorted_SES\",  # before\n",
    "            \"bex_20230629_spikes_sorted_SES\",  # before\n",
    "            \"bex_20230630_spikes_sorted_SES\",  # before\n",
    "            \"bex_20230701_spikes_sorted_SES\",  # before\n",
    "            \"bex_20230708_spikes_sorted_SES\",  # while\n",
    "            # \"ken_20230614_spikes_sorted_SES\",  # while and before\n",
    "            \"ken_20230618_spikes_sorted_SES\",  # before\n",
    "            \"ken_20230622_spikes_sorted_SES\",  # while, before and free\n",
    "            \"ken_20230629_spikes_sorted_SES\",  # while, before and free\n",
    "            \"ken_20230630_spikes_sorted_SES\",  # while\n",
    "            \"ken_20230701_spikes_sorted_SES\",  # before\n",
    "            \"ken_20230703_spikes_sorted_SES\",  # while\n",
    "        ]\n",
    "    else:\n",
    "        sessions = [\n",
    "            \"bex_20230221\",\n",
    "            \"bex_20230222\",\n",
    "            \"bex_20230223\",\n",
    "            \"bex_20230224\",\n",
    "            \"bex_20230225\",\n",
    "            \"bex_20230226\",\n",
    "            \"jon_20230125\",\n",
    "            \"jon_20230126\",\n",
    "            \"jon_20230127\",\n",
    "            \"jon_20230130\",\n",
    "            \"jon_20230131\",\n",
    "            \"jon_20230202\",\n",
    "            \"jon_20230203\",\n",
    "            \"luk_20230126\",\n",
    "            \"luk_20230127\",\n",
    "            \"luk_20230130\",\n",
    "            \"luk_20230131\",\n",
    "            \"luk_20230202\",\n",
    "            \"luk_20230203\",\n",
    "        ]\n",
    "\n",
    "    config = {\n",
    "        \"DATA_DIR\": f\"data/{experiment}\",\n",
    "        \"CHECKPOINT_DIR\": \"checkpoint/pose_to_position\",\n",
    "        \"CONFIG_DIR\": \"config/pose_to_position\",\n",
    "        \"save\": True,\n",
    "        \"experiment\": experiment,\n",
    "        \"include_trial\": True,\n",
    "        \"include_homing\": True,\n",
    "        \"in_modalities\": \"poses\",\n",
    "        \"out_modalities\": \"position\",\n",
    "        \"architecture\": \"fc\",\n",
    "        \"sessions\": sessions,\n",
    "        \"position_repr\": \"com\",\n",
    "        \"body_repr\": \"egocentric\",\n",
    "        \"loss_fn\": \"mse\",\n",
    "        \"metric\": \"mse\",\n",
    "        \"model\": {\n",
    "            \"embedding_dim\": 256,\n",
    "            \"hidden_dim\": 256,\n",
    "            \"n_layers\": 1,\n",
    "            \"readout\": \"linear\",\n",
    "        },\n",
    "        \"train\": {\"n_epochs\": 300, \"lr\": 5e-3},\n",
    "        \"track\": {\"metrics\": True, \"wandb\": False, \"save_checkpoint\": True},\n",
    "        \"dataset\": {\"seq_length\": 1, \"stride\": 1},\n",
    "    }\n",
    "    return config"
   ]
  },
  {
   "cell_type": "code",
   "execution_count": null,
   "id": "809c7281",
   "metadata": {},
   "outputs": [],
   "source": [
    "ml.model.train(get_config())"
   ]
  },
  {
   "cell_type": "code",
   "execution_count": null,
   "id": "16a6dfe8",
   "metadata": {},
   "outputs": [],
   "source": [
    "# classification\n",
    "# run = 20250624174842  # filter: false, homing: false\n",
    "# run = 20250624232437  # filter: false, homing: true"
   ]
  },
  {
   "cell_type": "code",
   "execution_count": null,
   "id": "22e95550",
   "metadata": {},
   "outputs": [],
   "source": [
    "# regression\n",
    "# run = 20250702104726  # model: gru | homing: false\n",
    "# run = 20250702112218  # model: gru | homing: true\n",
    "run = 20250701155654  # model: fc  | homing: false\n",
    "# run = 20250702140752  # model: fc  | homing: true"
   ]
  },
  {
   "cell_type": "code",
   "execution_count": null,
   "id": "09535edd",
   "metadata": {},
   "outputs": [],
   "source": [
    "CONFIG_DIR = Path(get_config()[\"CONFIG_DIR\"])\n",
    "CONFIG_PATH = CONFIG_DIR / f\"{run}.yaml\"\n",
    "\n",
    "with open(CONFIG_PATH, \"r\") as f:\n",
    "    config = yaml.safe_load(f)\n",
    "\n",
    "# config[\"include_trial\"] = True\n",
    "# config[\"include_homing\"] = False\n",
    "\n",
    "# config[\"include_trial\"] = False\n",
    "# config[\"include_homing\"] = True\n",
    "# config[\"dataset\"] = {\"seq_length\": 1, \"stride\": 1}\n",
    "\n",
    "eval_metrics, eval_gts, eval_preds = ml.model.evaluate(config)\n",
    "\n",
    "for session in eval_preds:\n",
    "    eval_gts[session] = eval_gts[session].reshape(-1, 2)\n",
    "    eval_preds[session] = eval_preds[session].reshape(-1, 2)"
   ]
  },
  {
   "cell_type": "code",
   "execution_count": null,
   "id": "a043348b",
   "metadata": {},
   "outputs": [],
   "source": [
    "ml.plot.room_heatmap(eval_gts, eval_preds)"
   ]
  },
  {
   "cell_type": "code",
   "execution_count": null,
   "id": "fba2fc48",
   "metadata": {},
   "outputs": [],
   "source": [
    "bex_gts = {\n",
    "    session: gts for session, gts in eval_gts.items() if \"bex\" in session\n",
    "}\n",
    "bex_preds = {\n",
    "    session: preds for session, preds in eval_preds.items() if \"bex\" in session\n",
    "}\n",
    "ml.plot.room_heatmap(bex_gts, bex_preds, concat=True)"
   ]
  },
  {
   "cell_type": "code",
   "execution_count": null,
   "id": "5c6394b5",
   "metadata": {},
   "outputs": [],
   "source": [
    "ken_gts = {\n",
    "    session: gts for session, gts in eval_gts.items() if \"ken\" in session\n",
    "}\n",
    "ken_preds = {\n",
    "    session: preds for session, preds in eval_preds.items() if \"ken\" in session\n",
    "}\n",
    "ml.plot.room_heatmap(ken_gts, ken_preds, concat=True)"
   ]
  },
  {
   "cell_type": "code",
   "execution_count": null,
   "id": "4267dc6f",
   "metadata": {},
   "outputs": [],
   "source": [
    "bex_ken_gts = {\n",
    "    \"bex\": np.concatenate(list(bex_gts.values()), axis=0),\n",
    "    \"ken\": np.concatenate(list(ken_gts.values()), axis=0),\n",
    "}\n",
    "\n",
    "bex_ken_preds = {\n",
    "    \"bex\": np.concatenate(list(bex_preds.values()), axis=0),\n",
    "    \"ken\": np.concatenate(list(ken_preds.values()), axis=0),\n",
    "}\n",
    "\n",
    "ml.plot.room_heatmap(\n",
    "    bex_ken_gts,\n",
    "    bex_ken_preds,\n",
    "    # save_path=\"plots/pose_to_position/histogram_trial_fc.svg\",\n",
    ")"
   ]
  },
  {
   "cell_type": "code",
   "execution_count": null,
   "id": "7404b7f8",
   "metadata": {},
   "outputs": [],
   "source": [
    "tile_size = 0.865\n",
    "\n",
    "gts = {\n",
    "    \"ideal\": np.array(\n",
    "        [\n",
    "            [1 * tile_size, 0 * tile_size + tile_size / 2],\n",
    "            [2 * tile_size, 0 * tile_size + tile_size / 2],\n",
    "            [3 * tile_size, 0 * tile_size + tile_size / 2],\n",
    "            [1 * tile_size, 1 * tile_size + tile_size / 2],\n",
    "            [2 * tile_size, 1 * tile_size + tile_size / 2],\n",
    "            [3 * tile_size, 1 * tile_size + tile_size / 2],\n",
    "            [1 * tile_size, 2 * tile_size + tile_size / 2],\n",
    "            [2 * tile_size, 2 * tile_size + tile_size / 2],\n",
    "            [3 * tile_size, 2 * tile_size + tile_size / 2],\n",
    "            [1 * tile_size, 3 * tile_size + tile_size / 2],\n",
    "            [2 * tile_size, 3 * tile_size + tile_size / 2],\n",
    "            [3 * tile_size, 3 * tile_size + tile_size / 2],\n",
    "            [1 * tile_size, 4 * tile_size + tile_size / 2],\n",
    "            [2 * tile_size, 4 * tile_size + tile_size / 2],\n",
    "            [3 * tile_size, 4 * tile_size + tile_size / 2],\n",
    "        ]\n",
    "    )\n",
    "}\n",
    "preds = {\n",
    "    \"ideal\": np.array(\n",
    "        [\n",
    "            [3 * tile_size, 0 * tile_size + tile_size / 2],\n",
    "            [2 * tile_size, 0 * tile_size + tile_size / 2],\n",
    "            [1 * tile_size, 0 * tile_size + tile_size / 2],\n",
    "            [3 * tile_size, 3 * tile_size + tile_size / 2],\n",
    "            [2 * tile_size, 3 * tile_size + tile_size / 2],\n",
    "            [1 * tile_size, 3 * tile_size + tile_size / 2],\n",
    "            [3 * tile_size, 2 * tile_size + tile_size / 2],\n",
    "            [2 * tile_size, 2 * tile_size + tile_size / 2],\n",
    "            [1 * tile_size, 2 * tile_size + tile_size / 2],\n",
    "            [3 * tile_size, 1 * tile_size + tile_size / 2],\n",
    "            [2 * tile_size, 1 * tile_size + tile_size / 2],\n",
    "            [1 * tile_size, 1 * tile_size + tile_size / 2],\n",
    "            [3 * tile_size, 4 * tile_size + tile_size / 2],\n",
    "            [2 * tile_size, 4 * tile_size + tile_size / 2],\n",
    "            [1 * tile_size, 4 * tile_size + tile_size / 2],\n",
    "        ]\n",
    "    )\n",
    "}\n",
    "ml.plot.room_heatmap(\n",
    "    gts,\n",
    "    preds,\n",
    "    save_path=\"plots/pose_to_position/histogram_homing_ideal.svg\",\n",
    ")"
   ]
  },
  {
   "cell_type": "code",
   "execution_count": null,
   "id": "b2dec689",
   "metadata": {},
   "outputs": [],
   "source": [
    "ml.plot.confusion_matrix(\n",
    "    eval_gts,\n",
    "    eval_preds,\n",
    "    # group=\"x\",\n",
    "    include_sitting=True,\n",
    "    # save_path=\"plots/pose_to_position/confusion_matrix_nofilter_homing.svg\",\n",
    ")"
   ]
  },
  {
   "cell_type": "code",
   "execution_count": null,
   "id": "ddae079a",
   "metadata": {},
   "outputs": [],
   "source": [
    "ml.room.plot(save_path=\"plots/pose_to_position/room.svg\")"
   ]
  }
 ],
 "metadata": {
  "kernelspec": {
   "display_name": ".mlab",
   "language": "python",
   "name": "python3"
  },
  "language_info": {
   "codemirror_mode": {
    "name": "ipython",
    "version": 3
   },
   "file_extension": ".py",
   "mimetype": "text/x-python",
   "name": "python",
   "nbconvert_exporter": "python",
   "pygments_lexer": "ipython3",
   "version": "3.13.5"
  }
 },
 "nbformat": 4,
 "nbformat_minor": 5
}
