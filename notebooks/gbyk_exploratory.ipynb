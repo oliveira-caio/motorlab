{
 "cells": [
  {
   "cell_type": "markdown",
   "metadata": {},
   "source": [
    "## exploratory analysis of the gbyk experiment\n",
    "\n",
    "click [here](https://www.notion.so/oliveiracaio/in-progress-exploratory-analysis-of-the-gbyk-experiment-17ca2d01e2ff80b28fa1e28899d36bd3?pvs=25) to access the corresponding notion page."
   ]
  },
  {
   "cell_type": "code",
   "execution_count": null,
   "metadata": {},
   "outputs": [],
   "source": [
    "%load_ext autoreload\n",
    "%autoreload 2"
   ]
  },
  {
   "cell_type": "code",
   "execution_count": null,
   "metadata": {},
   "outputs": [],
   "source": [
    "import os\n",
    "import warnings\n",
    "\n",
    "from pathlib import Path\n",
    "\n",
    "import matplotlib.pyplot as plt\n",
    "import numpy as np\n",
    "import pandas as pd\n",
    "import plotly.graph_objs as go\n",
    "import seaborn as sns\n",
    "import umap\n",
    "\n",
    "import motorlab as ml"
   ]
  },
  {
   "cell_type": "code",
   "execution_count": null,
   "metadata": {},
   "outputs": [],
   "source": [
    "os.chdir(Path().resolve().parent)\n",
    "\n",
    "warnings.filterwarnings(\n",
    "    \"ignore\",\n",
    "    message=\"n_jobs value 1 overridden to 1 by setting random_state. Use no seed for parallelism.\",\n",
    "    module=\"umap.umap_\",\n",
    ")"
   ]
  },
  {
   "cell_type": "code",
   "execution_count": null,
   "metadata": {},
   "outputs": [],
   "source": [
    "sns.set_context(\"poster\", font_scale=2.0)\n",
    "sns.set_style(\"white\")\n",
    "sns.set_theme(style=\"ticks\")\n",
    "\n",
    "PLOTS_DIR = Path(\"artifacts/plots/gbyk_exploratory/\")\n",
    "PALETTE = sns.color_palette(\n",
    "    [\n",
    "        sns.xkcd_rgb[\"electric pink\"],\n",
    "        sns.xkcd_rgb[\"neon blue\"],\n",
    "        sns.xkcd_rgb[\"bright red\"],\n",
    "        sns.xkcd_rgb[\"blue\"],\n",
    "        sns.xkcd_rgb[\"black\"],\n",
    "        sns.xkcd_rgb[\"mango\"],\n",
    "    ]\n",
    ")\n",
    "SESSIONS = ml.config.gbyk_sessions\n",
    "DATA_DIR = Path(\"data/gbyk\")"
   ]
  },
  {
   "cell_type": "markdown",
   "metadata": {},
   "source": [
    "## intervals"
   ]
  },
  {
   "cell_type": "code",
   "execution_count": null,
   "metadata": {},
   "outputs": [],
   "source": [
    "intervals_info = dict()\n",
    "\n",
    "for session in SESSIONS:\n",
    "    intervals_dir = DATA_DIR / session / \"intervals\"\n",
    "    intervals_info[session] = ml.data.load_intervals_as_pandas(intervals_dir)\n",
    "\n",
    "intervals_info = pd.concat(\n",
    "    [df.assign(session=session) for session, df in intervals_info.items()],\n",
    "    ignore_index=True,\n",
    ")"
   ]
  },
  {
   "cell_type": "code",
   "execution_count": null,
   "metadata": {},
   "outputs": [],
   "source": [
    "summary = (\n",
    "    intervals_info.groupby([\"session\", \"type\", \"side\"])\n",
    "    .agg(\n",
    "        count=(\"side\", \"size\"),\n",
    "        mistake=(\n",
    "            \"reward\",\n",
    "            lambda x: (\n",
    "                intervals_info.loc[x.index, \"side\"]\n",
    "                != intervals_info.loc[x.index, \"reward\"]\n",
    "            ).sum(),\n",
    "        ),\n",
    "    )\n",
    "    .unstack([\"type\", \"side\"], fill_value=0)\n",
    "    .reset_index()\n",
    ")\n",
    "\n",
    "summary.columns = [\"session\"] + [\n",
    "    f\"{t} {c} {stat}\" for stat, t, c in summary.columns[1:]\n",
    "]\n",
    "summary"
   ]
  },
  {
   "cell_type": "markdown",
   "metadata": {},
   "source": [
    "### histograms of trial duration"
   ]
  },
  {
   "cell_type": "code",
   "execution_count": null,
   "metadata": {},
   "outputs": [],
   "source": [
    "ncols = 2\n",
    "nrows = len(SESSIONS) // ncols + (len(SESSIONS) % ncols > 0)\n",
    "fig, axs = plt.subplots(\n",
    "    nrows,\n",
    "    ncols,\n",
    "    figsize=(4 * ncols, 4 * nrows),\n",
    "    sharex=True,\n",
    "    sharey=True,\n",
    ")\n",
    "\n",
    "# converts to seconds\n",
    "intervals_info[\"duration\"] = intervals_info[\"num_frames\"] / 1000\n",
    "hue_order = [\"L\", \"R\"]\n",
    "side_palette = {\"L\": PALETTE[0], \"R\": PALETTE[1]}\n",
    "\n",
    "for i, session in enumerate(SESSIONS):\n",
    "    query = (intervals_info[\"session\"] == session) & (\n",
    "        intervals_info[\"type\"] != \"homing\"\n",
    "    )\n",
    "    axs[i // ncols, i % ncols].set_title(session, pad=7)\n",
    "\n",
    "    g = sns.histplot(\n",
    "        data=intervals_info[query],\n",
    "        x=\"duration\",\n",
    "        hue=\"side\",\n",
    "        ax=axs[i // ncols, i % ncols],\n",
    "        palette=side_palette,\n",
    "        legend=True,\n",
    "    )\n",
    "\n",
    "    legend = axs[i // ncols, i % ncols].get_legend()\n",
    "    handles = legend.get_patches()\n",
    "    labels = [t.get_text() for t in legend.get_texts()]\n",
    "    sorted_pairs = sorted(zip(handles, labels), key=lambda x: x[1])\n",
    "    sorted_handles, sorted_labels = zip(*sorted_pairs)\n",
    "    axs[i // ncols, i % ncols].legend(sorted_handles, sorted_labels)\n",
    "\n",
    "for ax in axs.flat:\n",
    "    ax.set_xlabel(\"duration [s]\")\n",
    "\n",
    "plt.savefig(\n",
    "    PLOTS_DIR / \"histogram_trials_side.svg\",\n",
    "    bbox_inches=\"tight\",\n",
    ")\n",
    "plt.show()"
   ]
  },
  {
   "cell_type": "code",
   "execution_count": null,
   "metadata": {},
   "outputs": [],
   "source": [
    "ncols = 2\n",
    "nrows = len(SESSIONS) // ncols + (len(SESSIONS) % ncols > 0)\n",
    "fig, axs = plt.subplots(\n",
    "    nrows,\n",
    "    ncols,\n",
    "    figsize=(4 * ncols, 3 * nrows),\n",
    "    sharex=True,\n",
    "    sharey=True,\n",
    ")\n",
    "\n",
    "hue_order = [\"precue\", \"gbyk\"]\n",
    "type_palette = {\"precue\": PALETTE[0], \"gbyk\": PALETTE[1]}\n",
    "\n",
    "for i, session in enumerate(SESSIONS):\n",
    "    query = (intervals_info[\"session\"] == session) & (\n",
    "        intervals_info[\"type\"] != \"homing\"\n",
    "    )\n",
    "    axs[i // ncols, i % ncols].set_title(session, pad=7)\n",
    "\n",
    "    g = sns.histplot(\n",
    "        intervals_info[query],\n",
    "        x=\"duration\",\n",
    "        hue=\"type\",\n",
    "        ax=axs[i // ncols, i % ncols],\n",
    "        palette=type_palette,\n",
    "        legend=True,\n",
    "    )\n",
    "\n",
    "    legend = axs[i // ncols, i % ncols].get_legend()\n",
    "    handles = legend.get_patches()\n",
    "    labels = [t.get_text() for t in legend.get_texts()]\n",
    "    sorted_pairs = sorted(zip(handles, labels), key=lambda x: x[1])\n",
    "    sorted_handles, sorted_labels = zip(*sorted_pairs)\n",
    "    axs[i // ncols, i % ncols].legend(sorted_handles, sorted_labels)\n",
    "\n",
    "for ax in axs.flat:\n",
    "    ax.set_xlabel(\"duration [s]\")\n",
    "\n",
    "plt.savefig(\n",
    "    PLOTS_DIR / \"histogram_trials_type.svg\",\n",
    "    bbox_inches=\"tight\",\n",
    ")\n",
    "plt.show()"
   ]
  },
  {
   "cell_type": "code",
   "execution_count": null,
   "metadata": {},
   "outputs": [],
   "source": [
    "ncols = 2\n",
    "nrows = len(SESSIONS) // ncols + (len(SESSIONS) % ncols > 0)\n",
    "fig, axs = plt.subplots(\n",
    "    nrows,\n",
    "    ncols,\n",
    "    figsize=(4 * ncols, 3 * nrows),\n",
    "    sharex=True,\n",
    "    sharey=True,\n",
    ")\n",
    "\n",
    "intervals_info[\"type_side\"] = (\n",
    "    intervals_info[\"type\"] + \" \" + intervals_info[\"side\"]\n",
    ")\n",
    "hue_order = [\"precue L\", \"precue R\", \"gbyk L\", \"gbyk R\"]\n",
    "combined_palette = {\n",
    "    \"precue L\": PALETTE[2],\n",
    "    \"precue R\": PALETTE[3],\n",
    "    \"gbyk L\": PALETTE[4],\n",
    "    \"gbyk R\": PALETTE[5],\n",
    "}\n",
    "\n",
    "for i, session in enumerate(SESSIONS):\n",
    "    query = (intervals_info[\"session\"] == session) & (\n",
    "        intervals_info[\"type\"] != \"homing\"\n",
    "    )\n",
    "    axs[i // ncols, i % ncols].set_title(session, pad=7)\n",
    "\n",
    "    g = sns.histplot(\n",
    "        intervals_info[query],\n",
    "        x=\"duration\",\n",
    "        hue=\"type_side\",\n",
    "        ax=axs[i // ncols, i % ncols],\n",
    "        palette=combined_palette,\n",
    "        legend=True,\n",
    "    )\n",
    "\n",
    "    legend = axs[i // ncols, i % ncols].get_legend()\n",
    "    handles = legend.get_patches()\n",
    "    labels = [t.get_text() for t in legend.get_texts()]\n",
    "    sorted_pairs = sorted(zip(handles, labels), key=lambda x: x[1])\n",
    "    sorted_handles, sorted_labels = zip(*sorted_pairs)\n",
    "    axs[i // ncols, i % ncols].legend(sorted_handles, sorted_labels)\n",
    "\n",
    "for ax in axs.flat:\n",
    "    ax.set_xlabel(\"duration [s]\")\n",
    "\n",
    "plt.savefig(\n",
    "    PLOTS_DIR / \"histogram_trials_condition.svg\",\n",
    "    bbox_inches=\"tight\",\n",
    ")\n",
    "plt.show()"
   ]
  },
  {
   "cell_type": "markdown",
   "metadata": {},
   "source": [
    "### traces of the center of mass during trials"
   ]
  },
  {
   "cell_type": "code",
   "execution_count": null,
   "metadata": {},
   "outputs": [],
   "source": [
    "ncols = 2\n",
    "nrows = len(SESSIONS) // ncols + (len(SESSIONS) % ncols > 0)\n",
    "fig, axs = plt.subplots(\n",
    "    nrows,\n",
    "    ncols,\n",
    "    figsize=(4 * ncols, 3 * nrows),\n",
    "    sharex=True,\n",
    "    sharey=True,\n",
    ")\n",
    "\n",
    "tile_size = ml.room.y_size / ml.room.y_divisions\n",
    "ylines = [(i + 1) * tile_size for i in range(ml.room.y_divisions)]\n",
    "for i, session in enumerate(SESSIONS):\n",
    "    axs[i // ncols, i % ncols].set_title(session, pad=7)\n",
    "    for y in ylines:\n",
    "        axs[i // ncols, i % ncols].axhline(\n",
    "            y=y, color=\"black\", linestyle=\"-\", alpha=0.2\n",
    "        )\n",
    "    com = np.load(\n",
    "        DATA_DIR / session / \"poses\" / \"meta\" / \"com.npy\", allow_pickle=True\n",
    "    )\n",
    "    duration = len(com) - (len(com) % 50)\n",
    "    com = com[:duration].reshape(-1, 5, 3).mean(axis=1)\n",
    "    query = (intervals_info[\"session\"] == session) & (\n",
    "        intervals_info[\"type\"] != \"homing\"\n",
    "    )\n",
    "    types = intervals_info[query][\"type\"].values.astype(str)\n",
    "    rewards = intervals_info[query][\"reward\"].values.astype(str)\n",
    "    starts = intervals_info[query][\"first_frame_idx\"].values.astype(int)\n",
    "    ends = starts + intervals_info[query][\"num_frames\"].values.astype(int)\n",
    "\n",
    "    for j in range(len(types)):\n",
    "        if types[j] == \"precue\":\n",
    "            color = \"red\" if rewards[j] == \"L\" else \"blue\"\n",
    "        else:\n",
    "            color = \"black\" if rewards[j] == \"L\" else \"orange\"\n",
    "\n",
    "        axs[i // ncols, i % ncols].plot(\n",
    "            com[starts[j] : ends[j], 0],\n",
    "            com[starts[j] : ends[j], 1],\n",
    "            color=color,\n",
    "            label=types[j] + \" \" + rewards[j],\n",
    "        )\n",
    "\n",
    "handles = [\n",
    "    plt.Line2D([], [], color=\"red\", label=\"precue L\"),\n",
    "    plt.Line2D([], [], color=\"blue\", label=\"precue R\"),\n",
    "    plt.Line2D([], [], color=\"black\", label=\"gbyk L\"),\n",
    "    plt.Line2D([], [], color=\"orange\", label=\"gbyk R\"),\n",
    "]\n",
    "fig.legend(\n",
    "    handles=handles,\n",
    "    frameon=False,\n",
    "    loc=\"center\",\n",
    "    bbox_to_anchor=(0.5, 0.905),\n",
    "    ncol=4,\n",
    ")\n",
    "plt.xticks([])\n",
    "yticks_positions = [\n",
    "    i * tile_size + tile_size / 2 for i in range(ml.room.y_divisions)\n",
    "]\n",
    "yticks_labels = [\"Tile 1\", \"Tile 2\", \"Tile 3\", \"Tile 4\", \"Tile 5\"]\n",
    "axs[0, 0].set_yticks(yticks_positions)\n",
    "axs[0, 0].set_yticklabels(yticks_labels)\n",
    "axs[0, 0].set_ylim(0, ml.room.y_size)\n",
    "axs[0, 0].set_xlim(0, ml.room.x_size)\n",
    "\n",
    "plt.savefig(PLOTS_DIR / \"traces_com_trials_condition.svg\", bbox_inches=\"tight\")\n",
    "plt.show()"
   ]
  },
  {
   "cell_type": "markdown",
   "metadata": {},
   "source": [
    "### histograms of homing duration"
   ]
  },
  {
   "cell_type": "code",
   "execution_count": null,
   "metadata": {},
   "outputs": [],
   "source": [
    "ncols = 2\n",
    "nrows = len(SESSIONS) // ncols + (len(SESSIONS) % ncols > 0)\n",
    "fig, axs = plt.subplots(\n",
    "    nrows,\n",
    "    ncols,\n",
    "    figsize=(6 * ncols, 6 * nrows),\n",
    "    sharey=True,\n",
    ")\n",
    "\n",
    "inter_trials_dict = {\n",
    "    \"session\": [],\n",
    "    \"duration\": [],\n",
    "}\n",
    "no_homing_df = intervals_info[intervals_info[\"type\"] != \"homing\"]\n",
    "\n",
    "for i in range(len(no_homing_df) - 1):\n",
    "    row_i = no_homing_df.iloc[i]\n",
    "    row_i_plus_1 = no_homing_df.iloc[i + 1]\n",
    "\n",
    "    if row_i[\"session\"] != row_i_plus_1[\"session\"]:\n",
    "        continue\n",
    "\n",
    "    end_i = row_i[\"first_frame_idx\"] + row_i[\"num_frames\"]\n",
    "    start_i_plus_1 = row_i_plus_1[\"first_frame_idx\"]\n",
    "    inter_trials_dict[\"session\"].append(row_i[\"session\"])\n",
    "    inter_trials_dict[\"duration\"].append((start_i_plus_1 - end_i) * 50 / 1000)\n",
    "\n",
    "inter_trials_df = pd.DataFrame(inter_trials_dict)\n",
    "\n",
    "for i, session in enumerate(SESSIONS):\n",
    "    axs[i // ncols, i % ncols].set_title(session, pad=7)\n",
    "\n",
    "    g = sns.histplot(\n",
    "        data=inter_trials_df[inter_trials_df[\"session\"] == session],\n",
    "        x=\"duration\",\n",
    "        ax=axs[i // ncols, i % ncols],\n",
    "    )\n",
    "\n",
    "    axs[i // ncols, i % ncols].axvline(\n",
    "        x=60,\n",
    "        color=\"black\",\n",
    "        linestyle=\"--\",\n",
    "        alpha=0.7,\n",
    "        label=\"60s\",\n",
    "    )\n",
    "    axs[i // ncols, i % ncols].legend()\n",
    "\n",
    "for ax in axs.flat:\n",
    "    ax.set_xlabel(\"duration [s]\")\n",
    "\n",
    "plt.savefig(\n",
    "    PLOTS_DIR / \"histogram_inter_trials.svg\",\n",
    "    bbox_inches=\"tight\",\n",
    ")\n",
    "plt.show()"
   ]
  },
  {
   "cell_type": "code",
   "execution_count": null,
   "metadata": {},
   "outputs": [],
   "source": [
    "ncols = 2\n",
    "nrows = len(SESSIONS) // ncols + (len(SESSIONS) % ncols > 0)\n",
    "fig, axs = plt.subplots(\n",
    "    nrows,\n",
    "    ncols,\n",
    "    figsize=(4 * ncols, 4 * nrows),\n",
    "    sharex=True,\n",
    "    sharey=True,\n",
    ")\n",
    "\n",
    "hue_order = [\"L\", \"R\"]\n",
    "side_palette = {\"L\": PALETTE[0], \"R\": PALETTE[1]}\n",
    "\n",
    "for i, session in enumerate(SESSIONS):\n",
    "    query = (intervals_info[\"session\"] == session) & (\n",
    "        intervals_info[\"type\"] == \"homing\"\n",
    "    )\n",
    "    axs[i // ncols, i % ncols].set_title(session, pad=7)\n",
    "\n",
    "    g = sns.histplot(\n",
    "        data=intervals_info[query],\n",
    "        x=\"duration\",\n",
    "        hue=\"side\",\n",
    "        ax=axs[i // ncols, i % ncols],\n",
    "        palette=side_palette,\n",
    "        legend=True,\n",
    "    )\n",
    "\n",
    "    legend = axs[i // ncols, i % ncols].get_legend()\n",
    "    handles = legend.get_patches()\n",
    "    labels = [t.get_text() for t in legend.get_texts()]\n",
    "    sorted_pairs = sorted(zip(handles, labels), key=lambda x: x[1])\n",
    "    sorted_handles, sorted_labels = zip(*sorted_pairs)\n",
    "    axs[i // ncols, i % ncols].legend(sorted_handles, sorted_labels)\n",
    "\n",
    "for ax in axs.flat:\n",
    "    ax.set_xlabel(\"duration [s]\")\n",
    "\n",
    "plt.savefig(\n",
    "    PLOTS_DIR / \"histogram_homing_side.svg\",\n",
    "    bbox_inches=\"tight\",\n",
    ")\n",
    "plt.show()"
   ]
  },
  {
   "cell_type": "markdown",
   "metadata": {},
   "source": [
    "## spikes\n",
    "\n",
    "i'm using spike count instead of the raw spike train because it loads faster. very simple plot: compute firing rate of each neuron, split between areas, then plot as a boxplot."
   ]
  },
  {
   "cell_type": "code",
   "execution_count": null,
   "metadata": {},
   "outputs": [],
   "source": [
    "firing_rates_dict = {\n",
    "    \"session\": [],\n",
    "    \"area\": [],\n",
    "    \"firing_rate\": [],\n",
    "}\n",
    "areas_dict = {\n",
    "    \"session\": [],\n",
    "    \"m1_l\": [],\n",
    "    \"m1_m\": [],\n",
    "    \"pmd_l\": [],\n",
    "    \"pmd_m\": [],\n",
    "    \"dlpfc\": [],\n",
    "    \"total\": [],\n",
    "}\n",
    "\n",
    "for i, session in enumerate(SESSIONS):\n",
    "    poses_dir = DATA_DIR / session / \"spike_count\"\n",
    "    spike_count = ml.data.load_from_memmap(poses_dir)\n",
    "    areas = np.load(poses_dir / \"meta\" / \"areas.npy\", allow_pickle=True)\n",
    "    areas = np.char.lower(areas)\n",
    "\n",
    "    # the 20 is because i binned the spike count into 50ms.\n",
    "    firing_rates = 20 * spike_count.sum(axis=0) / spike_count.shape[0]\n",
    "\n",
    "    areas_dict[\"session\"].append(session)\n",
    "    areas_dict[\"m1_l\"].append(np.sum(areas == \"m1_l\"))\n",
    "    areas_dict[\"m1_m\"].append(np.sum(areas == \"m1_m\"))\n",
    "    areas_dict[\"pmd_l\"].append(np.sum(areas == \"pmd_l\"))\n",
    "    areas_dict[\"pmd_m\"].append(np.sum(areas == \"pmd_m\"))\n",
    "    areas_dict[\"dlpfc\"].append(np.sum(areas == \"dlpfc\"))\n",
    "    areas_dict[\"total\"].append(spike_count.shape[1])\n",
    "\n",
    "    m1_l_fr = firing_rates[areas == \"m1_l\"]\n",
    "    m1_m_fr = firing_rates[areas == \"m1_m\"]\n",
    "    pmd_l_fr = firing_rates[areas == \"pmd_l\"]\n",
    "    pmd_m_fr = firing_rates[areas == \"pmd_m\"]\n",
    "    dlpfc_fr = firing_rates[areas == \"dlpfc\"]\n",
    "\n",
    "    firing_rates_dict[\"session\"].extend([session] * spike_count.shape[1])\n",
    "    firing_rates_dict[\"area\"].extend(\n",
    "        [\"m1_l\"] * len(m1_l_fr)\n",
    "        + [\"m1_m\"] * len(m1_m_fr)\n",
    "        + [\"pmd_l\"] * len(pmd_l_fr)\n",
    "        + [\"pmd_m\"] * len(pmd_m_fr)\n",
    "        + [\"dlpfc\"] * len(dlpfc_fr)\n",
    "    )\n",
    "    firing_rates_dict[\"firing_rate\"].extend(\n",
    "        list(m1_l_fr)\n",
    "        + list(m1_m_fr)\n",
    "        + list(pmd_l_fr)\n",
    "        + list(pmd_m_fr)\n",
    "        + list(dlpfc_fr)\n",
    "    )\n",
    "\n",
    "firing_rates_df = pd.DataFrame(firing_rates_dict)\n",
    "areas_df = pd.DataFrame(areas_dict)"
   ]
  },
  {
   "cell_type": "code",
   "execution_count": null,
   "metadata": {},
   "outputs": [],
   "source": [
    "firing_rates_df"
   ]
  },
  {
   "cell_type": "code",
   "execution_count": null,
   "metadata": {},
   "outputs": [],
   "source": [
    "areas_df"
   ]
  },
  {
   "cell_type": "code",
   "execution_count": null,
   "metadata": {},
   "outputs": [],
   "source": [
    "FR_PALETTE = sns.color_palette(\"RdPu\", n_colors=5)\n",
    "\n",
    "g = sns.catplot(\n",
    "    data=firing_rates_df,\n",
    "    col=\"session\",\n",
    "    hue=\"area\",\n",
    "    x=\"area\",\n",
    "    y=\"firing_rate\",\n",
    "    kind=\"box\",\n",
    "    palette=FR_PALETTE,\n",
    "    legend=True,\n",
    "    col_wrap=2,\n",
    "    fliersize=0,\n",
    ")\n",
    "\n",
    "# Add stripplot to each facet\n",
    "g.map_dataframe(\n",
    "    sns.stripplot,\n",
    "    x=\"area\",\n",
    "    y=\"firing_rate\",\n",
    "    hue=\"area\",\n",
    "    dodge=False,\n",
    "    jitter=True,\n",
    "    palette=\"dark:black\",\n",
    "    legend=False,\n",
    ")\n",
    "\n",
    "g.set_axis_labels(\"\", \"firing rate [Hz]\")\n",
    "legend = g._legend\n",
    "handles = legend.legend_handles\n",
    "labels = [t.get_text() for t in legend.get_texts()]\n",
    "legend.remove()\n",
    "g.fig.legend(\n",
    "    handles,\n",
    "    labels,\n",
    "    bbox_to_anchor=(0.5, 1.005),\n",
    "    loc=\"center\",\n",
    "    frameon=False,\n",
    "    ncol=5,\n",
    "    title=\"\",\n",
    ")\n",
    "\n",
    "plt.savefig(PLOTS_DIR / \"boxplot_firing_rates.svg\", bbox_inches=\"tight\")\n",
    "plt.show()"
   ]
  },
  {
   "cell_type": "code",
   "execution_count": null,
   "metadata": {},
   "outputs": [],
   "source": [
    "areas_names = [\"m1_l\", \"m1_m\", \"pmd_l\", \"pmd_m\", \"dlpfc\"]\n",
    "\n",
    "for session in SESSIONS:\n",
    "    poses_dir = DATA_DIR / session / \"spike_count\"\n",
    "    spike_count = ml.data.load_from_memmap(poses_dir)\n",
    "    areas = np.load(poses_dir / \"meta\" / \"areas.npy\", allow_pickle=True)\n",
    "    areas = np.char.lower(areas)\n",
    "\n",
    "    for area in areas_names:\n",
    "        area_mask = areas == area\n",
    "        if not np.any(area_mask):\n",
    "            continue\n",
    "\n",
    "        intervals_dir = DATA_DIR / session / \"intervals\"\n",
    "        intervals = ml.data.load_intervals_as_pandas(intervals_dir)\n",
    "        intervals_cond = intervals.groupby([\"type\", \"side\"]).agg(list)\n",
    "\n",
    "        spike_count_area = spike_count[:, area_mask]\n",
    "        if spike_count_area.shape[1] == 0:\n",
    "            continue\n",
    "\n",
    "        condition_labels = [f\"{t} {s}\" for t, s in intervals_cond.index]\n",
    "        conditions = {}\n",
    "        for cond, row in intervals_cond.iterrows():\n",
    "            cond_label = f\"{cond[0]} {cond[1]}\"\n",
    "            starts = np.array(row[\"first_frame_idx\"]) // 50\n",
    "            ends = starts + np.array(row[\"num_frames\"]) // 50\n",
    "            cond_intervals = [[start, end] for start, end in zip(starts, ends)]\n",
    "            conditions[cond_label] = cond_intervals\n",
    "\n",
    "        ml.plot.umap3d(\n",
    "            spike_count_area,\n",
    "            conditions,\n",
    "            plot_title=f\"session: {session}<br>area: {area}\",\n",
    "            plot_filename=PLOTS_DIR / f\"umap_spikes_{session[:12]}_{area}.html\",\n",
    "            show=False,\n",
    "        )"
   ]
  },
  {
   "cell_type": "markdown",
   "metadata": {},
   "source": [
    "## poses"
   ]
  },
  {
   "cell_type": "code",
   "execution_count": 22,
   "metadata": {},
   "outputs": [
    {
     "data": {
      "application/vnd.plotly.v1+json": {
       "config": {
        "plotlyServerURL": "https://plot.ly"
       },
       "data": [
        {
         "line": {
          "color": "rgb(31, 119, 180)"
         },
         "mode": "lines",
         "name": "homing L",
         "type": "scatter3d",
         "x": {
          "bdata": "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",
          "dtype": "f4"
         },
         "y": {
          "bdata": "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",
          "dtype": "f4"
         },
         "z": {
          "bdata": "b8JrQZc2bEH/mnRBh/t0QVz5dEGA/XRBJTx2QVbudUHio3dBxYp2QYAbd0Edj3dBMMF3QR0FeEFfl3dBtIp3QXlad0GCI3dBOeJ2QeeJdkEwUXZBzeZ1QftEdUERRHVBd9p0QV+LdEEiRXRBQKlyQSEWc0FWaHJBW9ZxQepSckEgmXJBIk9yQSEOckGpcHFBsTlwQdJ6b0F05G5B7vtsQXsba0FF7mlBFh9pQf3JZ0E6emZBzNBlQZOPZEE0X2pB+jBqQXPOaEE0MmhBuiJoQfTQZ0ERDWdBsNJlQRzfZUHH3GVBwoFkQaN/Y0FySWJBmXdgQSoSX0Hcyl1BFXRcQYtdW0HKtFpBdR9ZQd62WEF6ClhB+UpXQUpWVkEerlZBLvxVQRb5VUHl4FVBqjRVQQHFWEGU91hBsvFYQV2WWEGP01hBhd5YQa8iVEEym1RB5C9VQcRAVUFnA1ZBlPlWQZlhWEE6pFhBaDRaQb2vWkHx91pBXaBbQS2LW0HdoFtBIitbQaQ0VkEzSU9B31ZRQdIqUUELoVJBx45TQc28U0HPplRBzmZVQRdQVkHHiFVBGkdVQY/iTEFkaU5BIPdNQSKKTkGZJ05BCmNOQd25TkFaGE9ByC9IQencSEH1wEdBboRHQTRVR0ESDUdB52lGQZ8MRkHO1EVB5rlDQRkrQ0FkNUJBiA9BQTcxQEEV+T9B8jk/QchzPkGPkD1BbnI9QTL1PEEloDxBJsw7QchUO0Gm6TpBE3A6QXNDOkGJyjpBbYA6QaCBOkEq7zpBlqk8QUmMPEHtkjNBhv8zQTWuNEFGVzNBdIAzQed3MkEREDJBAvMxQaMmMUGxGDFBEk0wQbr4L0GdGzBBGpgvQdiAL0EdLi9BZhUvQVt3MkFZPzJB3LYbQJ7lF0BQ3xZAIGAXQJ/1GEDUUhxAfNAZQIlyH0C62B1A5yUcQBc9HUATKYs/ImOKP40hiD/Vmok/ouiMP+trlD96SZY/AkehP/MLpT8eoa0/v1q3P+Ufwj82lcI/3wDLPxL52j8gxOo/WFr+P2LaBUBGnA1Aep0SQOWvF0AFmxlAhjIdQHb/HEA+wR5AQU8fQBVJI0Dieh9ATGQgQN78LkDPVS1A3WYqQNkEcEAKg25A0ItwQMxmfEA003xACtx4QFLyd0BBVYRA4rqDQPPcg0AFNIJAMhCAQESMj0AMKJFAegeTQA4smED3O5tA+lGbQHennUAxwJ1AzjieQK8NnUBjxZ5AEAigQE4Dn0DnLKBA3J6mQJfWpUDzwqdA81WmQDdnp0BEsq9ANCewQBEvsEDfha9AGS23QIdAtkBWwLhAqSO7QDiYvEBi1r1AwBjAQB4BwUDbZMJAO1jDQMB1xEC/PsdA0srJQE95zECFT9BACT7TQAND1UA/idZASRPZQGyq2kBxUNxAR+3dQCCn4EDjgeFA0KzjQOwG5UBpMuZAn4vnQMJN6UCKgOpA7NnqQP+K60ACD+xA5NrsQJ8s7UBL6u1Aq4LtQESu7UB+qO1AU2/tQBsy7UCxr+xAzTrsQMO260A8+epAPl7qQKn76UClyuhARIzoQEBI50ASY+dASLflQPSR40AKYeVAhVLlQHEj5UC35uJAEHjhQE1Y4EC+1+JA13DhQPG830AdQN9AH1/dQI1G3EAFNtdAiv/TQHL8z0ClMcxAOGLKQF6HyEDTKsdAagrFQDE1w0CkwMBAPIi+QPBRvEBQa7tAAvu4QFxXt0Dl6rRAWD6yQLWor0DPxKxA3cOpQOHYp0Apc6VA9dqkQCzMokAg3KFABfWfQJ+XnkA+aJ1ATVWcQDqEm0BQrJpAz7qZQG41mUBuhZhAIyiYQKXpl0B5r5dAvheXQOa/lkCfppZAS36WQHV0lkBSWpZABXmWQGZplkB+XZZARRGXQBqjl0D5RZhAV1uYQASZmUDiC5pA17CaQIDKm0AmvpxA24+eQPzqn0A08qBAYZyiQC/Zo0BY3KNAn5+mQLqOp0BwBalAe1qrQJKMrEDMD69ASRSwQH/XsUDGXrNA/lCzQGYZtkAGxbZAdOC3QGGvuEBn87pAN468QAQ3vkDpOL9ACLK/QC2fwEDrfcFA+DTCQFq0wkDe1MJAIyHDQKc3w0CXjsNAD67DQL6mw0DQocNAxmzDQN44w0ARJMNA3anCQDTAwUBAAMJA2H3AQC6rv0Bm175Aewy/QALFvkAJer5AFhW+QCyovUBmir1ATqa8QDv9u0ChCLtAxIu6QJTBuUArsrhAAaa4QOg/t0At3rZAyWu1QPhzs0ClfLJA7XWxQFDTsEDL/K9AIy+vQEjIrUCR8axAAZKsQDNDq0BgDqpAICCpQJ61p0D876VA6fWlQFJ2pEC4w6NA1i+iQOJyokBTpaBARrWeQESznUAXNppAe5SYQGVxl0BPlZVAZkuUQNagkkDur5BAclKQQKsIkEDhfI1AdGKMQCqrikATV4dAV7+GQG4rhUAj0IJAOkyBQATVfkDUi3lAKOp2QGTXckA/inJAnvNtQELQbEBb2mhAPS1nQAqTZkBxE2NA+vNgQADSX0CqHl5AmSZbQDTwW0AB9VtA4hhbQM8OW0APNVtAAmRbQDbuW0BdvlxANqldQO9WX0Dws2BAVj5jQKyhZEDx6GdARmxrQMBEbkB1cG5AkcVzQDn8eEDDlXtAIZCAQA8TgkBdVoVAgTOFQMMAiUAp+IpAbFSNQOkgjkBTspBAuy+TQK2ilEDCmZhAdTWbQEAjnUAfI6FAWaGiQGsBpkChBqVA8hCoQMUkrECHLK5Aec6wQBW9sEC2rLNA5Ia1QMWMuEAJkbpAy6u9QM9FwEAF3cJAKmfFQPufxkDyw8hArzHMQGSjzUDhVdBAFD3SQK2B1ECdCNZAVyDYQFxg20ChpdxA017eQH/s3kDhWeFAgMfjQIkB5UCRz+ZAXtTnQISu6EC95OlANXTqQOCp60DZL+xAC7zsQFkN7UATmO1A0fPtQDNB7kDUjO5Ar5DuQJyU7kByne5A3qvuQAyN7kCUtO5A90zuQLrh7UBBBu1AAdXsQNgr60DJqepA677oQHqI50AON+ZAHtDlQBBZ40DWwOJA9sLgQFTi30AWUd5A1/LcQBfo20AAOdpAdtjYQBfB10CDjtZAJ+LUQE6J00B8LtFA3/jOQLyEzkC7pcxART/LQJ3qyEAhrshARIDGQKblxUCejsRAS2LDQFnVwUAEZsFAey/AQD4VwEAsq75AbOK9QBgTvUDza7xAht+7QONiu0ClxrpAIyS6QHEHukBnFbpALC66QCgyukD1VbpAVI+6QNmnukDW8rpATTO7QK9xu0Bp57tAFMe7QL5RvECxs7xAEIS8QHbRvEBcGL1AAyq9QBtMvUDsWb1ARE+9QMJLvUAML71A6Pm8QNfIvEBGfrxAShu8QIW+u0BJELtA1CS7QGo1ukB/fLlAX964QDgPuEC1P7dAOrG1QICBtUDYPbZAN2e0QOZDs0AsVLJA93ixQJcIsUCxRLBAxGWvQD+RrkBn361AyhitQGGarEC2jqtA+cKrQKhlqkCZEapAg+qpQPlyqUDO+ahAMa+oQNgOqECCIKhAoOSnQKhCp0AijKZAolCmQGajpUDdK6VAKaikQCDDo0CZtqNAzUWjQPYHo0BDbqJAQRqjQFUbokAH5aJAQdmhQJXGoUCIbqFARGOgQFt+oEBPF6BAmB2fQIYbnkCC0pxAULqcQJL+nEDl+5pAKQyZQGMul0Cz05VAKJuUQFr2kkDQyZFAmBiRQHwZj0CxbY1AJ6+LQOHyiEBNloVALpeBQGgWfEB5zndA6K50QGYvckAWLmxAFhNlQIlUYUDAqF9AKZhYQPsaUUDsmEtAArlGQKPOQkB3CEBA+v87QAxpOUDUUzdABPAzQPRcMUDWLyxAwQEmQAX0GkDO7BNAmfkJQFfPC0CKzwVAAR0EQFPf+T/tvfU/dZ7qP+574j9xNOE/noXLP75axj+9XcA/9Xa7P2ATtz8KOKo/YV+lP/wBlz/AKIw/NlmBP7Q5az9oZGk/KYhiP8mgTj/LFzc/NZsxP0pwJz/CaRc/ZmYaP4+kBz8LLgA/qxe+Pqyhoj5oKmY+bTsaPpfN+z04Cr49BGEYvb7pMLwW9K+8GV5BvTgjer0Ae6W8",
          "dtype": "f4"
         }
        },
        {
         "line": {
          "color": "rgb(255, 127, 14)"
         },
         "mode": "lines",
         "name": "homing R",
         "type": "scatter3d",
         "x": {
          "bdata": "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",
          "dtype": "f4"
         },
         "y": {
          "bdata": "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",
          "dtype": "f4"
         },
         "z": {
          "bdata": "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",
          "dtype": "f4"
         }
        },
        {
         "line": {
          "color": "rgb(44, 160, 44)"
         },
         "mode": "lines",
         "name": "precue L",
         "type": "scatter3d",
         "x": {
          "bdata": "UvqJQE2liUCkCYdAXKaLQAh5kkBMz5RAmgSXQIF4m0CT45tAen6ZQDwjlkB/rp1AVaqlQL7AoUDnHqhAkyqpQB6fqUC76a9ALQC9QNmRv0CtrcVAeJPJQNYU0UBvYNhA66nbQFzL4kDOEulA583tQJ0j9UAW7P1AiQICQUQCBEERjwVB8MMHQa4iCkEsGQxB6PgOQW4NEkElUxNBnUwVQTvmFkH28xdBvaMZQUuVGkFIHxpBOTEcQUZEHUF+Ex5BJ1EfQYFmH0HU4R9B8MQfQSn/H0GL1h9BjuYfQZakH0G0WB9BKhQfQSrFHkEoax5BsCoeQejWHUFnWR1B6OUcQa+dHEGwRBxBdukbQWmlG0EVgBtBPUAbQfJSG0HvMxtBtvYaQQDJGkFAXBpBj5MaQdXfGUHOjhlB7zYZQbS4GEFZhxhB7vQXQdqxF0HIyRdB4QUXQdVoFkFcqBVBg18UQX+cEkGF0BBBATgQQQHMDkGZ0A1BX94MQYunC0H1ggtBf60JQSdVCEFgbwdBx6kFQfmnBEHFwANBghsCQZK3AEHam/tAZv74QD6e90A/p/VAJiryQDHk70ByFfBAHpjpQJoh5kBH4+NAwdndQFdH2UDRJtNARlDPQHePxUAyh8FA1wK9QBVptUAT9q5AReSnQP/PnkAY4JhAWCOOQJqnhUB8ZHxAwZ1vQEVqZkAEa1ZA7oVPQPvqRUA6IzpAXgg2QH+qKkAxUBZAwLkCQGnz3z+nBLs/p9OqP8zflD87GGM/PhktP3+2Bz/dsIY+15uBPuvBSjqXXAi+z1OYvp8f6r6jmxG/Ai0+v/nsb7+P1o2/5OmivxZcrL8Ld7q/FQfOv8wU4b/HL/G/zGz5v6tvB8BwWAvAcF4LwJCEFcDV/R/AY0EowPR9LMAkxDHAs9U4wJmMOcBiG0PAB1ZEwK+9TMDHIlXAQnVXwIAuXsDGBWPA4eJnwO2Ea8Du2XLAuBR1wN2+dsBgAnjAKWZ8wBN1gMBM737A",
          "dtype": "f4"
         },
         "y": {
          "bdata": "7qXrQCTc7kBkcOpA1VzrQLDi6kAesOdAy4joQFD340AvEeFA6RriQCW05UC8Dd9AR0TgQMGb30CAsuJAKsHhQBYL3EDChNhARkHTQFSS0UCT481AiiDLQNOmxkCiisFAGX6/QCC/uUCZl7RAibuwQKhqqkBkI6JAIL+bQCFwl0D2q5NA+o2OQFLeh0CwhIJAp8x0QFX3YUAqU1lAyf1LQGvIPkCyzjVA6R4oQP1oHkAzBRxAKacLQByU/z/4AO4/IUrMPyd2vj/7G6c/HH6QP2Nofj/6QFg/rC5OP0euGz+XTdg+ZnyHPpfGAz6ltey8hWkGvvJMi76+Zve+i10uv0IZT79LMXG/nS2Jv2Oqlr/LOKG/IwWuv2Z4r7+9Db2/hO3Fv/GRy797DNW/uGzPvyXy3b/PGuO/m4zov6s477+pW/G/9ez3vw2Z+r+19/m/kgYAwKQNAsDKSgTASswHwDvGC8A9OQ/AJhcQwAj2EcAwpRLAOQQTwIoHE8CLThPAYrESwMiAEMAIehLABxkPwDSgD8DY8A3AHJwLwGrwCcC93QLAtDsCwGT3AMDcYv2//kL4v4Sm9r9WR/u/7uX0vxGQ8b9ere+/vwfhv/hU479Gftq/FsDXv0VNz7+sgMq/eiLFv+1wv7+Lfrm/ffCyv9vYqr8QtaW/wkacv29GlL+2146/x1OMv8bmir+OZ4q/Ob2Fv85YhL/nRoC/d3uDvwUHhr8zY4q/rayPv4uolb+xp5y/bIufv6GXpb9V36+/2/25v+9ewr8qVtC/zg7QvxFf4L/D4+m/Kxf5v/7W9r9RxAPADcQKwDL0EcAhoBnA2akgwH+NIsBKgCbAGKcrwN5TMsCfgzfAVu86wDakRMBwQ0jASkZIwFjjUsAVhF7AwvhnwMrsbMBaiHPANC98wP4LfcBVB4XAS+uGwMDbjMDgl5HAiv2SwMXslsCSkJnA/AacwPrMnMA5X5/AcsmfwGANnsCYKqHA4BmjwOLopMADRKTA",
          "dtype": "f4"
         },
         "z": {
          "bdata": "wEL3QPgh80CFM/ZA9O72QFjg90Bc5vpAggH6QN4Y+UBBCvpAZKX/QIxD/kDBOP1A9hX7QPNyAEHGPv9AU1b+QHh5+0CtTvlAnlv6QCKn+UABbPhAJE/2QJmx9kCQJvRAry70QGI78UB6Qu9AlZ/tQFUt60Cy+OdA6kXkQLXU40ADzOJAITngQLdo3kD5M9xAF9XYQKB51EBK+NFA3Q7PQAzcy0BzbclAFIfFQMoEwkDv2sFAwCq8QGCSuEDhebVAyyCvQCEGrUBSe6hACsejQCH1n0CjS5tA+PaZQFlqk0Am24xADPWGQIeOgUBh0HVAbvVrQE36XUD9iklAI740QMc1JEB/3hZAdpoHQBy48z9NWtc/qEO3P9J1pj8zAok/mv1FPzUpHD9zvaM+rXNTPrA2GrxwN0y+pRX2vkx9Ib9URlu/dHWQv2j1rb+2kry/0SvWvwll9L/7NAvA3rYcwCjfNcCt/03AeddWwMp/Z8DihXXAef+AwJSQicBlcY3AUvCUwH/7msDL/qDARUKpwL+ersANVLPAyEu5wNUOwsDISszANY3SwK4M1sAUxNjArkXewIms4cDmWeTAsFfqwM0R7sCzafDALen1wCDm+cBm/v7AQbQAwWp9A8G/1QTB8AUGwRepB8FI8AjBcxIKwds4C8FQ1QvBTswMwQYBDcHuwgzBWBkNwXTaDMGl3wzBngAMwSj6CsHtXArB0UcKwaQvCcG+dgfBHr8FwdHzA8FLMALBP34BwcA0AMHlMfzAmdP4wEzj9cBLGfHAlTDxwDY+7MApZOnAW0XlwHHQ5cAkFt/Ag6nawJDT1cDy4tDAaT3MwJtZysBZRcfAauLCwGhmvsBtmbrAgZy4wMJVs8D3YLHASFaxwJsMrMC6eqbA0ASiwLu4n8CIuJzAB8WYwJBlmMDQH5PAjleSwCgfjsDcsYnAhImIwJIShcClqYLA1j2AwPM3fcDgQHbAjN50wDuSc8C0x3HAkI1uwHzraMAru2rA",
          "dtype": "f4"
         }
        },
        {
         "line": {
          "color": "rgb(214, 39, 40)"
         },
         "mode": "lines",
         "name": "precue R",
         "type": "scatter3d",
         "x": {
          "bdata": "oEACQFnPBkBWuwNA/+v8P2W0BEDZhAJAUBQOQNwVEkA/AB1AklUnQDiTKUCcui9Arco1QNjVN0AS/ENAYcVBQK99QkBwIklAslhmQF2RcUAVzYBA+6F7QLBFgUDJXoVAIRqGQLG7jECxJZJAs0uUQGNolkDOIplAyymbQP8mnkDXMKVAfOqmQEibq0CMX65ARO+wQOFhs0Bkk7hA3KK5QKFgvUCr2cBA7lvDQKcYyED8k8pAH2/QQHm+00AWdtZAT1jaQJ7x20CAWN9ACOXgQEly5EByledAmpnqQKx97ECpu+5AvV/uQC0q8kDLrfNApxL3QOAL+EDCrflAfA77QGBF/UBioP9AnL8AQTESAkGHDwNBu4gDQeUOBUHENQZBBMgGQZOBCEFQrglBOwkKQddAC0HqBAxB3akMQcqTDEEhbA1BPwYOQaF1DkEM2Q5BjWQPQeX8D0EeIBBBPMUQQXHtD0ErwxBBsRwRQT2PEUFhAxJB0k8SQZ2kEkH+IxNBG4YTQbHLE0FxehNBTCYUQbMxFEEOTRRBlkIUQZYwFEGRIRRBnisUQWwgFEHKKhRBIksUQfF9FEF2mxRBeNAUQQD8FEEZPhVBsLcVQXrMFUESfhZB6pEWQcZLGEElLxlB10IaQTRtGkG/mxtBCv0bQcAeHUHnEh5BS78eQbKZH0EYUSBBP3YhQbbJIkG6OSNB06ckQbcUJkGBtSZBSQopQW71KUFLBitBQ7IsQSzeLEF1+C1BYp0uQUPwL0GoXDBBpVcxQcrpMUGHJDNB61w0QRylNUH5nzZB+683QchHOUENdDtBfKc8QRJVPkGiKEBBUJRBQSAPQkGXBENBG+5DQc6kRUGdUkZBrGxIQT/SSEHHFEpBzdZKQUkKTEFFs0xBjc5NQThDTkHpHU9BwKtPQS61UEFf41BBOQlSQbUZUUHqqFJBbm9SQaGGUkFVy1FByUFSQWZAUkEymVJBBZ9SQXHaUkFnCFNBeS1TQXhtU0HWc1NB+41TQXwnU0Ghk1RBqERVQZabVkFYtlZBuWFXQccsV0G3qlhB2mxYQbZ9WkFyM1xBNb1dQU3HX0G0B2FBS39fQSqMYUFdtmFB5E5jQVT3Y0GqlWRBeAllQXlOZUHNUGZBgUNmQfsXaEE=",
          "dtype": "f4"
         },
         "y": {
          "bdata": "UlvWv/YY3L/rrNK/YUDHv2V50r8i2Mi/4hbBv6C0ur/U16y/xn2bv/vUnL9jL4+/PCmIv7augb8oHWe/Gl10vzJVdL/mR2i/ZMk5vygAJ79JtAG/bLAYv60CAL/BFtK+X27HvlUeZb6t8p+9TPQavKvJeT3sdh0+oaJsPr84sz6g8CI/lh43P0oFbD+7joQ/am2SP++aoz/O1Mc/4JLPP9m96z8FuwBA5WoKQFMuG0DltCRAxFg6QPq2RUCSHlBAbr1hQMKqZ0DNnHNAPBN8QGx/hUANjY1AZZiWQNFvm0Aa96BAjOilQJ0XrkDQULJAb4y7QEsxv0ATx8NABP7JQJswzkCYkNNAMgvZQC163UBZpeNAncXmQJPi70AK6/VArP34QNLnAEFk0QNBjEAFQbrfB0FfagpBa/oLQV6EDEFZQA9Bh1oSQWuZE0G/HBZBhcIYQZTCGkF7HR1Bt9weQT8IH0F/lCBBtuEhQfajI0HkXyVBiKAmQexkKEH8OCtBbFAtQcRtLkHmBTBBucUxQUZcMkF7QDNB6QA0QWMnNUGyHDZBbWA2QQH4NkHfFjhBLuc4QUG5OUG+LzpB1P06QUS7O0HqPjxBOD89QQHXPUE2PT9Bc1xBQawlQUHtn0NBxTREQffTRUEhQkdBplNIQao8SkEEiktB+fhMQRprTkGwkE9BzWBRQZhCU0HQ8VNBHQBWQZcFWEHR8lhBmQlcQQVlXUHFGl9BQD1hQU1pYkEbvWRB+CBmQVnqaEF97mlBww9sQfRRbUG5gm9B7WdyQbwFdUEX2HZBpzV5QZaHe0HJp39B8taAQWQRgkEG44NBU/mEQZtkhUFCuIZBk+uHQRjziUGgCItBucGMQfEXjkH41Y9BxWKRQalKk0F63pRBZHmXQXcHmUFAfptBQT6dQe7tnkHuwKBBOMChQeXnoUE7xaNBRHmkQaFlpkHIW6hBX5+pQStrqkHbaKxBrEqtQdRIr0H1l7BB87axQWgas0F56bNBgF20QXvWtEEyCbZBfQq4QeA6uUFTfLpBnLa7QSH6u0Fni71BiVG9QbB9vkGRIb9BA+e/QfKawEEC+sFBD2jBQSVewkF+0MJBis3DQZf4xEG+hcVBf0/GQatzxkHeFcdBCrXHQVPYx0E=",
          "dtype": "f4"
         },
         "z": {
          "bdata": "9xCTQOtzlEDgA5RAKKiRQFyclECEMZRA7FWbQGhLnkCYPqVAlI6sQPMxrkBUE7FAhnG1QEzAtkBtr71AmXW8QMC9vEDlvr9A71LKQIsvzkCpStRAAFTRQMFJ1ECc6tZAr4rXQOTu20CZV99AT9LfQKwH4UB/PeNA3GjjQHkA5UCfCehAOJLoQGsG60C7n+tAU1DsQIyv7EARTe1Ah2btQDGU7UDWWe5Aip7uQHot70CBeu9ALCnwQCmd8EDDgfFANHDyQBjb8kB/svNAifDzQPqT9EDeAfVANUL1QBZY9UD3t/VAJmv0QB7F9EDLvfRA6MTzQNav8kA40vFAaJvvQJu87UA/E+tA3XToQJSC5UCvVeJAQKngQE0420ButNZAunTUQB8lzUDsycdAzDHFQDjrv0CUVrpAJ8i2QBlztUAM065A+NGmQA5Fo0CPyZtAQLiTQGZnjUANr4VANOB+QOUHd0Dc3W9AothmQAd2WUAKvExA4fNBQD4iM0BVxhpAIPUIQICu+j8+IOE//J+7P3phrD/e95k/Zg6FPxQBPD+TcQQ/i2KvPpO9Aj4ZJgC+tn2+vinNE7//XkS/KwR6vz4vk7+jTqq/yH66v7Lty7/IUee/zM0BwAENDcALBx7AImImwL/nMMCcgjzAFotFwDtGVMD4ulzAnB1owJ1/dMBKYH7AVO+FwHzYjMCAno/AFCaXwAuwnsAtk6HAiGiqwBx1rsBjWLPAtnO4wA5DvMA3+8HAGEXFwEp3y8CTr83AcsPRwLsW1MCmCNjA9NLcwMPZ4MD1fOPATIHmwBQO6sAN7u7A14bxwJP69MBiw/jAHJv7wBuE/MDahv7ALzEAwfrqAcEHnQLBir4EwZcrBcHxgAbBrlEHwTGhCMGJYAnB8qcKwYQvC8EfJQzBTssMwdHkDcHOBg7BQycPwR5KDsFdoA/BFEQPwUOwDsGOlQzBL64MwS1yDMEsHgvBEAILwZNQCsHLZwnByP8IwQtsCMHW7AfBxa4HwSLYB8EOeQbBaMoFwbJ1BMFOagTBlwcEwTgsBMFdAgLBlrQDwWvZAsE6BAPBl40DwReMBME91gLBnrIAwbdEA8GDIQLBybQBwVzMAcFAhQLBwm0Dwb6lAsE7XAPBxsUEwROcAcE=",
          "dtype": "f4"
         }
        }
       ],
       "layout": {
        "legend": {
         "itemsizing": "constant"
        },
        "margin": {
         "b": 10,
         "l": 10,
         "r": 10,
         "t": 40
        },
        "scene": {
         "aspectmode": "data",
         "bgcolor": "rgba(0,0,0,0)",
         "camera": {
          "eye": {
           "x": 1.5,
           "y": 1.5,
           "z": 1.5
          }
         },
         "xaxis": {
          "showbackground": false,
          "title": {
           "text": "UMAP1"
          }
         },
         "yaxis": {
          "showbackground": false,
          "title": {
           "text": "UMAP2"
          }
         },
         "zaxis": {
          "showbackground": false,
          "title": {
           "text": "UMAP3"
          }
         }
        },
        "template": {
         "data": {
          "bar": [
           {
            "error_x": {
             "color": "#2a3f5f"
            },
            "error_y": {
             "color": "#2a3f5f"
            },
            "marker": {
             "line": {
              "color": "#E5ECF6",
              "width": 0.5
             },
             "pattern": {
              "fillmode": "overlay",
              "size": 10,
              "solidity": 0.2
             }
            },
            "type": "bar"
           }
          ],
          "barpolar": [
           {
            "marker": {
             "line": {
              "color": "#E5ECF6",
              "width": 0.5
             },
             "pattern": {
              "fillmode": "overlay",
              "size": 10,
              "solidity": 0.2
             }
            },
            "type": "barpolar"
           }
          ],
          "carpet": [
           {
            "aaxis": {
             "endlinecolor": "#2a3f5f",
             "gridcolor": "white",
             "linecolor": "white",
             "minorgridcolor": "white",
             "startlinecolor": "#2a3f5f"
            },
            "baxis": {
             "endlinecolor": "#2a3f5f",
             "gridcolor": "white",
             "linecolor": "white",
             "minorgridcolor": "white",
             "startlinecolor": "#2a3f5f"
            },
            "type": "carpet"
           }
          ],
          "choropleth": [
           {
            "colorbar": {
             "outlinewidth": 0,
             "ticks": ""
            },
            "type": "choropleth"
           }
          ],
          "contour": [
           {
            "colorbar": {
             "outlinewidth": 0,
             "ticks": ""
            },
            "colorscale": [
             [
              0,
              "#0d0887"
             ],
             [
              0.1111111111111111,
              "#46039f"
             ],
             [
              0.2222222222222222,
              "#7201a8"
             ],
             [
              0.3333333333333333,
              "#9c179e"
             ],
             [
              0.4444444444444444,
              "#bd3786"
             ],
             [
              0.5555555555555556,
              "#d8576b"
             ],
             [
              0.6666666666666666,
              "#ed7953"
             ],
             [
              0.7777777777777778,
              "#fb9f3a"
             ],
             [
              0.8888888888888888,
              "#fdca26"
             ],
             [
              1,
              "#f0f921"
             ]
            ],
            "type": "contour"
           }
          ],
          "contourcarpet": [
           {
            "colorbar": {
             "outlinewidth": 0,
             "ticks": ""
            },
            "type": "contourcarpet"
           }
          ],
          "heatmap": [
           {
            "colorbar": {
             "outlinewidth": 0,
             "ticks": ""
            },
            "colorscale": [
             [
              0,
              "#0d0887"
             ],
             [
              0.1111111111111111,
              "#46039f"
             ],
             [
              0.2222222222222222,
              "#7201a8"
             ],
             [
              0.3333333333333333,
              "#9c179e"
             ],
             [
              0.4444444444444444,
              "#bd3786"
             ],
             [
              0.5555555555555556,
              "#d8576b"
             ],
             [
              0.6666666666666666,
              "#ed7953"
             ],
             [
              0.7777777777777778,
              "#fb9f3a"
             ],
             [
              0.8888888888888888,
              "#fdca26"
             ],
             [
              1,
              "#f0f921"
             ]
            ],
            "type": "heatmap"
           }
          ],
          "histogram": [
           {
            "marker": {
             "pattern": {
              "fillmode": "overlay",
              "size": 10,
              "solidity": 0.2
             }
            },
            "type": "histogram"
           }
          ],
          "histogram2d": [
           {
            "colorbar": {
             "outlinewidth": 0,
             "ticks": ""
            },
            "colorscale": [
             [
              0,
              "#0d0887"
             ],
             [
              0.1111111111111111,
              "#46039f"
             ],
             [
              0.2222222222222222,
              "#7201a8"
             ],
             [
              0.3333333333333333,
              "#9c179e"
             ],
             [
              0.4444444444444444,
              "#bd3786"
             ],
             [
              0.5555555555555556,
              "#d8576b"
             ],
             [
              0.6666666666666666,
              "#ed7953"
             ],
             [
              0.7777777777777778,
              "#fb9f3a"
             ],
             [
              0.8888888888888888,
              "#fdca26"
             ],
             [
              1,
              "#f0f921"
             ]
            ],
            "type": "histogram2d"
           }
          ],
          "histogram2dcontour": [
           {
            "colorbar": {
             "outlinewidth": 0,
             "ticks": ""
            },
            "colorscale": [
             [
              0,
              "#0d0887"
             ],
             [
              0.1111111111111111,
              "#46039f"
             ],
             [
              0.2222222222222222,
              "#7201a8"
             ],
             [
              0.3333333333333333,
              "#9c179e"
             ],
             [
              0.4444444444444444,
              "#bd3786"
             ],
             [
              0.5555555555555556,
              "#d8576b"
             ],
             [
              0.6666666666666666,
              "#ed7953"
             ],
             [
              0.7777777777777778,
              "#fb9f3a"
             ],
             [
              0.8888888888888888,
              "#fdca26"
             ],
             [
              1,
              "#f0f921"
             ]
            ],
            "type": "histogram2dcontour"
           }
          ],
          "mesh3d": [
           {
            "colorbar": {
             "outlinewidth": 0,
             "ticks": ""
            },
            "type": "mesh3d"
           }
          ],
          "parcoords": [
           {
            "line": {
             "colorbar": {
              "outlinewidth": 0,
              "ticks": ""
             }
            },
            "type": "parcoords"
           }
          ],
          "pie": [
           {
            "automargin": true,
            "type": "pie"
           }
          ],
          "scatter": [
           {
            "fillpattern": {
             "fillmode": "overlay",
             "size": 10,
             "solidity": 0.2
            },
            "type": "scatter"
           }
          ],
          "scatter3d": [
           {
            "line": {
             "colorbar": {
              "outlinewidth": 0,
              "ticks": ""
             }
            },
            "marker": {
             "colorbar": {
              "outlinewidth": 0,
              "ticks": ""
             }
            },
            "type": "scatter3d"
           }
          ],
          "scattercarpet": [
           {
            "marker": {
             "colorbar": {
              "outlinewidth": 0,
              "ticks": ""
             }
            },
            "type": "scattercarpet"
           }
          ],
          "scattergeo": [
           {
            "marker": {
             "colorbar": {
              "outlinewidth": 0,
              "ticks": ""
             }
            },
            "type": "scattergeo"
           }
          ],
          "scattergl": [
           {
            "marker": {
             "colorbar": {
              "outlinewidth": 0,
              "ticks": ""
             }
            },
            "type": "scattergl"
           }
          ],
          "scattermap": [
           {
            "marker": {
             "colorbar": {
              "outlinewidth": 0,
              "ticks": ""
             }
            },
            "type": "scattermap"
           }
          ],
          "scattermapbox": [
           {
            "marker": {
             "colorbar": {
              "outlinewidth": 0,
              "ticks": ""
             }
            },
            "type": "scattermapbox"
           }
          ],
          "scatterpolar": [
           {
            "marker": {
             "colorbar": {
              "outlinewidth": 0,
              "ticks": ""
             }
            },
            "type": "scatterpolar"
           }
          ],
          "scatterpolargl": [
           {
            "marker": {
             "colorbar": {
              "outlinewidth": 0,
              "ticks": ""
             }
            },
            "type": "scatterpolargl"
           }
          ],
          "scatterternary": [
           {
            "marker": {
             "colorbar": {
              "outlinewidth": 0,
              "ticks": ""
             }
            },
            "type": "scatterternary"
           }
          ],
          "surface": [
           {
            "colorbar": {
             "outlinewidth": 0,
             "ticks": ""
            },
            "colorscale": [
             [
              0,
              "#0d0887"
             ],
             [
              0.1111111111111111,
              "#46039f"
             ],
             [
              0.2222222222222222,
              "#7201a8"
             ],
             [
              0.3333333333333333,
              "#9c179e"
             ],
             [
              0.4444444444444444,
              "#bd3786"
             ],
             [
              0.5555555555555556,
              "#d8576b"
             ],
             [
              0.6666666666666666,
              "#ed7953"
             ],
             [
              0.7777777777777778,
              "#fb9f3a"
             ],
             [
              0.8888888888888888,
              "#fdca26"
             ],
             [
              1,
              "#f0f921"
             ]
            ],
            "type": "surface"
           }
          ],
          "table": [
           {
            "cells": {
             "fill": {
              "color": "#EBF0F8"
             },
             "line": {
              "color": "white"
             }
            },
            "header": {
             "fill": {
              "color": "#C8D4E3"
             },
             "line": {
              "color": "white"
             }
            },
            "type": "table"
           }
          ]
         },
         "layout": {
          "annotationdefaults": {
           "arrowcolor": "#2a3f5f",
           "arrowhead": 0,
           "arrowwidth": 1
          },
          "autotypenumbers": "strict",
          "coloraxis": {
           "colorbar": {
            "outlinewidth": 0,
            "ticks": ""
           }
          },
          "colorscale": {
           "diverging": [
            [
             0,
             "#8e0152"
            ],
            [
             0.1,
             "#c51b7d"
            ],
            [
             0.2,
             "#de77ae"
            ],
            [
             0.3,
             "#f1b6da"
            ],
            [
             0.4,
             "#fde0ef"
            ],
            [
             0.5,
             "#f7f7f7"
            ],
            [
             0.6,
             "#e6f5d0"
            ],
            [
             0.7,
             "#b8e186"
            ],
            [
             0.8,
             "#7fbc41"
            ],
            [
             0.9,
             "#4d9221"
            ],
            [
             1,
             "#276419"
            ]
           ],
           "sequential": [
            [
             0,
             "#0d0887"
            ],
            [
             0.1111111111111111,
             "#46039f"
            ],
            [
             0.2222222222222222,
             "#7201a8"
            ],
            [
             0.3333333333333333,
             "#9c179e"
            ],
            [
             0.4444444444444444,
             "#bd3786"
            ],
            [
             0.5555555555555556,
             "#d8576b"
            ],
            [
             0.6666666666666666,
             "#ed7953"
            ],
            [
             0.7777777777777778,
             "#fb9f3a"
            ],
            [
             0.8888888888888888,
             "#fdca26"
            ],
            [
             1,
             "#f0f921"
            ]
           ],
           "sequentialminus": [
            [
             0,
             "#0d0887"
            ],
            [
             0.1111111111111111,
             "#46039f"
            ],
            [
             0.2222222222222222,
             "#7201a8"
            ],
            [
             0.3333333333333333,
             "#9c179e"
            ],
            [
             0.4444444444444444,
             "#bd3786"
            ],
            [
             0.5555555555555556,
             "#d8576b"
            ],
            [
             0.6666666666666666,
             "#ed7953"
            ],
            [
             0.7777777777777778,
             "#fb9f3a"
            ],
            [
             0.8888888888888888,
             "#fdca26"
            ],
            [
             1,
             "#f0f921"
            ]
           ]
          },
          "colorway": [
           "#636efa",
           "#EF553B",
           "#00cc96",
           "#ab63fa",
           "#FFA15A",
           "#19d3f3",
           "#FF6692",
           "#B6E880",
           "#FF97FF",
           "#FECB52"
          ],
          "font": {
           "color": "#2a3f5f"
          },
          "geo": {
           "bgcolor": "white",
           "lakecolor": "white",
           "landcolor": "#E5ECF6",
           "showlakes": true,
           "showland": true,
           "subunitcolor": "white"
          },
          "hoverlabel": {
           "align": "left"
          },
          "hovermode": "closest",
          "mapbox": {
           "style": "light"
          },
          "paper_bgcolor": "white",
          "plot_bgcolor": "#E5ECF6",
          "polar": {
           "angularaxis": {
            "gridcolor": "white",
            "linecolor": "white",
            "ticks": ""
           },
           "bgcolor": "#E5ECF6",
           "radialaxis": {
            "gridcolor": "white",
            "linecolor": "white",
            "ticks": ""
           }
          },
          "scene": {
           "xaxis": {
            "backgroundcolor": "#E5ECF6",
            "gridcolor": "white",
            "gridwidth": 2,
            "linecolor": "white",
            "showbackground": true,
            "ticks": "",
            "zerolinecolor": "white"
           },
           "yaxis": {
            "backgroundcolor": "#E5ECF6",
            "gridcolor": "white",
            "gridwidth": 2,
            "linecolor": "white",
            "showbackground": true,
            "ticks": "",
            "zerolinecolor": "white"
           },
           "zaxis": {
            "backgroundcolor": "#E5ECF6",
            "gridcolor": "white",
            "gridwidth": 2,
            "linecolor": "white",
            "showbackground": true,
            "ticks": "",
            "zerolinecolor": "white"
           }
          },
          "shapedefaults": {
           "line": {
            "color": "#2a3f5f"
           }
          },
          "ternary": {
           "aaxis": {
            "gridcolor": "white",
            "linecolor": "white",
            "ticks": ""
           },
           "baxis": {
            "gridcolor": "white",
            "linecolor": "white",
            "ticks": ""
           },
           "bgcolor": "#E5ECF6",
           "caxis": {
            "gridcolor": "white",
            "linecolor": "white",
            "ticks": ""
           }
          },
          "title": {
           "x": 0.05
          },
          "xaxis": {
           "automargin": true,
           "gridcolor": "white",
           "linecolor": "white",
           "ticks": "",
           "title": {
            "standoff": 15
           },
           "zerolinecolor": "white",
           "zerolinewidth": 2
          },
          "yaxis": {
           "automargin": true,
           "gridcolor": "white",
           "linecolor": "white",
           "ticks": "",
           "title": {
            "standoff": 15
           },
           "zerolinecolor": "white",
           "zerolinewidth": 2
          }
         }
        },
        "title": {
         "text": "session: bex_20230621_spikes_sorted_SES<br>area: dlpfc"
        }
       }
      }
     },
     "metadata": {},
     "output_type": "display_data"
    },
    {
     "data": {
      "application/vnd.plotly.v1+json": {
       "config": {
        "plotlyServerURL": "https://plot.ly"
       },
       "data": [
        {
         "line": {
          "color": "rgb(31, 119, 180)"
         },
         "mode": "lines",
         "name": "homing L",
         "type": "scatter3d",
         "x": {
          "bdata": "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",
          "dtype": "f4"
         },
         "y": {
          "bdata": "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",
          "dtype": "f4"
         },
         "z": {
          "bdata": "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",
          "dtype": "f4"
         }
        },
        {
         "line": {
          "color": "rgb(255, 127, 14)"
         },
         "mode": "lines",
         "name": "homing R",
         "type": "scatter3d",
         "x": {
          "bdata": "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",
          "dtype": "f4"
         },
         "y": {
          "bdata": "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",
          "dtype": "f4"
         },
         "z": {
          "bdata": "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",
          "dtype": "f4"
         }
        },
        {
         "line": {
          "color": "rgb(44, 160, 44)"
         },
         "mode": "lines",
         "name": "precue L",
         "type": "scatter3d",
         "x": {
          "bdata": "y9p9QPJcekBnW4FAxzN3QK3aekC+MnFAX/JeQJUQWUBiQFRADYRLQEesVkDsY0ZAqF86QHpUNEBfMDRAVmwpQKfuH0Bz0RZAJAALQFUFDEBBYv8/f/7rP7oB2z/eeL4/rMirP+iLmz8FjYI/6spoP2PxTD/f6Ck/xh4CPzkXuj54wmI+x/ncPas14Dw0XKy9kF9wvhqIwL5NAAm/kzUZv0VkL7/ycUS/nRVov9iEf7+Ts4u/O+SMv9tXjb+tOJK/H3mSv+P3kr8c3pG/hQaQv89xj78Z642/9T+Jv3iyhb9XXoG/lb56vzB6dL9VZW6/oZltv8dpYb9jhFu/N5ZRv9ZtTr91xj2/5NA/v7HaQb9D90K/sBJBv5pCQr9PM0W/qklLv1EETr84d1K/flZUv2lGX786c2K/N2hpvyTxbb8IenS/hYOAv7mNbr/zL4G/wPKAv0PyhL+WyYi/4w+Lv8srjL99oI6/7y2RvzKGk7+BKpa/mQGZv+fwmr+aBZy/UEOev5QPm795e52/vv+Sv5BTn7+xTqO/vmOkv3AWqL9QP6u/fw2uv80ur7/QLK6/1wuwv9q+sL+uFLG/HUSvv63ArL/2b6y/4p6nvyXfpb+NmKK/Sguhv/svn79k9Z2/zgGdv4Kzm7+wZpq/wuaYv0oZnb+HuZq/rayZv2Qel79yIpO/g6mNv21zjL9eGoW/+NB/v/gDgL+8bma/CIpdvzSIZb/DhFi/QERJvxRAS78Zwyu/qi4bv/GrB7+P0Mi+sDOSvhpgPb6YwFG+l0bCvdtXwjyP49o9OGRXPs2IrD4zS+c+MFj6PvFBHD/kZDQ/VJc1P1poXD+Ic14/eJRpP8jFdz/beoI/Zm+JP6E8lj93qJk/OEufP+W3qD8HEq8/enymP+vSsj/p3rw/9DnDPzKOyj8j8Ng/kXTdPwEU8D9Jbes/9u/vP7nP+j8KEwBAVzoCQMlPBUAqxwRASo0HQHuCC0BYlglAQeMJQL3ACEAScANAE2AAQBhfBUA9cgBAxUP1P8MY/T/A4QJA",
          "dtype": "f4"
         },
         "y": {
          "bdata": "aKNVv9FzSb8cdmq/25E+v+0/T78q+ii/HYkbv1wcBL+lwve+jzTBvuhJ/L70pKu+yt2JvopDYL4GPFe+yoEOvv+Dab3S1Mo7IcG6PS5WqT3voSo+5YBePlcPmj51ptQ+j7cDP+IPEz+2zCg/52A5P0vaRD8RRFw/k6B0P/oliT/s3pU/ebGgP/Vmqj/HPrY/91vLPy/a5D8rsABAATsHQL97EECquRlA+LwrQPRDNUA+4UJAOcNLQKwgUEAAcGBAqvRmQI1pcUBLBIBAicuGQOKaikBjjY9AVzeYQOsmnECIVKJArO6mQBBgqkCv8a5A+/mxQE1Gt0DvjrtAQJfBQIZkxUBnnMpAH5TOQKtd0UDbAtdA7M3ZQFL43EDO7uJAmsvqQMw37UBcU/JAkAb2QEPO+0CZ4v5ADzECQafWA0GiiwZBLbMIQXX9CEEohgtBNJoMQf7XD0F/gBJBh88TQRmuFUGDfhdBRHAZQblFG0ElUh1BJrwfQdn8IEHo0CJBq/okQeH7JUHlYSdBSt0oQQkKK0HnAi5BMeouQSeNMUERFDVB9xA4QarcOkGtRjpB8gc9QQaLP0Fa1kJBrTJFQXMtSUGDqEpB7fxNQUZZUEEH4lNBLx1WQcM2WUHbtFtBCxNfQSwHY0E7G2dBXiRpQRP/a0GuUm5BhWJwQT7Jc0GYwHZBWk16QQpFfkFJ0YBBBuOCQYCJg0FHGIVB0d6FQf8Ih0G3C4hB1r6JQaqniUFt7ItB6jqNQW1ejkFJgJBBrhKSQXw8k0Hpi5NB/BeVQc6vlkF7ypdB0vuYQbqkmkGO+JtBkXScQb3SnUHpGJ9Bu3SfQSXjoEGJR6FBOLOhQUGto0ETOaRBwsOlQUtMpkFanKdBXe+oQQJAqkG05KpBLu6rQb5FrEFxuq1BkXetQZjurkFJaLBBRvCwQf59skHALLNBl9KzQaRttEFqCrZBy+i2Qe1xuEG/y7hB5oi5QQc3u0Elb7pBpF68QSaAvEFfZb1BtI2+QaROv0G9eb9BR76/QXQrwEEZAMBB",
          "dtype": "f4"
         },
         "z": {
          "bdata": "GZrwQAng7kARC/NAwE/tQJko70AXWupAJuLhQMb33kBRmtxAXUPYQNHM3UARt9VAQsXPQOLKzEBxt8xAJHDHQPbBwkDmP75A9F64QCzguEBVvrJA5fKtQG67qUDFvaJAwCmeQAVSmkDFe5RABi2RQPYLjkCCBIpAGqiFQMdkgUAEbntALd11QDxFckA0l21AkidlQOB6X0A3rFlA2jFcQGz/XUABRF9AeL1jQAj6Z0AuzGxAhPhuQIfGb0DU+HVAEYd3QNr7fEA0FYJAfBOGQLdUh0DgDIpAzBOPQDSykUD5l5VAKI2YQBX/mkBqdZ5A7m2gQG/cpEDrbahAfn6tQNDHsEAfTbVARem4QMFzu0Cys8BAvGfDQF6IxkAFn8xArcvUQB1i10CC3dxAjfzgQF2s50DRletA6rDyQD4890Bum/5AJoQCQag4A0G45wZBZuYIQY7IDUFEZBJBiacUQds/F0HqehpBX+AdQZYIIUFkUSRBKCcoQYzHKkEVyi1BeBoyQTrhM0GvpjZB0Ao5QXhbO0FBGj9B2T9AQT9aQ0GPw0dBgi1LQXhaTkHP001BjtFQQTKXU0EdD1dBoWVZQXVIXUESlV5B5p9hQTSHY0EOaWZB0chnQW76aUGddGtBL1xtQaQwb0GvAXFBrk9xQW18c0FIpHNBkxN0QQvjdEHVknVBxgd2QXTzdkH+8nZBPxZ3QZd9d0EsinZB4jx2QeDIdkGFEXZBCi11QVJSdUGvinNBXdFyQdPJcUE5CHBB/JhuQa/LbUEbZm1BpnxrQdBgaUGs8GdBCSBmQe7EY0GYtGFBFQNhQUPAXkFivFxBcy9cQRjFWUGGLVlBx4RYQRApVUGXPlRBe2pRQYqUUEHvIE5B8ZRLQR5ASUGONEhB9NtGQbL/RUFjp0NBU4REQUZOQkGwRUBBCrs/QT5uPUGqDT5BHqc9QRwZPEFZ2TpBItU5QSVZOEH7mjhBMwQ3QTf4NkHsozdBGWE2QaVaNkHHyjVBwok4Qe6PN0H9OzhB3nA6QQ49N0HmXjdB",
          "dtype": "f4"
         }
        },
        {
         "line": {
          "color": "rgb(214, 39, 40)"
         },
         "mode": "lines",
         "name": "precue R",
         "type": "scatter3d",
         "x": {
          "bdata": "l7fFQFbZxkAUx8RAxXTCQPc6wUCFSMJA70nCQPUEv0DNXLpAJXu8QAMltkBRALNA3q6pQB0CpEDkk59A3NCfQNaEnECZm5hA/6OTQKO/h0AcC4NAxLGCQM9Of0B9uHhAWp1zQAo0b0CtamJApbhZQGtVUkD2iUpAY8tFQNyZOUC0DDFA4C8tQIwoJEDIEiFAjdYeQMZ9FkDsiRBAfjMNQA5NA0Cp7fM/U9nmP1Dy1z/rPNA/dP3JP1oxvz/6jb4/LG+zP16AqD+LwqE/qiaRPy7ZiT95xYA/m2psP4kVYz+njUU/Bpo4PxN8Hz/sER0/mcsFP7Pr3z7moaQ+kLuMPoCCRD6OWFE9p8jWvJ2N0r3hzEm+pZ2NvjTTt75EcNC+9dHtvr+XGb+5gEC/myFNv/4gbL8Q6X+/oweLv1zAlL9etJe/dDOhvzbvqL+G36y/Qvawv3kTub/EVry/rx7Fv7Yux78eJMu/DLnLvx1c0L95q9O/FAnWvx0B2b/PBdu/d8/cv1Gf3b85It6/mcLdv1HL3L+Ik9y/PIDcvw3K27/Lttm/DvzXvxjZ0b8Wg8+/C17Kv3l5x79KqsK/G5e9v2n+tr9DvK+/0H6ov2pTob+iwJe/QlOPv3F7hr/0o3u/0pxgv/ddUr/lFTu/ZVsjvx9jDr9pbvu+fK/PvkK3pL58Iyu+nZqLvTX4q7y99c09rXxXPgk0vD4Bg+g+25URP0bSNz+ItVc/qfJ/P1f9mT8oaq0/asq+P0Bzzz/UxtU/+EnuP9PP/j+AVghABPcMQPIhGEBPAiBAHCsoQMpRL0DQ6zRAKNM+QN/FSkDPwFRAkplhQNNccUDF3nZALm6CQBUxiECukotA9JuSQORBlUBZm5tAItufQJ4Ip0D39apAIq6uQBGWtEApcLlAEqG8QPf7wkBl9MVAzzLMQORd0EDr89VA+TrYQEgQ30CuveFA8S/oQJHf60Atw/BAWY7yQJLx9kDnr/tArFr+QFQWAEHChAFBXw0CQYurA0F4/QRB0gIGQQ0gBkERUghBPB8JQcU5C0EdbgtBUq8LQVg5DEFSFg1B7rAOQdtzD0HrWRBBmvIRQSd4EkHltRNBAJQTQSzgFEEw2BVB9OYWQcmoF0GqmxdBnHsYQSoHGUEBxxpBRlIbQcX8G0ELih1B1qceQXzlHkE+gx9B63IfQZ6wIEGHBiBBicUhQTXeIkEc4iJB0JUjQQ==",
          "dtype": "f4"
         },
         "y": {
          "bdata": "LB9+Pep3ir3tEqQ8ABq8vGJl37y8u5W9h4lTvofEBTxqN269/TjEvd5jDrxGRzg9fngBPjbGPD6KLmk+F6haPlWpgj72/aQ+NVWhPkdz4j4yAfk+4iQJPyqRDT+LXCA/cE8lP+4GLz/luU0/FIpiP+gvfj8atIc/WkmQP8chpT9O77U/xCu9Pyg70j/EsNk/npHgP7eV+T8pYwVAX6sOQAWRG0BvxypABpQ5QANMSkBdQVNAy1pcQHIkZ0DpFm1AYCh7QMKqhEDwaIdA2oKRQAvslUCB9ZpAeMygQBAOo0BuQqpArzWtQE67tEDBqbVAP9W6QGk6wEBH6MdAqxTMQKzbz0AnjthA8YrdQOtW4UDyLudAzITrQBvI8EA4W/RAYzX3QPNi/kDOFwNB9FIEQShBB0FJOQlBslELQTNlDUGqIA5B3foPQayiEUFMPhJBuLMTQZ3TFUGrxRdBP8wYQUpNGkF7nBtBsUscQQfFHUGIIB9BexsgQV+CIUEtmCJBX94jQWupJEG6miVBkssmQZDHJ0GvySdBJUAoQRVbKEFmpihBfr0oQenOKEHT9yhBXTspQSSCKUH32ylB3UUqQbTTKkE6bCtBpwcsQUiiLEFhcS1B5SUuQQXjLkHqmi9BLLswQTZhMUFmRzJBIFgzQdUjNEHNyjRBWhg1QTFRNkHg3TdBpeM4QfhaOUELjDpB7Js7QXYgPUG4BT5Bm/o+QQF1QEHnekFB9BNDQULyREH+o0ZBf+9HQTRLSUFu2ElB3t1LQVgrTUGH3U5BQaRPQQucUUGvHFNBS4RUQebMVUEhxlZBuptYQXa9WkHLglxBpc5eQbeiYUGtiWJBujVlQWxBZ0Hki2hBHyhrQYITbEHnYW5BzuFvQaNsckFVw3NB//d0Qd4ld0HJNnlBEAt6QdVefEGian1B9MV/QXungEEIroFBxxmCQVxWg0H70INBKeqEQUOWhUEui4ZBDM6GQVqNh0GgbYhBQeiIQblBiUEKvolBgdWJQVyEikFO/IpB3VmLQVEwi0FprItBONiLQTFDjEEdZIxBGx+MQdVojEHtpYxBi7iMQT8ejUElMI1BVdGNQcgbjUGRqI1BkamNQRytjUGvY41B7Y2NQVrcjUGqvI1Bf1GNQXzkjEG8hY1Bq+yMQT74jEHRIYxB1saLQXJ0i0EBzYtB9yWMQcPpi0HlQItBkuOKQTtQikF0RYpBWOOJQQ==",
          "dtype": "f4"
         },
         "z": {
          "bdata": "LfsDQflxA0EzeQRBGKQFQac6BkFMuwVBj8AFQTNrB0Fe+AlBEfEIQWNuDEFlSg5BseYTQWMZF0FEjhlBa3YZQUw6G0FmQR1BQN4fQUThJUF7FihBsDYoQRGOKUES2SpBobcrQZlvLEH1Zi5BWSQwQYtRL0HnxzFB9FwyQb1jMkHmCzRBzYA0QcHqNEEv8TRBS0s1QSnFNUG0OzZB4502QdvTNUGnMjVBI8Q0QaErNEGj0zNB6G8zQXq2MkHGizJBPIAxQVw6MEEvZy9BOCAtQW4wLEHO/ipBS5UpQfrjKEF/wiZBpOElQZ7zI0FOwCNBJRYiQXeEIEGxQh5BDTodQZa3G0EE5BhBTCIXQTaeFUGoWxNBT6ARQQ6KD0E4EQ5BNsYMQeR7CUG3tgVBjnoEQdd4AUGooP5AQeH5QN6w9EAnnfJAGNPtQIKG6UDvT+hAbAvjQHZi3EBSdtVAuFzSQDE1zEDhBshAvprEQFSPvkAVkbhAgEK0QPEyrUBK3KZAd6OfQM74mUBxrpJAewaJQLgTg0DxMX1Ao2J0QNSXbUCn2GRA0nhaQObXS0AOn0NAQXw2QNz0LEDu0CBAnSAUQJE+B0C+iu4/I3LRP2Kxtj9KEpY/NuZ1P+TaSD9cBhE/C3OTPj9K0j1pIZK9ZPN4vuGM3r6jfBG/cxoyv1DqZL+FxZW/Wzewv4UFvL+Xnde/65zuv/bSB8ASxBDA8MkbwGHoKcACLDbANNNEwPDfWMDIS2bA+4hzwOj9fsD4EYLAOHmKwKzDj8Bm+JTAL/eXwOqansCKG6PAJaunwGZnq8CrM67AhCqzwIaquMAyD73Ap43CwDwCycAmEMvA9JjQwJi81MBaatfAfOTbwIBB3cCzPODArcXhwF/348CS/OTAXq7lwAlE5sAnlOfAS03mwOqO5MAMtuPAvnjhwFqU38Dkp9zAWifbwMYu18Dvh9XA/VnRwIigzsA7XsrAncrIwLQexcC0E8DAXza9wMQKu8C7MbfA94W0wM0ascDhfq3AcHCqwPQcqcBfTaHAIO6ewFvclsBKmpXAXJOTwJnakcAYsI7AqceGwJJvhMAFw4DASIp5wPFNdcD7Lm3ApCNkwAUyWsCxu1HAEWFFwGmDPcA4HDzAGTEzwC+uLcA1iifA62EiwKiDIMAI8BjAeEsUwLeyEMADVwrA3mwIwEwiAsBcSPy/Lh33v+D78L9K2/S/RYz7vw==",
          "dtype": "f4"
         }
        }
       ],
       "layout": {
        "legend": {
         "itemsizing": "constant"
        },
        "margin": {
         "b": 10,
         "l": 10,
         "r": 10,
         "t": 40
        },
        "scene": {
         "aspectmode": "data",
         "bgcolor": "rgba(0,0,0,0)",
         "camera": {
          "eye": {
           "x": 1.5,
           "y": 1.5,
           "z": 1.5
          }
         },
         "xaxis": {
          "showbackground": false,
          "title": {
           "text": "UMAP1"
          }
         },
         "yaxis": {
          "showbackground": false,
          "title": {
           "text": "UMAP2"
          }
         },
         "zaxis": {
          "showbackground": false,
          "title": {
           "text": "UMAP3"
          }
         }
        },
        "template": {
         "data": {
          "bar": [
           {
            "error_x": {
             "color": "#2a3f5f"
            },
            "error_y": {
             "color": "#2a3f5f"
            },
            "marker": {
             "line": {
              "color": "#E5ECF6",
              "width": 0.5
             },
             "pattern": {
              "fillmode": "overlay",
              "size": 10,
              "solidity": 0.2
             }
            },
            "type": "bar"
           }
          ],
          "barpolar": [
           {
            "marker": {
             "line": {
              "color": "#E5ECF6",
              "width": 0.5
             },
             "pattern": {
              "fillmode": "overlay",
              "size": 10,
              "solidity": 0.2
             }
            },
            "type": "barpolar"
           }
          ],
          "carpet": [
           {
            "aaxis": {
             "endlinecolor": "#2a3f5f",
             "gridcolor": "white",
             "linecolor": "white",
             "minorgridcolor": "white",
             "startlinecolor": "#2a3f5f"
            },
            "baxis": {
             "endlinecolor": "#2a3f5f",
             "gridcolor": "white",
             "linecolor": "white",
             "minorgridcolor": "white",
             "startlinecolor": "#2a3f5f"
            },
            "type": "carpet"
           }
          ],
          "choropleth": [
           {
            "colorbar": {
             "outlinewidth": 0,
             "ticks": ""
            },
            "type": "choropleth"
           }
          ],
          "contour": [
           {
            "colorbar": {
             "outlinewidth": 0,
             "ticks": ""
            },
            "colorscale": [
             [
              0,
              "#0d0887"
             ],
             [
              0.1111111111111111,
              "#46039f"
             ],
             [
              0.2222222222222222,
              "#7201a8"
             ],
             [
              0.3333333333333333,
              "#9c179e"
             ],
             [
              0.4444444444444444,
              "#bd3786"
             ],
             [
              0.5555555555555556,
              "#d8576b"
             ],
             [
              0.6666666666666666,
              "#ed7953"
             ],
             [
              0.7777777777777778,
              "#fb9f3a"
             ],
             [
              0.8888888888888888,
              "#fdca26"
             ],
             [
              1,
              "#f0f921"
             ]
            ],
            "type": "contour"
           }
          ],
          "contourcarpet": [
           {
            "colorbar": {
             "outlinewidth": 0,
             "ticks": ""
            },
            "type": "contourcarpet"
           }
          ],
          "heatmap": [
           {
            "colorbar": {
             "outlinewidth": 0,
             "ticks": ""
            },
            "colorscale": [
             [
              0,
              "#0d0887"
             ],
             [
              0.1111111111111111,
              "#46039f"
             ],
             [
              0.2222222222222222,
              "#7201a8"
             ],
             [
              0.3333333333333333,
              "#9c179e"
             ],
             [
              0.4444444444444444,
              "#bd3786"
             ],
             [
              0.5555555555555556,
              "#d8576b"
             ],
             [
              0.6666666666666666,
              "#ed7953"
             ],
             [
              0.7777777777777778,
              "#fb9f3a"
             ],
             [
              0.8888888888888888,
              "#fdca26"
             ],
             [
              1,
              "#f0f921"
             ]
            ],
            "type": "heatmap"
           }
          ],
          "histogram": [
           {
            "marker": {
             "pattern": {
              "fillmode": "overlay",
              "size": 10,
              "solidity": 0.2
             }
            },
            "type": "histogram"
           }
          ],
          "histogram2d": [
           {
            "colorbar": {
             "outlinewidth": 0,
             "ticks": ""
            },
            "colorscale": [
             [
              0,
              "#0d0887"
             ],
             [
              0.1111111111111111,
              "#46039f"
             ],
             [
              0.2222222222222222,
              "#7201a8"
             ],
             [
              0.3333333333333333,
              "#9c179e"
             ],
             [
              0.4444444444444444,
              "#bd3786"
             ],
             [
              0.5555555555555556,
              "#d8576b"
             ],
             [
              0.6666666666666666,
              "#ed7953"
             ],
             [
              0.7777777777777778,
              "#fb9f3a"
             ],
             [
              0.8888888888888888,
              "#fdca26"
             ],
             [
              1,
              "#f0f921"
             ]
            ],
            "type": "histogram2d"
           }
          ],
          "histogram2dcontour": [
           {
            "colorbar": {
             "outlinewidth": 0,
             "ticks": ""
            },
            "colorscale": [
             [
              0,
              "#0d0887"
             ],
             [
              0.1111111111111111,
              "#46039f"
             ],
             [
              0.2222222222222222,
              "#7201a8"
             ],
             [
              0.3333333333333333,
              "#9c179e"
             ],
             [
              0.4444444444444444,
              "#bd3786"
             ],
             [
              0.5555555555555556,
              "#d8576b"
             ],
             [
              0.6666666666666666,
              "#ed7953"
             ],
             [
              0.7777777777777778,
              "#fb9f3a"
             ],
             [
              0.8888888888888888,
              "#fdca26"
             ],
             [
              1,
              "#f0f921"
             ]
            ],
            "type": "histogram2dcontour"
           }
          ],
          "mesh3d": [
           {
            "colorbar": {
             "outlinewidth": 0,
             "ticks": ""
            },
            "type": "mesh3d"
           }
          ],
          "parcoords": [
           {
            "line": {
             "colorbar": {
              "outlinewidth": 0,
              "ticks": ""
             }
            },
            "type": "parcoords"
           }
          ],
          "pie": [
           {
            "automargin": true,
            "type": "pie"
           }
          ],
          "scatter": [
           {
            "fillpattern": {
             "fillmode": "overlay",
             "size": 10,
             "solidity": 0.2
            },
            "type": "scatter"
           }
          ],
          "scatter3d": [
           {
            "line": {
             "colorbar": {
              "outlinewidth": 0,
              "ticks": ""
             }
            },
            "marker": {
             "colorbar": {
              "outlinewidth": 0,
              "ticks": ""
             }
            },
            "type": "scatter3d"
           }
          ],
          "scattercarpet": [
           {
            "marker": {
             "colorbar": {
              "outlinewidth": 0,
              "ticks": ""
             }
            },
            "type": "scattercarpet"
           }
          ],
          "scattergeo": [
           {
            "marker": {
             "colorbar": {
              "outlinewidth": 0,
              "ticks": ""
             }
            },
            "type": "scattergeo"
           }
          ],
          "scattergl": [
           {
            "marker": {
             "colorbar": {
              "outlinewidth": 0,
              "ticks": ""
             }
            },
            "type": "scattergl"
           }
          ],
          "scattermap": [
           {
            "marker": {
             "colorbar": {
              "outlinewidth": 0,
              "ticks": ""
             }
            },
            "type": "scattermap"
           }
          ],
          "scattermapbox": [
           {
            "marker": {
             "colorbar": {
              "outlinewidth": 0,
              "ticks": ""
             }
            },
            "type": "scattermapbox"
           }
          ],
          "scatterpolar": [
           {
            "marker": {
             "colorbar": {
              "outlinewidth": 0,
              "ticks": ""
             }
            },
            "type": "scatterpolar"
           }
          ],
          "scatterpolargl": [
           {
            "marker": {
             "colorbar": {
              "outlinewidth": 0,
              "ticks": ""
             }
            },
            "type": "scatterpolargl"
           }
          ],
          "scatterternary": [
           {
            "marker": {
             "colorbar": {
              "outlinewidth": 0,
              "ticks": ""
             }
            },
            "type": "scatterternary"
           }
          ],
          "surface": [
           {
            "colorbar": {
             "outlinewidth": 0,
             "ticks": ""
            },
            "colorscale": [
             [
              0,
              "#0d0887"
             ],
             [
              0.1111111111111111,
              "#46039f"
             ],
             [
              0.2222222222222222,
              "#7201a8"
             ],
             [
              0.3333333333333333,
              "#9c179e"
             ],
             [
              0.4444444444444444,
              "#bd3786"
             ],
             [
              0.5555555555555556,
              "#d8576b"
             ],
             [
              0.6666666666666666,
              "#ed7953"
             ],
             [
              0.7777777777777778,
              "#fb9f3a"
             ],
             [
              0.8888888888888888,
              "#fdca26"
             ],
             [
              1,
              "#f0f921"
             ]
            ],
            "type": "surface"
           }
          ],
          "table": [
           {
            "cells": {
             "fill": {
              "color": "#EBF0F8"
             },
             "line": {
              "color": "white"
             }
            },
            "header": {
             "fill": {
              "color": "#C8D4E3"
             },
             "line": {
              "color": "white"
             }
            },
            "type": "table"
           }
          ]
         },
         "layout": {
          "annotationdefaults": {
           "arrowcolor": "#2a3f5f",
           "arrowhead": 0,
           "arrowwidth": 1
          },
          "autotypenumbers": "strict",
          "coloraxis": {
           "colorbar": {
            "outlinewidth": 0,
            "ticks": ""
           }
          },
          "colorscale": {
           "diverging": [
            [
             0,
             "#8e0152"
            ],
            [
             0.1,
             "#c51b7d"
            ],
            [
             0.2,
             "#de77ae"
            ],
            [
             0.3,
             "#f1b6da"
            ],
            [
             0.4,
             "#fde0ef"
            ],
            [
             0.5,
             "#f7f7f7"
            ],
            [
             0.6,
             "#e6f5d0"
            ],
            [
             0.7,
             "#b8e186"
            ],
            [
             0.8,
             "#7fbc41"
            ],
            [
             0.9,
             "#4d9221"
            ],
            [
             1,
             "#276419"
            ]
           ],
           "sequential": [
            [
             0,
             "#0d0887"
            ],
            [
             0.1111111111111111,
             "#46039f"
            ],
            [
             0.2222222222222222,
             "#7201a8"
            ],
            [
             0.3333333333333333,
             "#9c179e"
            ],
            [
             0.4444444444444444,
             "#bd3786"
            ],
            [
             0.5555555555555556,
             "#d8576b"
            ],
            [
             0.6666666666666666,
             "#ed7953"
            ],
            [
             0.7777777777777778,
             "#fb9f3a"
            ],
            [
             0.8888888888888888,
             "#fdca26"
            ],
            [
             1,
             "#f0f921"
            ]
           ],
           "sequentialminus": [
            [
             0,
             "#0d0887"
            ],
            [
             0.1111111111111111,
             "#46039f"
            ],
            [
             0.2222222222222222,
             "#7201a8"
            ],
            [
             0.3333333333333333,
             "#9c179e"
            ],
            [
             0.4444444444444444,
             "#bd3786"
            ],
            [
             0.5555555555555556,
             "#d8576b"
            ],
            [
             0.6666666666666666,
             "#ed7953"
            ],
            [
             0.7777777777777778,
             "#fb9f3a"
            ],
            [
             0.8888888888888888,
             "#fdca26"
            ],
            [
             1,
             "#f0f921"
            ]
           ]
          },
          "colorway": [
           "#636efa",
           "#EF553B",
           "#00cc96",
           "#ab63fa",
           "#FFA15A",
           "#19d3f3",
           "#FF6692",
           "#B6E880",
           "#FF97FF",
           "#FECB52"
          ],
          "font": {
           "color": "#2a3f5f"
          },
          "geo": {
           "bgcolor": "white",
           "lakecolor": "white",
           "landcolor": "#E5ECF6",
           "showlakes": true,
           "showland": true,
           "subunitcolor": "white"
          },
          "hoverlabel": {
           "align": "left"
          },
          "hovermode": "closest",
          "mapbox": {
           "style": "light"
          },
          "paper_bgcolor": "white",
          "plot_bgcolor": "#E5ECF6",
          "polar": {
           "angularaxis": {
            "gridcolor": "white",
            "linecolor": "white",
            "ticks": ""
           },
           "bgcolor": "#E5ECF6",
           "radialaxis": {
            "gridcolor": "white",
            "linecolor": "white",
            "ticks": ""
           }
          },
          "scene": {
           "xaxis": {
            "backgroundcolor": "#E5ECF6",
            "gridcolor": "white",
            "gridwidth": 2,
            "linecolor": "white",
            "showbackground": true,
            "ticks": "",
            "zerolinecolor": "white"
           },
           "yaxis": {
            "backgroundcolor": "#E5ECF6",
            "gridcolor": "white",
            "gridwidth": 2,
            "linecolor": "white",
            "showbackground": true,
            "ticks": "",
            "zerolinecolor": "white"
           },
           "zaxis": {
            "backgroundcolor": "#E5ECF6",
            "gridcolor": "white",
            "gridwidth": 2,
            "linecolor": "white",
            "showbackground": true,
            "ticks": "",
            "zerolinecolor": "white"
           }
          },
          "shapedefaults": {
           "line": {
            "color": "#2a3f5f"
           }
          },
          "ternary": {
           "aaxis": {
            "gridcolor": "white",
            "linecolor": "white",
            "ticks": ""
           },
           "baxis": {
            "gridcolor": "white",
            "linecolor": "white",
            "ticks": ""
           },
           "bgcolor": "#E5ECF6",
           "caxis": {
            "gridcolor": "white",
            "linecolor": "white",
            "ticks": ""
           }
          },
          "title": {
           "x": 0.05
          },
          "xaxis": {
           "automargin": true,
           "gridcolor": "white",
           "linecolor": "white",
           "ticks": "",
           "title": {
            "standoff": 15
           },
           "zerolinecolor": "white",
           "zerolinewidth": 2
          },
          "yaxis": {
           "automargin": true,
           "gridcolor": "white",
           "linecolor": "white",
           "ticks": "",
           "title": {
            "standoff": 15
           },
           "zerolinecolor": "white",
           "zerolinewidth": 2
          }
         }
        },
        "title": {
         "text": "session: bex_20230624_spikes_sorted_SES<br>area: dlpfc"
        }
       }
      }
     },
     "metadata": {},
     "output_type": "display_data"
    },
    {
     "data": {
      "application/vnd.plotly.v1+json": {
       "config": {
        "plotlyServerURL": "https://plot.ly"
       },
       "data": [
        {
         "line": {
          "color": "rgb(31, 119, 180)"
         },
         "mode": "lines",
         "name": "homing L",
         "type": "scatter3d",
         "x": {
          "bdata": "IaoXwGLuF8AQFhjAB0IYwL34GMC4BhrAcTUawPBdHcBlJx7AivEgwKS2IcCNaCHApUQiwPPVI8BOfCXAOG8lwOYdKMDgpybAx9EqwM7IKcDxFinAKwIrwNcpLcBOUCzA2wE8wL7cPcBoxz/Aq3VAwH17QcAqaEXAu0VEwF3nRcBTzUfAdUVLwLkoSsB56kzACgNOwIH1UMCSrE7AIoxVwJD2VcCad1zA8iVhwDO6ZsDCTWnAmp5uwH0adsC253nA7iN9wAUlgMCF14DASaCCwE7Hg8AGtoXAJZ2IwPNFisCrwY3AsdKPwBMaksAyrZPAsdyVwBzklsDT8pfAtr2XwN8BmMAAJJnAM/6ZwCZjmsCogpvArxGcwP8ancAktp3AoO6dwL8YnsDfTZ7AiPWdwHxwncDqUZ3AFvKcwJs/nMBtjJvAZ+CawETSmsCDO5rAgKmZwLOkmMDutpfAEBuWwPfJlMBPd5PAaayRwAJKkMA8CI/ATRyNwM4XjMCQcInAICCIwMmhhsBf9YTAnt6CwE/ogcBo+X3A8dp2wMSGdMCXTHHA7FRqwJfXZMAoL2DAkoVcwI3AWMDkSlTA8jZSwO7nTMAYLkfAAtBBwGOhPcChXzrA3zsxwHp2K8BFBCfABO4iwFDtIMBIWB7AGK8ewDhTG8DeEhrAqKUbwM/uGsCMWxrA/jcawFFRGMCBmJC+8GR5vmgJfr40yGi+IF8evr1dF75sef+9YYAOveVxdT2ljhc+gaNYPkVMlD5BMrE+2fecPv/P4D5gJQA/OPgHP7YpGD8i4y8/7pZDPxGoaT+nuYM/tZOTP1bhpj/7xrQ/8C3KP4A81z9/MOk/7EHxP5wiBEApCwpAx+kLQDPBEUAfCxdAMy0aQIQLHkBRUiFAPGMiQNbZJUD0PypAyO4tQPvMMkDkfjdAtMQ6QFnDQkAa4EhAcSJPQG/EUECUuFhAEqdgQBEEaEBkLXJAZD12QPy5eUCWmYBAxBODQFmsf0CA74FADeaCQHN+hEAJOYZAt5mIQJUkiUATMIpAjImKQDImjEAHVY1ANzWOQMFFj0Bd149AYKWQQDIukEAiNJFAIziRQPDzkECq2pBAELWQQE15kECcX5BAPtSPQHdyj0DMsY5AHQyOQH+HjUAznYxAEp+MQI9PjECUOotAQGCLQHsci0ADyIpAYzKLQM0ri0CN1YlApSyKQHJ8ikCn/IhAb8CIQBYEiUDRI4lAcDSIQD4xiEC0hYhASUGJQMwYiUDfPohAoD2KQGiYiECLvKo/TAWvP9D8rD+jd68/cAizP6g2tz9Gnbo/DYy5P86duj+WAb8/fi7DP8LXyT9dOtQ/1lDZP/NX5z9E4vQ/t4f7P7QK/j9YEAJAetIAQK/mAUBTiAdAQ3kLQJGPDUCIPxJAnJAWQC4XG0ADnB5AHYIjQCwAJ0CcMylAp3QqQKq2KkDgRC5A5lwvQC7GMkBLvzRApD41QPa0N0A9KzpASRc7QAUaO0B9Vj1A0Ew+QJD3PkDj2j9AphM/QDuYPUAjuTpAZeQ7QEn3PUD8Xz5APIQ8QDoRPUBDwz5A2Tg9QLDWOkCBojdA75Y2QKA3NkD81zVAeL40QJ0OMkCdzC5ArO8wQG6eLEA04i5AY/MuQKMbL0AogCtAfiEsQDyXKkDyNSlAxvAnQAq6JUC+iyRAgDsjQEA6JUCqGiFAFNUgQDcaH0CMWB5AY1sdQPgsHUCzoBxAcFkcQGW3G0ClpxtA9hMbQJG9GkBYkRpA0ysaQPAtGkBx9hlAO+4ZQN7VGUB60hlAkhUaQFnyGUB3RxpAETcaQGxiGkA++RpA4qgaQMRdG0AcwxxA+eQaQB2THECR8BtA3uIbQO92GkBsnB5Ag6UgQEpHIkAEVyBAaGgkQBGpJ0DIgSpAcKAvQBq3NUDdJTtAonU+QEocQkAvaUFAgKBEQOyIQkD4ZEVAgRJMQBHPU0CSKFhA11xeQHigYUBMvWRAdy5rQDrubkCR0HVAh1V7QHRzgEBI5IBA+KeDQPyohUDK1H1Ab9mCQBdLhkAG34ZA3xiLQDw9j0DNz5RAeryYQMbnnECTYZ9AeQqeQMV1oEBAKqRAzG2nQBKfpUBTyahAQ8esQMlEskANK7xA09XDQGOPx0DL1MpAmZrKQOdJzEBy0c1AWmHNQPCGzUCGec1AANrNQJUezkDXW9FAFwvTQJn02kC3EtxAsNfgQDsA5UAxAeZAdpDqQKsM7UCy6/BAkcPzQKKK9kDG/fpAR00AQXJQAUHmZQJBi5sCQdivAkEcIwNBREEEQeS3BUFTKwZB73UHQVLdB0EC9whB6EAJQQrZCUHeHgpBc4sKQWaZCkHGqApBCJoKQQ5uCkH1rgpBQE0KQStuCkEZUApBSiAKQZ4gCkHxiglB2jcJQQQbCUGOfghBN18IQeHvB0HstgdB5SsHQWGpBkEa6QVBEmcFQVrHBEE3RQRBwukDQcGxA0EXDQNBcBQCQSj+AUFqpwFBmxMBQeP0AEEJywBB50wAQc8IAEGohf9AgzD/QGOJ/kCX5/1A05f9QGQg/UCbcPxAw+H7QACw+0CGVPtAP9b6QBB4+kCB6vlA6a75QOhK+UAjHPlAUez4QDCb+EAEsPhAWJP4QH+F+EDVYPhA9Fj4QDs3+EAyDfhAwez3QKL790CXf/dATkD3QCZY9kBxs/ZAkQD2QAle9UBf5fRAqyn0QOsF9ED3NvNAFZ7yQFng8UDoVvFA3ZHwQOdT8EA8mu9ADpPvQAi37kD07e1ArG3tQBod7UCutOtAzTjsQCMU60BO/+lAsqrpQCEd6UA+6OdAq7XnQN+e5kA1iOVAbvXkQIZM5EDIvONA8BbjQJ1z4UDRa+FAQ03gQLPJ30C4Ed9Adn7eQBgx3kD0K95AmCzeQCTS3UAOnd1A9FbdQPIM3UCe3NxAEL3cQKOg3ECTltxAi4zcQOSD3EA3ltxAR6LcQDen3EBO1txA8u3cQOMU3UAlfN1AUD/eQHWc3kAe095AYKrfQPmh30CUkeBAU/3gQAPD4UDYyuJAjuTiQJDT40BePOVARpfmQMc550DHeulA4a/qQIFk7EBFjO1ACabvQEF38ECksfFAsEj0QPbL9UB3XvVA2Z/3QI6a+UBkqfpAt6T8QAZ6/0C5KwBB+CUBQXGqAUFDQQNBIQEEQU3LBEFaNgZBhCsHQe2tCEETPApB0AMLQWyzC0F/CA5B/IwOQWpNEEEK/RFBs34TQcoBFkEDqBZBslgYQTWhGUEugxxBcSAeQQwlH0GTxCFBP8sjQfPcJEFLkSZBqxooQbfEKUHHJSpBb6YsQdTALkHAhC9BN6YxQd5WM0FtWjVBdyE2QSL4OEG9XDpBf9A7QUcTPUH7GT5BVQ4/QbdNQEHNWkJBTs9DQREmRUFU8kZB9ltIQZzPSkHyf0xBDqNNQZS/T0FKyFFB4BNUQevzVUGKbldBSypYQQQZWkFYR1pB97tcQY6RXUE36V5BWOFfQbJlYUGFEWNBlr1jQYJKZUFedWZBbc9mQTPOZ0E9yWhBsVppQSFEakGSUWtBVe1rQfVkbEEvRG1B0j1uQSC9bkFhDW9Bf3NvQc3Kb0EV6m9Bd0NwQZhQcEEod3BBXnJwQWdccEFaR3BBzR1wQQnRb0FRjm9BvA5vQc3HbkHTHW5BL6ttQVUrbUEfw2xBm2hrQekLa0H4TmpBy6hpQW25aEGre2dB2qtmQe+EZUEBLWRB/v5iQeOxYUEAYGFBcCVgQZ/cX0GqkV5BsNBcQWYRXEFgS1tBenVaQUdLWUHKllhBgZlXQVZUVkE4ZFVBPJdUQTj2U0EVSVNBl9JRQbGEUUFlzlBBoblPQYGoTkGIJU5BI0FNQfcQTUG+TUxBXzVMQcQGTEGxuEtBkKZLQeWqS0EzrEtBbrFLQarCS0GaDUxBcQxMQT7xTEEB20xB4AJNQQyCTUEX2k1BOzFPQUFqTkF+HU9BrZVPQfWyT0Gi/U9B4j5QQQd4UEHNd1BBpSxRQb+iUUFOoFFBHwJSQW8iUkFzjFJBNQRTQSosU0G7YVNBBJZTQdu+U0Ge4lNBcQxUQb45VEGeUVRBMnNUQUl5VEFqjlRBTKRUQdy0VEG8wFRBfcVUQZvMVEHv0VRBidJUQfTMVEEVulRB7KdUQe16VEFdiVRBRWdUQas/VEFhAFRBVdRTQQBJU0GuTVNBTwRTQYOFUkHH/1FBJ+NRQfiBUUGtMlFBXolQQQI9UEGabU9BCjxPQeavTkFXI05BxlNNQYX/TEFdTUxBSbBLQZ/4SkGGtUpB5v5JQXy4SUFrD0lBrTRIQXbIR0EfskdB/ShHQel6RkFV7UVBNDNFQQ2JREG5FkRB4T9DQSFKQkH2LEJBimdBQXwYQUE81UBBfWhAQUfSP0HOFD9BMak+QRkcPkH4Qj1BTss8QZIEPEFkTDtB2LA6QdsaOkEHhDlBJiI5QZ+8OEF+BDhBa+U3QSF+N0HaUTdBd9s2QWLVNkFkiDZBNg82QcqhNUF/bzVBsck0QZ1+NEF9ajRBfLYzQYyGM0H4FTNBYOYyQUYVMkFnuDFBbvgwQYiNMEEI7i9Br5IvQaX2LkFagC5BTiQuQcSXLUGKRS1BR5osQTk3LEEljCtBrhErQQotKkF4uSlBtY0pQfb4KEHMPyhBHX4nQd/CJkGKLyZBUcMlQWT6JEGO6iRBIRIlQb53JEGTNiRBsJAkQem2I0Hb9SNBr7sjQf/iIkFBjSJB6/0hQU9qIUG3tyBBojkgQRU5H0GziR5B69IdQeLEHEEPrRtB7s0aQRvtGEHVJBhBqE4XQWbpFkGjChZBz0oVQSKLFEFzNhRBTYYTQWNiE0H/fRJBXcgRQccvEUGDtBBBXR0RQbJzD0Hj8g5B5CUPQQljDkGvWA1BSO8MQbtDDEEivQtBXEMLQQPICUGgGQlB00cJQdCICEHXnAhBdKgGQZAjBkGb+gZBbL0FQUrJBUHuBwZBrYQFQZPRBEGs1ARB",
          "dtype": "f4"
         },
         "y": {
          "bdata": "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",
          "dtype": "f4"
         },
         "z": {
          "bdata": "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",
          "dtype": "f4"
         }
        },
        {
         "line": {
          "color": "rgb(255, 127, 14)"
         },
         "mode": "lines",
         "name": "homing R",
         "type": "scatter3d",
         "x": {
          "bdata": "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",
          "dtype": "f4"
         },
         "y": {
          "bdata": "DmxGQUaMRkHyiUZBA+dGQeCPRkGFLkZBZ01GQbgYRkEQGkZBzdtFQaK+RUEyUEVBQjZFQYtERUGKIUVBahtFQfoDRUE0zURByd1EQekTRUFEBkVBpLtEQZN4REF7EURBAQhEQbWPQ0G/XUNByidDQXqrQkGc0kFBdutAQX2UQEH7DUBBFXo/QSnXPkHlqj5B5oM+Qf0+PkFGzD1Bd4E9QUgyPUFjIDxBcA88QSIuO0GI4DpBhRM6QY3ZOUGA6ThBFX04QXmTOEE4QjhB2tQ3QTP4N0HgbzdBryE3QeEINkGuljVBwy81QT9tNEEkoitBZVUrQeOtK0G23ytBPQssQRU+LEHMUCxBeCEiQUwrIkHwGSFBIP8gQZa/H0EBKR9BOooeQUlxHEFXERtBrucZQd3hGEF74xdBBMkXQYFMFkEgvRVBkVoVQZGFE0EFSxNBj6IRQblGEUFHsg5BorMMQWbJC0EUcQpBxJoJQYhNCEGgdwdBjxEGQY6UBUE4sgNBrk4CQSJkAUHMwP9AIkz9QJ6L/ECIlPpA19v4QDiB+UAAtflA3c33QIvK90DQH/ZAig/1QAxx9UDWTelAPxXoQIgu50Cut+VADMnlQNGv5EDAaOBA/eTfQPvT3kDX1d1A/UXcQCmg1kBjKtRA9ZHRQONY0UCaLs9A/FrOQFCWzEBg6ctARLnIQPinxkCdnMVAp0vEQPv+wkAa/8FAfhDBQKE3wUBiXb9AkNi+QCPGvkCMOL9AnAe+QKJ9vUAIWrtAEm66QEONt0DG5rZAuaS1QLPBs0B5GbNALWyyQBNTskB8JLFAdqSwQCXNr0BAqa9AMXSvQPFpr0BMba9AXyCuQHy6r0AIw69AxBiwQCAZsEBUwrBA9t6xQEETsUCvIbJAQHyyQK3ctEBIIrZAEnS2QNYNt0CLMLZAOrC2QAVMt0BYpbVA8Iy1QEUUt0BWa7VA7K62QAsNv0BpLL9AGVC/QATnvkCDXsBA+rK/QAKrv0A8f79APBW/QGZ9vkB/aL9AtSi/QLhYv0B4tb9AkPu/QL5LwEC0XsBAW9bAQC4hwUBTTcFA4XzBQK16wUD5bMFA+nvBQNaAwUBRlsFAvYPBQNB4wUAIUMFAWETBQOHywEBI5sBA+HLAQJxNwEAO179AiPm+QHPHvkD/Bb5AOtK9QAL0vEBMhbxAYEO7QDiiu0ArbLpAZ8W4QOrotkAXprVAF9ezQGS6sUD5bLBAtV+vQB2RrUAzkqxAyOKqQJHCqEDMPqhAE0ynQCCipECLP6JAqcagQKOvn0A6VJxAQwuZQLFulUDHypFAZHaPQBl4jUCVHItA+tiIQI69hkBWUoJA3Kp9QMnDekAQFHNAq1RwQLnAaEAukGZA1GpnQER4ZEBFkV1AAiVHQCFnR0Af3kRAGug8QFDmN0CcrjNAY9gvQKudKkC34CZA26wdQHnfGEAHXxFAvhEGQN1W+z8X5Ok/prXiP2al1T8FWss/UwnDP2Tktz8O7qc/MoKdP76XgD+olW4/jTZSPx5NQT9LGRc/llMDP2nH6D7Fj70+a+CFPqzJED6O2HM9/hLqvDYuMb7txVW+3ey3vie4675DOga/0aUkv9xDR78XAGm/LU6Bv9utjb/PdJe/CImhv7Agrr+hirK/2snCv3kCz7+GF92/4kvnv2H5+L/+eAHAJHUHwOi1DsCL2RLA6NMXwMbgGcA1NR7AkFMhwHaIIcBk2SXAgacqwByoKsCaZC/AUjg2wGEEOsDSnTzA4Ro8wKyxP8AEv0PAlJFIwCNSTMCXXFDA8ctTwONbVcCKH1bAGr5ZwDH1XMDUzlvAMm1ewLHeX8BSBWPAwcpnwCPSacDrAGvAYWBuwPzCb8BTEXLAa/V0wPg+dcDMhXXA6h95wBoUfcBLk33AKEiAwKXMgcBcgoLAn3eDwAhxhMBuyoXA4CeHwB1HicBVJYvAiE6MwNxcjcDEEY3A1+yNwB6ijsAAYJDAuriQwNgQksCEI5PAUjGUwDE8lcAcipXApdeVwNqTlsCH0JbAVHyWwNKNlsBPR5jAPw+ZwGuBmcAK9pnAhtCZwP8wmsA8t5rAiEubwDuGnMD9KZ3AKOqdwG5Rn8CYz5/AbI6gwAbaoMA7vqHAcnOiwGnQosCGEqPAwveiwHvzosBqMaPA+pOjwJ9Lo8DrGqTAYXakwDScpcCa2aXAuJCmwAkrp8CBU6fAV6CnwB7mp8By56fA5HOowJznqMBe36jAJxmpwAJVqcBHYqnAZW2pwFpsqcASc6nA5kWpwPswqcD3F6nAx/GowJ/dqMBMvqjAbYCowNnbp8BSsKfADC2nwNTVpsDFL6bAutOlwNNIpcBSaqTAiPyjwKyLosBaMaHAWM+gwIbvoMC/aJ/Ad0KfwPQsn8BbWqHABu6gwPnyn8CItZ/APj+fwCMTn8ACn57A+ACfwNBDnsBK057AMxSewA24nsDfRZ7AaPmdwH8SnsCLAp/Af7+dwFbWncCAyZ7ADMOdwMWWncDrn5zAqzycwPFMm8C9pJrAvN+ZwLBAmcCAe5jApgeYwDgxl8AVmpbAlrqVwJz8lMAtgZTAchqUwIjpksAb7JHAoDuRwBGfkMDmKZDA4RqPwPQEjsBx44zAJ56LwG0aisCp74jAnROHwGcnhcAbRoTAMT6CwHEvgcBF/H7APDZ7wC/MdsA1xXHAV5JxwH5XbMAJpGjAGM9lwM1TYcA9FVvAhydZwH8xVsBZhFHAQmRMwIbXSMAMZUHARnA+wBFhOMBrujTAnj0vwPKxKcDsfiPA2AEewMIWGMDSDhLAKCQMwJKoBsBHDwTAGloBwJcR97+t9/K/t2Dqv+jz3b+tStW/XLm+v+Wcrr87yqe/cISivzPFk7+mUYm/xs6Av5tqdb8d5Wa/vapOvxK9Rr9BMjG/IVcbvwE/Cr+d/uy+qjvJvuy9ib4bpj2+IhjwvbM0Pb3BRAw82W7MPZg/Xz5MDrg+VNjTPgZJ9D79Kxg/DGIxPxXPSD/FMFI/Y8B2P6tEhT9qlow//0+VP2TPnD+T7KQ/gJivPwoiuj/l3sI/22zKP16VzT/G8ds/PTPkP2D06j9/yvI/sCv6P3phBEBFvwVAxOYGQMdnDkDhSxNAr0QVQCWBFkAglxxAOSgiQNn8JkBlVSpAeCYvQI8KNEBhQjVACPQ7QG72P0BWr0FApLZMQImTTUBRX1FATSBWQPegWEA9Ul9AoZ9kQD6IbUApVXNANih1QN6ud0AMMXtAtmiCQBVxgkCDr4ZABGiHQIb+iUAG2YtALA+QQEDIj0BY6pNAYjuWQCMJmUBraZxA9zGfQFr+oEB9eKRAKKqoQI4Sq0DyU69AM2GxQCKdtEDQmbZATtW6QAx/vkBBN8FAj6jFQGm0xUCaLMlAfn3NQEVu0UA9LNRANbDYQJPR3EDXCd9AqYfiQAce5kDjZelANivtQGUD8EBq6/JAvST3QEta+kDLGP5AtSIBQbx9AkFh2ANBmYwFQZK5BkG0aQhB4AcKQRZkC0Ew6QtBYoQNQdLSDkE9chBBy6ESQZDgEkH3YRRBAXIWQZH5FkHCchdBPmwYQR5DGUHcLhpBfhsbQecFHEG1rxxBPjweQTLcHkFspR9BfmwgQVwUIUEY4yFBAWAiQWRfI0FT4CJB5c8jQUHJJEG7viRB80MlQcafJUGjECZBU0ImQXIYJ0G56CZBSukmQbMIJ0F5DydBsBwnQWEqJ0F/GidBsA8nQVXZJkEMxiZB1ocmQSwwJkHGyCVB3X0lQdf2JEHtCyVBnB0kQf4xI0EVeSJBIKIhQS3HIEFIJiBBj4gfQQslH0Htqx5Bb8QdQaKKHEH5zRtBe4QbQVNEGkHuMRpBI5EZQR2BGEEfYxdBntkWQVqwFUGgiRRBXbgTQQ07EkFinRFB1zQQQR7uDkGQaw5BWokNQUNkC0HYPwtBf04KQZfKCEFR7QdB0/oFQVH1BUHMCAVBzOkDQSz3AkErkAJBCdoAQcJwAEG9SP9Ank3/QN09/UCsbvxAGGT7QB2R+0DCS/pAZRX5QBnZ+EATtPhA5a/4QDVL+EC2LfhAPxv4QIM9+UAKfvlAII75QMws/EDi5fxAZpL9QAAK/0BMJABBCXYBQccHAkFNtwJBObEDQV6TBEEttAVBAU4GQXaOB0Fd4gdBFosJQRE2CkFspQtBYw0MQS8WDkFQDA9B/osQQd/hEEFGNxNBqbETQV/0FEGzTxZBYfIWQb71GEH00RlB+FQbQbP7HEHXZh5BI64fQfMgIUHzLyNBi3wkQcDiJUHrZSdBxtkpQVacKkF0PCxB3RctQUjjLUE1aS5BbaYvQQ5ZMEHCfzBBnbswQTWuMUFjMDJBAbEyQbDlMkEsnDNBCeEzQXMyNEEqHDRBpjU0QZ1UNEHITjRB9kg0QRhBNEGIGzRBGMkzQeTUM0GrnzNBHFEzQbMOM0GuhjJBCk4yQUkiMkFMrzFBPFAxQTK6MEGHXjBBjYUvQVRmL0FTHy9BBeQuQVB6LkE56S1ByZotQUS1LEEkaCxBgCMsQRF1K0FcnCpBZpQqQU0XKkGrhilBT4UoQdH+J0EtcSdBrJUmQRX7JUGkECVBvbokQWHpI0F9oyNB8a0iQWMbIkH5YSFBMCAhQYx0IEH92x9BwhIfQQYMHkEvPx1BRU0cQUuMG0GCLBxBiNQaQU9fGkFZDBpBspcZQYhoGEHXsBdBmiUXQWLcFUG9DhNB8CYSQbZZEEHTHQ9BEUQMQdn9CUELDQhByioEQW6LAkGwnwFBDy4AQbRaAEFd1f9A3g0AQebD/kBx+fxAOHj+QHGj+kB+4vZATQr0QA9I8UDGp+xAzOfpQLwF5EDor+FA4/DZQFbz1EBZ6tFAG6TPQBzPzkDRIs1AyRjJQGJrx0DbhcVATzfEQOh+w0AMj8BAUDa+QCWmu0BEv7hAppCzQEqpsUDpV69Ad0CrQDkdqkAHBalAgPWmQOZSpkBEhKZAI0GjQNkqoUDnNJ9A8f+cQM4nnEBbv5hABEaXQJLvlkDiKpdA0OCVQMBhkkAs/pJAGqKRQNbQkEDO5I9AVAKPQNpgjkDk9I1AGnSOQA==",
          "dtype": "f4"
         },
         "z": {
          "bdata": "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",
          "dtype": "f4"
         }
        },
        {
         "line": {
          "color": "rgb(44, 160, 44)"
         },
         "mode": "lines",
         "name": "precue L",
         "type": "scatter3d",
         "x": {
          "bdata": "cnKBQHf6hEAxF4ZAwiKKQKymi0DQAYtA4rSNQHpjj0AR/5dAjtyXQNiilkBiO5lApuKdQNvWpEAgiqJA+BWnQBQmsEAGArNAgue4QGA0wUBRg8VAmqjLQDii00BjftpA9CzhQBRr5EAZduhAsh/uQJqp9UDgfftA7XEAQR8fA0E/iQVBIBIJQWVPCkFwJg5BI2QQQY0QFEHM7RZBLZQZQeISHEEe3R1B9zofQU+VIkGhPyNBa5YlQR0aKEFhIypBrKIrQT/YLUH+WC9BSRgxQYNDMkE/NDNBu/k0Qb8iNkEf4zdB6wU5QTNiO0GBfD1BnLc/QWdiQkFYvUNB7j9FQVr3RkG0sEdBfZVJQUmrSUF5+0pBLHxMQc+1TUGwwE9BXx5RQbUQUkEVF1RBFWpVQa2KVkEQ11dBTkRZQfRgWkGBVFpBCWhbQdAhXEF+9FxBoqhdQcWQXkFiFl9BdFRgQbgZYUFt3WBBa+9gQbq7YEFCfmBBWj5gQZpYYEEZtF9BoARgQXMdYEGd52BBW+lfQWmmX0FnMl9B5BRfQaicXkHKcF5BC/FdQfiGXkGWPF5B0xZeQWSjXkFWlF5BK/teQWUlX0ElF2BB3rVgQexkYUGnSmFBsDFiQb0WY0Fv/WNBQKlkQVPWZUFliGdB44xpQSlOa0HlZG1Ba3JuQb2YcEFzs3JBMFtzQWWXc0Gx33VB5m93QVOceEEaxHlB1gN7QeJpfUHiw39B8/qAQQhLgUHQwoJBwRuEQfELhUFgAYZBymqGQaxRiEEUKolBfoyKQfchjEHsHI1BmOyNQTfMjkEksY9B1R6RQfzwkkFRZJRB/7WVQYk2l0H9IJhBy06aQRK5m0FtaJtBcBqeQRfLnUH6VZ9BykegQfmWoUH6j6NBAV+kQcnXpUGJn6ZBVrWnQcBvqUH0vqpBn5qrQepRrEH5ZK1BklyvQTHmr0HGArFBy0KyQeJ6skHbz7NBJPuyQZf7tEHTobVBeg22QWhrtkGLxbZBlbm2QdYYtkE=",
          "dtype": "f4"
         },
         "y": {
          "bdata": "hy0HQSb3BUH8NwVB+9YEQUFdBkFl5ARBIJ0DQT9mA0EEwgFByb4EQUlcA0GaowRB9vUCQVE7A0GnsQFBPAMCQVw8AUFNYwBBMg7+QKl6+kCHSPlAC371QMB18kCNF+9A3u/rQAT16UC/1uhApYXmQO0n40CzquBAz/DeQAVx20DpRtpA/KTVQIJ01EBjvM5A/kXLQAAuxUB8c79AWQ66QJOttEDDorBA0Q6tQDvZpEA8yqJAkiecQITIlEA9yo5Ax+6JQCcmg0AVIX5A+nh0QHbrbUB4VGhApK9eQLKZWEBH8E5AyD9JQBd/PUBtaDNAfuUoQKiBHEBtcRZAgIgPQJftB0DhlQRAvyv6P5h4+T8tie8/5EHlP5483T+hqtA/znvJPzfWxD/ebb0/oBu6PzAvuD9b67k/tti8P7kqwD9evbs/9dvKP3Dj0D/G9tk/OSrjPwh88D+4sfk/oVkIQK4mEECkwRNADbkbQJsNIUB6kixA4L8zQLMVPUBg4kZAm2RJQCx2UkD2dlhAxkxgQB0iaEAA+3RAe1J5QB/Tg0CBmodA0dSNQHtHlEBcKpVA5wmZQNiEnEA0lKFAUwGkQK9wqUCLtK1ARSmzQG84t0Bhn7lAo/y8QNF1wkA88sZAAN/JQAsw0UBr4NVAmf7cQP994kAr6OhA0b7rQEpR8UB9UPZAfh74QInP+EDa6f1ABJIAQe6xAUG1rwJBodEDQRyyBUEBaQdBS2kJQbczCUHF1ApBGGUMQYq+DUGjDg5BlVAOQWyjD0GiKxBBdAwRQcrBEUHPFBNByS8TQWEWFEHOPBRB8MIUQZ1nFUEPphVBTdwVQRr7FUH5+hVBb+8VQZrjFUF0/RVBRp8VQbynFUGeShVB4D0VQc7tFEGOgRRB/yEUQS17E0E9OhNB4S8SQYyDEUGhahBBxo8QQcPrEEFuxw9Bp1ANQUEsDUE0ngtBdrMJQSalCUGJpQdBxGsHQTXAB0GqBwdBCJUHQWY5CEF1LAdBGpcGQb1kCEE=",
          "dtype": "f4"
         },
         "z": {
          "bdata": "QZd7QHAod0A8cndAEchvQGbMYkD8kWpAxwlnQLYYbkBgqXdA+kVxQIffd0BHIHFA1o9sQK28dEDUTm1AZh1wQItJeEBeHnhAF714QEcDekDpfn5A/6J4QLL7eEDkh3hA0wt4QEkEeEB7vXdAJlp3QOZ2dkDDunVA/fl0QPfockBBUHNAj6ZuQBFubkBy5WhAfrZjQDnnX0DB/lhArRxUQLw+T0CElUpARNZIQLrXQkCg40BAGXA7QNwcNUB3MS9AZfQqQGJEJEC75x5ArsAYQN0YFEA5GxBAEroIQN+2A0B9v/c/KEvtPxfh1j8X78E/NDyrP45pjj9zbX4/IDhWP+FxKz/6fxQ/IHvGPtjDsz441yo+O1s4vc9gWL4flfO++yopv5IcTL9PDYq/s/Wlvy9dvb8QcNa/cWL0v8YvB8BBcAnAmigZwJX1JsCXGjXA5Ts/wB9tUMAaAVjACTNswP8KeMAqAYLAbGSIwM6EjcCar5bAbiucwOIWosCrA6nAOkWrwGUZscCN47TAkrm5wCiSvsA+A8bAWpzIwLJV0MAmltTAX3/bwHGF4sApm+PA3dznwOek68AtcPHALzj0wBA7+sCDKf/AxKwCwacXBcFJsgbBkq4IwY0CDMHp2Q7BtLcQwbI+FcHwWhjBriUdwZPkIMFSdyXBEH8nwTKUK8EHMS/BV9cwwWXfMcE7ujXBtE04wdguOsEkTjzBvC4+wbdMQcH7nETBgn1HwcVuSME9EkzBD3hPwbfCUcEmIVTBAxdVwd5wWcFaV1vB3Txewf2KYcHxlmPBFT1lwRz5ZsHrt2jB+3RrwYvibsH2inHBk+dzwc5wdsEv0XfBnBt7wSU5fcFopnzBPBCAwQqRf8EysIDB4AKBwajRgcHLboLBpqGCwTAIg8GVAIPBjGKDwSNUg8HRDoPBCF+DwZ+Hg8GoI4PB0hKDwZcNg8Ess4LBMHqCwa75gcH//YHB8ECCwalcg8GhBYTBQyyEwVGahMHz0ITBYQuEwXcDhME=",
          "dtype": "f4"
         }
        },
        {
         "line": {
          "color": "rgb(214, 39, 40)"
         },
         "mode": "lines",
         "name": "precue R",
         "type": "scatter3d",
         "x": {
          "bdata": "oldSP+VART8ir0w/SY84P4UcNj9iRGk/bvtsP3EZXj8sTXo/XMCLP8cekz+C54c/yvpLQG9GTkDDolBAM91UQFtKWEDzsmFAIaRtQCbVc0C3C3lA5lB5QGUOhkAz4INAiIaIQBuPjkBM65NAAneWQC1+mkAClqJA1I6kQIvmpkAXEqlAXPitQI6GsUByu7dAFeq5QO3Iu0CT779AowfFQMUAyEDuR8xA8x7OQNG7z0CylNRA+kLXQFH32kDUdt9AvHnkQGe95kCY9OlAl5TtQDSd8kBxofRANHL4QIgn/UDloABBhCwDQbwUBkEamAhBpZ0KQQnaC0F6Aw5Bks0PQaAbEUG8IxJBxDcUQW8jE0Fb5BVB1JsWQUfHF0HSLxhB7A8aQbEoGkELyhpBS/wbQXKuHEEIzR1B1LMeQag5H0HISSBBZiIgQQGQIUH+WiFBEkAiQY8zI0FP+CNBZJMkQaWaJEFHvSRBcdUkQX4rJUGfdiRBTgklQWe2JEGvwSRBf6gkQauPJEEYZCRBdB8kQZHqI0HIGSRBtpUjQe2BI0H8WiNBUD0jQRoMI0Gj8iJBjdUiQffRIkGTuCJB2KAiQQtFI0GCbSJB91wiQaEoIkG83CFBtrQhQZ1QIUFJ0SBBdOYgQauTH0EhlR9B1QwfQY2aHkH2Zh1BfV4cQWzXG0H5aRpB9rIZQU3qF0F9phdBuCEWQb9/FEGC1hJBy1gRQT/VD0Ftbg1Bm/wLQXQcC0HPNQhBHUwHQUsJBUGO/wNBueoBQcp5/EDuEvhA+tjyQGR17UBdKOhAJJXgQC0A30ALXdpASMrUQIM60ECVYMtALsrGQNUuwUDWNrtAi2+1QMcJrkATdapAzKSkQEBGoED4vZxA/dyXQPrKkUA2gopAGMCGQBtogUAxaHhAssVuQHgMZ0DTuWBASx9ZQB4BSkCtekBAkjs6QGdtLkAkjydAEMchQFwhHUC/TRNAnCoPQHtHC0AaGwpABqQFQBZRA0CfD/8/FPgAQGJRAUDj4v0/whf8Pyza9z+mnf8/kCn1P8gc+j8zcP0/ln//P8DeAED+VQNAj9UGQHMEDEBouA9AFnYVQDBtEUDRcxNAqTscQCSKGUAsVR1Ag/8dQNPoH0AnxiBAZHQcQHN4IEANdBtAFQIiQKEaI0DkrCdAXTMvQIMmMUB1njVAZ/0yQA==",
          "dtype": "f4"
         },
         "y": {
          "bdata": "wgaSPzfmmT8Ae6E/DPGtP/p7tj/eALM/1+umPx/ooT96nrM/nM+/P6aPuT8Seq8/UYG8P4rRwD/Y38E/rD3FP4+6yj+itMU/RmbJP/Leyj+E+Mo/333MP87d1j/bt88/PozaP0Ri4z82/ew/p1XwPxLi+T9tGgZAII0IQEwODEA6Dg5An1wUQJeLGUBFFCFAlmUlQEM9KECGDC9ArJc4QL5QPkAyrUZAMndKQH7QTUDRgFhAePVeQFAlZ0AG0HFAGml+QDsfgkAm9YZAzKeLQFUVkkCK/pRAX4SaQIl9oUDa6KdA9/mvQCl+uUAntsFAUVvIQOuPzUANFNZAE9bdQLHK40CubuhAVELwQFJR9UD2KvtAFs3+QGB5AkEM2QRB7kAIQR6JCUGjBwtB4scOQWLeEEFrvBNBMmUXQY+WGEEyWRxBZPAeQde9IUHn4iNBiDcmQcYDKUHetCtBRAkuQRaZLkH8EDBBXh0yQfG3M0HOXDVB87c3QSdiOUEoeTpBYPg8Qb1yPkEq20BBtWdDQQZ2RUGLXkVB/OVHQUJHSUHiI0tBBltNQX6fT0GWjVBBAMpSQU6xU0FMXlVBf9hXQdpqWUFMkFpBcIlcQZyAXUGbM19BkJxgQagEYkFcjGRBjnFlQX57aEEmM2pBAfpsQVlYb0HwPHJBt+J0QcOGdkF+1nlBZTl7Qa8ZfkFIuH9BxByBQTqDgkHziINBG4SEQc52hUEfwYZBNouHQaD1h0GRZ4lB+JuJQUSJikHS24pB06SLQSadjEF9QI1BauONQYV5jkHQF49B8rGPQWKNj0FLVZBBAwWRQUZVkUHVmZFBI9uRQbU5kkG3kpJBne2SQYU5k0HUWpNBi6+TQfnJk0Fs4ZNBTlKUQdiNlEGG2pRBYe6UQczSlEHItpRBdI6UQVKClEH1H5RBW7uTQYAXk0GMrJJBlCKSQc1okUFy0pBBKEmQQWuyj0ELhY5BprONQToNjUE6n4xB0nqLQZKMikFUiYlBa1KJQclQiEGRBodBYJ6FQSy5hEFmMoVBw/2CQRhugkGjkoFB8d+AQS2of0EeqH5BWgp8QSMreEEN23VBNZlzQZeRckEYB3JBZX1uQUV3b0HllG1BudhrQRO7aUFtzmpBHEVoQTsxZ0Egw2VBt41lQf15Y0FiamNBKZRiQciIY0FeBWJBbDBiQQ==",
          "dtype": "f4"
         },
         "z": {
          "bdata": "RcjlP8Sv7T+II/Y/hlAAQNhEBUD5GQBA28b1P81l/T++GgJAF+8BQJ9jC0A+bApA9/2HQCggiUCOXIpAOpqMQHJQjkDqf5NAhimaQAKanUBUfKBAAZmgQPdIq0A3/qhAXh2uQDfltECtD7tAbBK+QPPVwkAMaMxAYKzOQGxA0UA01dNAzWvZQFJ/3UAciORAtQbnQIIt6UAbv+1ATxHzQGEb9kAUTfpAABD8QJ2H/UAEvwBBOKsBQXEmA0HUnARB5/AFQWZdBkEB3gZBNewHQUgHCEGhMAhB9HwIQedcCEGlPghBI+cHQRpLB0GDpAZBRuwFQZNNBUHFLARBCBcDQT5WAkHkrgFB7ioAQSldAUE+wv1AVIH8QKoT+kAcOflAoUn0QJLC80DrFfJA0SLuQFiv60Do/edAjDrjQIx54UAUfttA7szYQI1J00DUmM9AVFTLQAr3xUA6mcBAFwe8QHtmukDivLZAMJexQNrFrUBe4qdAflCiQOdlnUC9OppAMZCTQCgrj0B6TIdAtuZ/QPnackAX0HFADpliQEWoWUApxk5APX1AQHIDMkCloCtApzcbQAygFEChqAlA5ATzP18K4T/VfdI/QVa8Py2Asj8MpqE/rdOUPwRUiT8SNmo/urxdP+0wMT/UWBs/wYjvPrX1uD6+xmE+J4XJPSFHFz1yz9y9Hz0nvrJqjL4zOKa+adzgvlLdDL/SySW/ojk9v6bATr/+QG2/RSp/v+K/hL8Q65S/W5Wav+Ynqb+K8K6/Xhu9v8gO07+MtuG/gjjyv03UAcDMbgrA2yIWwEJDGMDjqR/A/1EowDDuLcB5+TPAu1s5wPHkQMC4akjA+jRQwMUnWcDJR13Asc1kwISaasB0zW3AxCx0wBJjfMCBwoLAaUiFwIHUiMAer4zA+xWQwGbVksCKpJXAtOuYwD8nn8CTSaPAeDOmwNe7q8DVOK/AnHOywEhHtcAaNrvAEYm+wBlIwcCn6sLAZU/HwKKSysDeS87AIIzOwKW+0cC6t9XAifDZwLBb3MBKZNrAWUnhwNzz4sBCpuXAGvXnwL4R68CCY+zA1X3wwL6I9sDwS/rAPAT+wHTK/8B1UgDBRHsDwayPAsHaTwTBgvkFwQT2B8Fj5QbBTFsJwUtsCsHSxgvB//ILwU7nDMGrtw3BNicPwXV3DsE0BBDBH9kPwQ==",
          "dtype": "f4"
         }
        }
       ],
       "layout": {
        "legend": {
         "itemsizing": "constant"
        },
        "margin": {
         "b": 10,
         "l": 10,
         "r": 10,
         "t": 40
        },
        "scene": {
         "aspectmode": "data",
         "bgcolor": "rgba(0,0,0,0)",
         "camera": {
          "eye": {
           "x": 1.5,
           "y": 1.5,
           "z": 1.5
          }
         },
         "xaxis": {
          "showbackground": false,
          "title": {
           "text": "UMAP1"
          }
         },
         "yaxis": {
          "showbackground": false,
          "title": {
           "text": "UMAP2"
          }
         },
         "zaxis": {
          "showbackground": false,
          "title": {
           "text": "UMAP3"
          }
         }
        },
        "template": {
         "data": {
          "bar": [
           {
            "error_x": {
             "color": "#2a3f5f"
            },
            "error_y": {
             "color": "#2a3f5f"
            },
            "marker": {
             "line": {
              "color": "#E5ECF6",
              "width": 0.5
             },
             "pattern": {
              "fillmode": "overlay",
              "size": 10,
              "solidity": 0.2
             }
            },
            "type": "bar"
           }
          ],
          "barpolar": [
           {
            "marker": {
             "line": {
              "color": "#E5ECF6",
              "width": 0.5
             },
             "pattern": {
              "fillmode": "overlay",
              "size": 10,
              "solidity": 0.2
             }
            },
            "type": "barpolar"
           }
          ],
          "carpet": [
           {
            "aaxis": {
             "endlinecolor": "#2a3f5f",
             "gridcolor": "white",
             "linecolor": "white",
             "minorgridcolor": "white",
             "startlinecolor": "#2a3f5f"
            },
            "baxis": {
             "endlinecolor": "#2a3f5f",
             "gridcolor": "white",
             "linecolor": "white",
             "minorgridcolor": "white",
             "startlinecolor": "#2a3f5f"
            },
            "type": "carpet"
           }
          ],
          "choropleth": [
           {
            "colorbar": {
             "outlinewidth": 0,
             "ticks": ""
            },
            "type": "choropleth"
           }
          ],
          "contour": [
           {
            "colorbar": {
             "outlinewidth": 0,
             "ticks": ""
            },
            "colorscale": [
             [
              0,
              "#0d0887"
             ],
             [
              0.1111111111111111,
              "#46039f"
             ],
             [
              0.2222222222222222,
              "#7201a8"
             ],
             [
              0.3333333333333333,
              "#9c179e"
             ],
             [
              0.4444444444444444,
              "#bd3786"
             ],
             [
              0.5555555555555556,
              "#d8576b"
             ],
             [
              0.6666666666666666,
              "#ed7953"
             ],
             [
              0.7777777777777778,
              "#fb9f3a"
             ],
             [
              0.8888888888888888,
              "#fdca26"
             ],
             [
              1,
              "#f0f921"
             ]
            ],
            "type": "contour"
           }
          ],
          "contourcarpet": [
           {
            "colorbar": {
             "outlinewidth": 0,
             "ticks": ""
            },
            "type": "contourcarpet"
           }
          ],
          "heatmap": [
           {
            "colorbar": {
             "outlinewidth": 0,
             "ticks": ""
            },
            "colorscale": [
             [
              0,
              "#0d0887"
             ],
             [
              0.1111111111111111,
              "#46039f"
             ],
             [
              0.2222222222222222,
              "#7201a8"
             ],
             [
              0.3333333333333333,
              "#9c179e"
             ],
             [
              0.4444444444444444,
              "#bd3786"
             ],
             [
              0.5555555555555556,
              "#d8576b"
             ],
             [
              0.6666666666666666,
              "#ed7953"
             ],
             [
              0.7777777777777778,
              "#fb9f3a"
             ],
             [
              0.8888888888888888,
              "#fdca26"
             ],
             [
              1,
              "#f0f921"
             ]
            ],
            "type": "heatmap"
           }
          ],
          "histogram": [
           {
            "marker": {
             "pattern": {
              "fillmode": "overlay",
              "size": 10,
              "solidity": 0.2
             }
            },
            "type": "histogram"
           }
          ],
          "histogram2d": [
           {
            "colorbar": {
             "outlinewidth": 0,
             "ticks": ""
            },
            "colorscale": [
             [
              0,
              "#0d0887"
             ],
             [
              0.1111111111111111,
              "#46039f"
             ],
             [
              0.2222222222222222,
              "#7201a8"
             ],
             [
              0.3333333333333333,
              "#9c179e"
             ],
             [
              0.4444444444444444,
              "#bd3786"
             ],
             [
              0.5555555555555556,
              "#d8576b"
             ],
             [
              0.6666666666666666,
              "#ed7953"
             ],
             [
              0.7777777777777778,
              "#fb9f3a"
             ],
             [
              0.8888888888888888,
              "#fdca26"
             ],
             [
              1,
              "#f0f921"
             ]
            ],
            "type": "histogram2d"
           }
          ],
          "histogram2dcontour": [
           {
            "colorbar": {
             "outlinewidth": 0,
             "ticks": ""
            },
            "colorscale": [
             [
              0,
              "#0d0887"
             ],
             [
              0.1111111111111111,
              "#46039f"
             ],
             [
              0.2222222222222222,
              "#7201a8"
             ],
             [
              0.3333333333333333,
              "#9c179e"
             ],
             [
              0.4444444444444444,
              "#bd3786"
             ],
             [
              0.5555555555555556,
              "#d8576b"
             ],
             [
              0.6666666666666666,
              "#ed7953"
             ],
             [
              0.7777777777777778,
              "#fb9f3a"
             ],
             [
              0.8888888888888888,
              "#fdca26"
             ],
             [
              1,
              "#f0f921"
             ]
            ],
            "type": "histogram2dcontour"
           }
          ],
          "mesh3d": [
           {
            "colorbar": {
             "outlinewidth": 0,
             "ticks": ""
            },
            "type": "mesh3d"
           }
          ],
          "parcoords": [
           {
            "line": {
             "colorbar": {
              "outlinewidth": 0,
              "ticks": ""
             }
            },
            "type": "parcoords"
           }
          ],
          "pie": [
           {
            "automargin": true,
            "type": "pie"
           }
          ],
          "scatter": [
           {
            "fillpattern": {
             "fillmode": "overlay",
             "size": 10,
             "solidity": 0.2
            },
            "type": "scatter"
           }
          ],
          "scatter3d": [
           {
            "line": {
             "colorbar": {
              "outlinewidth": 0,
              "ticks": ""
             }
            },
            "marker": {
             "colorbar": {
              "outlinewidth": 0,
              "ticks": ""
             }
            },
            "type": "scatter3d"
           }
          ],
          "scattercarpet": [
           {
            "marker": {
             "colorbar": {
              "outlinewidth": 0,
              "ticks": ""
             }
            },
            "type": "scattercarpet"
           }
          ],
          "scattergeo": [
           {
            "marker": {
             "colorbar": {
              "outlinewidth": 0,
              "ticks": ""
             }
            },
            "type": "scattergeo"
           }
          ],
          "scattergl": [
           {
            "marker": {
             "colorbar": {
              "outlinewidth": 0,
              "ticks": ""
             }
            },
            "type": "scattergl"
           }
          ],
          "scattermap": [
           {
            "marker": {
             "colorbar": {
              "outlinewidth": 0,
              "ticks": ""
             }
            },
            "type": "scattermap"
           }
          ],
          "scattermapbox": [
           {
            "marker": {
             "colorbar": {
              "outlinewidth": 0,
              "ticks": ""
             }
            },
            "type": "scattermapbox"
           }
          ],
          "scatterpolar": [
           {
            "marker": {
             "colorbar": {
              "outlinewidth": 0,
              "ticks": ""
             }
            },
            "type": "scatterpolar"
           }
          ],
          "scatterpolargl": [
           {
            "marker": {
             "colorbar": {
              "outlinewidth": 0,
              "ticks": ""
             }
            },
            "type": "scatterpolargl"
           }
          ],
          "scatterternary": [
           {
            "marker": {
             "colorbar": {
              "outlinewidth": 0,
              "ticks": ""
             }
            },
            "type": "scatterternary"
           }
          ],
          "surface": [
           {
            "colorbar": {
             "outlinewidth": 0,
             "ticks": ""
            },
            "colorscale": [
             [
              0,
              "#0d0887"
             ],
             [
              0.1111111111111111,
              "#46039f"
             ],
             [
              0.2222222222222222,
              "#7201a8"
             ],
             [
              0.3333333333333333,
              "#9c179e"
             ],
             [
              0.4444444444444444,
              "#bd3786"
             ],
             [
              0.5555555555555556,
              "#d8576b"
             ],
             [
              0.6666666666666666,
              "#ed7953"
             ],
             [
              0.7777777777777778,
              "#fb9f3a"
             ],
             [
              0.8888888888888888,
              "#fdca26"
             ],
             [
              1,
              "#f0f921"
             ]
            ],
            "type": "surface"
           }
          ],
          "table": [
           {
            "cells": {
             "fill": {
              "color": "#EBF0F8"
             },
             "line": {
              "color": "white"
             }
            },
            "header": {
             "fill": {
              "color": "#C8D4E3"
             },
             "line": {
              "color": "white"
             }
            },
            "type": "table"
           }
          ]
         },
         "layout": {
          "annotationdefaults": {
           "arrowcolor": "#2a3f5f",
           "arrowhead": 0,
           "arrowwidth": 1
          },
          "autotypenumbers": "strict",
          "coloraxis": {
           "colorbar": {
            "outlinewidth": 0,
            "ticks": ""
           }
          },
          "colorscale": {
           "diverging": [
            [
             0,
             "#8e0152"
            ],
            [
             0.1,
             "#c51b7d"
            ],
            [
             0.2,
             "#de77ae"
            ],
            [
             0.3,
             "#f1b6da"
            ],
            [
             0.4,
             "#fde0ef"
            ],
            [
             0.5,
             "#f7f7f7"
            ],
            [
             0.6,
             "#e6f5d0"
            ],
            [
             0.7,
             "#b8e186"
            ],
            [
             0.8,
             "#7fbc41"
            ],
            [
             0.9,
             "#4d9221"
            ],
            [
             1,
             "#276419"
            ]
           ],
           "sequential": [
            [
             0,
             "#0d0887"
            ],
            [
             0.1111111111111111,
             "#46039f"
            ],
            [
             0.2222222222222222,
             "#7201a8"
            ],
            [
             0.3333333333333333,
             "#9c179e"
            ],
            [
             0.4444444444444444,
             "#bd3786"
            ],
            [
             0.5555555555555556,
             "#d8576b"
            ],
            [
             0.6666666666666666,
             "#ed7953"
            ],
            [
             0.7777777777777778,
             "#fb9f3a"
            ],
            [
             0.8888888888888888,
             "#fdca26"
            ],
            [
             1,
             "#f0f921"
            ]
           ],
           "sequentialminus": [
            [
             0,
             "#0d0887"
            ],
            [
             0.1111111111111111,
             "#46039f"
            ],
            [
             0.2222222222222222,
             "#7201a8"
            ],
            [
             0.3333333333333333,
             "#9c179e"
            ],
            [
             0.4444444444444444,
             "#bd3786"
            ],
            [
             0.5555555555555556,
             "#d8576b"
            ],
            [
             0.6666666666666666,
             "#ed7953"
            ],
            [
             0.7777777777777778,
             "#fb9f3a"
            ],
            [
             0.8888888888888888,
             "#fdca26"
            ],
            [
             1,
             "#f0f921"
            ]
           ]
          },
          "colorway": [
           "#636efa",
           "#EF553B",
           "#00cc96",
           "#ab63fa",
           "#FFA15A",
           "#19d3f3",
           "#FF6692",
           "#B6E880",
           "#FF97FF",
           "#FECB52"
          ],
          "font": {
           "color": "#2a3f5f"
          },
          "geo": {
           "bgcolor": "white",
           "lakecolor": "white",
           "landcolor": "#E5ECF6",
           "showlakes": true,
           "showland": true,
           "subunitcolor": "white"
          },
          "hoverlabel": {
           "align": "left"
          },
          "hovermode": "closest",
          "mapbox": {
           "style": "light"
          },
          "paper_bgcolor": "white",
          "plot_bgcolor": "#E5ECF6",
          "polar": {
           "angularaxis": {
            "gridcolor": "white",
            "linecolor": "white",
            "ticks": ""
           },
           "bgcolor": "#E5ECF6",
           "radialaxis": {
            "gridcolor": "white",
            "linecolor": "white",
            "ticks": ""
           }
          },
          "scene": {
           "xaxis": {
            "backgroundcolor": "#E5ECF6",
            "gridcolor": "white",
            "gridwidth": 2,
            "linecolor": "white",
            "showbackground": true,
            "ticks": "",
            "zerolinecolor": "white"
           },
           "yaxis": {
            "backgroundcolor": "#E5ECF6",
            "gridcolor": "white",
            "gridwidth": 2,
            "linecolor": "white",
            "showbackground": true,
            "ticks": "",
            "zerolinecolor": "white"
           },
           "zaxis": {
            "backgroundcolor": "#E5ECF6",
            "gridcolor": "white",
            "gridwidth": 2,
            "linecolor": "white",
            "showbackground": true,
            "ticks": "",
            "zerolinecolor": "white"
           }
          },
          "shapedefaults": {
           "line": {
            "color": "#2a3f5f"
           }
          },
          "ternary": {
           "aaxis": {
            "gridcolor": "white",
            "linecolor": "white",
            "ticks": ""
           },
           "baxis": {
            "gridcolor": "white",
            "linecolor": "white",
            "ticks": ""
           },
           "bgcolor": "#E5ECF6",
           "caxis": {
            "gridcolor": "white",
            "linecolor": "white",
            "ticks": ""
           }
          },
          "title": {
           "x": 0.05
          },
          "xaxis": {
           "automargin": true,
           "gridcolor": "white",
           "linecolor": "white",
           "ticks": "",
           "title": {
            "standoff": 15
           },
           "zerolinecolor": "white",
           "zerolinewidth": 2
          },
          "yaxis": {
           "automargin": true,
           "gridcolor": "white",
           "linecolor": "white",
           "ticks": "",
           "title": {
            "standoff": 15
           },
           "zerolinecolor": "white",
           "zerolinewidth": 2
          }
         }
        },
        "title": {
         "text": "session: bex_20230629_spikes_sorted_SES<br>area: dlpfc"
        }
       }
      }
     },
     "metadata": {},
     "output_type": "display_data"
    },
    {
     "data": {
      "application/vnd.plotly.v1+json": {
       "config": {
        "plotlyServerURL": "https://plot.ly"
       },
       "data": [
        {
         "line": {
          "color": "rgb(31, 119, 180)"
         },
         "mode": "lines",
         "name": "homing L",
         "type": "scatter3d",
         "x": {
          "bdata": "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",
          "dtype": "f4"
         },
         "y": {
          "bdata": "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",
          "dtype": "f4"
         },
         "z": {
          "bdata": "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",
          "dtype": "f4"
         }
        },
        {
         "line": {
          "color": "rgb(255, 127, 14)"
         },
         "mode": "lines",
         "name": "homing R",
         "type": "scatter3d",
         "x": {
          "bdata": "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",
          "dtype": "f4"
         },
         "y": {
          "bdata": "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",
          "dtype": "f4"
         },
         "z": {
          "bdata": "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",
          "dtype": "f4"
         }
        },
        {
         "line": {
          "color": "rgb(44, 160, 44)"
         },
         "mode": "lines",
         "name": "precue L",
         "type": "scatter3d",
         "x": {
          "bdata": "SM6JQOr8hkCtjoxA4fyJQNq4kkB5v5JAczWVQNZFlEA9R5dAVGmWQBULnEAxa59AVealQJbmqEBprKpAhQGzQJBPtUDebrVAJPK5QP8QwEBTw8ZApJPMQPHX0UAMztxA+CniQLdf6EC5i+1ASbv0QC1j+UC2xv1AoJYBQcl5BkH5qA1B9hoRQfkzFEGXCBdBtrkYQRY/G0FjDB5Bh/IgQaSNJEFwQCdBF84pQT7SLUHK0S9Bex8yQeC2M0Fh9jVBc8w3QU9jOkF+tTtBDJ88QWXUPUESEkBBvu1AQblaQkFMwUNBVddEQTWORkEdHUdBJ5lIQYYnSUFuOEpBDsNKQfz8SkGsW0tBs7pLQbG8S0Gkx0tBirhLQYOUS0G+n0tBit5KQRLESkHPeUpB+etJQa20SUGVXElBZxNJQRAcSEF+kEdBIxZHQWWPRkFNu0VBsKxEQcHIQ0Eh1UJBzAZCQVu3QEHhzT5BIUw9QeyJPEFioztBpDc7QbYJOkFmqzhBoHA3QaiANkGSNjZBSCM0QToZM0HStzFBuAgwQaEDLkFPCyxBKTsqQS27KEHw9CZBxx8mQTuFI0HarSFB1pofQUJ8HUHgqhpB6QsZQTfyFkE8UxZBLdkTQaGlE0H6NRFBO8AOQe0iDUEYCQtB2s0JQenIBkGOOQVBr44DQT2WAUGMFgBBbTn8QAeA+EBZ+PNALjjvQIpJ6kDYKOdAclLgQLaS3ED5nthABfbSQJJTzEAFH8lAbOHDQIUlwECubLpAmoG2QNlArkAA4qpAssukQLSBnUAvDZRAUZOKQMJNhUAPsIJAR6h/QLFbckCYqGpAh3hiQInoWkC6fVVAukhKQC1BPkBqDTNAFzgpQHYqJUBU9xlATMMOQC9kCkBUwwJAUTziP+6N2D8VS8w/ira6P5e5tD8jWZI/+P53P/tFYD8llzw/MHEXP8IrEj/WP80+slI8PvVcqz22A5u8aDbTvT5IQb4sRLO+Dja9vgJY9b7S4AO/4EsHv6TEHr90xzK/g+wpv/ZrM78=",
          "dtype": "f4"
         },
         "y": {
          "bdata": "k14bQbYLHkH+iRpB20UbQUAEHUGd9BtBJ6YbQZYiHUHToBpB7MIZQcfVGEHtAxpBgeUYQbm7F0HHixdBiKwVQaOBFUGWThVBgnYTQVZUEkGjDhBBbCcOQSWSDEGwywlBXwQIQbRjBkFz2ARBEN8CQS/ZAUEAMwBBROf8QK829kD+MOxA/VnmQNau4UDQH91AGEnaQJTl1UDtCtFAoHDLQOWuxECsKr9AKPK5QF1HsUCJuKxAqkCnQOlNo0BSap1ASEWYQAU4kEA7wYtAe0OIQJGRhEDtnnxAdrV1QLf2aUAJql1AVaNVQEV1QUCUDTdAbxIqQE8UHEA8QApAs5z+P9Ba7z9Azcs/ccusP6ZgnT9BYG8/DapcPxYRMj/AwOA+ZOoyPrVpjzzlP1C+9Qi1vhg9Er/TlTa/iL5iv1Y4ir/f6Ke/3QOvv0XOxb94sNu/LEnzv58pAsCt6QnA/ggRwED6GsCukCnAnas0wC0SO8DeQELA3KhGwCxOT8AADVrA1rZjwBeeaMDw9m3A3T15wONAgMDJ2IPAqxWJwB7djsD4RZTAk6iYwLp2nMDT/qDAjt+iwP+zqMAooKzAc9OwwEn/tMBqR7rA1ya9wI3SwMA7g8HAG3XFwLyWxcBLa8nA24jMwMF+zsCHI9HATCHSwGjn1MBP6NXAzWjWwMkY2MDIntnANpbawEJu28CUBN3A8ETewIGL38B2SuDAxfDhwBzJ4sBgSOPAmUXkwPcO5cA15OXAv0/nwKGE58AMaejANvjowHTY6cBSYerAvtzqwCk768AReOvALE/rwMwn68BN++nAklrqwB1E6cCif+rAFTrnwAFw5sBuFuXA6f/iwM3H38CP5tzAcYvawLUz2cBmHtbAP5XSwMHT0cBIGNDAROLMwP5cysAgKcjARMPEwJo9xcCKYMLA4bG/wIHfvsBBjrzASu2+wLs5vsBL8rjAzMK1wMgdtMB7RrLAYD+xwAx7rsAPW6zAMjatwE8HrsBvCqnA94mzwP0urMDt0qrA08CrwCzkqcA=",
          "dtype": "f4"
         },
         "z": {
          "bdata": "zz+sQNPwp0Atmq1AhPeqQNkYrUC0E65A+WivQHCMs0A2ea9AzPiqQLgqsUDJ2K5AbZqsQDcurED8g65AkAStQMwyrEAoua5ABM2sQP/1rUCJS6tANCCqQCl4qUA3RahAnyenQOsfp0BJ2KZAVYOnQLUqp0CCpKZARGamQNDQpUBM06RAvuSjQJNqo0C7lKJAp1miQOaSoUBGTaFAzveeQN0PnUCILZxAUQObQMRbmUBRJphA0GWXQPuolkBrJpVA6tyTQFaKkUBkaZBAy5WPQK7ajUAo3YlAvE2IQGkchUB2YIFA5TR9QIa6ckAXx2lAA9ZjQGr6WUDA0k9AZh1IQG+tQkBIoDdA7LgrQF6sJkBTnRhAQoIVQN9uDUA4PgFAc3/mPzn61T+0b78/F1OuP2uzlz8pj4c/TNxoP32tOj+LLgU/xSvwPoh/mT4pMgo+bnA8vfWdOL7Q25y+w7jZvljmF789LVm/0ayFv1Cqlb+Zv6e/0iWzvxHkx79TR+O/Gx77v5ulA8B0bQrAfCsbwPIMJcBp/i3AInM8wAWAS8CL7lrAwV1mwNAVccCEaX7AZvyBwJAgisB+KZDAiduVwPfdm8CQ6KPA5ZWowDk+rsCexrDAACW4wMS8ucDfR7/A8/XFwJUrysBaCNDA9rnTwIrS28A6NuDAd+LkwO8u68CGrO/A0JP1wPHa+8DNzwDBkhkEwQ2PB8GGqAnBehMOwZt/EMEx+hLBz0wWwaRLGsGIOBzBryofwattIcGloiTBptcmwdp+K8FXYS3BCq8wwe+0NMGd5TnBHxg/war5QcF5oEPBfOtEwXlaSME9YkrBzoJMwQ96TsGJ2U/BCqpSwXqeVcHNVljBhaJawZmXW8HTMF7BZ7BgwWeSYcGXLmPBCc1mwUxYZ8GxxWjB8z5qwQKuasETNm3BHkdvwXMWcMG2vHHBeHtxwSbsccGYm3TBoDh3wQkJeMGH63jBowh6wbC/ecHpQnvBfqp7wWyjfMEYJnrB1fp9wb0yfcF5Wn7BZHV+wQkcfcE=",
          "dtype": "f4"
         }
        },
        {
         "line": {
          "color": "rgb(214, 39, 40)"
         },
         "mode": "lines",
         "name": "precue R",
         "type": "scatter3d",
         "x": {
          "bdata": "MiSxPjM8TD6CMIY+SuJmPpeUFD6CawE9l+iEPvyHVz6h3MU+oCP6PtHnEj/oYRM/sWgrP4NSTj8UmRtA/B8qQHLELEDzkilAAswsQFrTNkAGtjhA3gdBQIkFS0BBC0xAyo1SQGt2U0CI8VhAjzBfQM1tW0D7CWZA5bxrQLADjUCmo45A3VqQQKaBk0BymZZA7bGXQDXamkCd+5tA5p6gQLOUo0Dmz6VA/7GoQACeq0B8S69AkLuyQP4WskBCubdAdfe4QJszvUBnDcFAbTXCQAa0xkDrhslAV2/OQPYN0kBOQtVAfp7YQGIB20Baft5Aj9ThQG655ECv0eZA9q7qQKE97UBrSfBAIqPxQNmS80ANcPZAkxz5QGFO+0BkMP5A1EsAQaDeAUGLhwJBPlcEQUHkBEGWrwVBwzIHQRVgCEGM4ghBrDwJQQFfCkHrHAtB9AENQZlNDkEphQ9Bp34QQYplEkHktBRBsd0VQdCJF0G4ExlBEcIZQSywHEFmEB5BByYfQejRIEGApiJBiWYkQWePJ0FC4ShBCuQrQb7dLkHYrC9BG2kyQXedM0G/UTVB4Tk4QcZJOkFYATxBAaU+QauOQEGXDkJByKlDQf+vRkH2D0hBLetKQeTQTEFQek9B7JlRQQ9aVUH6RlhBhDBZQdXrWkG5Kl5BvUFgQRehYUGNPGRB3aJmQRueaUGvz2pBFeptQXTYcEGFinRB/JB1QTuEeUGRGHxB1k1/QQrXgEG3YIJBdAuEQSbphUEfyIZB2DuIQRGAiUE+1opBFpqLQcujjUFcwo5BfrKQQSPMkUGibJNB+t6UQU2vlkG5SphBGZaZQUO7mkH6Ep1BdSieQfX6n0Hs5KFBM0GjQUnEpEEI16ZB0rqoQVm1qUGl36pB6NCsQQu/rkGh9bBB9y2yQbTKskHVErVBqRy3QVZ2uEEJ2LlBVpS8QQIPvkEFYMBBIGjBQU3gwkEy7cNBhIrFQakdyEEQgMlBWFzLQaJbzEGfas5BdhjPQYyE0EGph9FBHzXSQUk31EGjh9VBsT/WQWsR10Gnk9hBgt3ZQYOo2kHSE9tBax7cQbek3EGtH91Bz+neQUVH30FjLOBB/SfhQT0i4kHHTONBEJnjQb6N40G8Q+RBWNnkQQTf5UHuVOZBu0nmQTq75kFT+eZBF93nQXc76UGQaulBVbrpQUPC6kFRDOtB9n3rQeFn60Hg6OtBD/LqQQ==",
          "dtype": "f4"
         },
         "y": {
          "bdata": "RzI0QSlMNUECcTRB51szQTQHNkE9EzNBfrY0QZ4pNUH05TVBCTA2QfpwNkGk5zVBAA41QciONUF7Dy9BEtUtQQepLUG6GS5Bn0QtQQaEK0HXiStB/2wqQWrJKEGkbShBc9UnQVr4JkEI9SVBD2gkQX5yJUF1yyJBhkMhQfh+E0EUUBJBplgRQZxTD0HcJg1BLNgLQRSsCUF7hQhBTaIEQZIyAUFDSv5ANAv5QDbI8kD6pexAdGDoQA1i5kCI591A/djbQN5R1EBuPs5A3cDLQHW2xEDWKMBAtEG4QEe/skCO1KxAnBCmQLMeokDcMpxA1lGWQBZFkECgLYxAPzSEQPbhfEDKc3BAqINmQJw0W0CJkk5A72lDQE6zNUBERiVAJsAZQBqJCUAhFAJADpvgP8ZQ1T8cO8Q/dSmkP/Fcjz+WhHo/6ARsP3SNPT+vsyA/kSi1PsXyFT7cna08AhPqvXWyi75UAeO+VE8Hv7dBI79xTzq/iaRDvzWEZr+3mHe/Lb2Cv+V/iL/f25G/9TGWv4Ucnr8ur6C/KSOmv04/q7/eFKi/e2WovwGapL/9maS/uo+cvwoVmb+COYu//l2Gv+/ZeL9tvWq/D89bv3dfRL97MDi/CpEgv/NSEL+c5O6+nWbEvhRMg77f7RG+n8sJvosZX70qPI87QgjKPetjGD54BH0+2++rPrjc1D6EheQ+xnAJPxusJz9h6jc/fwVGP8czUj9QYls/WsZmP5+7dD89mYI/1BSLP1cflj9YaZc/aO2fP4S7pz+jv68/8sCzP5DCvz++cMU/cAHUP3BV2j8/JOU/JobtP4BY+D83xQBA128DQDFQB0DqfwpArI8NQIY+EUCQ8hVA3UYZQMKoG0B3hh9AEOwiQItrJEAp7yVAvQcpQCJWLED5zDBAkVcyQHDqMkDP2DZAkFM5QATKOkDimTxADYc/QAROQUBS6UNAsdxEQOtgR0B6zEhAFKlKQLyGUECp6VJABdVXQIcGXkBpglpAxhJiQJ8xaEA3V2NATK5lQFsxbEAmSnFADAN0QDDqdUAFdnNA6ox+QNhPgEBnR4JA69yFQP4xh0AAN4hAvpyMQId5i0CqHY9A0QmTQJX0lUCziJlARuGaQP2pm0BxP55A7qieQEU4okDXCadAE5CjQIAvpUAa86VAj42pQOplr0CLN7BAje+xQAK1tkCh+LdAagW6QK6duUBuqbtAsNi3QA==",
          "dtype": "f4"
         },
         "z": {
          "bdata": "LXwcQHyCFUCIiBZAQ7YTQKdIHUDzuhdAYbUeQDEiHED/shxAu4ghQKhdJEC+ZydAhnAxQA69PEBgjLBAX0e7QKxtvUCfL7tAeNW8QBo3w0A4dcVAGJzLQOKG0kBR2dJAZsrYQNN310AMp9tAcYDfQECF4UCpAeRARv7mQGyzAUEdvgJBsZ8DQT5QBUGX3AZBknsHQea4CEHyHAlBRPAKQVC5C0HibwxBlkkNQbvGDUFVUw5BlfYPQYoID0EDqg9BVswPQRjFD0FRvA9B47kPQR90D0FhNw9BIZ8OQeSUDUE3CQ5BLRgNQc0jDUF0PgxBpuMLQX54C0FsFAtB2X4KQfUOCkEYjAlBpU0JQbj2CEEvaAhBQcsHQcJYB0HFiQZBNNQFQbe7BEE8QQRBj7YCQStFAkH3ZAFBkmD/QATB/ECNJPtATmv6QFtQ90A9PPVAodzvQL3K60BTkehA9jHlQPzk4ECkW9tAf23YQOlU1EAiUNBAfjzOQCVqxkDTGcNAVlvAQJLlu0DM+7ZA+JWyQK7PqkAGb6dATFWgQKtfmUDfK5dA7CSRQMEcjkAg6YlA5yGDQGPFfEDN6XNA/OloQNCbYEC8OlpAl4xTQJ3qRkCITkFAo/s1QKacLkDjwSRA7P8cQHw4EECyDwZAit4DQNr5+z/8Meg/BXHeP+gZ2D/RgMs/+TjAPz1mtj+FcbM/ktunP+79mj/zmpg/CeKRP7srjT/EmYo/isGGP1JYgj9GMno/kjpvP0GYYT8nD2A/2CVWP4ahTD+fCEU/oPs/PzgcMz/FES0/4M8fP0FxGT9vbhA/TrYMP0UKCT+vEwg/hFwGPzf2Dj89XQQ/K/0IP48rCz/tGQ4/TzMQPy1KEj9ffhU/KhkZP8iYGj/aQx0/QWAiP+rWKD/RTDI/95g2P/niNz9+rkM/xrtLP2fQUT+kMlg/x+NiP11baT+oxnI/b1d2P6gpgD9bGoM/AiiGPxbBkT9MQ5Y/ymWfP8v2qj9fK6I/wKuuP55QtD8eFao/eLWtP9UCsz+5xLg/7Rq3P9CRuz/bHbA/xZ68P8pnsj+e86s/mMizPwMzsz9Od7c/4Yi8P+Qrwz93Qro/DSawP2U1tD+hjqY/JeCyP6n6vD9k68A/vJCvP8Y9sD8cLak/zYqwP/P2tT/OB64/sYeyP+zguD/6F78/dDi0P7hltT8shrY/mq2xP88Erj+obrQ/AJ6rPw==",
          "dtype": "f4"
         }
        }
       ],
       "layout": {
        "legend": {
         "itemsizing": "constant"
        },
        "margin": {
         "b": 10,
         "l": 10,
         "r": 10,
         "t": 40
        },
        "scene": {
         "aspectmode": "data",
         "bgcolor": "rgba(0,0,0,0)",
         "camera": {
          "eye": {
           "x": 1.5,
           "y": 1.5,
           "z": 1.5
          }
         },
         "xaxis": {
          "showbackground": false,
          "title": {
           "text": "UMAP1"
          }
         },
         "yaxis": {
          "showbackground": false,
          "title": {
           "text": "UMAP2"
          }
         },
         "zaxis": {
          "showbackground": false,
          "title": {
           "text": "UMAP3"
          }
         }
        },
        "template": {
         "data": {
          "bar": [
           {
            "error_x": {
             "color": "#2a3f5f"
            },
            "error_y": {
             "color": "#2a3f5f"
            },
            "marker": {
             "line": {
              "color": "#E5ECF6",
              "width": 0.5
             },
             "pattern": {
              "fillmode": "overlay",
              "size": 10,
              "solidity": 0.2
             }
            },
            "type": "bar"
           }
          ],
          "barpolar": [
           {
            "marker": {
             "line": {
              "color": "#E5ECF6",
              "width": 0.5
             },
             "pattern": {
              "fillmode": "overlay",
              "size": 10,
              "solidity": 0.2
             }
            },
            "type": "barpolar"
           }
          ],
          "carpet": [
           {
            "aaxis": {
             "endlinecolor": "#2a3f5f",
             "gridcolor": "white",
             "linecolor": "white",
             "minorgridcolor": "white",
             "startlinecolor": "#2a3f5f"
            },
            "baxis": {
             "endlinecolor": "#2a3f5f",
             "gridcolor": "white",
             "linecolor": "white",
             "minorgridcolor": "white",
             "startlinecolor": "#2a3f5f"
            },
            "type": "carpet"
           }
          ],
          "choropleth": [
           {
            "colorbar": {
             "outlinewidth": 0,
             "ticks": ""
            },
            "type": "choropleth"
           }
          ],
          "contour": [
           {
            "colorbar": {
             "outlinewidth": 0,
             "ticks": ""
            },
            "colorscale": [
             [
              0,
              "#0d0887"
             ],
             [
              0.1111111111111111,
              "#46039f"
             ],
             [
              0.2222222222222222,
              "#7201a8"
             ],
             [
              0.3333333333333333,
              "#9c179e"
             ],
             [
              0.4444444444444444,
              "#bd3786"
             ],
             [
              0.5555555555555556,
              "#d8576b"
             ],
             [
              0.6666666666666666,
              "#ed7953"
             ],
             [
              0.7777777777777778,
              "#fb9f3a"
             ],
             [
              0.8888888888888888,
              "#fdca26"
             ],
             [
              1,
              "#f0f921"
             ]
            ],
            "type": "contour"
           }
          ],
          "contourcarpet": [
           {
            "colorbar": {
             "outlinewidth": 0,
             "ticks": ""
            },
            "type": "contourcarpet"
           }
          ],
          "heatmap": [
           {
            "colorbar": {
             "outlinewidth": 0,
             "ticks": ""
            },
            "colorscale": [
             [
              0,
              "#0d0887"
             ],
             [
              0.1111111111111111,
              "#46039f"
             ],
             [
              0.2222222222222222,
              "#7201a8"
             ],
             [
              0.3333333333333333,
              "#9c179e"
             ],
             [
              0.4444444444444444,
              "#bd3786"
             ],
             [
              0.5555555555555556,
              "#d8576b"
             ],
             [
              0.6666666666666666,
              "#ed7953"
             ],
             [
              0.7777777777777778,
              "#fb9f3a"
             ],
             [
              0.8888888888888888,
              "#fdca26"
             ],
             [
              1,
              "#f0f921"
             ]
            ],
            "type": "heatmap"
           }
          ],
          "histogram": [
           {
            "marker": {
             "pattern": {
              "fillmode": "overlay",
              "size": 10,
              "solidity": 0.2
             }
            },
            "type": "histogram"
           }
          ],
          "histogram2d": [
           {
            "colorbar": {
             "outlinewidth": 0,
             "ticks": ""
            },
            "colorscale": [
             [
              0,
              "#0d0887"
             ],
             [
              0.1111111111111111,
              "#46039f"
             ],
             [
              0.2222222222222222,
              "#7201a8"
             ],
             [
              0.3333333333333333,
              "#9c179e"
             ],
             [
              0.4444444444444444,
              "#bd3786"
             ],
             [
              0.5555555555555556,
              "#d8576b"
             ],
             [
              0.6666666666666666,
              "#ed7953"
             ],
             [
              0.7777777777777778,
              "#fb9f3a"
             ],
             [
              0.8888888888888888,
              "#fdca26"
             ],
             [
              1,
              "#f0f921"
             ]
            ],
            "type": "histogram2d"
           }
          ],
          "histogram2dcontour": [
           {
            "colorbar": {
             "outlinewidth": 0,
             "ticks": ""
            },
            "colorscale": [
             [
              0,
              "#0d0887"
             ],
             [
              0.1111111111111111,
              "#46039f"
             ],
             [
              0.2222222222222222,
              "#7201a8"
             ],
             [
              0.3333333333333333,
              "#9c179e"
             ],
             [
              0.4444444444444444,
              "#bd3786"
             ],
             [
              0.5555555555555556,
              "#d8576b"
             ],
             [
              0.6666666666666666,
              "#ed7953"
             ],
             [
              0.7777777777777778,
              "#fb9f3a"
             ],
             [
              0.8888888888888888,
              "#fdca26"
             ],
             [
              1,
              "#f0f921"
             ]
            ],
            "type": "histogram2dcontour"
           }
          ],
          "mesh3d": [
           {
            "colorbar": {
             "outlinewidth": 0,
             "ticks": ""
            },
            "type": "mesh3d"
           }
          ],
          "parcoords": [
           {
            "line": {
             "colorbar": {
              "outlinewidth": 0,
              "ticks": ""
             }
            },
            "type": "parcoords"
           }
          ],
          "pie": [
           {
            "automargin": true,
            "type": "pie"
           }
          ],
          "scatter": [
           {
            "fillpattern": {
             "fillmode": "overlay",
             "size": 10,
             "solidity": 0.2
            },
            "type": "scatter"
           }
          ],
          "scatter3d": [
           {
            "line": {
             "colorbar": {
              "outlinewidth": 0,
              "ticks": ""
             }
            },
            "marker": {
             "colorbar": {
              "outlinewidth": 0,
              "ticks": ""
             }
            },
            "type": "scatter3d"
           }
          ],
          "scattercarpet": [
           {
            "marker": {
             "colorbar": {
              "outlinewidth": 0,
              "ticks": ""
             }
            },
            "type": "scattercarpet"
           }
          ],
          "scattergeo": [
           {
            "marker": {
             "colorbar": {
              "outlinewidth": 0,
              "ticks": ""
             }
            },
            "type": "scattergeo"
           }
          ],
          "scattergl": [
           {
            "marker": {
             "colorbar": {
              "outlinewidth": 0,
              "ticks": ""
             }
            },
            "type": "scattergl"
           }
          ],
          "scattermap": [
           {
            "marker": {
             "colorbar": {
              "outlinewidth": 0,
              "ticks": ""
             }
            },
            "type": "scattermap"
           }
          ],
          "scattermapbox": [
           {
            "marker": {
             "colorbar": {
              "outlinewidth": 0,
              "ticks": ""
             }
            },
            "type": "scattermapbox"
           }
          ],
          "scatterpolar": [
           {
            "marker": {
             "colorbar": {
              "outlinewidth": 0,
              "ticks": ""
             }
            },
            "type": "scatterpolar"
           }
          ],
          "scatterpolargl": [
           {
            "marker": {
             "colorbar": {
              "outlinewidth": 0,
              "ticks": ""
             }
            },
            "type": "scatterpolargl"
           }
          ],
          "scatterternary": [
           {
            "marker": {
             "colorbar": {
              "outlinewidth": 0,
              "ticks": ""
             }
            },
            "type": "scatterternary"
           }
          ],
          "surface": [
           {
            "colorbar": {
             "outlinewidth": 0,
             "ticks": ""
            },
            "colorscale": [
             [
              0,
              "#0d0887"
             ],
             [
              0.1111111111111111,
              "#46039f"
             ],
             [
              0.2222222222222222,
              "#7201a8"
             ],
             [
              0.3333333333333333,
              "#9c179e"
             ],
             [
              0.4444444444444444,
              "#bd3786"
             ],
             [
              0.5555555555555556,
              "#d8576b"
             ],
             [
              0.6666666666666666,
              "#ed7953"
             ],
             [
              0.7777777777777778,
              "#fb9f3a"
             ],
             [
              0.8888888888888888,
              "#fdca26"
             ],
             [
              1,
              "#f0f921"
             ]
            ],
            "type": "surface"
           }
          ],
          "table": [
           {
            "cells": {
             "fill": {
              "color": "#EBF0F8"
             },
             "line": {
              "color": "white"
             }
            },
            "header": {
             "fill": {
              "color": "#C8D4E3"
             },
             "line": {
              "color": "white"
             }
            },
            "type": "table"
           }
          ]
         },
         "layout": {
          "annotationdefaults": {
           "arrowcolor": "#2a3f5f",
           "arrowhead": 0,
           "arrowwidth": 1
          },
          "autotypenumbers": "strict",
          "coloraxis": {
           "colorbar": {
            "outlinewidth": 0,
            "ticks": ""
           }
          },
          "colorscale": {
           "diverging": [
            [
             0,
             "#8e0152"
            ],
            [
             0.1,
             "#c51b7d"
            ],
            [
             0.2,
             "#de77ae"
            ],
            [
             0.3,
             "#f1b6da"
            ],
            [
             0.4,
             "#fde0ef"
            ],
            [
             0.5,
             "#f7f7f7"
            ],
            [
             0.6,
             "#e6f5d0"
            ],
            [
             0.7,
             "#b8e186"
            ],
            [
             0.8,
             "#7fbc41"
            ],
            [
             0.9,
             "#4d9221"
            ],
            [
             1,
             "#276419"
            ]
           ],
           "sequential": [
            [
             0,
             "#0d0887"
            ],
            [
             0.1111111111111111,
             "#46039f"
            ],
            [
             0.2222222222222222,
             "#7201a8"
            ],
            [
             0.3333333333333333,
             "#9c179e"
            ],
            [
             0.4444444444444444,
             "#bd3786"
            ],
            [
             0.5555555555555556,
             "#d8576b"
            ],
            [
             0.6666666666666666,
             "#ed7953"
            ],
            [
             0.7777777777777778,
             "#fb9f3a"
            ],
            [
             0.8888888888888888,
             "#fdca26"
            ],
            [
             1,
             "#f0f921"
            ]
           ],
           "sequentialminus": [
            [
             0,
             "#0d0887"
            ],
            [
             0.1111111111111111,
             "#46039f"
            ],
            [
             0.2222222222222222,
             "#7201a8"
            ],
            [
             0.3333333333333333,
             "#9c179e"
            ],
            [
             0.4444444444444444,
             "#bd3786"
            ],
            [
             0.5555555555555556,
             "#d8576b"
            ],
            [
             0.6666666666666666,
             "#ed7953"
            ],
            [
             0.7777777777777778,
             "#fb9f3a"
            ],
            [
             0.8888888888888888,
             "#fdca26"
            ],
            [
             1,
             "#f0f921"
            ]
           ]
          },
          "colorway": [
           "#636efa",
           "#EF553B",
           "#00cc96",
           "#ab63fa",
           "#FFA15A",
           "#19d3f3",
           "#FF6692",
           "#B6E880",
           "#FF97FF",
           "#FECB52"
          ],
          "font": {
           "color": "#2a3f5f"
          },
          "geo": {
           "bgcolor": "white",
           "lakecolor": "white",
           "landcolor": "#E5ECF6",
           "showlakes": true,
           "showland": true,
           "subunitcolor": "white"
          },
          "hoverlabel": {
           "align": "left"
          },
          "hovermode": "closest",
          "mapbox": {
           "style": "light"
          },
          "paper_bgcolor": "white",
          "plot_bgcolor": "#E5ECF6",
          "polar": {
           "angularaxis": {
            "gridcolor": "white",
            "linecolor": "white",
            "ticks": ""
           },
           "bgcolor": "#E5ECF6",
           "radialaxis": {
            "gridcolor": "white",
            "linecolor": "white",
            "ticks": ""
           }
          },
          "scene": {
           "xaxis": {
            "backgroundcolor": "#E5ECF6",
            "gridcolor": "white",
            "gridwidth": 2,
            "linecolor": "white",
            "showbackground": true,
            "ticks": "",
            "zerolinecolor": "white"
           },
           "yaxis": {
            "backgroundcolor": "#E5ECF6",
            "gridcolor": "white",
            "gridwidth": 2,
            "linecolor": "white",
            "showbackground": true,
            "ticks": "",
            "zerolinecolor": "white"
           },
           "zaxis": {
            "backgroundcolor": "#E5ECF6",
            "gridcolor": "white",
            "gridwidth": 2,
            "linecolor": "white",
            "showbackground": true,
            "ticks": "",
            "zerolinecolor": "white"
           }
          },
          "shapedefaults": {
           "line": {
            "color": "#2a3f5f"
           }
          },
          "ternary": {
           "aaxis": {
            "gridcolor": "white",
            "linecolor": "white",
            "ticks": ""
           },
           "baxis": {
            "gridcolor": "white",
            "linecolor": "white",
            "ticks": ""
           },
           "bgcolor": "#E5ECF6",
           "caxis": {
            "gridcolor": "white",
            "linecolor": "white",
            "ticks": ""
           }
          },
          "title": {
           "x": 0.05
          },
          "xaxis": {
           "automargin": true,
           "gridcolor": "white",
           "linecolor": "white",
           "ticks": "",
           "title": {
            "standoff": 15
           },
           "zerolinecolor": "white",
           "zerolinewidth": 2
          },
          "yaxis": {
           "automargin": true,
           "gridcolor": "white",
           "linecolor": "white",
           "ticks": "",
           "title": {
            "standoff": 15
           },
           "zerolinecolor": "white",
           "zerolinewidth": 2
          }
         }
        },
        "title": {
         "text": "session: bex_20230630_spikes_sorted_SES<br>area: dlpfc"
        }
       }
      }
     },
     "metadata": {},
     "output_type": "display_data"
    },
    {
     "data": {
      "application/vnd.plotly.v1+json": {
       "config": {
        "plotlyServerURL": "https://plot.ly"
       },
       "data": [
        {
         "line": {
          "color": "rgb(31, 119, 180)"
         },
         "mode": "lines",
         "name": "homing L",
         "type": "scatter3d",
         "x": {
          "bdata": "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",
          "dtype": "f4"
         },
         "y": {
          "bdata": "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",
          "dtype": "f4"
         },
         "z": {
          "bdata": "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",
          "dtype": "f4"
         }
        },
        {
         "line": {
          "color": "rgb(255, 127, 14)"
         },
         "mode": "lines",
         "name": "homing R",
         "type": "scatter3d",
         "x": {
          "bdata": "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",
          "dtype": "f4"
         },
         "y": {
          "bdata": "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",
          "dtype": "f4"
         },
         "z": {
          "bdata": "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",
          "dtype": "f4"
         }
        },
        {
         "line": {
          "color": "rgb(44, 160, 44)"
         },
         "mode": "lines",
         "name": "precue L",
         "type": "scatter3d",
         "x": {
          "bdata": "Ya0JQfidC0GMCwpBeOYLQbFCCkH3PwpBpGYNQYTUDkHaRg9Bjq4SQWpmFEGophVBaPsVQWXtGUEGPh1BRGQhQRbWJEHcKCZBCvkoQR2lLUGHQTBB6+wxQTMrNUFTrjZBWQ47QSvaPUFutz9B7dZAQYuXQ0GXJUZB7pxIQUb1SkFcuExBLKpOQTiAUEE2LFJBysBTQUv9VEELLFZBBXlXQSy4WUHPc1pB+SNcQftQXEGyl1xBBxJdQesqXUF0Rl1BcFJdQYURXUGIFl1B1dFcQdarXEHQYFxBp0tcQfeuW0F5U1tBqptaQYLYWUFzcllBhc5YQZBsWEHc2ldBxxJXQQV3VkFk0lVBOF9VQVrFVEHdY1RB/vBTQcHIU0EsZ1NBjx9TQdW6UkECdlJBlC5SQX/iUUE7ilFBK2VRQWcxUUFUAVFB3+ZQQTfDUEF+qlBBdJ5QQdecUEHMvFBB67ZQQb3QUEHK7lBB2i5RQV6RUUHtp1FByEdSQVzGUkHAO1NBwq5TQfwdVEFvg1RBC4ZUQSRjVUGqO1ZB9wdXQXEoWEE6AFlBd05ZQRsXWkHvb1pBz1JbQYYBXEEiqVxBT4JdQXq+XUFrQF5BoJteQaf6XkHDrF9B4QhgQZVSYEFDkmBB47tgQTpGYkF2SGNBm41jQUelZEHgTGRBQCxlQaKAZUF94GVBMxBmQcaxZkFV7GZBvxtnQb0iZ0FLGWdBK3NmQbW3Z0GHNWdBI9BlQcnqZEGxeWRBedViQRNEYUEgVV9BzHZeQRFXXUEUO1tBU+ZZQRlDV0ECW1ZBc01VQW/CUkGK/1BB0EFPQVBCTUEb4UtBgVdJQQIdRUE3l0NB9KpAQZNnP0H2Gz1B+b06QfM3OEHhyzRB6lwzQa5IMUEy4i1BX3crQUXVKUEgcidBQmgjQUKbIkFcSx9BNpwdQd/aGkFf6xZBY5EVQfU6E0Hc4A9Bb+YOQcfMDEGOcgpBw+oIQcroCEHXDQhB+pcFQT5/A0GvJQNBV9IDQeG+AkGVYANB",
          "dtype": "f4"
         },
         "y": {
          "bdata": "KkUEQY0EB0He8QNBKIYFQczBBUHt+ARBF0wIQV54BUFwrwZB/P0FQaVeA0GzzQJB+5kCQVVsAEEtUv1A3Y74QMVg9ED6nfJAiUDvQAXs6EBBBuVAFDLjQL6C3kDBINxAOoXVQKiE0ECVo81A+ovLQHhCxkDaJsFAE7m7QNRRtkBxjbFAHGKsQIEbp0CddaFApKGcQJyMl0CHHJNAltyNQEgkhEBtM4BACeZsQP28Z0CEsl9A7sBSQDf+SkBy1z9AmWM0QEj+LEB/DCFAEt4VQKFuDkDUigNAklgAQAFF7T8vj+E/fKXMP28TuD+32as/5qGYP762kD8+xIQ/G8VqPxPHUz8Qkjs/2jcqP6/AGj/eFAU/GxndPuohzj5cka0+W3GSPt30hz4R6YE+UJqAPoTqgD7+KYY+BJWOPlt3lT43H6I+Om+tPpiywT6OS9k+oWb0PrYoDj/mQDY/5iQsP5sANz9L9T4/tXZPP7fcZD9VWmo/vI+EP/pvkD/efps/7famPzaDsj/ajbs/MTXGP09/zz9KpeA/IS7wP8MTAUDuzwhANykLQFvfEUAt/xVASz0cQEC8IUA6NSdAAnguQF+sMEDKNTVA0yk4QN8uO0DkcUBAoyNDQAPuREBV+0ZAX8xIQAMdUEAF0lRARWhWQEJnW0DOuFpAAYdfQAsEYUBoj2NAbBJlQHNHaECCImpAdutrQARPbEDI9WxAwWxqQE20cEClym5AkmdrQJN4aUBIiGhAIpZmQDymZEBPIWRAUhljQAKWYUBxnF9Az31eQOHuXUCdlF1AkkhfQMAgXkAZtV5A/5RcQBrcXkCnpl5A2vRfQE41YkCplGNA1LVkQNuiYkCPz2dAPK5pQKk8bEAmyW9AkU9wQKHeckClr3hAMnl7QF4WgUC5zIBAklaDQILBgkCuMoVAMIOGQLpXiEDbFYdAB1WLQNXpiUBeTYlAh3iLQC3aiUBorYtARIyNQI7qjUDB84hA+uKJQKEOkECe1ZBAnv6NQPHbiUB+f5BA",
          "dtype": "f4"
         },
         "z": {
          "bdata": "GaLaQICn1kAFrNVANAXZQC1i1kCZz9ZAQUrVQIkq3UDvWeBAfADhQFUo4kB/DORAAeDjQJME6EApluxAPurxQIgQ9kDX+fdAyvn6QFVzAEEHBwJBGJ8CQQokBEGq+gRBDZEGQYXKB0F0OApBaCAJQWR1CUGgtQlBuY8JQQ7yCUENwAlBcS0JQYCZCEGGGAdBvuwGQevMBUGDzARBF2YDQfo6AEG7Bv5Aiib3QF5s9UDaWfJA503tQB9l6kC2nOVAZWngQDfH3ED2b9ZAEz3QQMPAy0CErMRA5g/CQM4Su0AvC7ZAkxytQISZokDM951AVdKTQF1djkCNSYhARIp+QGOLcECWBWFAhcBTQCbISUC1aDlAafkkQFoTGkCaJgVAVn7kP+dowD+b3KQ/wViDP9gZNj8Sfw4/VBeoPiXw6D2j++K9Bwp1vinSBr/5sTi/f4B2v+IToL/r68e/+nDiv6GOAcB3wA7ACUEiwDNIM8BZnzzAbkRPwL1hYsCnl2/AvbWAwI1siMAKy47ANNSWwHk5msBFb6LAEKOpwFGxscCKt7jAdsm6wGApwMA2ZcTAzm7KwANF0MDjfNbAB6/ewCjS4sCynurAmMjvwJ/79sBaLADBIroDwZ1cB8GEXwnB+fUMwVrREMFioRPBL7gVwTg5GMFKfBvBbGIgwdQ9IcEu6iXBG6gowRzoLMFGWS/Bve8wwc1ONcFTujfBd1w5wZpkPMGitT3BitFCwYJWRsH5jkjBCndMwWcfUMEFQlPBeiJVwZ9bV8HiBlvBdzZdwceaYMEo3WHBjCljwfxzZsEZYGjBQi1qwZ1FbMF9p23BZgRwwb4mc8FJKHTBdMt1wYOPdcHYcXfBVzx4wfYdecFbHnrBwXx6wWURe8FZTXzBMMd8waDIfMEzIX7BQy1/wSeYfsFqrH/BaSeAweCggMHSeX/B0NWAwemGgMH7uIDBnTyBwR5vgcG1TYLBWoSCwSeHgsG+MoPBfJKDwXI4g8HbA4PBN/iDwa7ehMHyvYPB",
          "dtype": "f4"
         }
        },
        {
         "line": {
          "color": "rgb(214, 39, 40)"
         },
         "mode": "lines",
         "name": "precue R",
         "type": "scatter3d",
         "x": {
          "bdata": "cHicQGOJnUD8hJ5AWJmYQEfem0BJhphA41aWQD2mlUA/85RARLuNQGDwjEDNtopATPaDQMj4gUAX+3xAS85xQE5abEC7SGtAD2NnQD/sYkCaWlpAXcZPQDddS0B7ATxALvU2QCfWL0C7yyZA7zAdQHwZFUCyMApALNz/P+LY8z8ufOc/njPbP303zD8Bg8A/avW4P0q9pD93MJw/yLOKPzavdz9AOGw/CIVZPzKJQz9QaiA/gi0PP9jJ3j62W9s+B8mcPm3qjj6fqzg+QunJPc/jJz1iZfG9yA4OvqBAbb4IYZq+naPrvrcQDr+7LiK/NxpGv7d8Xb8s5me/rtd1v2ithr9CVY2/3uSavyjmp7+iy7G/1dC1v3dLwL9THMq/6hnPvwc+1r+3u9a/V9jfv1EI479FkOu/Z/btv8sv879cIfW//aj3vyF7+7/+KPy/SG4AwKt2/b8wfv2/Aqn9vy7t+795Rfm/ZN72vwUq87/3au+/gXzsv+Kd5r9yTOC/12XavzWN178StdK/TdXOv6lsxb+srMC/mhS6v+Fztr8qhqy/YsKzv1lerL/0Bqq/IPamv/2dor/+yqG/ci2bv3lOlb+335m/oe2Qv9TZk7+obJO/nJaWv2Qilr89TJe/p0uav1pmnb9FIqK/ET+lv9Wgpb9NwK2/cFKuv7XWs78TH7m/LRnDvwsgyr/OWNC/ayDXvwkO3r8eReG/J27qv6u0678vPu+/vsryv9tS/L8+LwLARBkKwPSCEcBe5RTAofYawBWkIMB0lyTAkY8qwNn7MMDwnzbAEzI7wLGTRMBc6UfAQjJQwKV+VMAOL1rACLpbwKSlXsBJf2PAnXZqwPngbMDy1XDAAe93wKomesB3nH/ABsF+wB1pgMDYi4HAc5eBwIsag8DgDoHAY5+DwP3vgsDfX4XAZWaDwIWBgcBDiIPAWgSDwLAmg8DBKoLAz96CwCKzgsBE5oLAK1aDwJnGg8BKtoTA1kaFwD2BhcCmIIbAL5+GwNQth8DnmIfA7xaIwC9aiMCyGIrA/VGMwB0ajMDT54zATrKPwGhcjsCUyY/AeMeQwAb5j8CXHpTA8XWVwDm/kcCYSZTAgPqTwFD2ksBqspPAHQmXwEGUlMBF95bAClSYwFIEm8BhFZnAuwGbwCkDnMCB9JvAvP2dwEBtn8Bsip/APe6hwA==",
          "dtype": "f4"
         },
         "y": {
          "bdata": "IFu4v4UXsL+XLLi/8LS3v2Hkub9bwbW/mVa1v8RQrb+/pJ+/geWev72jnL8+V5i/sguMvybmhr9whX2/6LZiv+XSVL9HIU+/krhFv34XPb80dim/A1wRvzzOA7+sEbS+yL2YvoTgTr5nn9C96dyDPGpw7z3Rh4I+1q3LPifv9T578RE/d9MpP2xCTD8li2U/XiR3P/nLlT8kTaI/uKK7P9gc0j+2V9w/Bn/rP6db/D++KA5AoGEWQKDwJUD3pCxA+5k0QGrZOkDFGExA9mdVQMLHXkC4tnBAUF13QGz+gEDSAIZAyniPQPF5lECF75lA9aGiQE+6p0CltatAXq6wQNoktUCVELxAaHvCQATMx0CkpMtAh1TPQONo1kAi/d5A8nzjQB5x6UD6Bu5Amaf0QHgI+ECw9v1A1qABQV+TBEEmhgdBSeUJQZAuDkGqARBBlTcTQeLjE0EAkxZBD+cXQcT0GUG00xxB1QYfQcCcIEGdSyNBNPgkQTknKEGAJitBaMItQbWKL0E+fDBBLKoxQYdbNEEZ3zVBjPs3QY46OUHzAztBi506QQ3+PEHSCj5BJ9k+QdFMQEHTrEBBKEBCQWnhQ0GAoENBIPNEQUFaRUEFh0VBkt1FQQx3RkGxp0ZB4QhHQdBoR0GY70dBFihIQd4rSEHHnEhBFHlIQcOhSEFiuEhB78lIQRS+SEHAtEhBOX5IQf00SEH9DUhBHpZHQd5kR0GzA0dBmKVGQTicRUFXn0RB8rxCQbjlQEESDkBBe4Q+QfMMPUFPCjxBiXA6QWCwOEHYHTdBN8U1Qcb3MkE39zFBEkovQYOZLUH3wCtBWjgrQRK8KUH4zSdBvqEkQXiDI0GRdSFBMp4eQepUHUHWLxxB0WsaQcanF0EbQRVB5v0TQZxIEkHTChFBFNQNQRbeC0HFyglBazUIQZtyBUFbdQJBcLwBQWbW+0BHD/pAMNL1QEUe9EAoxOtA2qHnQL1A5EAa/t1AeZTXQEpL1UDsA85AYa/KQAfbwUDn0r9AH6S6QHfOtkAOarNA7ViwQPy9rEA19apAmlCkQLISokCGs5pAdAaYQDT7kkCmeJFA5rmMQLg3ikDhzIRAQeqAQIFydUAzL3dAAQ1qQBcBZkCw0mFAWIFiQDXYXkASZ1lAp5hXQJDxUUCR5k5AnMpNQD8+SUA40UhAhLZEQA==",
          "dtype": "f4"
         },
         "z": {
          "bdata": "9UOKQDBUi0C7T4xAWGaGQPOqiUAMUIZA8SKEQOh7g0Ae1IJAdA93QLFrdUB90XBAxY5iQOWbXkB/E1dAFQVLQOHKRECL10NAwic/QFmbOUAz3y5A5M8gQI9zG0AbswdAr+MAQF348D8S9Nc/m5G/P/w/qz8JqI4/6uhsP0IpTj90mi8/biQQP4XH4D5f268+C7SQPgf7/j2kOIk9onpcvYX9Cr473yG+KqNKvrDLgL6OQZS+siefvsiQsr6qEp++WWzHvoA5xL4a5Me+w//OvhqNzr40K9C+OOPHvh4Mub5VwKu+BvGKvvxAaL7R30C+HNznvcPeSb1+2w69lBATO4KmEz2OyxE+hrZePi3anj5WQcY+cTjiPgjiET+LTzk/2o5PP1uAcT8rlIU/JImXP/bpoT/2WLY/VSPIP+ue3T+qpPM/gwQDQFAwFEB06xtAXP4pQG4JLUBu2ThA2cw/QAPySUCruldAPFxkQOjKbUC8cnxA2ASDQGd9jEA3M5ZAyZWeQLkhpUAmCKlAmCmtQOfqtkBf5rxAIaLFQGGHy0CM2s5Aa8jSQCe33kCf0+RATYLoQCg78EAM1fNAQ4/7QMm3AUGJQQVBFHUHQdD5CUF00AtBo90QQXDwEkGNWxVBFekZQSxoHkELJiNB32smQSsVKEHQeCxB6UIwQZYrM0H1RjZBXjw8QVo6QEHht0NBkENHQZkQS0GH1k1BEgRRQcPWUkGcD1VBildXQar7WkFQBF5Bdc1jQehXaEGKnmpBIk9uQVC8cUFcHXRBL053QfB+ekGmHX1BxXd/QQ/ngUGrqoJBro+EQaTVhUGcHYdBlZWHQbS0iEGY/IlBTjGMQRrvjEHhT45BPf6PQd3TkEGvhZFB03+SQXLzk0HjJZVB7LGVQbxtlkExCJdBsUGYQcH1mEEOm5lBuTyaQQ3hmkEGzZtBkP+bQdO7nEGqB51Bkz2dQUNvnUFAFJ5B/n6eQbjQnkFvW59BoPqfQUIwoEE8IqFBu4qhQSe7okFfAqNBl7yjQTdBpEFNKqVBuPClQRyfpkGH3KZBgOinQRo2qEF6L6lBcZCpQZfAqUH52qpBBIOrQQ3cqkGUn6tBZ+erQcdFrEE4SqxBe12tQVeBrUFrFq5BrjquQXesrkFkDK9BXZivQV9ssEHPI7FB/EOxQYWusUHApbFBITCxQQ==",
          "dtype": "f4"
         }
        }
       ],
       "layout": {
        "legend": {
         "itemsizing": "constant"
        },
        "margin": {
         "b": 10,
         "l": 10,
         "r": 10,
         "t": 40
        },
        "scene": {
         "aspectmode": "data",
         "bgcolor": "rgba(0,0,0,0)",
         "camera": {
          "eye": {
           "x": 1.5,
           "y": 1.5,
           "z": 1.5
          }
         },
         "xaxis": {
          "showbackground": false,
          "title": {
           "text": "UMAP1"
          }
         },
         "yaxis": {
          "showbackground": false,
          "title": {
           "text": "UMAP2"
          }
         },
         "zaxis": {
          "showbackground": false,
          "title": {
           "text": "UMAP3"
          }
         }
        },
        "template": {
         "data": {
          "bar": [
           {
            "error_x": {
             "color": "#2a3f5f"
            },
            "error_y": {
             "color": "#2a3f5f"
            },
            "marker": {
             "line": {
              "color": "#E5ECF6",
              "width": 0.5
             },
             "pattern": {
              "fillmode": "overlay",
              "size": 10,
              "solidity": 0.2
             }
            },
            "type": "bar"
           }
          ],
          "barpolar": [
           {
            "marker": {
             "line": {
              "color": "#E5ECF6",
              "width": 0.5
             },
             "pattern": {
              "fillmode": "overlay",
              "size": 10,
              "solidity": 0.2
             }
            },
            "type": "barpolar"
           }
          ],
          "carpet": [
           {
            "aaxis": {
             "endlinecolor": "#2a3f5f",
             "gridcolor": "white",
             "linecolor": "white",
             "minorgridcolor": "white",
             "startlinecolor": "#2a3f5f"
            },
            "baxis": {
             "endlinecolor": "#2a3f5f",
             "gridcolor": "white",
             "linecolor": "white",
             "minorgridcolor": "white",
             "startlinecolor": "#2a3f5f"
            },
            "type": "carpet"
           }
          ],
          "choropleth": [
           {
            "colorbar": {
             "outlinewidth": 0,
             "ticks": ""
            },
            "type": "choropleth"
           }
          ],
          "contour": [
           {
            "colorbar": {
             "outlinewidth": 0,
             "ticks": ""
            },
            "colorscale": [
             [
              0,
              "#0d0887"
             ],
             [
              0.1111111111111111,
              "#46039f"
             ],
             [
              0.2222222222222222,
              "#7201a8"
             ],
             [
              0.3333333333333333,
              "#9c179e"
             ],
             [
              0.4444444444444444,
              "#bd3786"
             ],
             [
              0.5555555555555556,
              "#d8576b"
             ],
             [
              0.6666666666666666,
              "#ed7953"
             ],
             [
              0.7777777777777778,
              "#fb9f3a"
             ],
             [
              0.8888888888888888,
              "#fdca26"
             ],
             [
              1,
              "#f0f921"
             ]
            ],
            "type": "contour"
           }
          ],
          "contourcarpet": [
           {
            "colorbar": {
             "outlinewidth": 0,
             "ticks": ""
            },
            "type": "contourcarpet"
           }
          ],
          "heatmap": [
           {
            "colorbar": {
             "outlinewidth": 0,
             "ticks": ""
            },
            "colorscale": [
             [
              0,
              "#0d0887"
             ],
             [
              0.1111111111111111,
              "#46039f"
             ],
             [
              0.2222222222222222,
              "#7201a8"
             ],
             [
              0.3333333333333333,
              "#9c179e"
             ],
             [
              0.4444444444444444,
              "#bd3786"
             ],
             [
              0.5555555555555556,
              "#d8576b"
             ],
             [
              0.6666666666666666,
              "#ed7953"
             ],
             [
              0.7777777777777778,
              "#fb9f3a"
             ],
             [
              0.8888888888888888,
              "#fdca26"
             ],
             [
              1,
              "#f0f921"
             ]
            ],
            "type": "heatmap"
           }
          ],
          "histogram": [
           {
            "marker": {
             "pattern": {
              "fillmode": "overlay",
              "size": 10,
              "solidity": 0.2
             }
            },
            "type": "histogram"
           }
          ],
          "histogram2d": [
           {
            "colorbar": {
             "outlinewidth": 0,
             "ticks": ""
            },
            "colorscale": [
             [
              0,
              "#0d0887"
             ],
             [
              0.1111111111111111,
              "#46039f"
             ],
             [
              0.2222222222222222,
              "#7201a8"
             ],
             [
              0.3333333333333333,
              "#9c179e"
             ],
             [
              0.4444444444444444,
              "#bd3786"
             ],
             [
              0.5555555555555556,
              "#d8576b"
             ],
             [
              0.6666666666666666,
              "#ed7953"
             ],
             [
              0.7777777777777778,
              "#fb9f3a"
             ],
             [
              0.8888888888888888,
              "#fdca26"
             ],
             [
              1,
              "#f0f921"
             ]
            ],
            "type": "histogram2d"
           }
          ],
          "histogram2dcontour": [
           {
            "colorbar": {
             "outlinewidth": 0,
             "ticks": ""
            },
            "colorscale": [
             [
              0,
              "#0d0887"
             ],
             [
              0.1111111111111111,
              "#46039f"
             ],
             [
              0.2222222222222222,
              "#7201a8"
             ],
             [
              0.3333333333333333,
              "#9c179e"
             ],
             [
              0.4444444444444444,
              "#bd3786"
             ],
             [
              0.5555555555555556,
              "#d8576b"
             ],
             [
              0.6666666666666666,
              "#ed7953"
             ],
             [
              0.7777777777777778,
              "#fb9f3a"
             ],
             [
              0.8888888888888888,
              "#fdca26"
             ],
             [
              1,
              "#f0f921"
             ]
            ],
            "type": "histogram2dcontour"
           }
          ],
          "mesh3d": [
           {
            "colorbar": {
             "outlinewidth": 0,
             "ticks": ""
            },
            "type": "mesh3d"
           }
          ],
          "parcoords": [
           {
            "line": {
             "colorbar": {
              "outlinewidth": 0,
              "ticks": ""
             }
            },
            "type": "parcoords"
           }
          ],
          "pie": [
           {
            "automargin": true,
            "type": "pie"
           }
          ],
          "scatter": [
           {
            "fillpattern": {
             "fillmode": "overlay",
             "size": 10,
             "solidity": 0.2
            },
            "type": "scatter"
           }
          ],
          "scatter3d": [
           {
            "line": {
             "colorbar": {
              "outlinewidth": 0,
              "ticks": ""
             }
            },
            "marker": {
             "colorbar": {
              "outlinewidth": 0,
              "ticks": ""
             }
            },
            "type": "scatter3d"
           }
          ],
          "scattercarpet": [
           {
            "marker": {
             "colorbar": {
              "outlinewidth": 0,
              "ticks": ""
             }
            },
            "type": "scattercarpet"
           }
          ],
          "scattergeo": [
           {
            "marker": {
             "colorbar": {
              "outlinewidth": 0,
              "ticks": ""
             }
            },
            "type": "scattergeo"
           }
          ],
          "scattergl": [
           {
            "marker": {
             "colorbar": {
              "outlinewidth": 0,
              "ticks": ""
             }
            },
            "type": "scattergl"
           }
          ],
          "scattermap": [
           {
            "marker": {
             "colorbar": {
              "outlinewidth": 0,
              "ticks": ""
             }
            },
            "type": "scattermap"
           }
          ],
          "scattermapbox": [
           {
            "marker": {
             "colorbar": {
              "outlinewidth": 0,
              "ticks": ""
             }
            },
            "type": "scattermapbox"
           }
          ],
          "scatterpolar": [
           {
            "marker": {
             "colorbar": {
              "outlinewidth": 0,
              "ticks": ""
             }
            },
            "type": "scatterpolar"
           }
          ],
          "scatterpolargl": [
           {
            "marker": {
             "colorbar": {
              "outlinewidth": 0,
              "ticks": ""
             }
            },
            "type": "scatterpolargl"
           }
          ],
          "scatterternary": [
           {
            "marker": {
             "colorbar": {
              "outlinewidth": 0,
              "ticks": ""
             }
            },
            "type": "scatterternary"
           }
          ],
          "surface": [
           {
            "colorbar": {
             "outlinewidth": 0,
             "ticks": ""
            },
            "colorscale": [
             [
              0,
              "#0d0887"
             ],
             [
              0.1111111111111111,
              "#46039f"
             ],
             [
              0.2222222222222222,
              "#7201a8"
             ],
             [
              0.3333333333333333,
              "#9c179e"
             ],
             [
              0.4444444444444444,
              "#bd3786"
             ],
             [
              0.5555555555555556,
              "#d8576b"
             ],
             [
              0.6666666666666666,
              "#ed7953"
             ],
             [
              0.7777777777777778,
              "#fb9f3a"
             ],
             [
              0.8888888888888888,
              "#fdca26"
             ],
             [
              1,
              "#f0f921"
             ]
            ],
            "type": "surface"
           }
          ],
          "table": [
           {
            "cells": {
             "fill": {
              "color": "#EBF0F8"
             },
             "line": {
              "color": "white"
             }
            },
            "header": {
             "fill": {
              "color": "#C8D4E3"
             },
             "line": {
              "color": "white"
             }
            },
            "type": "table"
           }
          ]
         },
         "layout": {
          "annotationdefaults": {
           "arrowcolor": "#2a3f5f",
           "arrowhead": 0,
           "arrowwidth": 1
          },
          "autotypenumbers": "strict",
          "coloraxis": {
           "colorbar": {
            "outlinewidth": 0,
            "ticks": ""
           }
          },
          "colorscale": {
           "diverging": [
            [
             0,
             "#8e0152"
            ],
            [
             0.1,
             "#c51b7d"
            ],
            [
             0.2,
             "#de77ae"
            ],
            [
             0.3,
             "#f1b6da"
            ],
            [
             0.4,
             "#fde0ef"
            ],
            [
             0.5,
             "#f7f7f7"
            ],
            [
             0.6,
             "#e6f5d0"
            ],
            [
             0.7,
             "#b8e186"
            ],
            [
             0.8,
             "#7fbc41"
            ],
            [
             0.9,
             "#4d9221"
            ],
            [
             1,
             "#276419"
            ]
           ],
           "sequential": [
            [
             0,
             "#0d0887"
            ],
            [
             0.1111111111111111,
             "#46039f"
            ],
            [
             0.2222222222222222,
             "#7201a8"
            ],
            [
             0.3333333333333333,
             "#9c179e"
            ],
            [
             0.4444444444444444,
             "#bd3786"
            ],
            [
             0.5555555555555556,
             "#d8576b"
            ],
            [
             0.6666666666666666,
             "#ed7953"
            ],
            [
             0.7777777777777778,
             "#fb9f3a"
            ],
            [
             0.8888888888888888,
             "#fdca26"
            ],
            [
             1,
             "#f0f921"
            ]
           ],
           "sequentialminus": [
            [
             0,
             "#0d0887"
            ],
            [
             0.1111111111111111,
             "#46039f"
            ],
            [
             0.2222222222222222,
             "#7201a8"
            ],
            [
             0.3333333333333333,
             "#9c179e"
            ],
            [
             0.4444444444444444,
             "#bd3786"
            ],
            [
             0.5555555555555556,
             "#d8576b"
            ],
            [
             0.6666666666666666,
             "#ed7953"
            ],
            [
             0.7777777777777778,
             "#fb9f3a"
            ],
            [
             0.8888888888888888,
             "#fdca26"
            ],
            [
             1,
             "#f0f921"
            ]
           ]
          },
          "colorway": [
           "#636efa",
           "#EF553B",
           "#00cc96",
           "#ab63fa",
           "#FFA15A",
           "#19d3f3",
           "#FF6692",
           "#B6E880",
           "#FF97FF",
           "#FECB52"
          ],
          "font": {
           "color": "#2a3f5f"
          },
          "geo": {
           "bgcolor": "white",
           "lakecolor": "white",
           "landcolor": "#E5ECF6",
           "showlakes": true,
           "showland": true,
           "subunitcolor": "white"
          },
          "hoverlabel": {
           "align": "left"
          },
          "hovermode": "closest",
          "mapbox": {
           "style": "light"
          },
          "paper_bgcolor": "white",
          "plot_bgcolor": "#E5ECF6",
          "polar": {
           "angularaxis": {
            "gridcolor": "white",
            "linecolor": "white",
            "ticks": ""
           },
           "bgcolor": "#E5ECF6",
           "radialaxis": {
            "gridcolor": "white",
            "linecolor": "white",
            "ticks": ""
           }
          },
          "scene": {
           "xaxis": {
            "backgroundcolor": "#E5ECF6",
            "gridcolor": "white",
            "gridwidth": 2,
            "linecolor": "white",
            "showbackground": true,
            "ticks": "",
            "zerolinecolor": "white"
           },
           "yaxis": {
            "backgroundcolor": "#E5ECF6",
            "gridcolor": "white",
            "gridwidth": 2,
            "linecolor": "white",
            "showbackground": true,
            "ticks": "",
            "zerolinecolor": "white"
           },
           "zaxis": {
            "backgroundcolor": "#E5ECF6",
            "gridcolor": "white",
            "gridwidth": 2,
            "linecolor": "white",
            "showbackground": true,
            "ticks": "",
            "zerolinecolor": "white"
           }
          },
          "shapedefaults": {
           "line": {
            "color": "#2a3f5f"
           }
          },
          "ternary": {
           "aaxis": {
            "gridcolor": "white",
            "linecolor": "white",
            "ticks": ""
           },
           "baxis": {
            "gridcolor": "white",
            "linecolor": "white",
            "ticks": ""
           },
           "bgcolor": "#E5ECF6",
           "caxis": {
            "gridcolor": "white",
            "linecolor": "white",
            "ticks": ""
           }
          },
          "title": {
           "x": 0.05
          },
          "xaxis": {
           "automargin": true,
           "gridcolor": "white",
           "linecolor": "white",
           "ticks": "",
           "title": {
            "standoff": 15
           },
           "zerolinecolor": "white",
           "zerolinewidth": 2
          },
          "yaxis": {
           "automargin": true,
           "gridcolor": "white",
           "linecolor": "white",
           "ticks": "",
           "title": {
            "standoff": 15
           },
           "zerolinecolor": "white",
           "zerolinewidth": 2
          }
         }
        },
        "title": {
         "text": "session: bex_20230701_spikes_sorted_SES<br>area: dlpfc"
        }
       }
      }
     },
     "metadata": {},
     "output_type": "display_data"
    },
    {
     "data": {
      "application/vnd.plotly.v1+json": {
       "config": {
        "plotlyServerURL": "https://plot.ly"
       },
       "data": [
        {
         "line": {
          "color": "rgb(31, 119, 180)"
         },
         "mode": "lines",
         "name": "gbyk L",
         "type": "scatter3d",
         "x": {
          "bdata": "9GBTQd3mU0HdYVNBMvBRQdXqUEEeFVNB8+RSQbSOUkEa9VFByb5SQQiRUkF+B1NBwAxSQZ1OUkHKr1NBny4nQekTKEHGESlBhjEpQexGJ0GilSlB9nUoQV72JEFjHCRBpPcjQRf6IkEXtyNBjPWVQLC0kkCUS49Aa/aLQJE7i0C6NYNAVgWGQCzTfEDfb4BAoeB0QB6rckAQM11AdVFVQHd6TkAjKkNAGYE4QDb8M0DcaypA598fQP/1EkCJ6gNABljtP6d/4z+Yfcc/t9+pP6RVkD+UDHU/yxs7P2lnLj9kkhQ/IligPr0qJT5ghLO91/tFvtb3n76N0eO+/yQOv9l2O7+3bVu/fz+Bv/B3j79ZO5S/aJmYvy37p79R/q+/GnK1v/3rvL9zS7+/m8bDvx7qx7+shc2/iQjNv/ySy78vw8q/y+DIvySExr8jtcO/lHrCv5pJwb+Wyb2/Y2G7v9RKub8+mba/wqi1v1M7sb9PAKy/X2env9E6o79rl6C/Fxyev7pGnL/GG5q/akKXv/s4lb8mMpK/lyqQv68Yjb+LK42/2HeKv20viL8ObYW/Yc2Cv12ChL812nu/9l1yvz+TZ78Fc1e/q61Wv36YUr8Khkq/bOlCv6Q4Qb9VO0C/I4Exvw1RIr/huxa/6tABv4RHz744ApW+ZcRivoKO370Feqe8F841PTZQJT6V7tc+KA/9Pku5LD8zW2Q/VmiAPyKTmz86r7I/glXMP1Eu3j+mwPk/mAMPQIUIEkBVHh5ARckqQIsnNEAK1kdAhPVRQG2vXkB5BWlA68VzQNp2f0C84IVAnRyKQKnXkUCX2JdAYyacQH8zp0BYk6pAvmqxQEJ/tkAWu7lARqa/QCz9xUC3qs5AaPzTQE/l2EC+ct9AXxvoQM+W7UDIrfJAhcD4QCao/kA8SQBBmykEQVrGBkHNuwlByGoKQZZ8DUGWBA9BoCIRQfahE0GteBVBrx0XQfi7GEFgvhpBlCMdQQz4HUFzfR9B4b8gQd6lIEEyFCFBYX8hQQdCIUGtMSFBpKIhQS0wIEFD3x9BkgkfQR28HkHjRB5BYkUeQXOHHEEFWR1Bh8sbQSpkG0He9xpB5zYaQfwsGUGdVxlB+4gXQa20FkFX2BdBAsgZQQ==",
          "dtype": "f4"
         },
         "y": {
          "bdata": "S5qbQKbNmkDVtJtAlaaeQE61nEB735tAw22cQHq8mkDt3ZxAPdyfQESPnUAWdJxAy0eeQK40mUBzM5hAUAIkQF5HJUAnRypAlokiQLylI0AdDCpAZNIpQMPAGUBBrhRABJIVQOz7EUDAyxRAJZlPPwZWQD+AdzU/E10nP4AwHD8BJBk/x4gjP9YWDD9rciw/NQr8PqQiFT9fYiQ/aT8rP04+OD/VvTY/c6BCP5M7Wz+h4Ek/yKFVP8brYD9Uunk/HSiJP0ADfj91ko8/bpaaP416pT9eNK0/Rf6zP7IuuT/5yLw/GFLQPxHg3D/hm/U/CIwAQDdUBkCvkA1AkQYUQLbgHkCh5ydAazAzQAnfP0A1BEZAD/1NQJITXkA/oWtAE7p1QBilgkCP4YZAHByMQAoLlECpEJtAIpydQCyko0Axd6lAMdyxQIrxuUBwI79AW8LFQArcyECC6tBAz/7WQMEh3ED+YuJAzyzlQL1Q7UDvsPZA9KP+QO3FAkErYwdB6EUKQQU6DUE64A9Bw3cTQRtFFkHksBhBCQQdQWyoH0Fa4yBBOIwkQdUZKEGXgitBJsgsQQgYL0FJejJBDI02QXwhO0EclT1B89FAQdKMQkGBa0VBpM9IQYICSkF8o0xBo7NOQYiqUUEdcFNBHDRWQVlIWUHEU1xBkxNeQbKRYEENfWJB2aVjQTGAZUH7TWlBTGNqQSWNbEFM8m5BbSBwQYEEckG3OnNBO450QUk+dUHpEXZB2iJ3QYAvd0G+pXdBJiV4QUggeEEYxHhBbX94Qf35eEFTgXlBBt55QbptekHCzHpBsB97QSTHe0HaC3xBn0F8QQrYfEF/LH1Bkjx9QYBPfUE7XH1BkGl9QZR/fUHGyX1BbcF9QRVRfkFcDX9BuZd/QQMlgEHlN4BBgHmAQdjLgEFDk4BBpvWAQZangUEnP4JBz1SCQRrlgkFeWoNBBWGDQdmHhEF1UIVBCw2GQYXrhkEHGIhBtrSJQdZuikGKAIxBgjaNQZRvjkEyl49BWhGRQYsZkkESNJNBQxiUQcSFlUG8FJZBPriXQfgXmEEOCplBQayZQXa1mkFKrptB7WucQUo5nUEqDp5BBWefQauLoEE59J9BJh2hQQ5ioEESLqFBQRGgQQ==",
          "dtype": "f4"
         },
         "z": {
          "bdata": "4vGZwKRJn8C1SJ3A8buUwOstl8Ax1pLA9cqSwEgjlMCxrpDAhpqOwEAqicBFvYrAW56HwFyPhMD0eITAS9J0QL6odUCl9nlAd8J3QC0Nf0C3XHNAWeuEQIitgkCLdINAMrqBQNhFgEDQu4NAQZl0QNV/dkAVJ3VA0z51QJjyeEDNzW1A9r5wQOmebEAfd3FA3/NnQAcka0BrY2RAoqxgQCobYECBt19ApyZdQGFAV0BQ9VtAmJlZQGE5WEBAk1NABR5SQCI6TkCa1kxA0ahLQNsxSkCHN0lAnNZHQLUQSED/xkdAaddHQKf3R0AnfEtAcGxKQKWiS0B5oE1AYRlPQKbzUUAKVVFAqAdXQIbRWkDcoFxA2j1fQKqTZEB4yWlADQ1tQAP5ckAaLnVAhep5QPY+gEBoTYNAzKuDQAl+hkBCJ4lAcOaMQJZPkEBaSpNAoxSVQJJTlkAG05lAkfSbQPDznUAKCqBAeQahQB7CpECITalA0metQM04sUDs4rRAEWC4QLzwukDSZL1AFNrAQH+Gw0BMRsZAZ7rKQHVPzkDsUc9A2IHUQDij2EApjN1ACr7eQIUa4kC7v+ZAzp/sQNgr80CUS/dAatr7QJt9/kCMjgFBREUEQcoGBUE9LwdBgPAIQRZyC0FFBg1BfYsPQQd2EkFlcxVBnjwXQQTTGUFd7xtB1FQdQaFtH0G1FSRBi10lQWVpKEH41ytBBYstQYeHMEG79DJBSJk1QdNHN0FNxzlBmyQ9QeF6PUElfj9BP7RBQZTVQkG3uEVBsCxHQYvhSEF6d0pBhelLQWXOTUFkc09BipFQQaejUkEvLFRB6/BUQaRAV0Fg+1dB+1VZQcxRWkGp5VpBSPdbQUwYXUG+zF5BxddfQcLTYEH8VmJBKCNkQV9PZUH7E2ZBnlBnQfWiaEFobWhB2FRqQTv1a0FmsG1BIv5tQWKMb0HJbHBBpMFxQfWnckHd7XNBvZt0QQuddUEz5XZBN594QW1keUEqsXpBlE58QVeCfUGPf35B2iGAQR2YgEFjM4FBMrGBQXapgkGHAINB4/yDQbsZhEE3i4RB2Y+EQemihUGgxIVB/zyGQenQhUHCa4ZBnE+GQdfqhUF7DIZB5ZqFQVjthEEaDoZB0GyGQQ==",
          "dtype": "f4"
         }
        },
        {
         "line": {
          "color": "rgb(255, 127, 14)"
         },
         "mode": "lines",
         "name": "gbyk R",
         "type": "scatter3d",
         "x": {
          "bdata": "Y6BoQNiJZED3UG9AR9FwQKtVc0AaQm9ADkh7QKxugEDhG4NAOASCQKFrhEDgE4lA3mqIQGJaikCkWIxAedqNQOfHkUBd3pdAzUGaQEkppECskqhADG2tQHMCr0DIzLRAqjW3QGmivUDROsdAXVHHQPB+zkBzS9ZAw2veQDct5kCJTedAUlvrQKG38EC1vfRAFCf8QJ+1AEEICgJBCXcDQS+EBUF1xgdBKLIJQRW5DUGD/Q9B1JISQUKwFEFR/xdB0aEaQRf3HUF+wx9BLjIiQWmfI0FvqSVBwMsnQYAWKkHmlytBU40sQfWmLkGU5y9B8vwwQXHSMkHQITRBNns1QWSINkGhSThBg503QdHZOEHqETpBGU87QRfxO0EaLTxBvIY8QWtMPUH5bD1B5lw+QdPOPkGHaD9B6RFAQbNPQEEfq0BBm6dBQRmCQkGG1kNBV5VEQRYGRUEbKkZB85xHQSg4SEFkxUhByWZKQXm7SkGiL0xBW2RNQWo3TkFqb09BhmlQQW5wUkECBlRBs7FVQUMnV0Hw4FhBE0hbQaQRXUER6V5Bm69gQXV2YUH8ZWJBab9jQS4/ZUGfk2ZB3ONnQdf5aEFY5WpBvUlsQXTTbUGaTm9BmblwQdBqcUHFV3JBBoVyQaDpckFPLXNB6rlzQf4AdEHWAnRBundzQU0Uc0EINnNBSo9yQRr6cUGLsXFBJOlwQRrrcEGcFW9BNDxuQQ9SbEEi82pBsAlrQWs0akG6pWhB/nBnQcm/ZkEhemRBD9FjQcp+YUF2wWBBHyxeQe7bXEEJ/lpBKDZaQbsFWUEHoFdBUWZVQRRgU0E5mFFBak1QQSz9TkEnvE1B3lBMQSOvS0GRnUpBrBpJQWKUSEFjiEZBBeRGQT1uRUHn7kRBTq1DQVrhQkHhBkNBNCBCQY7dQUGzdUFBgB9CQcyCQUFAkkBB8QRAQTfgP0Fdsz9BE8o+Qd5FP0HnbT5BSKY9Qe+4PkGLjz1BqVc9QetdPUFROj1BUf88QbJKPUHvVD1BaVI9QXZVPUHeZT1BulA9QdCTPUGHnj1B1YQ9QVIyPkEUgz1BnVo9QdEZPUFphzxBb5o8QRefPEGoSDxBzt87QVhzO0GrNztBme05Qc+EOkENjDtBKMs5QeGnOUHfJDtBl5M6QeTgOkFjYzpB+bk6QRDAOkEAgDpBBgg6Qc8WOkGdbDlBio85QdwOOUELpDhBnss1QUOXNkHUhDhBIpA3QRexOUEu3ThBirA5Qf4wOUE=",
          "dtype": "f4"
         },
         "y": {
          "bdata": "2YY4QblZNkHpwDhBhq86QRQkOkGGmzlBZ+A4QZ3NOkHalT1BafY9Qdu1PUEOGEBBm6w9QQyXPkFQFEFBHL9AQdi7QEHdl0JBTT5BQeDZQkEElENB2h5DQY1tQ0GwcUNBSaNDQfLGQkHT/kFBS4tCQXZQQUH+e0BB4rc/Qd6LPkEy/z5Bh+49QVodPUHJsDxBpwU7QbXGOUGfPjlBp784Qb2bN0H1fzZBt1I1QTrgMkFTLzFBVBAvQbo5LUGcCipBAFwnQdKxI0FEfyFBlFoeQRpUHEHkVRlBhT4WQeU7EkEQnw9BadINQeYkCUEVjQZB2iYEQVJs/0AICvhAGljwQL3s6kDTKuRAySfjQKI03EDgFtNAb87KQGZExkCuLsJAz2e+QIG7tkChC7FAXDqrQIkSpUDdaZ1A0nSWQDqYkkDEJY5AxH+GQNnnfUA1YG5Ah7NgQKr1WkDdq0pAccc7QPu+M0DQSS5A23UgQO1pGkBkigxAqT0EQHgx9T9+Mt8/mt3QPwcFsT+SgJk/usKAPyIHVz8P1Ss/gZfbPhwHhj6LVaE97B6+vZAoLr5K0IS+Q8DAvtJrB7/eISW/0ZFEv6MeYL8MuIi/aLaav69Yr7+AtsO/p7LYv8BP4796vvG/NQb4v68/AcCdkwTAaMoMwIBfEsDbahXAaKEYwNFHGcDxkxzAx28ewKqZIMAimR/Av24gwB9zH8CuSCLANtIhwPH9IsD6TSbApaEkwMNqIsAlTiXAhXclwKuHJcDG7CbAxdUmwKYhJ8D6JyfANZkmwAo9JsCNUCXAPNEkwADxI8CS9SLA2RYhwKwmH8B/cx3AmfYbwMEtGsCXnBjAOjoWwGmFFcAWpRLAYfoQwBGiEMAdzgzAtkUNwJUCC8CkjgbA1NoAwB5I9b8Wofa/88Devyps079k+cG/lKiyvyoutL+C85u/9R+Jv7rOhb+0s1i/OcY3v4rZMb9b1w6/PR27vhAVlL7XnKm9nAzNPc1seT489ts+4AAQP/3gKT/uNGk/H2CPP+43oT9m9LY/o67UP/XO6T/v4fM/96cEQGIfDUAhiBVABQofQLbcKEBXZD5Ar3dCQHRHTUAIWVdA6XxiQPL8a0D0sXRA3VB6QILPgUAlZ4BA51mFQN0WiECHtJBAtZSSQPPRlkBCqptA6dWeQKeJpkBGaatAIravQA2IskCNy7ZAzgi4QK3KvECi4L1AUAm/QAhOxEDz2MVAVrzGQK8+y0Daz8xADFrNQHjdzUA=",
          "dtype": "f4"
         },
         "z": {
          "bdata": "2pmJQGdjkUBYXI5AOdSKQC5si0AfT41ARtmRQGEllEDqo5VAZEyUQIk5lkBdcJpANK2aQB/Mm0DG2JxAUh6eQBzNoEA+daNA86ylQAnpqkAxZ6xALL+wQNInsUAMiLVAt7+3QOWiukDWRL9AmlO+QBxiwkBpJcZA7TTJQMwSzUAlJcxAG8/OQGJu0UAYsdJA/PbVQP+42ED/jNlA637aQFpw3EBh0d1AKmPfQPWa4kCfveRAli7nQMrC6UD3Se1AjWvwQC939ECyvfZARY75QCs7+0A8oP1AxxEAQVFqAUHqWwJB9AADQdoIBEEQ3QRBz0sFQWsUBkFhcwZBcNAGQaXiBkG88QZBDL8GQfdoBkEAwgVBA+YEQXpdBEEuHgRBEsoDQQTiAkEG5gJBPHsBQW6kAEEPV/9Az/j8QJf1+0Bi6vpAZv32QIwX9EBb0+9AGsbsQDFx60Ak++ZAIGLiQHj330CYE95ABP3YQAJq10D8FtJA+/TOQGpHy0AS/MZA4CDEQPlyvUBHPbhAE8uyQMvirUATqahAE/ygQFKOm0A5g5VANcePQKgYjUAB44lA2bmFQCH5fkAh7nRAjxVqQOauX0BiuExAflM+QO8QLUD20BtAGhEJQDRz/j83duU/KHfTPyeIvD/irqo/dC2EP/PhRj+gdRA/n7W4PoW7Vz7vkyI9ZiBjvlHNqL4vGgS/iBQ6v/MkUb8zdou/KLCnv2rf0b8lJOi/4V31vynIAcCcgBHAFKsfwPP8KMCzhzbADwk/wG+TUMDT7lXAvbBnwHizccBYC4DAqXWDwB5ViMDPT47Ads+VwKqanMCYJqPAUh2pwP1ercAwDLTAqSm5wB03vMCgA8DAdFHGwCxryMDsEM/A/MLQwIuR1sB91NvATp7iwFSy6MAmWOrAH3HxwGmY9sARhvzARikAwSWTAMFbZQTBwf8GwbR7B8HYpwrB+pgMwWy9DMGdqg7BM7EQwa1uEcFPuRPBSWwVwVuaFsFr6RfBQK8YwdNOGcFRoxrBeHMbwYCjG8H1rBzBXsocwdW+HcHR4x3B4jgewS+BHsEUiR7BF3cewew9HsEUrB3BhN8dwdL4HcFkth3BO28dwcBNHcHe/BzBB+EcwRMDHMEo7BzBS8MawdFqG8FfsBrB6g0bwT7sGsE4ARvBbnUawQdVGsFcJBrBhusZwY3aGcHCtxnB7vgZwViDGcHqLxnBM2YWweViF8F4HxnBXncYwQ7sGsFp/RvBqNEbwdLPG8E=",
          "dtype": "f4"
         }
        },
        {
         "line": {
          "color": "rgb(44, 160, 44)"
         },
         "mode": "lines",
         "name": "homing L",
         "type": "scatter3d",
         "x": {
          "bdata": "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",
          "dtype": "f4"
         },
         "y": {
          "bdata": "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",
          "dtype": "f4"
         },
         "z": {
          "bdata": "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",
          "dtype": "f4"
         }
        },
        {
         "line": {
          "color": "rgb(214, 39, 40)"
         },
         "mode": "lines",
         "name": "homing R",
         "type": "scatter3d",
         "x": {
          "bdata": "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",
          "dtype": "f4"
         },
         "y": {
          "bdata": "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",
          "dtype": "f4"
         },
         "z": {
          "bdata": "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",
          "dtype": "f4"
         }
        }
       ],
       "layout": {
        "legend": {
         "itemsizing": "constant"
        },
        "margin": {
         "b": 10,
         "l": 10,
         "r": 10,
         "t": 40
        },
        "scene": {
         "aspectmode": "data",
         "bgcolor": "rgba(0,0,0,0)",
         "camera": {
          "eye": {
           "x": 1.5,
           "y": 1.5,
           "z": 1.5
          }
         },
         "xaxis": {
          "showbackground": false,
          "title": {
           "text": "UMAP1"
          }
         },
         "yaxis": {
          "showbackground": false,
          "title": {
           "text": "UMAP2"
          }
         },
         "zaxis": {
          "showbackground": false,
          "title": {
           "text": "UMAP3"
          }
         }
        },
        "template": {
         "data": {
          "bar": [
           {
            "error_x": {
             "color": "#2a3f5f"
            },
            "error_y": {
             "color": "#2a3f5f"
            },
            "marker": {
             "line": {
              "color": "#E5ECF6",
              "width": 0.5
             },
             "pattern": {
              "fillmode": "overlay",
              "size": 10,
              "solidity": 0.2
             }
            },
            "type": "bar"
           }
          ],
          "barpolar": [
           {
            "marker": {
             "line": {
              "color": "#E5ECF6",
              "width": 0.5
             },
             "pattern": {
              "fillmode": "overlay",
              "size": 10,
              "solidity": 0.2
             }
            },
            "type": "barpolar"
           }
          ],
          "carpet": [
           {
            "aaxis": {
             "endlinecolor": "#2a3f5f",
             "gridcolor": "white",
             "linecolor": "white",
             "minorgridcolor": "white",
             "startlinecolor": "#2a3f5f"
            },
            "baxis": {
             "endlinecolor": "#2a3f5f",
             "gridcolor": "white",
             "linecolor": "white",
             "minorgridcolor": "white",
             "startlinecolor": "#2a3f5f"
            },
            "type": "carpet"
           }
          ],
          "choropleth": [
           {
            "colorbar": {
             "outlinewidth": 0,
             "ticks": ""
            },
            "type": "choropleth"
           }
          ],
          "contour": [
           {
            "colorbar": {
             "outlinewidth": 0,
             "ticks": ""
            },
            "colorscale": [
             [
              0,
              "#0d0887"
             ],
             [
              0.1111111111111111,
              "#46039f"
             ],
             [
              0.2222222222222222,
              "#7201a8"
             ],
             [
              0.3333333333333333,
              "#9c179e"
             ],
             [
              0.4444444444444444,
              "#bd3786"
             ],
             [
              0.5555555555555556,
              "#d8576b"
             ],
             [
              0.6666666666666666,
              "#ed7953"
             ],
             [
              0.7777777777777778,
              "#fb9f3a"
             ],
             [
              0.8888888888888888,
              "#fdca26"
             ],
             [
              1,
              "#f0f921"
             ]
            ],
            "type": "contour"
           }
          ],
          "contourcarpet": [
           {
            "colorbar": {
             "outlinewidth": 0,
             "ticks": ""
            },
            "type": "contourcarpet"
           }
          ],
          "heatmap": [
           {
            "colorbar": {
             "outlinewidth": 0,
             "ticks": ""
            },
            "colorscale": [
             [
              0,
              "#0d0887"
             ],
             [
              0.1111111111111111,
              "#46039f"
             ],
             [
              0.2222222222222222,
              "#7201a8"
             ],
             [
              0.3333333333333333,
              "#9c179e"
             ],
             [
              0.4444444444444444,
              "#bd3786"
             ],
             [
              0.5555555555555556,
              "#d8576b"
             ],
             [
              0.6666666666666666,
              "#ed7953"
             ],
             [
              0.7777777777777778,
              "#fb9f3a"
             ],
             [
              0.8888888888888888,
              "#fdca26"
             ],
             [
              1,
              "#f0f921"
             ]
            ],
            "type": "heatmap"
           }
          ],
          "histogram": [
           {
            "marker": {
             "pattern": {
              "fillmode": "overlay",
              "size": 10,
              "solidity": 0.2
             }
            },
            "type": "histogram"
           }
          ],
          "histogram2d": [
           {
            "colorbar": {
             "outlinewidth": 0,
             "ticks": ""
            },
            "colorscale": [
             [
              0,
              "#0d0887"
             ],
             [
              0.1111111111111111,
              "#46039f"
             ],
             [
              0.2222222222222222,
              "#7201a8"
             ],
             [
              0.3333333333333333,
              "#9c179e"
             ],
             [
              0.4444444444444444,
              "#bd3786"
             ],
             [
              0.5555555555555556,
              "#d8576b"
             ],
             [
              0.6666666666666666,
              "#ed7953"
             ],
             [
              0.7777777777777778,
              "#fb9f3a"
             ],
             [
              0.8888888888888888,
              "#fdca26"
             ],
             [
              1,
              "#f0f921"
             ]
            ],
            "type": "histogram2d"
           }
          ],
          "histogram2dcontour": [
           {
            "colorbar": {
             "outlinewidth": 0,
             "ticks": ""
            },
            "colorscale": [
             [
              0,
              "#0d0887"
             ],
             [
              0.1111111111111111,
              "#46039f"
             ],
             [
              0.2222222222222222,
              "#7201a8"
             ],
             [
              0.3333333333333333,
              "#9c179e"
             ],
             [
              0.4444444444444444,
              "#bd3786"
             ],
             [
              0.5555555555555556,
              "#d8576b"
             ],
             [
              0.6666666666666666,
              "#ed7953"
             ],
             [
              0.7777777777777778,
              "#fb9f3a"
             ],
             [
              0.8888888888888888,
              "#fdca26"
             ],
             [
              1,
              "#f0f921"
             ]
            ],
            "type": "histogram2dcontour"
           }
          ],
          "mesh3d": [
           {
            "colorbar": {
             "outlinewidth": 0,
             "ticks": ""
            },
            "type": "mesh3d"
           }
          ],
          "parcoords": [
           {
            "line": {
             "colorbar": {
              "outlinewidth": 0,
              "ticks": ""
             }
            },
            "type": "parcoords"
           }
          ],
          "pie": [
           {
            "automargin": true,
            "type": "pie"
           }
          ],
          "scatter": [
           {
            "fillpattern": {
             "fillmode": "overlay",
             "size": 10,
             "solidity": 0.2
            },
            "type": "scatter"
           }
          ],
          "scatter3d": [
           {
            "line": {
             "colorbar": {
              "outlinewidth": 0,
              "ticks": ""
             }
            },
            "marker": {
             "colorbar": {
              "outlinewidth": 0,
              "ticks": ""
             }
            },
            "type": "scatter3d"
           }
          ],
          "scattercarpet": [
           {
            "marker": {
             "colorbar": {
              "outlinewidth": 0,
              "ticks": ""
             }
            },
            "type": "scattercarpet"
           }
          ],
          "scattergeo": [
           {
            "marker": {
             "colorbar": {
              "outlinewidth": 0,
              "ticks": ""
             }
            },
            "type": "scattergeo"
           }
          ],
          "scattergl": [
           {
            "marker": {
             "colorbar": {
              "outlinewidth": 0,
              "ticks": ""
             }
            },
            "type": "scattergl"
           }
          ],
          "scattermap": [
           {
            "marker": {
             "colorbar": {
              "outlinewidth": 0,
              "ticks": ""
             }
            },
            "type": "scattermap"
           }
          ],
          "scattermapbox": [
           {
            "marker": {
             "colorbar": {
              "outlinewidth": 0,
              "ticks": ""
             }
            },
            "type": "scattermapbox"
           }
          ],
          "scatterpolar": [
           {
            "marker": {
             "colorbar": {
              "outlinewidth": 0,
              "ticks": ""
             }
            },
            "type": "scatterpolar"
           }
          ],
          "scatterpolargl": [
           {
            "marker": {
             "colorbar": {
              "outlinewidth": 0,
              "ticks": ""
             }
            },
            "type": "scatterpolargl"
           }
          ],
          "scatterternary": [
           {
            "marker": {
             "colorbar": {
              "outlinewidth": 0,
              "ticks": ""
             }
            },
            "type": "scatterternary"
           }
          ],
          "surface": [
           {
            "colorbar": {
             "outlinewidth": 0,
             "ticks": ""
            },
            "colorscale": [
             [
              0,
              "#0d0887"
             ],
             [
              0.1111111111111111,
              "#46039f"
             ],
             [
              0.2222222222222222,
              "#7201a8"
             ],
             [
              0.3333333333333333,
              "#9c179e"
             ],
             [
              0.4444444444444444,
              "#bd3786"
             ],
             [
              0.5555555555555556,
              "#d8576b"
             ],
             [
              0.6666666666666666,
              "#ed7953"
             ],
             [
              0.7777777777777778,
              "#fb9f3a"
             ],
             [
              0.8888888888888888,
              "#fdca26"
             ],
             [
              1,
              "#f0f921"
             ]
            ],
            "type": "surface"
           }
          ],
          "table": [
           {
            "cells": {
             "fill": {
              "color": "#EBF0F8"
             },
             "line": {
              "color": "white"
             }
            },
            "header": {
             "fill": {
              "color": "#C8D4E3"
             },
             "line": {
              "color": "white"
             }
            },
            "type": "table"
           }
          ]
         },
         "layout": {
          "annotationdefaults": {
           "arrowcolor": "#2a3f5f",
           "arrowhead": 0,
           "arrowwidth": 1
          },
          "autotypenumbers": "strict",
          "coloraxis": {
           "colorbar": {
            "outlinewidth": 0,
            "ticks": ""
           }
          },
          "colorscale": {
           "diverging": [
            [
             0,
             "#8e0152"
            ],
            [
             0.1,
             "#c51b7d"
            ],
            [
             0.2,
             "#de77ae"
            ],
            [
             0.3,
             "#f1b6da"
            ],
            [
             0.4,
             "#fde0ef"
            ],
            [
             0.5,
             "#f7f7f7"
            ],
            [
             0.6,
             "#e6f5d0"
            ],
            [
             0.7,
             "#b8e186"
            ],
            [
             0.8,
             "#7fbc41"
            ],
            [
             0.9,
             "#4d9221"
            ],
            [
             1,
             "#276419"
            ]
           ],
           "sequential": [
            [
             0,
             "#0d0887"
            ],
            [
             0.1111111111111111,
             "#46039f"
            ],
            [
             0.2222222222222222,
             "#7201a8"
            ],
            [
             0.3333333333333333,
             "#9c179e"
            ],
            [
             0.4444444444444444,
             "#bd3786"
            ],
            [
             0.5555555555555556,
             "#d8576b"
            ],
            [
             0.6666666666666666,
             "#ed7953"
            ],
            [
             0.7777777777777778,
             "#fb9f3a"
            ],
            [
             0.8888888888888888,
             "#fdca26"
            ],
            [
             1,
             "#f0f921"
            ]
           ],
           "sequentialminus": [
            [
             0,
             "#0d0887"
            ],
            [
             0.1111111111111111,
             "#46039f"
            ],
            [
             0.2222222222222222,
             "#7201a8"
            ],
            [
             0.3333333333333333,
             "#9c179e"
            ],
            [
             0.4444444444444444,
             "#bd3786"
            ],
            [
             0.5555555555555556,
             "#d8576b"
            ],
            [
             0.6666666666666666,
             "#ed7953"
            ],
            [
             0.7777777777777778,
             "#fb9f3a"
            ],
            [
             0.8888888888888888,
             "#fdca26"
            ],
            [
             1,
             "#f0f921"
            ]
           ]
          },
          "colorway": [
           "#636efa",
           "#EF553B",
           "#00cc96",
           "#ab63fa",
           "#FFA15A",
           "#19d3f3",
           "#FF6692",
           "#B6E880",
           "#FF97FF",
           "#FECB52"
          ],
          "font": {
           "color": "#2a3f5f"
          },
          "geo": {
           "bgcolor": "white",
           "lakecolor": "white",
           "landcolor": "#E5ECF6",
           "showlakes": true,
           "showland": true,
           "subunitcolor": "white"
          },
          "hoverlabel": {
           "align": "left"
          },
          "hovermode": "closest",
          "mapbox": {
           "style": "light"
          },
          "paper_bgcolor": "white",
          "plot_bgcolor": "#E5ECF6",
          "polar": {
           "angularaxis": {
            "gridcolor": "white",
            "linecolor": "white",
            "ticks": ""
           },
           "bgcolor": "#E5ECF6",
           "radialaxis": {
            "gridcolor": "white",
            "linecolor": "white",
            "ticks": ""
           }
          },
          "scene": {
           "xaxis": {
            "backgroundcolor": "#E5ECF6",
            "gridcolor": "white",
            "gridwidth": 2,
            "linecolor": "white",
            "showbackground": true,
            "ticks": "",
            "zerolinecolor": "white"
           },
           "yaxis": {
            "backgroundcolor": "#E5ECF6",
            "gridcolor": "white",
            "gridwidth": 2,
            "linecolor": "white",
            "showbackground": true,
            "ticks": "",
            "zerolinecolor": "white"
           },
           "zaxis": {
            "backgroundcolor": "#E5ECF6",
            "gridcolor": "white",
            "gridwidth": 2,
            "linecolor": "white",
            "showbackground": true,
            "ticks": "",
            "zerolinecolor": "white"
           }
          },
          "shapedefaults": {
           "line": {
            "color": "#2a3f5f"
           }
          },
          "ternary": {
           "aaxis": {
            "gridcolor": "white",
            "linecolor": "white",
            "ticks": ""
           },
           "baxis": {
            "gridcolor": "white",
            "linecolor": "white",
            "ticks": ""
           },
           "bgcolor": "#E5ECF6",
           "caxis": {
            "gridcolor": "white",
            "linecolor": "white",
            "ticks": ""
           }
          },
          "title": {
           "x": 0.05
          },
          "xaxis": {
           "automargin": true,
           "gridcolor": "white",
           "linecolor": "white",
           "ticks": "",
           "title": {
            "standoff": 15
           },
           "zerolinecolor": "white",
           "zerolinewidth": 2
          },
          "yaxis": {
           "automargin": true,
           "gridcolor": "white",
           "linecolor": "white",
           "ticks": "",
           "title": {
            "standoff": 15
           },
           "zerolinecolor": "white",
           "zerolinewidth": 2
          }
         }
        },
        "title": {
         "text": "session: bex_20230708_spikes_sorted_SES<br>area: dlpfc"
        }
       }
      }
     },
     "metadata": {},
     "output_type": "display_data"
    },
    {
     "data": {
      "application/vnd.plotly.v1+json": {
       "config": {
        "plotlyServerURL": "https://plot.ly"
       },
       "data": [
        {
         "line": {
          "color": "rgb(31, 119, 180)"
         },
         "mode": "lines",
         "name": "homing L",
         "type": "scatter3d",
         "x": {
          "bdata": "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",
          "dtype": "f4"
         },
         "y": {
          "bdata": "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",
          "dtype": "f4"
         },
         "z": {
          "bdata": "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",
          "dtype": "f4"
         }
        },
        {
         "line": {
          "color": "rgb(255, 127, 14)"
         },
         "mode": "lines",
         "name": "homing R",
         "type": "scatter3d",
         "x": {
          "bdata": "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",
          "dtype": "f4"
         },
         "y": {
          "bdata": "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",
          "dtype": "f4"
         },
         "z": {
          "bdata": "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",
          "dtype": "f4"
         }
        },
        {
         "line": {
          "color": "rgb(44, 160, 44)"
         },
         "mode": "lines",
         "name": "precue L",
         "type": "scatter3d",
         "x": {
          "bdata": "J3fYQKiC2ED8MtZAhLDUQDwL0kDR/NFAoRXOQKkK00BAttFAqEzRQCWY00CtdMxArELPQKiHzkCEON5ARSfhQE2i40D0NOVAqCToQOeW5kC/oxNBG/wTQZPXFEEwOBdBqhMZQXvyGkFUgh1B/pQhQWZIJkEyZitBkeEuQWoFM0G+bTVBPuA2QWUtO0Gi+DxBJHU/QaqkQEHL70NBLcZFQfvKSEGDektBj45NQYToTkHHCVFBvtJSQQG/U0EEHlVBrMdWQUSrWEHQ1ldBTxlaQZItWUE75FhBqspYQTopWEETE1hBFpBXQXjDVkGyvVZBWFtWQUUOVkFAm1VBLFZVQfzCVEEiBlRBVQNUQZjrUkHZI1JBpd9RQdbPUEG/AVBBWtxOQRl9TkFvjE1B0ANNQVX6S0GcMEtBVnxKQc7rSUEvGklBZLxIQapmR0GFzUVBj8hEQT2FQ0HMDUNBd9FBQYw5QEEOcz9BP+M+QcjtPUHkmD5BIUo8Qcc+PUEM0zxB2YM8QYRGPEEaKTxBWxc8QS9NPEGipjxBqoU9QYcAPkFRZz5BhLQ+QYsCQEHoBUFBGyhCQd+sQkEWe0RB3Z9FQRFvR0H8KUlBZWxKQXjJS0GIfk1B51BOQd0CUEGb21FBAyZTQTQGV0FZXFlBzdNcQZA1XkEgeGBBr2ZhQYdjZEHXh2VBO4toQQyobEHFCG5BwtlxQTvOc0EVlHdB6qV6QZiPfUHfFH9BtOeAQZdigkFy9oJByFuEQVmchUHYq4ZB/CGIQep7iUGy44pBwqGLQdLMjEGADo5BgxOPQSKlj0GlWpFBG0+TQVr7kkF2x5RBieiVQdpMlkFOgZdBEx+ZQbRImkHodJtBQI6cQd0JnUFUWZ5BW/efQQg1oEFUxqFB4Q6iQcy+okFWXKNBXcejQS+WokE=",
          "dtype": "f4"
         },
         "y": {
          "bdata": "MF0kQZlyJEEJnyVBRHwnQRKHJ0F46CVBEZYmQaaDJEE7eyNBN0UiQbNaIEF+EyJB31QiQVL9IUGOqBxBVKEbQTgzG0GndRlBLioYQfkzGUGzpgNBgX0DQVy2AkF9qwBB43/+QCiC+0CJXvdAU6rxQL6t6kBX/eJAja7dQEVH10DRkNNAsyHRQB4tykDRC8dAFszCQBLFwEBh57pALXq3QEPZsUDes6xAyo+oQKrgpUBIa6FAYY2dQMham0ARAZhAMMWTQFbPjkALAI5A7IONQOXKiUC1iIdA4PCEQDSZg0A2Y4JAFzSAQCWoeUDcr3ZAhvhuQI6baUCIemJAPWFcQO2mU0DCPExAnNhKQHd8Q0AHyjpAR0c4QHQ+LUC7dyVAMtEaQKyvFkAVYw5AXEAKQGn7AkBbafo/IujvP7nx6T8Vm98/uU7aP/USzz/IacE/+o24Pw5Drz9fH6U/ROemPxekoD/g5p0/HyacP9f5mj+kH5M/v6eTP4zZnD8CsJ4/dz+kP7e2pj8gU6w/BDOvPxLLtD+aXbs/98bIP94uzT98l9M/kBvYP4qy5D85iO0/bJP2P0qX+T8HigJAuegFQDZMCkDDVg5AWwMRQMy7E0ACVxdAwm0YQBz2G0BaFyBAQ48hQKliJkBB/ShAYfIrQKM0KkAVyDBAYcUyQP4nLkBjdzBAMRkvQNP5LUCH0C1AcsksQHEULEBi1SpAyospQD1mKEAIyCdAs4EmQExzJUB/CSVAJ9wiQPnuHkBLaxxAM80VQCbLD0BjSApAsK8HQKkfA0Aej/o/etD0P/Gf8D8pyuE/hJrZP48+0D/cdNo/vkC8P4C+uj+JQbE/5BWePzPTlT/c2Yo/Kah7P+M0cj9xV1Y/P9JZP1eFTT9ZXH0/myZqP+B1Zj8+TV4//FF1PyenSD8=",
          "dtype": "f4"
         },
         "z": {
          "bdata": "X5SyQGcQsUCwU7FAhdOxQO8/t0CPe7pAaKi8QEzGwEDU8cBAPk28QEbgvEC7T7dASUS2QEaCuED0MLdACAG3QGeBuUCAiLRAnXexQKz4skBWp4dAR2eHQNvVhUDX6YFAZUx+QPNyeEDqM3BAD81kQKGDVkB1iUZA7D87QHRdLUDpFCVAErofQKVYD0C2LwhAxRT7Pw9r8D+9LdE/r6G+P7Uanj9oin0/COVHP59NKD8jlcs+p2pKPpICZD0Uegu+Vf7DvqG6Jr+IjlO/5Pd0vw+om7+BubK/Bg7Mv/zL4b+Jq/K/zQIIwMI5G8D+TCLAnDIzwBe/PMDwzkvA3qtVwJmtZcDytnTAHIR3wIn0hMDLVI3AjG+QwPOxmsAkb6LAaYGrwLaLsMCQeLrAiIO+wDKmx8Dhdc7AuQ/WwJeP2cAWAeLANOTnwJP07MAo7/bAV7/8wEudAsH4SQXBUl8IwWxSDsESehHBDqYUwXaAF8E0AhrBLbUdwUPhHsFyySHBerUlwVjfKMHh0CzBbtIvwRH3MsFXxTbBJBk9wV6xP8HQcELBLGtFwTgQScEDOU3BeHJPwR4YUsEap1bBKJ5YwXMJXMFO8F7BkKxhwTL/Y8EkrmbB7/Vowb5Ta8FV8G3BpthvwV3ndMGbx3fBJi58wdi5fcE2cYDBTFeBwYefgsHURoPBmsuEwT3lhsGtkYfBwmSJwX1RisFj+ovBJUyNwTuFjsFgI4/BMTqQwWtikcEaz5HB5d2SwQjkk8H2qpTB9OeVwUn2lsEgBpjBroKYwZlHmcHgL5rBSK+awVQHm8FFC5zBOVGdwUIuncHW05zB0W6ewcR0nsHNpJ7Brl6fweppn8Fhjp/Bo1GfwZFkn8HFC5/BFbaewVvBnsGPvJ3BN2SewRc+nsHTN57B4pidwbf+nsE=",
          "dtype": "f4"
         }
        },
        {
         "line": {
          "color": "rgb(214, 39, 40)"
         },
         "mode": "lines",
         "name": "precue R",
         "type": "scatter3d",
         "x": {
          "bdata": "uAanQCoOpED44aFArsqlQAq3pUDm3aJAuUGnQBhupUCpF6VA21eIQAQahEAD2HtAL+R4QECDc0Ds3WxANnVoQG8iYUAlAllAm5FNQPLeRUDRpUNAoxg0QKa9LUBNyyFABaobQMPYDkDnBARAr+HwPzcs2j88Obw/enOyP/J5mj+SA5I/3LiHP54OSD+Iky0/PYcWPz0Kvj67woI+pE6XPe7u0rxMXo++ZAq7vuJuwL7mYAi/6BE2vzntXr9pf26/u7uLv5usmb862LG/t73Dv35n0r88Bti/Cj7hv39X478Q6vC/T/v3vwoZBsAWMwXAMIcLwFsvFMCu8xLA0OccwMODIMApESbAw8QpwHT5MMDtvzLACXQ2wIlqPMD2fj3A2R1AwHkbR8DHpU3AXwlNwJ9lT8Bem1PARgFVwBbbWMDcOV/AXh1dwA8bX8CJp2HArgJkwA1yZsBByWjAisNpwMdGbMCngW7AEmJywL9adcAG8XnA+199wPalfsAkJoHAWEqCwNxqg8BYl4XA8GaHwFUlicB3sovAQneNwN29j8CdpJHA+leUwCbTlMCAMpjAKHCdwCKnocBK0KTAu7SpwNh2rcAftrDAdy+zwMTHtsAjXrnApDG9wHqMwMDx0cPACAnIwOBuzcDCwM/A4e3SwDc12MCFC9vAWgXbwPj128BRjN/A7c/hwNLh5MA1QufAfpfswOka8sDH7vTATET7wFur+8B8zv3AT27/wPadAMEHUwHBYOIBwfksAsGg7ALBZ4oDwY44BMGD3gTBOB4FwaraBsG06gXBsLkFwXprBcFsfwbBd70EwTCiBcH7swTB6T4EwSejA8EcWAPBg/EBwTESAcG8zP/Ahc79wM+E/sCCIvrAj4H6wCwk98DCMvXAazn1wLcu9MBkp+7ACrDvwGDi7MDU9OrAAIbowMkz58A39OXAvPLjwNr+4sCFdN/AGJ7dwITx3MCT59vAogHbwGju2cAawdzAXyjgwOL43MB/+tvA3QLawPIH2sB0jtfA",
          "dtype": "f4"
         },
         "y": {
          "bdata": "XgXUP2LM2j//OeE/wg7RPxWuyz/Sx84/vV7dP4277T9RSek/droEQHEyC0DL7RFAVD0OQNvoGEAiQhJAKLAWQF0/GUC5ER9ASaghQFJLI0Aq0iJAKkUsQGEIMEDqMThAy5c9QB2pRUBELU5AuhJXQP5QYEC/TGxA1hVwQDNPekCczH1A1TuBQDhjiUB7mIxAWmKPQCYslkA9DZpAbiagQPeMo0AZfaxA2lWvQKIssEC7ubVAKG68QFiAwkAk9sRAqCrLQFqAz0B4xtZACLncQGYA4kBmB+RAHALnQDid6EDXtu1ALjHwQEo29UACD/VAFz/4QOu9+0AHDftAzDD/QFtkAEFbcQFBTjgCQUd8A0G72wNBDVkEQQKeBUF2WwVBJXQFQTngBkF9xAdBkqwHQbwhCEHsuwhBmfYIQVSOCUH0HQtBi0gKQcEtCkF6AAtBkGcLQRniC0EbVQxBEYIMQRkADUGtbA1BXTcOQZPODkGNvA9BsW8QQZixEEG7cBFBF+gRQdNeEkHhQhNBw/8TQUO0FEH81BVBkYwWQauLF0EKThhBqnUZQZ6oGUFEFRtBXUodQd0QH0HHbiBBOngiQQMjJEGAgiVBUIomQUIeKEE9RClBLwYrQZSHLEG5+y1BtPAvQfxpMkExfTNBRek0QZBIN0GosDhBPAY4QV/gOEFMNTpBhDk7QU1nPEFBij1B7/0/QVaLQkFi4UNBLw1HQSA+R0EHZEhB/EZJQT3lSUEttEtB92xMQTU4TUGHY05Bde1PQe9zUUG6PlFBuvJSQaW/VUGDkFVBafpWQWTFWEHjK1hBpAFaQfcwWkGbG1tB1H1cQaF2XUGB7l1B16FfQcbcYEGNvWFBMIliQfXQYUGAC2NBAPNiQb0LY0G35WJBow5jQXeDY0HPDmJBB9BiQeyQYkEbIWJBlZVhQfMeYUHb5GBBOJ1gQZp5YEH//l5BYlxeQbG0XUGUOV1BpL1cQVIkXEGCO11B8vJeQZPhXEGDMVxBFzVbQR4xW0FA9llB",
          "dtype": "f4"
         },
         "z": {
          "bdata": "949LQLbJSUBVNExA07xKQNU8R0DAq09AuV1OQI7pVEBKTlNA/koyQEW4K0AWtCRAkqYoQPsnHUCNrR1AcQchQLMZIECpyxtATp0bQOsUHkB2ZRpASecbQLu4HkAbYhlAB68UQDn7GEB9QRlATPcaQOWKGkCynxlAXSoaQDZnGUCJkhlA9nAZQBfOGECSGRlAiuUYQB/xGEC8FBlAxbIbQC4nG0Aeex1A8isjQCq2HUBjcx9AenUgQE8GI0APrCNA4wcpQK4/LEDsBDVATo09QOspRkB0rElAqB1QQMejVEBgmGFA531qQKqMeUCX/n5ABxuDQEmrjUAoZpBAkPuYQM1RnED7RaNAAhOoQEzYr0CBALNAVb66QGLbv0B8lcRAYhfNQEIr0kB6FNZAx/HcQIup40BMbu5AF5ryQGj4+0CkyAFBgyAEQc/ECEE/bQ1BzfoQQaGQFUG+uRdBk/4aQdURH0Ew7iFBs0onQbPdKkGJ9zBBp4I0QZ4WN0E5CjtBFfM9QS9sQEEzFkVBx+1IQSZDTEHr2lBBRBFUQeeHV0H7JVtBtqtfQb0SYUGcM2VBTilsQa9GcUEkgnRBzXt6QbnxfUFYl4BBezuCQXYihEHGcoVBMgmHQSb0iEEWm4pBxVCMQXysjkGDko9BmeyQQaK7kkHF4ZNBaL6UQdVJlUEKGZdBdhOYQdOLmUEkh5pB/L+cQVFBn0H+YaBBPhOjQSHDo0Hlu6RBzrmlQRK6pkHfS6hB8DOpQdkkqkHxHatBdbmsQUk7rkFTma5Bi8uvQXvEsUHfuLJBxgq0QTpStkHrdrZB/Hy3QSaNuEH4T7lBdYa6QclXu0HhJrxBUoW9QeR3vkGYK8BBnXfBQR8UwkFfnsNBysTDQaxYxUHcecZB6c/GQS7Nx0GO6slBwGTKQWG1zEEj581ByknPQTg/0EFh/dBBvzDSQZUA00H9hNRBshbVQWGs1kEKFNdBln7XQXju10EK8dhBl8/YQYHy2UHAaNpBtfjaQTcJ20ENcdtB",
          "dtype": "f4"
         }
        }
       ],
       "layout": {
        "legend": {
         "itemsizing": "constant"
        },
        "margin": {
         "b": 10,
         "l": 10,
         "r": 10,
         "t": 40
        },
        "scene": {
         "aspectmode": "data",
         "bgcolor": "rgba(0,0,0,0)",
         "camera": {
          "eye": {
           "x": 1.5,
           "y": 1.5,
           "z": 1.5
          }
         },
         "xaxis": {
          "showbackground": false,
          "title": {
           "text": "UMAP1"
          }
         },
         "yaxis": {
          "showbackground": false,
          "title": {
           "text": "UMAP2"
          }
         },
         "zaxis": {
          "showbackground": false,
          "title": {
           "text": "UMAP3"
          }
         }
        },
        "template": {
         "data": {
          "bar": [
           {
            "error_x": {
             "color": "#2a3f5f"
            },
            "error_y": {
             "color": "#2a3f5f"
            },
            "marker": {
             "line": {
              "color": "#E5ECF6",
              "width": 0.5
             },
             "pattern": {
              "fillmode": "overlay",
              "size": 10,
              "solidity": 0.2
             }
            },
            "type": "bar"
           }
          ],
          "barpolar": [
           {
            "marker": {
             "line": {
              "color": "#E5ECF6",
              "width": 0.5
             },
             "pattern": {
              "fillmode": "overlay",
              "size": 10,
              "solidity": 0.2
             }
            },
            "type": "barpolar"
           }
          ],
          "carpet": [
           {
            "aaxis": {
             "endlinecolor": "#2a3f5f",
             "gridcolor": "white",
             "linecolor": "white",
             "minorgridcolor": "white",
             "startlinecolor": "#2a3f5f"
            },
            "baxis": {
             "endlinecolor": "#2a3f5f",
             "gridcolor": "white",
             "linecolor": "white",
             "minorgridcolor": "white",
             "startlinecolor": "#2a3f5f"
            },
            "type": "carpet"
           }
          ],
          "choropleth": [
           {
            "colorbar": {
             "outlinewidth": 0,
             "ticks": ""
            },
            "type": "choropleth"
           }
          ],
          "contour": [
           {
            "colorbar": {
             "outlinewidth": 0,
             "ticks": ""
            },
            "colorscale": [
             [
              0,
              "#0d0887"
             ],
             [
              0.1111111111111111,
              "#46039f"
             ],
             [
              0.2222222222222222,
              "#7201a8"
             ],
             [
              0.3333333333333333,
              "#9c179e"
             ],
             [
              0.4444444444444444,
              "#bd3786"
             ],
             [
              0.5555555555555556,
              "#d8576b"
             ],
             [
              0.6666666666666666,
              "#ed7953"
             ],
             [
              0.7777777777777778,
              "#fb9f3a"
             ],
             [
              0.8888888888888888,
              "#fdca26"
             ],
             [
              1,
              "#f0f921"
             ]
            ],
            "type": "contour"
           }
          ],
          "contourcarpet": [
           {
            "colorbar": {
             "outlinewidth": 0,
             "ticks": ""
            },
            "type": "contourcarpet"
           }
          ],
          "heatmap": [
           {
            "colorbar": {
             "outlinewidth": 0,
             "ticks": ""
            },
            "colorscale": [
             [
              0,
              "#0d0887"
             ],
             [
              0.1111111111111111,
              "#46039f"
             ],
             [
              0.2222222222222222,
              "#7201a8"
             ],
             [
              0.3333333333333333,
              "#9c179e"
             ],
             [
              0.4444444444444444,
              "#bd3786"
             ],
             [
              0.5555555555555556,
              "#d8576b"
             ],
             [
              0.6666666666666666,
              "#ed7953"
             ],
             [
              0.7777777777777778,
              "#fb9f3a"
             ],
             [
              0.8888888888888888,
              "#fdca26"
             ],
             [
              1,
              "#f0f921"
             ]
            ],
            "type": "heatmap"
           }
          ],
          "histogram": [
           {
            "marker": {
             "pattern": {
              "fillmode": "overlay",
              "size": 10,
              "solidity": 0.2
             }
            },
            "type": "histogram"
           }
          ],
          "histogram2d": [
           {
            "colorbar": {
             "outlinewidth": 0,
             "ticks": ""
            },
            "colorscale": [
             [
              0,
              "#0d0887"
             ],
             [
              0.1111111111111111,
              "#46039f"
             ],
             [
              0.2222222222222222,
              "#7201a8"
             ],
             [
              0.3333333333333333,
              "#9c179e"
             ],
             [
              0.4444444444444444,
              "#bd3786"
             ],
             [
              0.5555555555555556,
              "#d8576b"
             ],
             [
              0.6666666666666666,
              "#ed7953"
             ],
             [
              0.7777777777777778,
              "#fb9f3a"
             ],
             [
              0.8888888888888888,
              "#fdca26"
             ],
             [
              1,
              "#f0f921"
             ]
            ],
            "type": "histogram2d"
           }
          ],
          "histogram2dcontour": [
           {
            "colorbar": {
             "outlinewidth": 0,
             "ticks": ""
            },
            "colorscale": [
             [
              0,
              "#0d0887"
             ],
             [
              0.1111111111111111,
              "#46039f"
             ],
             [
              0.2222222222222222,
              "#7201a8"
             ],
             [
              0.3333333333333333,
              "#9c179e"
             ],
             [
              0.4444444444444444,
              "#bd3786"
             ],
             [
              0.5555555555555556,
              "#d8576b"
             ],
             [
              0.6666666666666666,
              "#ed7953"
             ],
             [
              0.7777777777777778,
              "#fb9f3a"
             ],
             [
              0.8888888888888888,
              "#fdca26"
             ],
             [
              1,
              "#f0f921"
             ]
            ],
            "type": "histogram2dcontour"
           }
          ],
          "mesh3d": [
           {
            "colorbar": {
             "outlinewidth": 0,
             "ticks": ""
            },
            "type": "mesh3d"
           }
          ],
          "parcoords": [
           {
            "line": {
             "colorbar": {
              "outlinewidth": 0,
              "ticks": ""
             }
            },
            "type": "parcoords"
           }
          ],
          "pie": [
           {
            "automargin": true,
            "type": "pie"
           }
          ],
          "scatter": [
           {
            "fillpattern": {
             "fillmode": "overlay",
             "size": 10,
             "solidity": 0.2
            },
            "type": "scatter"
           }
          ],
          "scatter3d": [
           {
            "line": {
             "colorbar": {
              "outlinewidth": 0,
              "ticks": ""
             }
            },
            "marker": {
             "colorbar": {
              "outlinewidth": 0,
              "ticks": ""
             }
            },
            "type": "scatter3d"
           }
          ],
          "scattercarpet": [
           {
            "marker": {
             "colorbar": {
              "outlinewidth": 0,
              "ticks": ""
             }
            },
            "type": "scattercarpet"
           }
          ],
          "scattergeo": [
           {
            "marker": {
             "colorbar": {
              "outlinewidth": 0,
              "ticks": ""
             }
            },
            "type": "scattergeo"
           }
          ],
          "scattergl": [
           {
            "marker": {
             "colorbar": {
              "outlinewidth": 0,
              "ticks": ""
             }
            },
            "type": "scattergl"
           }
          ],
          "scattermap": [
           {
            "marker": {
             "colorbar": {
              "outlinewidth": 0,
              "ticks": ""
             }
            },
            "type": "scattermap"
           }
          ],
          "scattermapbox": [
           {
            "marker": {
             "colorbar": {
              "outlinewidth": 0,
              "ticks": ""
             }
            },
            "type": "scattermapbox"
           }
          ],
          "scatterpolar": [
           {
            "marker": {
             "colorbar": {
              "outlinewidth": 0,
              "ticks": ""
             }
            },
            "type": "scatterpolar"
           }
          ],
          "scatterpolargl": [
           {
            "marker": {
             "colorbar": {
              "outlinewidth": 0,
              "ticks": ""
             }
            },
            "type": "scatterpolargl"
           }
          ],
          "scatterternary": [
           {
            "marker": {
             "colorbar": {
              "outlinewidth": 0,
              "ticks": ""
             }
            },
            "type": "scatterternary"
           }
          ],
          "surface": [
           {
            "colorbar": {
             "outlinewidth": 0,
             "ticks": ""
            },
            "colorscale": [
             [
              0,
              "#0d0887"
             ],
             [
              0.1111111111111111,
              "#46039f"
             ],
             [
              0.2222222222222222,
              "#7201a8"
             ],
             [
              0.3333333333333333,
              "#9c179e"
             ],
             [
              0.4444444444444444,
              "#bd3786"
             ],
             [
              0.5555555555555556,
              "#d8576b"
             ],
             [
              0.6666666666666666,
              "#ed7953"
             ],
             [
              0.7777777777777778,
              "#fb9f3a"
             ],
             [
              0.8888888888888888,
              "#fdca26"
             ],
             [
              1,
              "#f0f921"
             ]
            ],
            "type": "surface"
           }
          ],
          "table": [
           {
            "cells": {
             "fill": {
              "color": "#EBF0F8"
             },
             "line": {
              "color": "white"
             }
            },
            "header": {
             "fill": {
              "color": "#C8D4E3"
             },
             "line": {
              "color": "white"
             }
            },
            "type": "table"
           }
          ]
         },
         "layout": {
          "annotationdefaults": {
           "arrowcolor": "#2a3f5f",
           "arrowhead": 0,
           "arrowwidth": 1
          },
          "autotypenumbers": "strict",
          "coloraxis": {
           "colorbar": {
            "outlinewidth": 0,
            "ticks": ""
           }
          },
          "colorscale": {
           "diverging": [
            [
             0,
             "#8e0152"
            ],
            [
             0.1,
             "#c51b7d"
            ],
            [
             0.2,
             "#de77ae"
            ],
            [
             0.3,
             "#f1b6da"
            ],
            [
             0.4,
             "#fde0ef"
            ],
            [
             0.5,
             "#f7f7f7"
            ],
            [
             0.6,
             "#e6f5d0"
            ],
            [
             0.7,
             "#b8e186"
            ],
            [
             0.8,
             "#7fbc41"
            ],
            [
             0.9,
             "#4d9221"
            ],
            [
             1,
             "#276419"
            ]
           ],
           "sequential": [
            [
             0,
             "#0d0887"
            ],
            [
             0.1111111111111111,
             "#46039f"
            ],
            [
             0.2222222222222222,
             "#7201a8"
            ],
            [
             0.3333333333333333,
             "#9c179e"
            ],
            [
             0.4444444444444444,
             "#bd3786"
            ],
            [
             0.5555555555555556,
             "#d8576b"
            ],
            [
             0.6666666666666666,
             "#ed7953"
            ],
            [
             0.7777777777777778,
             "#fb9f3a"
            ],
            [
             0.8888888888888888,
             "#fdca26"
            ],
            [
             1,
             "#f0f921"
            ]
           ],
           "sequentialminus": [
            [
             0,
             "#0d0887"
            ],
            [
             0.1111111111111111,
             "#46039f"
            ],
            [
             0.2222222222222222,
             "#7201a8"
            ],
            [
             0.3333333333333333,
             "#9c179e"
            ],
            [
             0.4444444444444444,
             "#bd3786"
            ],
            [
             0.5555555555555556,
             "#d8576b"
            ],
            [
             0.6666666666666666,
             "#ed7953"
            ],
            [
             0.7777777777777778,
             "#fb9f3a"
            ],
            [
             0.8888888888888888,
             "#fdca26"
            ],
            [
             1,
             "#f0f921"
            ]
           ]
          },
          "colorway": [
           "#636efa",
           "#EF553B",
           "#00cc96",
           "#ab63fa",
           "#FFA15A",
           "#19d3f3",
           "#FF6692",
           "#B6E880",
           "#FF97FF",
           "#FECB52"
          ],
          "font": {
           "color": "#2a3f5f"
          },
          "geo": {
           "bgcolor": "white",
           "lakecolor": "white",
           "landcolor": "#E5ECF6",
           "showlakes": true,
           "showland": true,
           "subunitcolor": "white"
          },
          "hoverlabel": {
           "align": "left"
          },
          "hovermode": "closest",
          "mapbox": {
           "style": "light"
          },
          "paper_bgcolor": "white",
          "plot_bgcolor": "#E5ECF6",
          "polar": {
           "angularaxis": {
            "gridcolor": "white",
            "linecolor": "white",
            "ticks": ""
           },
           "bgcolor": "#E5ECF6",
           "radialaxis": {
            "gridcolor": "white",
            "linecolor": "white",
            "ticks": ""
           }
          },
          "scene": {
           "xaxis": {
            "backgroundcolor": "#E5ECF6",
            "gridcolor": "white",
            "gridwidth": 2,
            "linecolor": "white",
            "showbackground": true,
            "ticks": "",
            "zerolinecolor": "white"
           },
           "yaxis": {
            "backgroundcolor": "#E5ECF6",
            "gridcolor": "white",
            "gridwidth": 2,
            "linecolor": "white",
            "showbackground": true,
            "ticks": "",
            "zerolinecolor": "white"
           },
           "zaxis": {
            "backgroundcolor": "#E5ECF6",
            "gridcolor": "white",
            "gridwidth": 2,
            "linecolor": "white",
            "showbackground": true,
            "ticks": "",
            "zerolinecolor": "white"
           }
          },
          "shapedefaults": {
           "line": {
            "color": "#2a3f5f"
           }
          },
          "ternary": {
           "aaxis": {
            "gridcolor": "white",
            "linecolor": "white",
            "ticks": ""
           },
           "baxis": {
            "gridcolor": "white",
            "linecolor": "white",
            "ticks": ""
           },
           "bgcolor": "#E5ECF6",
           "caxis": {
            "gridcolor": "white",
            "linecolor": "white",
            "ticks": ""
           }
          },
          "title": {
           "x": 0.05
          },
          "xaxis": {
           "automargin": true,
           "gridcolor": "white",
           "linecolor": "white",
           "ticks": "",
           "title": {
            "standoff": 15
           },
           "zerolinecolor": "white",
           "zerolinewidth": 2
          },
          "yaxis": {
           "automargin": true,
           "gridcolor": "white",
           "linecolor": "white",
           "ticks": "",
           "title": {
            "standoff": 15
           },
           "zerolinecolor": "white",
           "zerolinewidth": 2
          }
         }
        },
        "title": {
         "text": "session: ken_20230618_spikes_sorted_SES<br>area: dlpfc"
        }
       }
      }
     },
     "metadata": {},
     "output_type": "display_data"
    },
    {
     "data": {
      "application/vnd.plotly.v1+json": {
       "config": {
        "plotlyServerURL": "https://plot.ly"
       },
       "data": [
        {
         "line": {
          "color": "rgb(31, 119, 180)"
         },
         "mode": "lines",
         "name": "gbyk L",
         "type": "scatter3d",
         "x": {
          "bdata": "Se+3PxPCoz/8Irg/XGmqP00tmj+YBpY/WcCFP53imz9felw/MM45P8/Ftj76PXO9pUiyvoSm/b76VwS/VTwov/3UZb8QpYW/AGWiv901sL/3IbG/z1/Iv6Nj37+/8O+/oGQFwDSeFcC1YSLADhAswPpOMsAcyDXAu149wDzhQsC2MUfAwvBKwJppT8CkkFLAv7RWwCw6WMBfIVrAOiJcwJybW8B5PVvABtFZwMGIVcBk6FPA+YVOwDCUScDCZULAodo9wFUENsDnnDDAiYwrwACyIsD+VR7AtvMUwMMsC8BzwgbAH+f9v5ZT6b/ATMa/iCeyvxAUp7+AuY+/30d9v865SL9W1R6/H8P0viSxub6Pdje+Q6mOPU2fgj4fp9I+3iIyPxnCdz/XvJQ/2Mm0P1cHxz9lquQ/QO3yPxIVC0BrahFAOZEiQBSYK0ChwDhAOl1FQGnJUUBYGFtA8PRsQNr/ekA6YohAWCGRQAdLl0A7h51AOmmjQHMZp0A1RqtA2Cy1QAK9ukAXOMBAYxTKQGpM1UDPl9hARH/eQKjQ4kAUoOlAfVrtQDcA+EBEcf5Ast8BQRgDBkERmQdBpwEMQRdrDEEehxFBiIgTQcOxF0E2MRpBp6wcQWJdH0F8diJB3/8lQb6kJkGXhihBha0qQYeQLUER1i5B2YswQZFvMkFfYzNBAvQyQR6PNEGpkjVBZeE0QaiiN0HgpjZBg1QzQQkmNUHw3jNBKgQyQTSYL0Eivi5BkU8tQfm0K0HuDypBDTEoQfTBJkFadyRBaboiQdxnIEGFSCBBmQoeQWmwHEF8XBtBxJsYQavkF0FWoRVB7a8TQbEmEkHITxFBr+0NQVDGD0ETXA5B",
          "dtype": "f4"
         },
         "y": {
          "bdata": "gaaVQFb/mEDMGZVAFwyYQOhcm0DNPp5AyHqeQJ7loUBwAqNAinqjQEyjqECg9bBAq9e1QAjBuUAD4blAINu9QJQCw0DbG8dAOXXNQE8R0UC94dBAdlHWQJoM3ECxieBAYynoQPrA8UAdp/lAMzAAQW60AkGoUARBUnMHQU/jCkF6RQ1B/IUQQfyNE0GhkRZBUUkbQaIeHkEg7SBBSlklQR4AJ0Gm6ypB2ZUuQbUCMUHjfjNBoBQ4QW4+O0GKgz9BGDBCQcGBRUFqBUhBctJJQRmRTUE1405BHWVRQWapU0GsxFRBf99VQTeJV0Em21lBt6RaQSb9WkGqlFtBvSVcQVcVXUFkTF1BJmFdQX6sXUEGzV1B7BheQectXkEtFV5BRXZeQVElXkGBXF5BiiVeQXKNXUHP01xB9nxeQUCiXEE1QFxBlc1aQWAwWkEmcllBhQhYQbC9V0EnD1dBnA5WQUnJVEHL71JBPUpRQYoJUEGi2E5B2OVNQaJ5TUFZw0xBfzVLQfW0SUGyJUlBWDpHQVl5REGThkRBPC1DQWZwQkEun0BBKak/QXXIPEFrzzpBKww5QbAON0GdDzZBqtQzQVBxM0GzXzBB5RUvQZieLEGYUStBKXgpQVzbJ0HfeyVBPcoiQe01IkEcMiBBfCodQXlJGkFviRhB+gwWQW7hEkGU6hBBh/MOQU6XDUF2PwtBUFMKQe83B0HKsQZBOisFQV+gBEG3VgNBhF4CQaS8AEH5qP9ArSH/QIiK/UCEe/xAJP/8QIyY+kCPEP1ASAj8QK4h+0BiuPtA4wb7QA2Y+EDKEfhAN+j6QEF59UAx/PVA1nX3QGVN+UBRSPRA4x39QPC590BGFvVA",
          "dtype": "f4"
         },
         "z": {
          "bdata": "H5YGQNouB0DeGwlA3A8GQKorDEAjIxNAPYQSQK/vFkBMGRVAr7EPQK7TDkB6gRBA/b8OQD5ADUA3ahBAM7AUQFHqFUAIShRAIIsWQCQvFUDELRdAoW4ZQLgrG0C1DxxAcH0dQHlJH0D1fCFAAOMhQFbFIkAoiiRAhhMnQEy2KUDlQixA7OMuQHn1MkCVYTZA7l89QMhXQ0Aw1kVAH0pMQOgqT0D7+lVA8a5bQJ9aYUDDFGVAgjxtQMOydECe9X1A6fqBQF2LhkBoz4lAPnqMQH6QkUAQlZNAJuOXQLB6m0CtTp1Acw+fQGImokCjkKZA/2moQE2PqUBpYatAztysQMYFr0BF1LFAIjmzQOqjtECWm7ZALQy5QC7iukDh7LtA3Mm8QK58vkBoLMBAiGi/QAm4v0Dj0L9A75O+QFjkv0BJO8BAV5PBQGygwUDeSsJAaRjEQEJ5w0C6hcNAKjjEQIH0xEDlH8ZArJfHQGPMyEDg4MlA4cHKQEEvy0CkwstAM//MQKBwzkDosc5A5EvQQMm60kCkltJAcczTQD151EBZXdVA5frWQLAd2kAhldtAm8fcQCi93UCATN5AwizeQFvH3kDtpN5AEQXgQIxP4EAwj+BAZavfQJK83kDE+95AZoXdQAa+3UDHMdxAv3XfQH1B2kBcm9hAPGDVQMte0UAvS85AznvMQNn7yEDvM8RA22/CQArTu0DGIrlA4WKzQPXBskAcJ65AsVypQAiFokC2SaBAQ02cQFosl0B6A5JAuXqMQE+oiUCEc4JAHXt8QIZcc0BVp3JAMUZoQKdsZECsl15Ay2JUQBQXTkAd3kxA4CNOQIvdUEAkxEdAXBVXQJ7qTEDJ6kZA",
          "dtype": "f4"
         }
        },
        {
         "line": {
          "color": "rgb(255, 127, 14)"
         },
         "mode": "lines",
         "name": "gbyk R",
         "type": "scatter3d",
         "x": {
          "bdata": "1nnvQOtX8EAMK/NA9gjyQGZw80CYyvVABILyQE/d/UCCVwFB7AsCQfAtBUGIAAhBcAgIQQaoCkGz/QtBOccPQRuUEkF4UBlBSkIdQR29H0E0XSBBWP4hQSzvI0GOeCRBhRcoQa+wKkGaXy1BDfctQalaMEHALTFByOQyQT9pM0EtPjVBD+U1Qf86N0HatTdBvW04QePtOEGoIDlB+rk4QUTlOEFLkDhBXAE4QcIeN0GJKTdBThQ3QVQlNkFmwTVBQ9U0QaMdNEFxpzNB1hMzQWTdMkE+YTJB4tYxQWFcMUEdijFBpCExQa/yMEEZwDBBFpMwQUB4MEEoQTBBfvwvQa3gL0GemS9BuzgvQQbkLkH3my5BIxQuQXJULUGKeSxB1E0rQdY6KkFrNilBjdkoQRjRJkEHzSVB8PskQfhyI0EopCFBUlQgQbuFH0G9dR5BRyIdQclwG0HR0BpB3a0ZQZ0sGEFwfRdBFwQWQfR5FUGkLhVBLyYUQR5rE0HMTBNBsnoSQecoEkGpjhFBBB4RQamxEEH1cRBBKzEQQQ1aD0G7Ow9BwC8PQSILD0GaPA9BcQ0PQfJUD0HwcA9Bx28QQSCREEENoRBBKT4RQYtZEUHxuxJBYOMSQU+IE0HNGhRBxsEUQWJGFUEn9hVBoqEWQWOGFkEyFRdBlUkWQSrVF0H7cBhBSQkaQYn7GEF67RlBrK0aQQTqGkGoQRtBEQwcQb1MHEFvzBxBACUdQQCKHUGR9R1BNfUdQaYRHkEElR1BXN4cQaOOHUHlTB1Bm+0cQeawHEEuqxxBhOocQQ+gHEFgKhxB8WMdQZ/XHUFJFB1Bw+AcQa3JHEGvlRxBH7QcQXk8HEGE2BxBMP4dQbWFHkGqZB1Bmd4cQffcHEGH3xtBhvwcQU/tG0HtVxtBXKQcQZ4/GkGrYxxBiVYaQQIJGkHizRtBVBMbQRHPHUE=",
          "dtype": "f4"
         },
         "y": {
          "bdata": "zcsjv5qvFr+pGzG/sacov58fN78fsgO/RCbyvnpkxb4koo6+vH16vgbypr2IvEw99ul7Pe9cWD4V5ZY+lhwHPx/MND8l5pM/5/W2P67CzD+Ij9I/vdLiP43r9T8nEf0/gCISQInBIUBEdzBAlzY5QNF1SEChNVBAI8NhQFWDZUA4tnpAzjmCQDH9iUDvQZNAQn+WQAgInUAlRKBAkLSnQFMIq0C3trBA+om4QEeAvUDeYcZAtDbIQKgfzkBBmNNAghfdQCdr5EBKaOlA5YnuQPew9kCqmvlAtj3/QKE7AkFzMARBexAIQVkRC0H0Cw5ByLsQQfGfEkEuzRVBxikZQY+1GkEYdB1BjoMgQeYtI0EMTCVByhIoQdsXLEFYUDBBOvc1QfTCOkFHKT1B/w8/QQW7RUFhqUhBgGBLQY3UT0GfxFRBKD1YQeJOW0FjE19BiZNhQQD+ZkHx52hBAxtsQcZIcUF5tXNBV7J4QV0MekFYFH1BrX6AQR1ZgkEpGYNBXEGFQVQXh0FOp4hBQbyKQRv0jEECt41BGUiPQc/OkUEuf5NB0hyVQTjulUFg+pdBDamYQYhamkFlt5pBK+mcQVCBnUEarJ1BEzifQfzToEGSk6JBYEyjQc+LpEGAmKVBncKmQTVXp0FSzqhBFN+pQS1lqkEOIatBT9eqQXAmrEHq36xBhM6tQUwMrkHUia5Bd0SvQW95r0Hfm69BfeavQTDpr0HP+a9B2tWvQZqZr0Fgh69BUCOvQdDdrkFmha5BAzCuQcMVrkFatK1BCe+sQQ6crEHqYqxB+jusQW8CrEGFs6tBBZ2rQSboq0H1VqtBSCWrQVWmqkEGQapB7RSqQRdbqUEAfqlBcY+oQRHpqEHbHKhBJbqnQZ93p0Eoi6ZBotimQU7ApUGHaqVBG/ylQUtWpEE2qaNBB2ukQaQBpEGGNqNB/eOiQducokE=",
          "dtype": "f4"
         },
         "z": {
          "bdata": "7I7OQJiXzUDN6NFAmVTQQAt40kBAtM9ApIDLQHHezUALuMlA0GXLQPg4zEBCPMhAR/bKQKdyykBBDs1AlgLNQGxwzUCsss5A2ofPQD+50ECRQM9AKobQQEcG00CLsNBAwfnPQEFVz0AEXs1AyqDOQPjFy0AqJ8tAGKDJQDsHyUBJC8ZAN3jEQIlowUB/tb5ASIi8QOWauUBMnrhA26+1QFdHtEACG7JAgYuuQHe4rUBPQKlAUs6oQFxJpUD/XqJAM9GcQHcAmEDZT5VAyDaSQKsljUDaKotAJR2HQBz1g0BkXYFAlxZ3QPHibUBgWWRAjAlcQJNfVkBEWExA+GdBQFOHPEBw+DJA1qQoQN8TIEDcLxlAIvQPQNkJA0A7Pus/MTPIP1vlqT+MHZs/okCQP5YQUz9/kjY/K4oWPzCh1j5UfHg+I3rvPfRRQz0gLSq9HU4FvpXaer7b3pG+rge0vl1U3b7/sO++Qy0Lv5EVFL8GOhW/Cmshvy0YKL8ulCm/1Lwwv21rM7/Gsze/xo44v9uOOL8/4Dq/yKkzvxzqKr/3Gie/z/4Iv6D0Eb+Eu+y+FovivptYt77jyq6+hnlnvkczPb4U0C2+GpcPvR/u7T0Xip4+FwPJPkkFDj9FCzU/0IhlP0EafT9C3KE/Bie9P3XKzT/lnuM/zPPwP+61A0C0vRFAMloeQOEAJ0DZKTNAdnpDQHVXT0BmJFdAsn5wQNdbeEBDnoNArvGLQJvglEA3NZxASK6jQNH9qUAlba9AhvS0QNydukAIY75AQ//FQGFzyUAfRs5AM5XSQDvP1kD9KdxAo9LiQLJ350CLn+xAN8XvQHA79kDzhP1AgDv/QLYsBEEnegVBvCEKQUUFCkFNTQxBHIsNQWPdDkGwEhFBxhwTQXHwFUFP4xZBYJsYQVL1GkEK7BtBsK8cQXrCHkHBdh9B4S0gQenmIUE=",
          "dtype": "f4"
         }
        },
        {
         "line": {
          "color": "rgb(44, 160, 44)"
         },
         "mode": "lines",
         "name": "homing L",
         "type": "scatter3d",
         "x": {
          "bdata": "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",
          "dtype": "f4"
         },
         "y": {
          "bdata": "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",
          "dtype": "f4"
         },
         "z": {
          "bdata": "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",
          "dtype": "f4"
         }
        },
        {
         "line": {
          "color": "rgb(214, 39, 40)"
         },
         "mode": "lines",
         "name": "homing R",
         "type": "scatter3d",
         "x": {
          "bdata": "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",
          "dtype": "f4"
         },
         "y": {
          "bdata": "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",
          "dtype": "f4"
         },
         "z": {
          "bdata": "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",
          "dtype": "f4"
         }
        },
        {
         "line": {
          "color": "rgb(148, 103, 189)"
         },
         "mode": "lines",
         "name": "precue L",
         "type": "scatter3d",
         "x": {
          "bdata": "zXC1QCNEtkBVpbpAWxe3QMYUtECAycpAqV7TQGUey0A0/c5AuEnNQKTwz0DV/dRADzvYQOiN30ANZuNAgfvjQElY7EAcuwFBzjEGQQdJC0GQcw9B1ncUQfLjFkF+cRtBjPcdQRORIUGn7iRB3isoQbBPKUHdjC1B3PsuQWJ8L0F5nzNB+LM1QRpiOUF1jz1Bj14/QQOYQkEoqUVBAoBDQXJdRkEnsElBSZNLQakwTkGa3VBB4eZRQUW6U0FNDlVBPx1XQeebWEEht1pBAvJbQbblXEE66l1BWnteQaN+X0FsFGBBXs1gQRXwYEG472BB1h9hQTomYUHeEWFBMrFgQflvYEF4fV9BgzlfQeDSXUG5zlxBMbBbQUorWkFiRVhBtPVVQTGLVUHOEFRB3s1SQRcoUUEWek9Br0lMQd2JSkGgmUhB6ZxGQd2fRUFrpkNBTb1CQRVVQEHumT9BAa88QXaeOkFinTlB6Qw3QWPUNEHdyDFBC+IvQYMzLEFoXCpBG/0mQU8bJEG3ACBBrDwdQfN4GkHy/BZBp/gTQajTEEFxYxBBqFAOQSmADEFS0QpBSJkIQZC8BkEpKQVBg/oDQVywAUG7sQBBvKL8QKxr+kD2e/dAI9LyQC5h7UBK0OlAiqvmQNVQ40BSa91AeM/cQB5v2EAPjNZAKgHSQBPHzUCNN8lAFdDGQOd/wUDtTb1A6Ia7QCJpt0D+1rJA6+6vQHYbr0B5t6hA5eCmQF5DpUDAeahAioWgQG4WpUB2c59A6LeaQDPYl0BsnpVA75GTQMyskEDu4JFAEriVQA+okkCR9JZAytiYQLK0lkA=",
          "dtype": "f4"
         },
         "y": {
          "bdata": "1E7AQOmlwECwxbtAe66+QGSJwkAl2rlAXEi2QOX/vEAr9rtA2My3QNbavUCoELZAHCu5QOdmsUCqla1A3kuuQLDXpkCg75ZAwFGQQI4YiUBhToNAX6N4QJ3tcUDCuGVAi6peQCs4VUAmzUxAIGZEQHLcQECBzDhAwoE0QFWONECg3SlArZYkQKSKGkBbcg5A2SMJQCDg/j+mne4/3Q7+PxYZ6j+meuE/TRbZP/3b1j+cSdY/zRrQP3Xdzz95Bc8/tLbNP3R4zD9mQMs/A0jKP/8ZyT8ciMg/W7TGP3CDxD/mUcM/Hg/BPwt3wD+gh8A/hNy/P3C/vz8xGsA/HvTBPyFLwz+0Ack/bLzLP8jt1D8hGdw/KPvjP0rG7j+bI/w/rboGQFIPCEDthA1Afz8SQCKDGEBV/h5AuFcrQEYxMkBvyTlAuZNBQOWCRUBrYE1AbwhRQKsbW0BxHl5AtTpqQIFOc0BWzXVAGgGAQN9ShEDXVYpA0yCOQG+flUDFZplAHnKgQEyYpkDLnq9AXfS1QIKqvEAcgMVAMqzNQEgS1UBbj9hA/8zfQEKr5UDsgOpAp8nwQKRP9kBU8fpA66/+QFO4AkGrlgRBftEHQdf4CUFTSwxBXrYPQarmE0HcoRZBFY0YQX5ZG0FTkR9B/HMgQWf1I0HIjSVB5ewoQZMqLEEIey9BhTExQfFlNEHWhDZB5Uk3QYBVOUHQZjtB9Do9QcnPPUGa3kFB/ptDQYRKRUGn9EVBKThIQWQtS0EzgExB4wdPQb4ZUEGTiFFB84JRQV8NVEGvN1VBDaBYQS+mV0HMNVpBu/taQS81WUE=",
          "dtype": "f4"
         },
         "z": {
          "bdata": "b6M7QK9+PEA8sTJACGA4QKt0QEDmhzVAhE5AQKR3P0B4djdAOwgzQH9XLEDupTVA4IktQHIgMkA+FDJAuKIzQMTCNkCq1z5ArRtEQOZTSUDLpU5AT/xUQBp+WEB9RV9Av1JkQFJUakBSL3BAPsB3QDQqekCuhoBAX6KCQCnRgkDDDYlAqUqMQMvMkkCl0ppAu2SeQJUCpUCRz6tAQVinQLN4rUB/67VAHna6QM+gwUBAfMpAyKHOQJOa1EBjktpAD+7kQJbN6kC7lPZA8uL+QOKYAUHw/ARBaTUHQdavDEH42hBBoHITQfLVFEEudxhBrS0dQVGtIUFsQSdBAhUsQWoDL0GtvTNB8+Q1QaoKO0EDoj5BnCpCQSEQRkH7p0tB+M5PQdlRUUHRRlRBouhWQRitWkGbA11ByehiQZwJZkElUWlBgOhsQfp9bkExzHFB1yNzQYtWdkG8SndB19F6QQcnfUEGSH5BR3eAQViLgUH5AoNBru+DQZqhhUG8eYZBWPSHQfUxiUFb64pBpwaMQf8ajUHqaI5BWISPQf9MkEFAv5BB2jeRQYO8kUGsNZJB7tOSQR5Kk0Flr5NBUCuUQerdlEHwG5VBteOVQa0WlkEBu5ZBH2OXQWw8mEHgp5hBdFWZQSa1mUFgi5pBF4+aQWMZm0ECUJtBgtCbQcoOnEGMVpxBBHmcQdhXnUEywpxBlXucQYI5nEEOepxByPqcQbCVnEFfkpxBbTCcQessnEHU3pxBLVCbQQkznEEULptBLxabQXVgmkHWBJpB0ZiZQZx+mEGkuphBa7aYQai0l0ESCphB06mYQWj3mEE=",
          "dtype": "f4"
         }
        },
        {
         "line": {
          "color": "rgb(140, 86, 75)"
         },
         "mode": "lines",
         "name": "precue R",
         "type": "scatter3d",
         "x": {
          "bdata": "UyjxP8WM/D+6pfo/QhXvP04m7z/bQN8/aCrlP2zWvj/6rr4/5jSxP0W2nj+m1og//BxrPzdBUD8FndQ+LSHgPQ/BNb4Gb5m+5bf+vl3/Lr8x1Cu/JsGCvz4Lor+bwa2/r8/Gv0Gt2r/lUgPAuI0TwCnuHsCQNyjAiKQwwBwBPcAcHkjAKkdPwJsWVsAGjl7A/IprwKnceMCZUHzAx1OBwInvh8A6TozARxqQwDaBlcCARpjA/E+dwG1QosCLaKbAgf+nwGgBq8B4C7DAPxGzwJrvtMBLILzA0NS+wMLWw8BZJsnAIOzPwPFw1cC0FtrAxVHfwHn+5sCUderAghDwwNs59MB22vvAaD8AwWmjAsFSTATBKrUGwUAACMFLKgzBKNwNwWPKEcEWXRTBBy4YwYbJGsH4uR7BnsEhwT0iJsEmeSnBi9wrwWZmLsHQCDLBxs40wes1N8Em5DrBlQE/wY9OQsHpw0XBilFHwdp2ScH2Mk7BTfxRwW/YUsGkZ1XBO+pZwUWyXMGR3l/Bka5jwYsQZsG1y2nBI0NtwSHzb8FLEXLBXU12wUa0ecFOy3zB7ux/wUD5gMFAzYHBba6DwSGHhcGRV4bBaRCIwb6micEQZ4rBGySMwWMVjcGtX47BkkOPwSXLj8EzhZHBEimTweUTlMGz65TBv9OVwWiVlsGaapfBgiWYweaqmMH87ZjB4TGZwbT4mMHcppnBPQqZwUZlmMFQlpjBF+mXwdF3l8Hdu5bB2gSWwWI5lcGI0JTBakaUwQhxk8ECaJLBkMeSwduPksFFmZLBZ5uTwb5sksFs0ZLBRx2RwXPbj8EjPo/BI1eOwZtLjcFGf4zBDnKLwQOYicHhx4nB2xCKwU43icFz8InBm7WJwdVzicE=",
          "dtype": "f4"
         },
         "y": {
          "bdata": "ytO7QNxivkBeYrtA3T67QLbAu0CkmLlAE7m1QIHsukD+ar1AKMC3QPk0uEAu7bNAV+GwQNvGrkB3+aZADF6gQOw5mkAwOJdAYmqSQM/AjUDWCo9AOIeFQOdsfUAWrHhA2MNsQEQmY0C2vU1A9UY9QNlyMUDztydANW0eQF7bEEBUvARAKuT4P48N6j8s7dY/aoy6P0sCnj+SM5M/OrSCPxEPQj+SBRU/zRXnPivgbz6yJwY+0Y+kvVNyib4spby+3xPvvk/jFr+oc0O/v9tcvwwXa7+v9Y+/tt2Yv+Ytpr8JcLS/sbPDv+zozb+9M9W/2aPcvxLc4b8PnOO/1x3kv5dQ5b88dOK/aPbiv83Q2r8qyuK/GHHdvxqZ3L+IAtW/P6LZv4xRy7+2qci/s97Dv80yv7+vf7m/u++1vzACsr/08qm/+sypv1elq7+iMqK/yFajv6U6or/hA6G/bLyev1aVlb/0sJS/SXWUv8cGkr9E+ou/0XiFv9Evhb9juIC/MTp5v/fqZr+ue2u/KM9pv2ciYr+78mC/QsBav/LUVb/MI1K/Wh9JvwMCRL/hGUC/QgJCvydWPb+FJTe/Irsuv80gH7+Sghy/rrYQv8V+C7+vZQO/PRH2vgZx5r7kZ7q+GMC2vn8Rrb4QvWC+JJaevdYBoTzfVfc9ZexvPjZWsD4/aAA/L3YrP45RaT+ZgYY/YQyRPwSKoj+CFq4//wy7P/wNzj/1Xds/klrwPyMN/z/agwlAtgITQIkVIEBbxyVArRQuQM6LPUA/GEVANSpMQPkYTUB/CUtAUrdGQDuCSkCCDUVA+gFKQP+6S0A8rUlAKC9QQMPhSEDBHUNAwjc8QNNpL0Cw/SlATE4wQDfwLkDDHyxAS/I3QDD/M0A=",
          "dtype": "f4"
         },
         "z": {
          "bdata": "3l2/QGkLv0D/0MBA5JHBQMiswUAYW8BANrm7QJt5ukBZ/bxAru64QOr+uUA1X7ZA6Ci1QLxVs0Dyw65ABeCqQEkJqECJsaZAXL+jQOQmpEBD4Z5AmneeQDEdm0A+FZtAUjOYQFfIlUB5zZBA8pmMQMPZiUDIaYZAQ1uEQDaGgEBsQnpARkx1QOQKcECPOmpAVOBfQEoUVUDK4lJAFZRNQBPWQUCTwzlAkTsyQIHXJ0DOTyJApOcXQDX7DUBaAwhAxYYCQBXp9j/vueE/1TbVPyOizT/PwbA/GyKmP14kkz+/nX0/TxJLP2+qIj/Y6AA/4Yq1Pjn8Dz6BqC09iiLevZnEYr4Jn9u+NdUMvwDqLb/VHEW/Qblkvyfqc7/m75O/S6qfv3OKt7/hi8a/gnfZv3iI6L8tfvy/1NUEwBz0DcDnQhXAWXgbwNFPGsDOySLAvO8kwLjNKMDVPizAe3cwwAyUMcC+mDbAZjg3wDY3OMB0aDnAFeM5wHPpOcBKhDnAKWY3wPGQMsDXSzPA+XYxwC/CLcAlRCvAZs4lwCaOIcA9px3A2Q8VwPN+C8C2hQTAUa/3v85Q7L9pYeO/G3jLv2lVs7+YLqm/S9ySv0e0e7/ln2a/AKY1v4LjG79gce2+l5W4vu6Tmb6PR7a9w2LvPfyacD4jqLM+nA3zPvzqFD8y7zc/9bdZP9eagz+jrY8/ZdGVP/CGnD+8Pq4/Ka+nP0FPuT894rA/CPS2P6QTvz8wwco/gDvXP90S4z9DcOg/2/rwPzF3BUDNef0/QQ0HQOvrBECechNAJo0dQLuoGkBDgCJAg2InQIPAKkBrXCxAtcwyQM3INUA7lDpAHxU7QPtwRkC8+kpA4B1UQMlOUUCmZ1tAZzRdQMZmWEA=",
          "dtype": "f4"
         }
        }
       ],
       "layout": {
        "legend": {
         "itemsizing": "constant"
        },
        "margin": {
         "b": 10,
         "l": 10,
         "r": 10,
         "t": 40
        },
        "scene": {
         "aspectmode": "data",
         "bgcolor": "rgba(0,0,0,0)",
         "camera": {
          "eye": {
           "x": 1.5,
           "y": 1.5,
           "z": 1.5
          }
         },
         "xaxis": {
          "showbackground": false,
          "title": {
           "text": "UMAP1"
          }
         },
         "yaxis": {
          "showbackground": false,
          "title": {
           "text": "UMAP2"
          }
         },
         "zaxis": {
          "showbackground": false,
          "title": {
           "text": "UMAP3"
          }
         }
        },
        "template": {
         "data": {
          "bar": [
           {
            "error_x": {
             "color": "#2a3f5f"
            },
            "error_y": {
             "color": "#2a3f5f"
            },
            "marker": {
             "line": {
              "color": "#E5ECF6",
              "width": 0.5
             },
             "pattern": {
              "fillmode": "overlay",
              "size": 10,
              "solidity": 0.2
             }
            },
            "type": "bar"
           }
          ],
          "barpolar": [
           {
            "marker": {
             "line": {
              "color": "#E5ECF6",
              "width": 0.5
             },
             "pattern": {
              "fillmode": "overlay",
              "size": 10,
              "solidity": 0.2
             }
            },
            "type": "barpolar"
           }
          ],
          "carpet": [
           {
            "aaxis": {
             "endlinecolor": "#2a3f5f",
             "gridcolor": "white",
             "linecolor": "white",
             "minorgridcolor": "white",
             "startlinecolor": "#2a3f5f"
            },
            "baxis": {
             "endlinecolor": "#2a3f5f",
             "gridcolor": "white",
             "linecolor": "white",
             "minorgridcolor": "white",
             "startlinecolor": "#2a3f5f"
            },
            "type": "carpet"
           }
          ],
          "choropleth": [
           {
            "colorbar": {
             "outlinewidth": 0,
             "ticks": ""
            },
            "type": "choropleth"
           }
          ],
          "contour": [
           {
            "colorbar": {
             "outlinewidth": 0,
             "ticks": ""
            },
            "colorscale": [
             [
              0,
              "#0d0887"
             ],
             [
              0.1111111111111111,
              "#46039f"
             ],
             [
              0.2222222222222222,
              "#7201a8"
             ],
             [
              0.3333333333333333,
              "#9c179e"
             ],
             [
              0.4444444444444444,
              "#bd3786"
             ],
             [
              0.5555555555555556,
              "#d8576b"
             ],
             [
              0.6666666666666666,
              "#ed7953"
             ],
             [
              0.7777777777777778,
              "#fb9f3a"
             ],
             [
              0.8888888888888888,
              "#fdca26"
             ],
             [
              1,
              "#f0f921"
             ]
            ],
            "type": "contour"
           }
          ],
          "contourcarpet": [
           {
            "colorbar": {
             "outlinewidth": 0,
             "ticks": ""
            },
            "type": "contourcarpet"
           }
          ],
          "heatmap": [
           {
            "colorbar": {
             "outlinewidth": 0,
             "ticks": ""
            },
            "colorscale": [
             [
              0,
              "#0d0887"
             ],
             [
              0.1111111111111111,
              "#46039f"
             ],
             [
              0.2222222222222222,
              "#7201a8"
             ],
             [
              0.3333333333333333,
              "#9c179e"
             ],
             [
              0.4444444444444444,
              "#bd3786"
             ],
             [
              0.5555555555555556,
              "#d8576b"
             ],
             [
              0.6666666666666666,
              "#ed7953"
             ],
             [
              0.7777777777777778,
              "#fb9f3a"
             ],
             [
              0.8888888888888888,
              "#fdca26"
             ],
             [
              1,
              "#f0f921"
             ]
            ],
            "type": "heatmap"
           }
          ],
          "histogram": [
           {
            "marker": {
             "pattern": {
              "fillmode": "overlay",
              "size": 10,
              "solidity": 0.2
             }
            },
            "type": "histogram"
           }
          ],
          "histogram2d": [
           {
            "colorbar": {
             "outlinewidth": 0,
             "ticks": ""
            },
            "colorscale": [
             [
              0,
              "#0d0887"
             ],
             [
              0.1111111111111111,
              "#46039f"
             ],
             [
              0.2222222222222222,
              "#7201a8"
             ],
             [
              0.3333333333333333,
              "#9c179e"
             ],
             [
              0.4444444444444444,
              "#bd3786"
             ],
             [
              0.5555555555555556,
              "#d8576b"
             ],
             [
              0.6666666666666666,
              "#ed7953"
             ],
             [
              0.7777777777777778,
              "#fb9f3a"
             ],
             [
              0.8888888888888888,
              "#fdca26"
             ],
             [
              1,
              "#f0f921"
             ]
            ],
            "type": "histogram2d"
           }
          ],
          "histogram2dcontour": [
           {
            "colorbar": {
             "outlinewidth": 0,
             "ticks": ""
            },
            "colorscale": [
             [
              0,
              "#0d0887"
             ],
             [
              0.1111111111111111,
              "#46039f"
             ],
             [
              0.2222222222222222,
              "#7201a8"
             ],
             [
              0.3333333333333333,
              "#9c179e"
             ],
             [
              0.4444444444444444,
              "#bd3786"
             ],
             [
              0.5555555555555556,
              "#d8576b"
             ],
             [
              0.6666666666666666,
              "#ed7953"
             ],
             [
              0.7777777777777778,
              "#fb9f3a"
             ],
             [
              0.8888888888888888,
              "#fdca26"
             ],
             [
              1,
              "#f0f921"
             ]
            ],
            "type": "histogram2dcontour"
           }
          ],
          "mesh3d": [
           {
            "colorbar": {
             "outlinewidth": 0,
             "ticks": ""
            },
            "type": "mesh3d"
           }
          ],
          "parcoords": [
           {
            "line": {
             "colorbar": {
              "outlinewidth": 0,
              "ticks": ""
             }
            },
            "type": "parcoords"
           }
          ],
          "pie": [
           {
            "automargin": true,
            "type": "pie"
           }
          ],
          "scatter": [
           {
            "fillpattern": {
             "fillmode": "overlay",
             "size": 10,
             "solidity": 0.2
            },
            "type": "scatter"
           }
          ],
          "scatter3d": [
           {
            "line": {
             "colorbar": {
              "outlinewidth": 0,
              "ticks": ""
             }
            },
            "marker": {
             "colorbar": {
              "outlinewidth": 0,
              "ticks": ""
             }
            },
            "type": "scatter3d"
           }
          ],
          "scattercarpet": [
           {
            "marker": {
             "colorbar": {
              "outlinewidth": 0,
              "ticks": ""
             }
            },
            "type": "scattercarpet"
           }
          ],
          "scattergeo": [
           {
            "marker": {
             "colorbar": {
              "outlinewidth": 0,
              "ticks": ""
             }
            },
            "type": "scattergeo"
           }
          ],
          "scattergl": [
           {
            "marker": {
             "colorbar": {
              "outlinewidth": 0,
              "ticks": ""
             }
            },
            "type": "scattergl"
           }
          ],
          "scattermap": [
           {
            "marker": {
             "colorbar": {
              "outlinewidth": 0,
              "ticks": ""
             }
            },
            "type": "scattermap"
           }
          ],
          "scattermapbox": [
           {
            "marker": {
             "colorbar": {
              "outlinewidth": 0,
              "ticks": ""
             }
            },
            "type": "scattermapbox"
           }
          ],
          "scatterpolar": [
           {
            "marker": {
             "colorbar": {
              "outlinewidth": 0,
              "ticks": ""
             }
            },
            "type": "scatterpolar"
           }
          ],
          "scatterpolargl": [
           {
            "marker": {
             "colorbar": {
              "outlinewidth": 0,
              "ticks": ""
             }
            },
            "type": "scatterpolargl"
           }
          ],
          "scatterternary": [
           {
            "marker": {
             "colorbar": {
              "outlinewidth": 0,
              "ticks": ""
             }
            },
            "type": "scatterternary"
           }
          ],
          "surface": [
           {
            "colorbar": {
             "outlinewidth": 0,
             "ticks": ""
            },
            "colorscale": [
             [
              0,
              "#0d0887"
             ],
             [
              0.1111111111111111,
              "#46039f"
             ],
             [
              0.2222222222222222,
              "#7201a8"
             ],
             [
              0.3333333333333333,
              "#9c179e"
             ],
             [
              0.4444444444444444,
              "#bd3786"
             ],
             [
              0.5555555555555556,
              "#d8576b"
             ],
             [
              0.6666666666666666,
              "#ed7953"
             ],
             [
              0.7777777777777778,
              "#fb9f3a"
             ],
             [
              0.8888888888888888,
              "#fdca26"
             ],
             [
              1,
              "#f0f921"
             ]
            ],
            "type": "surface"
           }
          ],
          "table": [
           {
            "cells": {
             "fill": {
              "color": "#EBF0F8"
             },
             "line": {
              "color": "white"
             }
            },
            "header": {
             "fill": {
              "color": "#C8D4E3"
             },
             "line": {
              "color": "white"
             }
            },
            "type": "table"
           }
          ]
         },
         "layout": {
          "annotationdefaults": {
           "arrowcolor": "#2a3f5f",
           "arrowhead": 0,
           "arrowwidth": 1
          },
          "autotypenumbers": "strict",
          "coloraxis": {
           "colorbar": {
            "outlinewidth": 0,
            "ticks": ""
           }
          },
          "colorscale": {
           "diverging": [
            [
             0,
             "#8e0152"
            ],
            [
             0.1,
             "#c51b7d"
            ],
            [
             0.2,
             "#de77ae"
            ],
            [
             0.3,
             "#f1b6da"
            ],
            [
             0.4,
             "#fde0ef"
            ],
            [
             0.5,
             "#f7f7f7"
            ],
            [
             0.6,
             "#e6f5d0"
            ],
            [
             0.7,
             "#b8e186"
            ],
            [
             0.8,
             "#7fbc41"
            ],
            [
             0.9,
             "#4d9221"
            ],
            [
             1,
             "#276419"
            ]
           ],
           "sequential": [
            [
             0,
             "#0d0887"
            ],
            [
             0.1111111111111111,
             "#46039f"
            ],
            [
             0.2222222222222222,
             "#7201a8"
            ],
            [
             0.3333333333333333,
             "#9c179e"
            ],
            [
             0.4444444444444444,
             "#bd3786"
            ],
            [
             0.5555555555555556,
             "#d8576b"
            ],
            [
             0.6666666666666666,
             "#ed7953"
            ],
            [
             0.7777777777777778,
             "#fb9f3a"
            ],
            [
             0.8888888888888888,
             "#fdca26"
            ],
            [
             1,
             "#f0f921"
            ]
           ],
           "sequentialminus": [
            [
             0,
             "#0d0887"
            ],
            [
             0.1111111111111111,
             "#46039f"
            ],
            [
             0.2222222222222222,
             "#7201a8"
            ],
            [
             0.3333333333333333,
             "#9c179e"
            ],
            [
             0.4444444444444444,
             "#bd3786"
            ],
            [
             0.5555555555555556,
             "#d8576b"
            ],
            [
             0.6666666666666666,
             "#ed7953"
            ],
            [
             0.7777777777777778,
             "#fb9f3a"
            ],
            [
             0.8888888888888888,
             "#fdca26"
            ],
            [
             1,
             "#f0f921"
            ]
           ]
          },
          "colorway": [
           "#636efa",
           "#EF553B",
           "#00cc96",
           "#ab63fa",
           "#FFA15A",
           "#19d3f3",
           "#FF6692",
           "#B6E880",
           "#FF97FF",
           "#FECB52"
          ],
          "font": {
           "color": "#2a3f5f"
          },
          "geo": {
           "bgcolor": "white",
           "lakecolor": "white",
           "landcolor": "#E5ECF6",
           "showlakes": true,
           "showland": true,
           "subunitcolor": "white"
          },
          "hoverlabel": {
           "align": "left"
          },
          "hovermode": "closest",
          "mapbox": {
           "style": "light"
          },
          "paper_bgcolor": "white",
          "plot_bgcolor": "#E5ECF6",
          "polar": {
           "angularaxis": {
            "gridcolor": "white",
            "linecolor": "white",
            "ticks": ""
           },
           "bgcolor": "#E5ECF6",
           "radialaxis": {
            "gridcolor": "white",
            "linecolor": "white",
            "ticks": ""
           }
          },
          "scene": {
           "xaxis": {
            "backgroundcolor": "#E5ECF6",
            "gridcolor": "white",
            "gridwidth": 2,
            "linecolor": "white",
            "showbackground": true,
            "ticks": "",
            "zerolinecolor": "white"
           },
           "yaxis": {
            "backgroundcolor": "#E5ECF6",
            "gridcolor": "white",
            "gridwidth": 2,
            "linecolor": "white",
            "showbackground": true,
            "ticks": "",
            "zerolinecolor": "white"
           },
           "zaxis": {
            "backgroundcolor": "#E5ECF6",
            "gridcolor": "white",
            "gridwidth": 2,
            "linecolor": "white",
            "showbackground": true,
            "ticks": "",
            "zerolinecolor": "white"
           }
          },
          "shapedefaults": {
           "line": {
            "color": "#2a3f5f"
           }
          },
          "ternary": {
           "aaxis": {
            "gridcolor": "white",
            "linecolor": "white",
            "ticks": ""
           },
           "baxis": {
            "gridcolor": "white",
            "linecolor": "white",
            "ticks": ""
           },
           "bgcolor": "#E5ECF6",
           "caxis": {
            "gridcolor": "white",
            "linecolor": "white",
            "ticks": ""
           }
          },
          "title": {
           "x": 0.05
          },
          "xaxis": {
           "automargin": true,
           "gridcolor": "white",
           "linecolor": "white",
           "ticks": "",
           "title": {
            "standoff": 15
           },
           "zerolinecolor": "white",
           "zerolinewidth": 2
          },
          "yaxis": {
           "automargin": true,
           "gridcolor": "white",
           "linecolor": "white",
           "ticks": "",
           "title": {
            "standoff": 15
           },
           "zerolinecolor": "white",
           "zerolinewidth": 2
          }
         }
        },
        "title": {
         "text": "session: ken_20230622_spikes_sorted_SES<br>area: dlpfc"
        }
       }
      }
     },
     "metadata": {},
     "output_type": "display_data"
    },
    {
     "data": {
      "application/vnd.plotly.v1+json": {
       "config": {
        "plotlyServerURL": "https://plot.ly"
       },
       "data": [
        {
         "line": {
          "color": "rgb(31, 119, 180)"
         },
         "mode": "lines",
         "name": "gbyk L",
         "type": "scatter3d",
         "x": {
          "bdata": "ubH3P7WA8j84iQdAoZ4KQFipB0BZ6AxA878JQFJ5CkD22v8/6Z/tPx+X9z9l/N8/r4TEPyh0xz8tQaI/lZ6aP+Q+cz+H8E4/19s3P0fnET/R4cY+lzqWPrEc4j1eSI29UHhMvt5Ql76Kid2+AoAKv2mNN78Xt1G/5qtzv4g1hb9vmpe//vaav0uenL99wJ+/0gCfv9aNor/OEJq/Bqiiv89Jo79ziqO/XoKkv/jmq790caG/Z+Cov986rL8BDK2/B8Swv7ektL9pVre/Anu/v+JzvL+ntb6/BgS/v5lzy7+ESce/QL/Mv+6Qwr8wrdO/SCrav1Sz4L9UDea/rcLqv7DG7r8ID/K/gcDzv5bD+L9Q8/q/BH7/v43AAcB7LATA7FUGwI3eCcD/zgzAuXsOwPxPEMBJsBXA+g8SwBThGMAnwBrAbj8gwJTXIsBZcybA6csmwMYfKcDitCbA/OQtwCcXM8AwzjfAOMM9wHr1RMALOUvArBBSwOdCXMAFslrAWwhmwJ2jbsDUXnbAJet8wMYLgsB0JIfAfqKMwN4ikcAG3ZTA8qSYwPIEnMArmZ/A2CSnwMSErMCNObDAhre2wIQHvMC2GMDAMaPIwDgPy8CodtLAaoHXwLx53cCGYOLA6ejmwKgo8MCZc/PArdv7wB43AcHjfgPBMGoGwQkqCsHB5wzByv8QwRaRE8GSIxfBMq0ZwU3hHMFMtR/BOvUhwXbtJMHCaiXBB0gqwddwLcHh+y3Bc/IvwdhOMcGE4zLBmIMzwX0UNcE1VzXBQ3U3wRYYOcGUtjvBNfY7wd0IPsF47jzBJgY8wQ==",
          "dtype": "f4"
         },
         "y": {
          "bdata": "t5ChQJkwoECiXaBA3I2fQO57okB7LaVAcO2gQPEPqkBgOK5AUcasQN+pr0DZg6xATAmvQCdar0D0cbNAm920QPYMukA8A71A6KPAQPc3xEB1W8hA1AXLQFJj0EB7+tVALjvaQJR73UAPHOJA7P7lQMFW7EAgP/BAi031QEXT+ECfBv5AKJMBQScwA0GdowRBVmkHQVTQCUH1jwhBGOwLQXxLD0E9WRJBBFMVQU2yF0GLXBdBRAEcQUkHH0GW1h9B3uoiQVuiJUGi2SdBDD8qQYsTLEEwCS5BnC0wQcC/MEHmHjNBbao0QVTOM0FekzZBjJ83QbbNOEExpzlB5XI6QZ4OO0HhfDtBHbg7QQ9MPEEMYjxB/IQ8QfiBPEHMTzxB7hc8QVSZO0E8QDtBGQI7QWTKOkEPvTlB+Ac7QcSNOUGFgzlBzIk4QY8yOEG1jzdBwsM3QaVwN0E4dDhBbd82QckgNkEXajVBe5E0QUetM0H87jJBDjwyQZ0gMUEoXjFBgW0wQW6xL0GM+S5BK1cuQWwpLkGr5SxB7NUrQRXqKkHT1ClBKLopQQDxKEE2HShBfaclQVzAJEGfCSVBKuMjQSs3I0Hv4SJB2T8iQe8FIkHjnSFBtNQhQd/CIUHxDSJBuB8iQacHI0FGSyNBJx0kQUOrJEFGTCVBu1olQWI8JkGHFiZB1BAmQccFJkGNWyVBRNQlQYcRJUEUNiVBOL8kQQcSJkF7WCVBtc8mQbHCJUF1kSVBUbQlQfbvJUF5ziZBi9EmQQBLJ0H+USlBnR0rQRO6KUFmTipBo6ApQcwpKEF5UyhB2CwoQQ==",
          "dtype": "f4"
         },
         "z": {
          "bdata": "RQ6BQPcWgkCXWnVAf9JxQBfjcED4M3hAQpdrQBH8f0DaroVA+hWFQJUIh0Cg8YZAGDWLQFnnikB3zI9ABS+RQH/sl0Das5tAjaSfQBMApECrdqlAitOsQIRXs0D0LbpAhDu/QDuPw0CYCslAauXNQG7Q1UAJj9pAF73gQBvs5EB6AutAaqHwQNiN9EB57vdANNH+QK5AAkEcGwFBAN4EQaTkCEEIdgxBNfEPQQY/EkHuYhNBVuEYQcynHEGtDR5BQFEiQTF0JkFauilBb7otQZ9JMUFR4TVB2fE5QYloPkFFwkJB/4RGQR4dSEEoVkxB9XtQQfzEU0GVpldB6UVcQSSMYEFB82NBdFhmQbz4a0HCZW9BE4V0QS64eEGytH1B3eGAQXf9gkE7K4ZBGnSHQW/OiEEM9IpB1kGMQfR7jkGipY9B15eSQW3pk0Gw6JVB0TyXQSkUmUErvZpB0NibQfk8nkFr0p9Bn6KhQVYjpEHH8KVBPx6oQZELqkE1p6pBm0itQRZyr0FjGrFBlpKyQbUztEGP/LVB18C3QeokuUH6IrpBWBa7QWTVu0F/hbxBIsC9QbWWvkEIHL9B4oa/QTwswEGqisBByj/BQRWWwUEp/sFB0EDCQeiJwkEsmsJBb5vCQTlywkHkQ8JBJNzBQcJ2wUFdIcFB5MbAQVigv0EjT79BPYG+QdMPvkHPeb1B18G8QTyvu0E2JLtBsHm6QZD5uUHKjLlBD+K4QbEut0H85LZB2wG2QURetUG1ybRBgKO0QQi+skER9LNBHzizQemjskF0NbFB2FKwQWb3r0EZxLBBlQmxQQ==",
          "dtype": "f4"
         }
        },
        {
         "line": {
          "color": "rgb(255, 127, 14)"
         },
         "mode": "lines",
         "name": "gbyk R",
         "type": "scatter3d",
         "x": {
          "bdata": "G8GVQKl+m0DoO5lA8LSUQF69mEBnP5VAR5iaQL04nkAqeKBAKKGnQJCKrUAWJLVAwcW3QILTu0Bj7cBAcp7UQHmh5UC1D+5AernzQBjT8ECGnfVA3hb7QIRb+kCBnP9AjEQEQcO9CEGInwxBdvAPQQPaEkF89BVBrhIaQWH3G0Fgrh5BqLAiQTaGJkHd7ilB53srQeRVL0Fj/zFBClI0QX8YOEHF1jpBtRA+QbYJQEEGykFBdAVFQakcRkGw/0hB13JKQbLXTEHApU1BSBFPQVmpUEESXlFB7IxSQditUkEvFVRB5SZWQUDWVkH0HFhB9htZQdBYWUE6NlpB5H9bQQSsXEE/J11BbuldQd13X0Hi12BB9JVhQWJVYkFbhWNBUC9kQSvTZEH852VBDstmQZ4paEFyHWlBiCNrQQhxbEFYr25Bz7FvQXGwcUGnf3RB71F2QRu5eEHxG3tBCqp8QRtNf0HrW4BBxdGBQWB3gkFytoNBgw6FQfo/hkFMmIdBeGiJQQBvikEFCIxBkZCMQVBVjUFudo5B1z6PQRzmkEGbzZFBCRaTQSnXlEE8DJZB6LSXQa/emEECJppB5r2aQbnynEFfeZ5B4vWeQRxboEHWI6FB9/2iQasIpUEFmaVBfeSmQZcdqUHjH6pBviurQe/xq0GPgq1BmeiuQdrAsEGi9LFBrj6zQT5XtUHOuLdB0ji5QUd+ukFj57tBGFG9QYByvkEmEL9BBETAQfe2wUFK2MJBQsvDQa/2xEHDAsZBLyPHQXOcx0HYAMhB8QXJQSxmyUFSeclBFzPKQVabykFaWMtBqsHLQeYDzEEkPcxBx2HMQXQqzEFWMsxBtTfMQaQqzEE1UstBOi7LQRwvy0HBqMpBHZ/JQTWXyUE/q8hBe/jHQey6x0F0QcdB2ybHQRZJxkHUL8ZBkMvFQe9wxUHg1sRB5AXEQRKhw0EBLMNB+JzCQUMew0Grk8JB1ZPBQes+wUGiqMBBSFzBQWDLwEH2gsBBwnm/QUr6wEECacBBQxPBQdOxwEEX/8FBRb3CQQs2wkGtpsFB",
          "dtype": "f4"
         },
         "y": {
          "bdata": "z2kKP4VBNz9lTDM/rUgDP/JTIz+/KAc/dEQwPy5qTD91MVQ/MmNwP43xiT9crJo/Sw+mP+GFqz/m0rQ/3i3XPzfk8T8AQP0/Ra4DQOVU/T8FGgNA7N8JQObNCECDlA1AntcYQIMDI0AaRCtA/UIzQMZuOkAwG0NAgchMQLVZUUDoglhAvRxkQGgub0AMjnlAP8h9QJ5fhUBY0IlAy7mNQHHSlEBdKppA5P+gQP5ZpUCMfKlAj7KxQB/VtEDc2L1AKA3DQBSSyUC0vM5Ak9rTQB942kD7i91A+OXiQFL/5kAR0etAaUTzQP/T+EDEZgBBUHECQVtdBEGqaAdBhN4LQf6BDkGdCRJBH8MTQYvTGEEvrB1B8/IfQTJnI0EfGydBFbwpQcbzKkE7ny5BZ2ExQbEdNUEDLTdBv5M7QQ/QPUEU4EFBixREQVBnR0FNdUxBDW9PQR6EU0EE7lZBPixZQZfbXEGwyV5Bac1iQWdaZEEPbWdB3JtqQfpobUGpcXBBB2V0QT14dkHZh3lBUn16QRnke0FV2H1Bkht/QQXggEHBgoFB13+CQWfMg0E5p4RBjaiFQfNrhkFRHIdB7kWHQeCoiEHGg4lBLauJQYdSikFJoYpBVjyLQVA8jEFOBoxBpMiMQXkmjUFFRo1BlWGNQUx0jUGobI1BJ1mNQXk0jUF1KY1BLvGMQT2QjEFeGoxBiMSLQep/i0FhIotBBcqKQYVUikErWIpB4n6JQWp8iEGDnodBIuWGQQzuhUG3GoVBmzeEQRe9g0EgnYNBMJiCQZMLgkGZ4IFBXteAQb48gEFmk35B1X99QZwjfEG2zHtBurN6QV2GeUEFT3hBXr93QRabd0EAHnZBFgF2QSiZdUEBFnVBEQR0QfYZdEFEMHNBmnJyQfpgckGhdnJBJJxyQQ0nckEK9nJBaPNzQSsPdEEdAnVB8nh1QXybdUG7CXZBHnt2QWjpd0HUjnZBaLp3QSf8dkH4c3dBovp1QSeVdkH/EXdBGiB4QZNGd0Esk3hBurZ2Qer6d0F39XRBRLdzQbbNcUEAcHJB",
          "dtype": "f4"
         },
         "z": {
          "bdata": "SObyQAmG7kDRGOxAMerzQAq+70Co3/NAVgLvQE087kDdTe9At1/yQMOv9EByH/dAnkP5QN5H+kA/N/tAnMr/QDUbAkG2ZwNBS7YDQbaDBEHxpwRBsZMEQaB+BEHUhwRBjoMEQds9BEGeKARBqx4EQX8OBEF49gNB8sADQeufA0EIVANBJMsCQWsqAkGZhgFBaJ4AQZjR/EDPwPlA1I33QBEH80DUpO9AwOfrQAyJ6UDKL+dAnCDjQJBU4UBgP91A9BPbQGvP1kAySdVAmIjSQLcWz0Bycc1A6n3KQDjNyUBrP8ZAUD7BQGdrvkBye7pAtlO4QJhQtkC5A7NAwQCuQMMyqkDgzKVAbFOkQBKXnkB9KplAn4+WQCeGkkCL1I5AgFSMQLL8ikB2eYdA9FCFQIQggkCpKIBARAd4QDnbckC0SmpAZ4dmQE0dX0CBMlVA2dlOQGa3RkCJRD5AHkQ5QCanMEBeCCxARPgiQL8oHkDb5BVA5GsNQLPXBUCpP/o/uUfjP1j01j8aAcQ/fmu/Pxp8tT9NUao/6+ihPxuEjz8S44Y/o8xwPwY6ST9izC4/z4INPyp06D4kRbY+biumPl6b4z2ArgC9fT59vX7rPr7sI36+EdbNvu+tF7/RyR+/kL0/v+aecL/ix4K/SvaMv2I1lL85/aS/Dd61vz88yL8J7Na/JLXkvzIR/L83gAvAK5oUwLsLHMDVviTAjO0twIc3NsARdjrAIahDwFf/T8CsslnAO8ZiwIsrbsDLp3nACgiDwAlLhcDMEIjAEOuPwPljlMDCxZXA4COdwJRposAYhajAUxeswMlSssAMHLXAJqu6wK2xwMB238XA4p/IwNJGz8ArJdPA3KPWwDZQ3cC0oN/ALbrmwE6U6cDtd/LAKKH4wLYD+8BSgf/Ai64BwT9uBMHzkQbBS2wIwYcUCsG46AzBOeQPwQoyEcGBcBLB+pIVwQ2zFcFCSRfB29sZwcd0HME/aR7ByMkfwdV/IsHjHyPBkdslwXj9JsFKdijBgLoowXa0KcELkSrBy3YqwdgWKsEpoyjB",
          "dtype": "f4"
         }
        },
        {
         "line": {
          "color": "rgb(44, 160, 44)"
         },
         "mode": "lines",
         "name": "homing L",
         "type": "scatter3d",
         "x": {
          "bdata": "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",
          "dtype": "f4"
         },
         "y": {
          "bdata": "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",
          "dtype": "f4"
         },
         "z": {
          "bdata": "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",
          "dtype": "f4"
         }
        },
        {
         "line": {
          "color": "rgb(214, 39, 40)"
         },
         "mode": "lines",
         "name": "homing R",
         "type": "scatter3d",
         "x": {
          "bdata": "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",
          "dtype": "f4"
         },
         "y": {
          "bdata": "z5SKQKyHiUA5FodApI+GQKHTlEBOkZRAm/mUQNFBlEBt1pRAWEWVQNfClUAYfJNAlgiTQLkhkkAsV49ATIiNQA9iikDtHYhALPWFQIAJhUCzvYNAq7eCQKPikkA5F5JAkw2SQGeDkEDqnI9A+veNQNAajkDGuotAL22JQFCWh0Al6oRAoBaCQMFJgEANT35AT256QGBTd0BHZnRAmkJyQLQSbUD6YWxA839pQG+gaUBuTGhAmehoQGviZEDzPGVAgsJjQH9MYkA1gWBA29RhQMu9YkCSqmJAO1JjQDyJZkDYI2ZAmGNmQL7MZkCOA2RAHLxlQB/aY0CKtBdBk4YXQbkmF0HZbRdB26UWQWNIFkHkahZBfbYVQY2kFEES9xNBJJwTQTJ4E0F5UhNBzbESQbxZEkGV7hFBZbARQelUEUF8ThFBfSoRQR3hEEF7xxBB+KIQQWWEEEFiXhBBfl8QQVlbEEE52Q9BIlIQQSfFD0E8bQ9BkxgQQaBEEEEzMxFBs9MRQXxyEkEOQxJB0KMSQZj4EkHKhRNBHr0SQZCkCkGwjwlB9fsLQQrwC0HxYd5A2ULeQKKQ3kAR795AHlDeQDW43UCwFN5AJL5cQNBhXECXIl9A4kRdQBaJXkAlEFpA9+A1QDEfMkDpuiZAAmkqQPggKkC4wSlAuIUjQAuPJECJFyNAY4MkQLW8HUD7qxZA9hASQJUXEEBNRwZAF34HQN0wBEA/awJAQPIDQCwI+z+H0gJAr3AAQDY6/z9SLQBAivv+wAEI/MA19/nAtQX8wFAB/MDQdPrAGjb9wDnQ/cCRN//AjWgAwbzFAcErCQPB3/8EwQ3jBMEnbwXBfG0Hwa3qBcEuBAbBdWkFwakQjEAvpotA1buMQJ6Ni0AzhIxAnlGMQDvni0ChJotAImsMQJykDUCZeQxAYtgPQINaEkClHA5A5C8UQAChDEBFeg9AK9cOQLeZEEDT4A5A06cIQPj6CEAKYIFAWyyFQECdhEDNYIVAx7aFQGuRi0DXTI5AVeiMQDExjkCAo4xAcYONQNJlkEBZ1ZBACT6RQF+SkkB985lACxmaQN58mkBeTZpAJyCqQFCQqkCRC6tAd4CsQC0jrEDaIq5Ab7KvQKVLr0ACtLFAAV+yQA6btEBYTrZApCy3QOtZukD7RLpABAG7QLYlu0B6MrpA+7C8QLTyuUCOtURBl/hEQcosRUEXakRBCTpFQf1wRUG2G0ZBblxGQaQfR0FKh0dBsr5GQUgMR0G8N0ZBIAdGQZaHRUFqEURBHDpCQc2GQEGBr0BBWPc+QapbP0E3Dj9B1+w+QZLUPkGccz9B3upWQX87V0FQ51ZBzL5WQUl6VkHMV1ZBWxVXQfHgWEFHqFhB+npZQUy5WUHP8VlB9/laQYwOW0Fw1VpBwFRfQeCCX0EF3F9BtmtfQeOmXkFYsmBBkVxgQen4YEEaT2VBGR5kQUGFZUE4l2VBtPRkQW17ZUGLamVBA6dlQa2KZkGIz2ZB7IlmQcBCZkE+AGZBWVplQbdhZUFz/GVBpYZkQcKAZEEdtmNB/I9jQZZrY0EFf2NBb39jQcf9YUHheWJBMtdhQWOoYEGyKmFBZhJhQa/WYEFkZWFBVpVgQcMSWEGTKlhBs/dXQdzvV0GFNFhBMMFXQfqmU0EFKFNBfNFSQSLlUUG6ylNBc8NTQWpbU0F0F1NBsg5RQb+IUUGR1VBBmRVLQaDGSkGNHUtBU7RKQQl+SkF/e0BBFTlAQW84QEFXzkBBOps/QYU4P0FnmD1BSQs9QZPmPEEIUj1BibE6QTm6OUEg2DhBrhk3QfRGNUH38TJBLKQwQTl6L0ESUS1BvNErQd9kKUFx+idB5PYlQZJ2JUFM3yRBLYUkQbALJEHEXyNBTrEjQfPEIkGVUyNB9KfuQNYz70AZRu1A0xfvQBBs7EAnV+xAxajqQFjD5kD82uRATzriQHZ930Axz9tALITZQNel2ECxfNZAijbPQHvIy0BDJMhAmm/CQBDbv0Bx9bpApF63QCRFtUBY1bBAkiSwQNDbrEAAG6hATh6lQPVnn0DjgJxA+NGYQCEBlUAdPZBAFo6KQBpXhUDDK31A7EpyQNuGa0CQW2FAVB1bQKO4SkCl+j1AJ4AtQIdIIECGVRZAVTEPQHUiCEBXIQZAvsj6Pwqs6j8tNOw/aSjoP+K51D9J18w/EpPCP6VzwD+AAa0/aZGhP1afkT91Xog/xPGBPxltcz92W2k/zt9VP+81Oz+ioi4/ApMWP0me9D5OWb0+AEmjPqVcfz70Qic+zE7APcEszTsnINy80R+bvd5I673YJj2+qNRtvv2igL6flJO+Tr2ovkv6wL4B9eS+Yqrpvh5fBb9ALw6/40QXv/hAGb9D1CK/JFQmv8J6J7//siq/APMvv3uEM78SeTi/MWg+v+BoSL8LsFC/A7lVvxjfXL8Yq2q/Ov90v+HXeL8Am4K/xQ2Ev7FRh7+z2Iy/mNmQv2nxlr+HL5q/7IOev1jmoL+9wKW/jNKsv3RGsb+jZre/LIO5v7A4wb8EE8m/AF/Ov3Nk1r82YtO/zcLYv96x5r/6gu2/N0L3v4V9+7+R+QDAsVUEwDB0B8Bq8QfAnv0OwNLOEMCLFRLAguEUwCz4F8CWZxvAEfsgwOqrIsBXKSrACegowDwXMMACojTAqu04wN8iO8CfMD7AVcFBwPzQQ8ACeEjAhmpMwCCZTsAOv0/AdKZTwBN3VcDSEFfApjlZwKSxWcDjfFrAF+9awAP1WsBkP1vA/wdbwCLkWsCR21rAlX5ZwGRIWcCnI1fA8aFWwHf6VMBqM1PAdVBQwLJgTsBCZEvA+C9JwB3uRsDR7EPAO+FBwEvWPsAyrzzAo0I2wBGzM8AQ9y/A8QcvwCSaKcD3GSTAqNwdwPvAF8D8+RHAqrYLwLtLBcDMr/+/btP3v6Dd6r+pp+y/1EDevw7ozb+/rce/Jmq5v8ofsr9zC6O/PAyWv+bFi784AHa/BhNSv7L2Pr9Njii/mfIAv5Zrn75QuZy+g3djvjtvBr4JEmE7GZyXPSJERj4evqg+HFffPhUZ+z7UOxo//yQ2PzzARz/jSlk/rx95P5ytjD/PhpU/M9qdPxJspz+Fda4/LQq9P+yNyD8fuNM/hPDlP36HAUCNxwRAQGkKQLoGD0AljRVAwS4bQOzYHkB3PSNAqG0tQCdPM0AvsDlAkAY+QBEBS0Cr1k1AA2hVQD9RXEAJ62NAa5tpQBWuckA733dAw557QCOEgEBAeoRA9KqGQE9dikAg74pABRSRQI+Qk0CStZhA4DWcQLStoUB8SqVA002oQKRuqkAbzqxARYOwQJm3skCUuLRASsa2QGLKuUD5fbxA+R2/QFsPwkBlKcVAJbXHQF8Zy0CFxctAJh/PQOSk0EDMv9NAJSrWQD1k10Dk7NhAT2DbQPF+3EDTJt5AYa7fQCIx4UCsOeJAm9TiQO9P40A+EuNAApXkQOKT40ARzOJA4XviQFSM4kAy7eFA7mLhQHhh4EBonuBAKb3fQGrb30BCA+BAADrfQPhw30ANSOBAXC/dQLGE3UDwsNtAmfXbQD2a2kCKRdpAanbYQK2I2kAgutlA",
          "dtype": "f4"
         },
         "z": {
          "bdata": "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",
          "dtype": "f4"
         }
        },
        {
         "line": {
          "color": "rgb(148, 103, 189)"
         },
         "mode": "lines",
         "name": "precue L",
         "type": "scatter3d",
         "x": {
          "bdata": "J9ipPx2jpD+Wp6k/Ms+uP1yOkT8UC58/qs+3P0mboz9Z3ag/9B0sP1YyRj864CQ/bJYEP9mM/T5GhvA+Y/fRPkSItj7XeJg+SBpbPgRfBj4nSn095G4gPOl7BL0VcFm9letavT0JOr1i4HC8NtaGPKVgND1iXJ89Y3X8PWvlID4UaUs+4VmUPiSvrT4FhMI+RBm9PttJ8j6AKuw+iyQBPyKGAD9pmRM/W8ciPwtpLT+BFy4/waEpP/vMQj/gclA/MFRYP0DlZz+pwIE/TmWGP3zvjT9IcpY/czWbPx7Onj+ziqE/5cOvPwzxsz+9ark/30vCP8Vd0D+xytk/RiLgP46D6T+WX+Q/runlP/Ut3D/L098/983gPxJK3z/rcuA/ENTcPwHe3T9wjds/R4LqP91l2D/yC9s/6RfXPzEG1z9UetU/mNzVP54G1T8sLd4/R73XP6cu1D8Outg/I9TTP7b80z/dx9E/ufPUPyFY1D9TjNY/J5bYP8EB4z+VptM/9tjSP7v92T+8mNw/CDDkP5w/6z8dAO8/3br6PyZ6/D8YzQJA2wMKQPX3EUAwahdAqJ0jQGgcJ0CurCxAlDY0QI7kN0B4pj5AW19AQOF1SEApB01A7/1SQKwMWEDeKFxAOCxdQJt3YUC5P2JAN7ZhQKy1ZEByTWdADmRmQNzDZUCMOGVACBRgQFViWED8GVNAAGBMQKY0S0DszVFAOVo/QPEfN0BMlTRAqCcwQIvwKUAsTy5AvOsoQOsjJECyGChAyoUlQA==",
          "dtype": "f4"
         },
         "y": {
          "bdata": "8vAdQHnUF0BKAiBAMOAiQP9lJkBbohNAkmoJQER4E0DBFg1A0jFbQAljU0BHzWJAjsNsQB0ceUCp3XtABraDQHP1ikBuypZAGKaaQGDJpUBggrJArXm+QI3sykChRdhAoc/gQF487ECZJPVAMuP/QD6tA0HUkQdBpd8KQbXeDkGWbBFBlEMXQV+SGUGSbBxBHmMeQVJyIkH7lCVBUJQnQTuEKUGBPy1BXQ0xQTd/M0E8IjZBdTQ4QWI0OUGusjtBccs8QRt1PkGJoUBBNUVCQSalQ0HLSEVBYnRGQQVtR0F1RkhBrqdKQRluS0GmSkxB5KpNQXW7T0GIH1FBNiRSQWFhU0FGIVNBa+JTQdL7U0FAcFRBzDpVQd5+VkEuxldB7pBYQR2cWUG/UVtBxitbQeFfXUHavF9BGMRgQWooY0HpuGRBC9pmQasGaUGLaWtBnAxuQQ/nb0E8eHJBZZh0QfKEeEHRrHlBjXt9QYFCgEHnIINBYkSFQZ2mhkF9C4hBjYyJQdoxi0HFe4xBC6SOQWtxkEE6+pBB7G2TQc7kk0FUQ5VBhJiXQUzfmUEUOZtBhjqeQYVZn0EBfKBBDu+iQTvuo0GK36VBycymQQDoqEG8Y6pBMGesQb0rrkHD1K9BD+uwQTUlskHTGrNBp2O0QakhtkHwSbZBGra3QSptuEHVablBTNy6QYbJu0EFY7xBYTq9QV+DvEGXvLxBemm+Qds/vUEwN79BDNm+QVatv0EREcFBs97BQSZmwUGHfMFB+DHCQQ==",
          "dtype": "f4"
         },
         "z": {
          "bdata": "0gS/P6VCyT+O+Lw/tb+5P9nwzD/2a80/emfJP2JhzT+CLto/l0fGPyyqzj8wc8g/l67VP4TwyD/tDck/kzrLP5c7zD+9Wtc/OInPPw6g0z/2v9U/FX/YPxo13D8LsuE/mDTmP/ni7D/xV/U/9JH9PyKLAkCh5wZAWhQMQGn1D0ByfhRAGrkeQC1rI0AkYShAsL0rQMZIN0AY5j5As9RCQGurR0BXo1FAvqhcQJKIZED+JWxAsUZzQGHvdkCqPoBAWfWCQNYBh0BE4YtAcfCSQBvYl0BTup1AYR+lQCJ8qUB7+q9A5pi4QOwHvkABkcJAJUvLQLEK10CguOBAcwnmQGVg7EBMT/FAsQX5QDhcAEHM+QJBLoEGQe6eC0GYYA9B6c0RQaQ3FUGh6hhBkeMbQRtvHUG/EiFBV0cjQSdzJ0GteSlBE78sQTqTL0Gx/zJBECY2QdYtOEFGPjtBQlc9QX4DQUFzD0JB8gJFQWBqR0GSJEtBZ6lNQYhPTkFe2lBBsUpSQePTVEFsTVZBqcVYQUHfWkHBiltBbLVeQUoWX0G80GBB+ZZjQSZMZkH+CGhB9b5rQUvNbEG4VG5Bc5hwQdmdcUH6g3NBIw50QVlKdkH4kHdBl1R5QdCrekGluntBOcR8QceQfUHLYn5BwgJ/QW17gEEpboBB8I+BQf3lgUGDw4JBw4GDQfIxhEE3t4RBxMyFQai3hkFADohB1zqIQRUtiEGd5IhByFiHQRSUh0EtZoZBC5CGQWIlh0Ek3IZBKn+GQQ==",
          "dtype": "f4"
         }
        },
        {
         "line": {
          "color": "rgb(140, 86, 75)"
         },
         "mode": "lines",
         "name": "precue R",
         "type": "scatter3d",
         "x": {
          "bdata": "J2KfP7ejsT8xrKU/ugSsP+rjpz+tpZA/NrH9PtSe0z6vgeg+wU2tPqHS5j5ZOek+/TWVPnqRPz1EqYW9kOVPvoKHjr6CT/C+fdoWv9b0Or/ByXO/Uf+Pv5OUqL9Trrq/tZPKv5OP3L/cjOS/Uxr0vzvR9L/bqQDAhE4IwHXBCsB36w/AB3kXwHVLG8A/UCTANm8qwKf0MsCM8TbAoXo/wDEBSMAkDkzAESdMwNw1UsAPK1fAOflZwEszXsCeZmPA7tBmwH+ma8CZC3TA1kx5wGppgMD1r4LAEkqEwCeYhcCqL4jAAQKJwHYOjcCMq5DAOYKTwGmJl8BA3JrADMifwCHgo8DpjabAH5SnwFkGqsDHgazAARqvwNANs8BmXrTA5sW4wEs+vsAi/8LAxKTHwHStycAi9szAKW3QwJxi1MBZDNbA8+LYwMR428DGkdzAJr3fwLw34cARUOPA5IzkwHa55cBawObAAMvmwC8v5sASvebAoq3nwHXF58Al9OfAKVnowBQ46MDbQ+jAhBLowM1l6MA5gOjAboXowHZ75cBxWenAqHTowM3u5cCxG+fAJhznwJIA5MBSSebAYkXjwGKs4sAMguHAh7PewNgm3sBRcNzA9YjawAWf2MCO/tfA1vjWwINs18BhXdXATIPSwHny0cApt9DAZJzQwOFs0MCukNHA3BfTwNp7z8DQoNHAz0bTwNNp0sAEUdPA+9rWwEy22MAGUN/AWW7dwLTu4sCZQOXAl03vwBqd9MCwnPjATGX4wG+q+8D2Af/Ayv7/wIfQBMGOKgXB9gMIwW4HCsFncwzBwF0Pwc9lEMGLnRLBsFsTwW6DFcH0qxfBy5sZwcT3GsEaRB/BCIIcwXOmHsGxCR7BDsIewTLBIMG1ASDB",
          "dtype": "f4"
         },
         "y": {
          "bdata": "QJcoQc2/KkEqQSlBNwsqQdaDKUGw/CZBUYsfQaQlH0FqkR5Bg0kdQSH/H0EFbx9BBBgdQeEzGkHRjBhBL2MWQZVDFUFfTxJB6lwQQTAWDkFLWQpB9UYHQdLQA0E1NAFBjkH9QDin90Dfg/RArOvuQFu77kDh4OlAoonhQL5z30DiGttAj0XUQAIg0UAP6cpAaXzCQGFovUA87rhAtB+yQDaCqkAw56ZAkQmjQMUZnUDKzJZAxd+SQMthi0BOmYNAKK17QFC1cECCOFxAp99PQF/3PUBkljNAP2srQEv5I0DGHhtA27sXQFuTCkA1D/8//jHuP8FF1z9adsU/+mysP60XmD9OY4w/ST2IPzNqez9yV2g/OAtVP5/HMj+lWzE/9LIWPxWA8D55XLo+gnWSPmnXej70y0A+dNQFPlWPjD3TfDk91kILPED3yrwS0SC946GdvZ6Uxr03OwC+UoMTvrTDK75ACi6+UzFAvm8oVr7CllC+GMc+vufAM74YPSa+k18Wvrmo4r02v7G9mvqXvPLpFr0Vo6q8fDT1u+c30D3SmtY72ezwPKQDuD2Qckw9LPrQPCs/yT1cBbG79ICBPQydFj0Gxwg9T4n8PNwjAj10wjg8YCilu9A5Mb2/RQ29jc5fvdVetLxJ1ae9rGEzvqyeQr7wAou+S7yKvrDGmr7arbG+qgmivm1H2b5jxO++B2gQv8pKFr/9fR6/nkk6v7IGR7/srWy/3qZev53Heb8LeIO/BPecvzngq78i3ry/VGu4v/8Sz7+Sub6/8EjBvxVrzr/gTse/1IXMv20Uxr9WE9y/2Dfqv1yn7r/YTv+/SET/v+XTB8CniA7AwzkMwMdOEcBmQA7AMScWwBveDsAinRfAfbgSwFLzGsAYjxfA",
          "dtype": "f4"
         },
         "z": {
          "bdata": "Iq/MP2Fhuz+vXMc/DhHBP75GxT8+19k/9AELQO+PDEDjXg9AcBoUQC19CEBnXwtAXWoUQKZ0HEDTiSJAnqoqQMZ3LkDvpThAqKI/QCMZR0Bp6VNAHA5eQAH4aUD8QnNACwl8QA8Cg0D8rYVAu8yKQGT4ikDQe49AACCXQJwdmUA1Tp1AX/ujQOAdp0BFVq1AL/u1QKRNu0Dg9r9AUCLHQJ02z0CUHtNAVGTXQMMY3kA8/uRA7HjpQJYk8kDEBvtAM8wAQSvpA0HS2AlBj34NQXraEkGV/xVBZbgYQRVPG0G/Rx5Ba4sfQUItJEFvWyhBvZ8rQds7MEEq/jNB92c5QcAaPkFFzUBBygtDQf18RUE020lBTLRLQa/NT0GS41FB+utVQUvlW0EUkmBBadFlQSLpZ0F1M2xBajlwQbkNdEFcXndBQTx7QRIVf0FVroBBYcSCQYHqhEHREYdB1/WIQdUji0FQl4xBirCNQQWHkEGB55FByx+UQa3SlUHJJpdBghqZQdsAm0HEDZ1BkCafQebOoEG8BqJBVlOjQfFCpUHpuqZBl5KoQQgdqUHjkatBZ9qtQVzqrkHnd7BBk5OxQQNWs0FrFbVBxee2QQMruEE8grlBR467QbgwvUFm175B2D3AQcD7wUHR9sNB70jFQUrhxUE0eMdBbGDIQTyuyUHylsxB2nvNQa4Pz0HWKNBBAsfRQW8g0kGU9dJB/3PUQV401UG299ZBtLzWQfpL2EFG/9hB50HbQUh43EHgYN1BjTfdQd+83kEnMd5BWrTeQQtj30HcdN9BKcfeQSNX3kEV0t5B8f7dQdE33kEXmd1BW8XcQUDK3EGMG91B2lHcQUSP20Eit9lBShPbQcsv2kH/ZNpBRBvaQbIS2UH0dNlB",
          "dtype": "f4"
         }
        }
       ],
       "layout": {
        "legend": {
         "itemsizing": "constant"
        },
        "margin": {
         "b": 10,
         "l": 10,
         "r": 10,
         "t": 40
        },
        "scene": {
         "aspectmode": "data",
         "bgcolor": "rgba(0,0,0,0)",
         "camera": {
          "eye": {
           "x": 1.5,
           "y": 1.5,
           "z": 1.5
          }
         },
         "xaxis": {
          "showbackground": false,
          "title": {
           "text": "UMAP1"
          }
         },
         "yaxis": {
          "showbackground": false,
          "title": {
           "text": "UMAP2"
          }
         },
         "zaxis": {
          "showbackground": false,
          "title": {
           "text": "UMAP3"
          }
         }
        },
        "template": {
         "data": {
          "bar": [
           {
            "error_x": {
             "color": "#2a3f5f"
            },
            "error_y": {
             "color": "#2a3f5f"
            },
            "marker": {
             "line": {
              "color": "#E5ECF6",
              "width": 0.5
             },
             "pattern": {
              "fillmode": "overlay",
              "size": 10,
              "solidity": 0.2
             }
            },
            "type": "bar"
           }
          ],
          "barpolar": [
           {
            "marker": {
             "line": {
              "color": "#E5ECF6",
              "width": 0.5
             },
             "pattern": {
              "fillmode": "overlay",
              "size": 10,
              "solidity": 0.2
             }
            },
            "type": "barpolar"
           }
          ],
          "carpet": [
           {
            "aaxis": {
             "endlinecolor": "#2a3f5f",
             "gridcolor": "white",
             "linecolor": "white",
             "minorgridcolor": "white",
             "startlinecolor": "#2a3f5f"
            },
            "baxis": {
             "endlinecolor": "#2a3f5f",
             "gridcolor": "white",
             "linecolor": "white",
             "minorgridcolor": "white",
             "startlinecolor": "#2a3f5f"
            },
            "type": "carpet"
           }
          ],
          "choropleth": [
           {
            "colorbar": {
             "outlinewidth": 0,
             "ticks": ""
            },
            "type": "choropleth"
           }
          ],
          "contour": [
           {
            "colorbar": {
             "outlinewidth": 0,
             "ticks": ""
            },
            "colorscale": [
             [
              0,
              "#0d0887"
             ],
             [
              0.1111111111111111,
              "#46039f"
             ],
             [
              0.2222222222222222,
              "#7201a8"
             ],
             [
              0.3333333333333333,
              "#9c179e"
             ],
             [
              0.4444444444444444,
              "#bd3786"
             ],
             [
              0.5555555555555556,
              "#d8576b"
             ],
             [
              0.6666666666666666,
              "#ed7953"
             ],
             [
              0.7777777777777778,
              "#fb9f3a"
             ],
             [
              0.8888888888888888,
              "#fdca26"
             ],
             [
              1,
              "#f0f921"
             ]
            ],
            "type": "contour"
           }
          ],
          "contourcarpet": [
           {
            "colorbar": {
             "outlinewidth": 0,
             "ticks": ""
            },
            "type": "contourcarpet"
           }
          ],
          "heatmap": [
           {
            "colorbar": {
             "outlinewidth": 0,
             "ticks": ""
            },
            "colorscale": [
             [
              0,
              "#0d0887"
             ],
             [
              0.1111111111111111,
              "#46039f"
             ],
             [
              0.2222222222222222,
              "#7201a8"
             ],
             [
              0.3333333333333333,
              "#9c179e"
             ],
             [
              0.4444444444444444,
              "#bd3786"
             ],
             [
              0.5555555555555556,
              "#d8576b"
             ],
             [
              0.6666666666666666,
              "#ed7953"
             ],
             [
              0.7777777777777778,
              "#fb9f3a"
             ],
             [
              0.8888888888888888,
              "#fdca26"
             ],
             [
              1,
              "#f0f921"
             ]
            ],
            "type": "heatmap"
           }
          ],
          "histogram": [
           {
            "marker": {
             "pattern": {
              "fillmode": "overlay",
              "size": 10,
              "solidity": 0.2
             }
            },
            "type": "histogram"
           }
          ],
          "histogram2d": [
           {
            "colorbar": {
             "outlinewidth": 0,
             "ticks": ""
            },
            "colorscale": [
             [
              0,
              "#0d0887"
             ],
             [
              0.1111111111111111,
              "#46039f"
             ],
             [
              0.2222222222222222,
              "#7201a8"
             ],
             [
              0.3333333333333333,
              "#9c179e"
             ],
             [
              0.4444444444444444,
              "#bd3786"
             ],
             [
              0.5555555555555556,
              "#d8576b"
             ],
             [
              0.6666666666666666,
              "#ed7953"
             ],
             [
              0.7777777777777778,
              "#fb9f3a"
             ],
             [
              0.8888888888888888,
              "#fdca26"
             ],
             [
              1,
              "#f0f921"
             ]
            ],
            "type": "histogram2d"
           }
          ],
          "histogram2dcontour": [
           {
            "colorbar": {
             "outlinewidth": 0,
             "ticks": ""
            },
            "colorscale": [
             [
              0,
              "#0d0887"
             ],
             [
              0.1111111111111111,
              "#46039f"
             ],
             [
              0.2222222222222222,
              "#7201a8"
             ],
             [
              0.3333333333333333,
              "#9c179e"
             ],
             [
              0.4444444444444444,
              "#bd3786"
             ],
             [
              0.5555555555555556,
              "#d8576b"
             ],
             [
              0.6666666666666666,
              "#ed7953"
             ],
             [
              0.7777777777777778,
              "#fb9f3a"
             ],
             [
              0.8888888888888888,
              "#fdca26"
             ],
             [
              1,
              "#f0f921"
             ]
            ],
            "type": "histogram2dcontour"
           }
          ],
          "mesh3d": [
           {
            "colorbar": {
             "outlinewidth": 0,
             "ticks": ""
            },
            "type": "mesh3d"
           }
          ],
          "parcoords": [
           {
            "line": {
             "colorbar": {
              "outlinewidth": 0,
              "ticks": ""
             }
            },
            "type": "parcoords"
           }
          ],
          "pie": [
           {
            "automargin": true,
            "type": "pie"
           }
          ],
          "scatter": [
           {
            "fillpattern": {
             "fillmode": "overlay",
             "size": 10,
             "solidity": 0.2
            },
            "type": "scatter"
           }
          ],
          "scatter3d": [
           {
            "line": {
             "colorbar": {
              "outlinewidth": 0,
              "ticks": ""
             }
            },
            "marker": {
             "colorbar": {
              "outlinewidth": 0,
              "ticks": ""
             }
            },
            "type": "scatter3d"
           }
          ],
          "scattercarpet": [
           {
            "marker": {
             "colorbar": {
              "outlinewidth": 0,
              "ticks": ""
             }
            },
            "type": "scattercarpet"
           }
          ],
          "scattergeo": [
           {
            "marker": {
             "colorbar": {
              "outlinewidth": 0,
              "ticks": ""
             }
            },
            "type": "scattergeo"
           }
          ],
          "scattergl": [
           {
            "marker": {
             "colorbar": {
              "outlinewidth": 0,
              "ticks": ""
             }
            },
            "type": "scattergl"
           }
          ],
          "scattermap": [
           {
            "marker": {
             "colorbar": {
              "outlinewidth": 0,
              "ticks": ""
             }
            },
            "type": "scattermap"
           }
          ],
          "scattermapbox": [
           {
            "marker": {
             "colorbar": {
              "outlinewidth": 0,
              "ticks": ""
             }
            },
            "type": "scattermapbox"
           }
          ],
          "scatterpolar": [
           {
            "marker": {
             "colorbar": {
              "outlinewidth": 0,
              "ticks": ""
             }
            },
            "type": "scatterpolar"
           }
          ],
          "scatterpolargl": [
           {
            "marker": {
             "colorbar": {
              "outlinewidth": 0,
              "ticks": ""
             }
            },
            "type": "scatterpolargl"
           }
          ],
          "scatterternary": [
           {
            "marker": {
             "colorbar": {
              "outlinewidth": 0,
              "ticks": ""
             }
            },
            "type": "scatterternary"
           }
          ],
          "surface": [
           {
            "colorbar": {
             "outlinewidth": 0,
             "ticks": ""
            },
            "colorscale": [
             [
              0,
              "#0d0887"
             ],
             [
              0.1111111111111111,
              "#46039f"
             ],
             [
              0.2222222222222222,
              "#7201a8"
             ],
             [
              0.3333333333333333,
              "#9c179e"
             ],
             [
              0.4444444444444444,
              "#bd3786"
             ],
             [
              0.5555555555555556,
              "#d8576b"
             ],
             [
              0.6666666666666666,
              "#ed7953"
             ],
             [
              0.7777777777777778,
              "#fb9f3a"
             ],
             [
              0.8888888888888888,
              "#fdca26"
             ],
             [
              1,
              "#f0f921"
             ]
            ],
            "type": "surface"
           }
          ],
          "table": [
           {
            "cells": {
             "fill": {
              "color": "#EBF0F8"
             },
             "line": {
              "color": "white"
             }
            },
            "header": {
             "fill": {
              "color": "#C8D4E3"
             },
             "line": {
              "color": "white"
             }
            },
            "type": "table"
           }
          ]
         },
         "layout": {
          "annotationdefaults": {
           "arrowcolor": "#2a3f5f",
           "arrowhead": 0,
           "arrowwidth": 1
          },
          "autotypenumbers": "strict",
          "coloraxis": {
           "colorbar": {
            "outlinewidth": 0,
            "ticks": ""
           }
          },
          "colorscale": {
           "diverging": [
            [
             0,
             "#8e0152"
            ],
            [
             0.1,
             "#c51b7d"
            ],
            [
             0.2,
             "#de77ae"
            ],
            [
             0.3,
             "#f1b6da"
            ],
            [
             0.4,
             "#fde0ef"
            ],
            [
             0.5,
             "#f7f7f7"
            ],
            [
             0.6,
             "#e6f5d0"
            ],
            [
             0.7,
             "#b8e186"
            ],
            [
             0.8,
             "#7fbc41"
            ],
            [
             0.9,
             "#4d9221"
            ],
            [
             1,
             "#276419"
            ]
           ],
           "sequential": [
            [
             0,
             "#0d0887"
            ],
            [
             0.1111111111111111,
             "#46039f"
            ],
            [
             0.2222222222222222,
             "#7201a8"
            ],
            [
             0.3333333333333333,
             "#9c179e"
            ],
            [
             0.4444444444444444,
             "#bd3786"
            ],
            [
             0.5555555555555556,
             "#d8576b"
            ],
            [
             0.6666666666666666,
             "#ed7953"
            ],
            [
             0.7777777777777778,
             "#fb9f3a"
            ],
            [
             0.8888888888888888,
             "#fdca26"
            ],
            [
             1,
             "#f0f921"
            ]
           ],
           "sequentialminus": [
            [
             0,
             "#0d0887"
            ],
            [
             0.1111111111111111,
             "#46039f"
            ],
            [
             0.2222222222222222,
             "#7201a8"
            ],
            [
             0.3333333333333333,
             "#9c179e"
            ],
            [
             0.4444444444444444,
             "#bd3786"
            ],
            [
             0.5555555555555556,
             "#d8576b"
            ],
            [
             0.6666666666666666,
             "#ed7953"
            ],
            [
             0.7777777777777778,
             "#fb9f3a"
            ],
            [
             0.8888888888888888,
             "#fdca26"
            ],
            [
             1,
             "#f0f921"
            ]
           ]
          },
          "colorway": [
           "#636efa",
           "#EF553B",
           "#00cc96",
           "#ab63fa",
           "#FFA15A",
           "#19d3f3",
           "#FF6692",
           "#B6E880",
           "#FF97FF",
           "#FECB52"
          ],
          "font": {
           "color": "#2a3f5f"
          },
          "geo": {
           "bgcolor": "white",
           "lakecolor": "white",
           "landcolor": "#E5ECF6",
           "showlakes": true,
           "showland": true,
           "subunitcolor": "white"
          },
          "hoverlabel": {
           "align": "left"
          },
          "hovermode": "closest",
          "mapbox": {
           "style": "light"
          },
          "paper_bgcolor": "white",
          "plot_bgcolor": "#E5ECF6",
          "polar": {
           "angularaxis": {
            "gridcolor": "white",
            "linecolor": "white",
            "ticks": ""
           },
           "bgcolor": "#E5ECF6",
           "radialaxis": {
            "gridcolor": "white",
            "linecolor": "white",
            "ticks": ""
           }
          },
          "scene": {
           "xaxis": {
            "backgroundcolor": "#E5ECF6",
            "gridcolor": "white",
            "gridwidth": 2,
            "linecolor": "white",
            "showbackground": true,
            "ticks": "",
            "zerolinecolor": "white"
           },
           "yaxis": {
            "backgroundcolor": "#E5ECF6",
            "gridcolor": "white",
            "gridwidth": 2,
            "linecolor": "white",
            "showbackground": true,
            "ticks": "",
            "zerolinecolor": "white"
           },
           "zaxis": {
            "backgroundcolor": "#E5ECF6",
            "gridcolor": "white",
            "gridwidth": 2,
            "linecolor": "white",
            "showbackground": true,
            "ticks": "",
            "zerolinecolor": "white"
           }
          },
          "shapedefaults": {
           "line": {
            "color": "#2a3f5f"
           }
          },
          "ternary": {
           "aaxis": {
            "gridcolor": "white",
            "linecolor": "white",
            "ticks": ""
           },
           "baxis": {
            "gridcolor": "white",
            "linecolor": "white",
            "ticks": ""
           },
           "bgcolor": "#E5ECF6",
           "caxis": {
            "gridcolor": "white",
            "linecolor": "white",
            "ticks": ""
           }
          },
          "title": {
           "x": 0.05
          },
          "xaxis": {
           "automargin": true,
           "gridcolor": "white",
           "linecolor": "white",
           "ticks": "",
           "title": {
            "standoff": 15
           },
           "zerolinecolor": "white",
           "zerolinewidth": 2
          },
          "yaxis": {
           "automargin": true,
           "gridcolor": "white",
           "linecolor": "white",
           "ticks": "",
           "title": {
            "standoff": 15
           },
           "zerolinecolor": "white",
           "zerolinewidth": 2
          }
         }
        },
        "title": {
         "text": "session: ken_20230629_spikes_sorted_SES<br>area: dlpfc"
        }
       }
      }
     },
     "metadata": {},
     "output_type": "display_data"
    },
    {
     "data": {
      "application/vnd.plotly.v1+json": {
       "config": {
        "plotlyServerURL": "https://plot.ly"
       },
       "data": [
        {
         "line": {
          "color": "rgb(31, 119, 180)"
         },
         "mode": "lines",
         "name": "gbyk L",
         "type": "scatter3d",
         "x": {
          "bdata": "gwWuQF7VqkAXXKhATdusQGpKqUCWdqdA7mikQEB6okDXl51ALIqeQKT0mUDRjJVAkKaVQOlPiECevIBALXl1QOKLYUCJqXdAbNdZQMqxVEDTJklAnZw4QFmmBkDBXgBAP9bsP3BUCUB4A+0/jjfNP7bmyT8csLw/STClP5pfmz+aBI8/34Z+P/MrVD9xbjE/rFLqPpAalT5iXR4+3fCzvQeOZb5e9rG+SLjmvmzBCb+u1iG/u4c9v90VUb89j2i/el12v/FwiL9yWZq/F8mpv4c1sb/aD8C/8T7Iv+Gw0r9Jq9i/H33pv1pH9b+K5vu/t3IBwNbwBcDWIwvACAoOwN+fE8AYDxPAk14XwBDeGsDMax3ATicgwOzYIsAGTSbAiAsrwOB1LcCoyS/A+0IywCWhNMCqjTfAgrY6wJ9EPsDEqEDAMT5GwNCVScBWak7ACzRRwC+RW8CdwmDA8WNnwFJjbcDYAnbAQpB/wNTPhMCIAo3At6OXwB3qm8C9i57AXGqjwAnbpsB4warA+uuvwEG4sMAFR7jAIlu/wHQgxcBl7MvAOfrPwK6d1MCvjN/Aw+DjwOHw68DDXvHA60/8wIHl/8ChRgTBHjEIwdD2DMFu6Q3BWqARwXH9FcFeERjBV1IcwU9CHcHeciLBNW4lwXjuKcETbyvBcOgvwZ50MsGxZDfBo4s5wUsCPsGyFkHBe99EwYh3SME6JEvBlJNQwQSLVcEe5FnBaiBdwSe/XsEhbGLBz1Vmwe6HaMHM0GrB4NttwQizccFW4HPBBa93wXtveMHZlnnBAVJ8wVJzfcEwfn/B6DCAwQv9gcG+AYPBUqiCwWl7g8EA1IPBMryEwZIAhcGjOoXBtQ6FweBphcHMBYXBgNaFwev3hMGs8YTBt8qGwcFCh8FjmYbB54SHwfewh8E=",
          "dtype": "f4"
         },
         "y": {
          "bdata": "ZjhPQAzdTkA1G1ZAmSBJQLpwR0BGiUpAdhBPQPuhSEDBb1ZAuUNaQJqWV0Be1FhAL3RZQPyVXUCEImNAN31kQJqZakA9GmBA27RuQK+PcEA+F3dAKqR/QJNnjkAoe5BAx7qUQGNJjEBNL5VADj6YQIDdmUBxq51AfRWkQJN8pkCP3alAJiquQFMwtEByxLlAPQ7DQGcsykA/GNBAw4zaQNI74EDx8uZAIGLsQF+M8UBdXPdAot/9QLwSAkEJ7ARBrAMHQQfUCkHwHBBBEKsUQVoEF0H94BtB2QcfQYDKIkEKwCRBd04qQWmSLkFTHzFB7/szQSW7N0EtwDxBunY/QbsBRUECg0VB0tJIQYRBTEHaPk9ByBFSQZHnVEEOE1lBdeFeQZChYUFoxGRBuTNoQU9Aa0EiE25BoftxQb1yc0Fof3VB9RB5QQB5ekFinHxBDlp9QQxlgEFR6YBB1gyCQXnlgkHh8oNB9geFQfYZhkFrqIdBGK2JQcV9ikGrCotB0uCLQbjmjEEE2YxBy6OMQSnejEHMeY1B2wSOQW1cjkGNDI9BcvuOQdMrj0HRUI9B8VuPQSFbj0EDSo9Bax+PQVDkjkHSuI5B62eOQcIbjkGnTI5BbYeNQRcLjkFacY1BoviMQdv6jEFaZYxB3gCMQWZdi0FOQ4tB0buKQRckikGlMYpB7YmJQe8PiUH0d4hBSPuHQdRqh0EG+oZBfQKGQQMnhUGTb4RBiu+DQWPMg0EyUYNBKASDQZndgkFryoJBaJyCQWGzgkGej4JBFLmCQbR4gkFF14JBsjeDQZTcgkEXk4NBr9CDQWGIhUF2iIZBUTeGQYoKh0FBxIdBMjWJQU17ikHaL4tBAY+LQQBLjEHcFY1BPriOQfTgjkFaopBBo8uQQZhtkEEMcJBBhFWRQU78j0E=",
          "dtype": "f4"
         },
         "z": {
          "bdata": "dR2lQEPKpkAlh6hAI9+nQOxVpUAPl6hAkzWlQGToqUA1uKNAgOGmQKYwpEA4N6FAQiCjQD/gn0Av4J1AZh2fQFYcm0A+TJ5ArJucQKrxmkB1nZlAFviYQLYtmEC70pdAOamYQPOhmkDnBJhAf2KdQFN5m0Az8ZxAmdWeQLNpn0BzPKBA71qhQNm8okBL7qJAWMCjQOkmpEAhhaRAbAKlQLW3pUBCcaZAqCmnQOIHqECOYalA8YmqQOSEq0AhV61AICauQLk6sECTVLNATTq2QNXFt0BbJ7tAGzO9QN4kwEAE58FAqUzHQOWVy0BeWc5AL2fRQCbg1UBj/9tACHzfQLT95kBajOdAXpzrQLG58ECg8vRAfVj5QFjY/UAkZgJBKj8HQXaiCUFCRgxBnkwPQVgBEkF8cxRBTgAYQS1WGUHiPRtB7noeQQDMH0EqzCFBpoQiQe3LJUHu2SZBiAwpQZq4KkEv3CxB1hYvQTdbMUFOxDRBxig5QdzHOkGr2jtBDYg9QUL5PUFOsD9BYENBQaNkQUEE70NBuClGQUTmR0F830lBBblKQfUQTEHF0U5BfehPQX/eUUGVIVNB/xJWQeyWVkGFkVhByTtaQah9XEFpV1xBhQheQXLEYEGoEWFBE0RjQdrlY0HYZGVBIrhmQePuaEEXYmlB8g5rQfWEbEEBaW1Bf+RuQX6TcEH8RXJBsg90QWnNdUFdNXdBOWN6QVJifUHUE4BByhWBQet1gUF3xoJBQBKEQafBhEHfaYVBwKWGQd0QiEGB94hBR6eKQQX7ikHhgotBNdqMQddmjUF8i45BEhaPQTQBkUHGBZJBoLGRQRKCkkFe7pJBl+GTQbmalEGMp5RBV7uUQa8vlUFQfpRBO5OVQX09lUG6SJVBh8uVQTFEl0E3e5VBhI2WQWZXl0E=",
          "dtype": "f4"
         }
        },
        {
         "line": {
          "color": "rgb(255, 127, 14)"
         },
         "mode": "lines",
         "name": "gbyk R",
         "type": "scatter3d",
         "x": {
          "bdata": "svrWQDWC1EC88tJABODVQCCi1kA2QdtAItDdQC+76kC3P+hAI57sQEm58ECrD/VAORzzQBWW+ED4e/lAtqb6QBof/ECQFQBBn1UBQS85A0GL9gVBVwwIQRCBCkHRXg1BZU4PQd9jE0HQVhRBBH8YQTQtGUG33B1B+0UdQaShIUHZxSNBaa8mQbGAKEHKgCpBM2ssQRBTL0FJDzFBNRIzQdvBNEHf8TZBYLo4QRbROkHNLD1B+yI/Qb7ZQEGSEkJB5s9CQf2iREEOokRBUk9GQcSGR0HVXUhB8jNJQeNzSkG91kpBICpMQf6aTUHrX05BDlJPQQ9nUEG3b1FB5tJSQaomVEEJa1VBPtJWQWg8WEFo2FhB9J5ZQRp9WkHQ3FtBjiZcQTAOXUHqTl1BCVleQYtTXkHGzV5Bxz5eQXwMYEHYqmFBf+JiQQrfY0HNLGVBqjNmQWyUZ0F6HmhB2gFpQa+NaUEcZGpB70FrQbXFa0GsbmxBIzltQfGmbUFCZm5BzNxuQUNVb0HX+29BEXNwQcvGcEGeXXFBShVyQU6pckEL+HJBeJVzQb3/c0HVuXRBQAN1QSoidkGrZHZB27N2QY2Ed0FO9XdBi5x4QS83eUGiBHpBySN7QVdMfEGzd31B9qp9QapTfkEGSn9BiQyAQXddgEG8oYBBBwWBQR0IgUEFWIFBQOyBQebugUEJ/IFBXz+CQQSTgkHgy4JBT/qCQdwZg0GaOoNBtzaDQV+yg0GRzINBFveDQTcnhEF0P4RB2EiEQYFLhEFsZoRBd0+EQYzbg0GyZoRBUS2EQZAFhEEHHIRBkeaDQTK3g0F+lINB7seCQUQ1g0HQMINBtB6DQW7hgkFxZoJBQKiCQeItgkFy6IFBR/WBQacRgkFIs4FBFo+BQUAfgUFvO4FBCuWAQWYggUH0IYBBn0aAQRg/gEGWc4BBUzeBQdzKgEGAwoBBQVSAQZtlgEFlWIBBsKF/QXTOgEGcBIFBnWWBQZf6gUEiSoFBnaqBQc39gUG9poJBQHWDQZMWg0HSOINByNuCQe0Lg0HymoJBsaaDQX/cgkHwM4RBjPKEQQ==",
          "dtype": "f4"
         },
         "y": {
          "bdata": "9GpAQU66QUGAREBBBUNBQbiRQUFQ8j9B8+FAQd4hPkGAlT5BwOU+QSUwPUF0STxBkfI8QfGDPEE5YzpBJyU6QSqaOUEL+jdBnhQ3QVWUNUFpZDNBrwsyQcNOMEGWHi5B0A4tQf0XKkHNZylBa/IlQct0JUElLiFBp9chQTSmHUGcjRtBzpkYQcawFkG4ghRBi1QSQZr3DkHgywxB5jIKQTgRCEEpdAVBr8ECQRT3/kA9CvhAd7nwQAFM60C8auZA8aviQIGo2kBxhdlAPw7TQNq+zUBJVcdA7DPCQDb6uUDz3rdA13CwQK9rqUCXLqRAtjKeQDg5mEAnq5FASlqJQOX2gEBMfHJAGPtgQHJ9TkBT1kZAdi07QO+BK0BIUyFAy8gWQMAoCUCJMwFAcIbqP8Wf3z87/8c/33i3Pwlioz8h9YU/22NoP7fXRT9mNhQ/cEbgPjxSWT4FG/09kJDGvMPl3713JIW+2uHOvviK/r5ytRe/Ac84v6pfSr+aJHK/veCDv3b9j7+lSp+/dfSsv6jcqr9W6bq/FO7Iv/gh07/mY9e/Rovgv3dT4b9iqu6/kuHwvx4U+b+5Cv+/Nn8BwPNHBcDBQQfA1dgJwJLbC8AWRA7A41URwI9mFMDWrxfAMokVwE3YFcCASRbA75QWwNpVF8DBQBfA+/oYwGwcF8CSCBjAoKUXwGFnGMAfVxTA1sAQwLLNDMDM7wnAkvUGwB1zBMCP/ADAs64AwCYI8r+Elum/4eDav3fzyr963Lu/56Onv/vhn7+JAZW/eCF7v0n8Zb/lCEW/v7MpvyO65b6Kjbi+r9Z0vgCj2bzV4gs+3E6/PplE0D4GtyA/I8xIP+YefT/pa5g/uHGsPx/WwT+BadQ/cSXnP0VW/j9mwwZAbacRQPMDF0BPFCFAzHgvQAoeOEByO0VAvipMQJSFVkBJblxAYVRjQBhea0DJGXJARPN2QF/VekDNr4FAvIKCQFIXhkBcfYtAnEeNQINIkUBoF5ZAscmVQC7xmUCQ+J9AHhKkQMXWokBMFqdA5naqQIbcrECZb69AFwuwQMM+sEDroLNAt0qsQA==",
          "dtype": "f4"
         },
         "z": {
          "bdata": "MxqUQDTtlkD8xJJAWhqVQCRLlUCqNpJADy6VQJX8mUAdOJhA0bObQFphnkCWPqJAOW+hQD9qoUC+1KVA1b6lQMkTp0AyH6hA41epQNz7qkBebq1A2NCvQIwTskBnHbRAORe0QH7stUA43bVAUzS4QKyhuEAtQ7pA4fa7QMh/u0C42LtA/nS8QIWkvUCvJ7xAGhe8QOSxu0C1J7tAX4O6QLzGuUAeIbhAfyW3QKnDtUD49bJAuW6wQFyhrUDd76tAYVSqQE5UpkBbXaZA7COiQC/nnkAnCpxAhUCZQGDZlEATx5NA84yPQDFoi0A2HIhAAkmEQEMogEBLRndAjj5rQEiQX0AL9VNAPWFGQDwLOEDBWTJAWM0oQL7VHECRjhNAaWALQHwBAEBiBvM/KeLcP5q90z+l170/OiSuPw8Xmj+hBnc/8cxQPz1XKT9FyNw+wp2GPrCgA72smSC+e9m3vkz4974bJDW/6cxrv6G5ib8fmZy/9Zm3vw/Ixr88pey/0/4AwKz8DsAHbB/AWDQvwL7rNcC1tkbAkfhawB/fasDlwHXAJyGCwL/eicAPbpDA54eUwGTenMAChaTAt9WpwLF8ssASqbfAlWa+wMIexcBEDcvA3gTUwNXL28BO7+DAIhXrwEIm88Dv7fnAjPEAwcNTA8F74gXB2VgHwWvlDMHTdQ7BWAMUwUsbFMGnCxfBcjAbwX2YH8G4AyLB92EmwfI9KcF6ySvBSREtwRGJMcE+MDTBuxU3wRIHO8G4JT7BTnNCwTToQ8He2EXBQ6pJwWpMS8H9aE3BvxZPwdkdUsGfFFPBHplUwbfZVsHDhljBm1FbwVt6WsFvPlvB4PZbwQ5XXMFNslzBhXJcwbqdXMGec1zB2V1cwf/IW8ENP1zByvtbwYBiW8HX3FvBWGtbwffvW8FU7FnBdhlawTWzWcFp3VrBQZJawdv/WMFfRFjBA7lWwU+0V8E281bB/gFVwT4HV8ErU1bBqDJXwbhlVsE8iVTBZW9UweDYUsG1olDBSfpOwRVaT8E5q03BawtMwZkaS8Fu40vBLFNJwS9zSsGLKkjBeLZLwQ==",
          "dtype": "f4"
         }
        },
        {
         "line": {
          "color": "rgb(44, 160, 44)"
         },
         "mode": "lines",
         "name": "homing L",
         "type": "scatter3d",
         "x": {
          "bdata": "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",
          "dtype": "f4"
         },
         "y": {
          "bdata": "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",
          "dtype": "f4"
         },
         "z": {
          "bdata": "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",
          "dtype": "f4"
         }
        },
        {
         "line": {
          "color": "rgb(214, 39, 40)"
         },
         "mode": "lines",
         "name": "homing R",
         "type": "scatter3d",
         "x": {
          "bdata": "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",
          "dtype": "f4"
         },
         "y": {
          "bdata": "Vx2TPznCkz9nPpY/+UiWP6hNjj+3gZA/fb6KP4xjgj+gHHg/cK94P43lXT9tIVc/JipXP9yYOT8uTzk/uXUcP8yGGz/aoBo/+68iP8VVHD/awxQ/Qn4SPy6gEz9NgAY/7VcaPyIeED/bq6I+TnSdPr39bjwQZ+A8CB6lPCB/rjxbICE9b7+5vpjDtL4YV8a+U3C9vvbvvr74Wei+L5vtvoL4/77cagq/TCgHv2AJGb9YhB+/xhkuv93jNb8rVUG/hPhXv52NZr9iRnK/bhh5v3phg7/K04S/4hOIv19Zjb8BupC/SMGSvy3wmL+uxqC/KI+YvxYNoL8dyKe/aRefvxoTk0BkA5VATOCUQMT5lEDqXJNAAIGUQG+xlUAYE5RA4DuTQNS2kkD+TZJALyaUQJlCk0A2ZpNA2ZmTQIC/k0Bb3ZNAgzmUQORMlEBPwJRAKg2UQH2rlECgvJJAhTaTQMY9k0A1TpNAqpCTQGyukkBRE41AYvWMQAP3jEBw5YxAwzCFQO/rg0B/eYNAvPeDQKzLg0BgnoFAtVOEQLVBgUBFgoJAE7WCQFGCgkDn94JAMMaCQO/qgECmK4JA1hqCQFT+gUB/9oFAQvmBQFL1gUCp9YFAXOqBQCT3gUAXy4FAOdKBQNm8gUB+xIFAE8uBQC/6gUCBCIJAbz6CQBxpgkAvt4JAYuGCQK70gkAkIoNAAm6DQIPig0ADK4RASyiEQP8YhEDQB4VAfqOFQIMBhkAcnoZAxQ6HQCvah0DBk4hAugmJQNUwiUDolIlABLKJQBbPiUDVT4pAJneJQBWuiUCg24lAPvaJQD0kikAOWYpAoLeKQJc/ikCI2opAPNWKQKYPi0C46opAzxSLQPTnikBag4pALCqLQDxmi0DY5ItAXUWMQPCXjEDjDI1AMk6NQJrfjUA0vY1AZtKNQMgzjkAuO45AvFCOQGlcjkB9Yo5A02yOQBNzjkCRcI5AL3aOQPaMjkCsbI5Av2eOQLtvjkCra45AAmqOQAtOjkDRQI5A3RiOQEI0jkCs+41AVZyNQLHejkCJg41AKNeNQKrWjkD4SY5A66+OQCRrj0A/vY9AG+yPQD8kkECdxI9AB9aPQN3+j0DhD5BAdRmQQLkMkEBjAZBAv9aPQNP2j0Ajx49A4bmPQKd0j0CtDI9A0ouOQAIpjkBidI1A74iOQARrjkAG+41AMO2NQJLljUCp4o1ArX6NQOwKjkBClo5AkJuNQGTjjECVUIxAH/uLQDFBi0C9jYpAW2mJQKb9iECPoohAVwCIQASMh0DPwIZAaK+HQIfhhkA7ioZA10mGQA6uhkD1MIZAl9aFQBdzhUCLIIRAAW2DQIiLgkBWboFADEaAQDZAgEBJKH9AKAKAQDkdgEDhqH5AhYh+QPl+fkAKJ35Aw/99QDNjfUAmRoJAqV+DQJexgEACZYNANeGDQKBCg0C4C4RAZvaCQC/xgkAxB4NAg2aDQLzfg0Cm4INAkyWEQCkLhED5GoNAHDx+QNjrfEAG3ntAie15QJ/0eEAvRnhAlfV3QKY/dUAwDHZAgcSAQFMPgEDDnYRAWN+EQOdRhUCJ04NAjwuEQPMWgkDV8YBA+3eCQAZKg0AR/4JA5TGCQAoigEBdTX1Aj+6DQLQNeECL3npAsdd5QDUweUDYLHpAW0Z3QAm4dUDZy3VAGbx2QNpwdUAyAHhA3FJ4QB2rd0DYr3dAkbJ3QKdtd0Av+ndAoul2QLS8dkDfGHZAH1x1QNUGdkDc5XRAZrZzQAvZcECUeWlAenZpQKWOYkBbl19A52ReQHcmW0AUr11ANtVdQAAeW0B4IFtAWBSMQLVbjEBrDY5ApO2OQFhdkEDwLpNAxTGVQJiFlkAP6ZZAat2aQK0an0D9U6FAH7SiQJ75o0AwgqZA7zyoQPyYpkA4rqhA+VyoQAqQqEBjd6lAZnapQANQqEA84aZAtfgUwa97FMH9sRTB/dAUwSLIFMF9ABXBp8UUwY37EsHsCxPBA7MTwWsLE8F5vhDBBjgRwap4EMFgChHBBccQwbTSEMEs2g/BfIkPwVHQD8EpbA/BzBYPwTJ0DsEjXufATe7lwPl35sDv6OTAN7rjwCPm5MBH9uTAawflwLPT5cD18uXAs4/owN7k58BkZ+bAwkTmwMr0BsGP6wXBk2AGwX/oBsF5IwfBUxgHwQpAB8FAXQbBv2MHwRyqBsFjtgfB8zYFwfwWBsG76QXBTkySv4hRkr8ww5a/nRWVv4pLjr/ov4u/Xc2Jv7Drbb8NZHi/xdZev7uhQ7/g7jq/PbFGv5rWMb/sERa/1Pjuviopx745hJi+6EyEvrQwY76lPd69IYUCvKvrzz1QnQc+VO5JPgj7eD6QqZI+OgWpPhR3uj5H99k+J/3wPuD4AD94sBA/8d8iP7pAMj8anEc/lKFiP9iwgD9Cc4U/hXqJP7H0jT+KZZQ/mWWOP5EKlj/b/p4/eF+pPwTgtT/GE8k/e//bPy8a5z9ZT+0/AIz0P6Sn8j8U+v0/Gvn+P9qeAkC6SAFAbh8FQN0IB0AUBQdAHIwKQPwaCkBrtA1AxO4QQESfGUCcQjNAw1U7QG1GQ0DlkEdAoWlLQMm1SECGLElAPQpSQGJlVkDejV1ADiJfQO4cZkDj5WtA0XZtQD7dc0BPkXpAIIN/QKdygEDLC4VAxfeGQJY9iUCZyYtAyAOPQKoGkUCi3JRA5N2YQAAknECtCqBAuc6kQJQBpkA8SalAd1erQPd/rkCv47BAykqxQHwetUA3l7hATsy6QC9/vkDRgMBA+CbCQKFjx0AZTshAyvLLQGT9zUDgeNJAJxHUQMaq1UCOZ9hAPOXaQAkx3kCvzN5A1oLgQKDW4kAbauRAfcnlQIOM6ED43elAihzsQOP27UDp6u9A4z7zQNyo9EBIUvdArj34QGtC+kCxR/xAQlb9QHbe/UCnhQBBu8ABQRLSAUEjhwNBoiAFQYePBkGMxQdBpzoIQQroCEH7pgpB4aMKQRZ0DEEGFg1BYWkOQaLaD0EQ4hBBreMRQR0PE0F8oRRBh0UVQXWmFkGmDRdBpoMXQYmwGUFIGBxBRrMcQXRiHkHW2B5BtqggQd8BIkG6SCNBzI0kQWLfJUFM3SZBPOonQbkBKUEBNCtBOBssQZVdLUGN9C5BTcAxQXFGM0HyTjRBxKk2QQtJOEFSOjpB2ak7QW6YPUFjNz9BpCJAQRB9QkF+ZENBPZpEQRF9RkEWjUhBHvlJQXM2S0G7j0xBUsVNQZulTkFqVlBBujRSQWqWU0ERvFRBK6dWQW32V0G1/llBDphcQd4NXkFYPF9BrENhQRhEY0EDa2RBtQJmQcf4Z0FGymhB4/9pQfRUa0G6pGxB6AJuQaulbkGhznBBbHlyQaVac0FMvXRB1GF2QUUkdkEit3hB3+x5QWXAekGntntBs0Z9QQdifkFaSn9Bhy2AQeT9gEFtKYFBp3SBQQSqgUG0J4JBxZ+CQR0Ng0HxY4NBtH6DQaxGhEGQfoRBZwGFQewuhUFZfIVBzMaFQXQXhkGFhYZB9tuGQVsSh0FVOodBMq+HQW67h0HbHohB4h2IQXUgiEFmeIhB/ZaIQSDFiEFaEolBsE+JQTRViUH3fYlBJq+JQQPViUG2IYpBdjuKQaCAikGJq4pB08qKQaDiikGJAotByDmLQXJii0EYr4tBcJ+LQa4LjEEQO4xBMZCMQaDPjEGQXI1BsaaNQWy7jUEGAY5BjTWOQR6sjkGqU49BZGCPQQHbj0GEAZBBD4GQQSUkkUGf85BBXLSRQQz1kUHMV5JBq+CSQb/mkkGBi5NBwTeUQYBSlEFKF5VB3jKVQcenlUHY2ZVBsI+WQWzplkFpcpdB2eiXQUSRmEG2OZlB886ZQZX7mUFh/JpB/OiaQTKGm0HfsJtBDVmcQeISnUHoFp5Brf+eQaXCn0FePKBByXigQX+ToUH6E6JB2qKiQX42o0HgYqNBmrGjQV8vpEGx1qRBGnGlQS5tpkHk7KZBGXWnQU+MqEF0CqlBn7+pQYh/qkE566pBGKerQVdhrEFS4qxBoN+sQaQsrUH8c61BY3+tQeyorUH2Z61BMpKtQQ==",
          "dtype": "f4"
         },
         "z": {
          "bdata": "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",
          "dtype": "f4"
         }
        }
       ],
       "layout": {
        "legend": {
         "itemsizing": "constant"
        },
        "margin": {
         "b": 10,
         "l": 10,
         "r": 10,
         "t": 40
        },
        "scene": {
         "aspectmode": "data",
         "bgcolor": "rgba(0,0,0,0)",
         "camera": {
          "eye": {
           "x": 1.5,
           "y": 1.5,
           "z": 1.5
          }
         },
         "xaxis": {
          "showbackground": false,
          "title": {
           "text": "UMAP1"
          }
         },
         "yaxis": {
          "showbackground": false,
          "title": {
           "text": "UMAP2"
          }
         },
         "zaxis": {
          "showbackground": false,
          "title": {
           "text": "UMAP3"
          }
         }
        },
        "template": {
         "data": {
          "bar": [
           {
            "error_x": {
             "color": "#2a3f5f"
            },
            "error_y": {
             "color": "#2a3f5f"
            },
            "marker": {
             "line": {
              "color": "#E5ECF6",
              "width": 0.5
             },
             "pattern": {
              "fillmode": "overlay",
              "size": 10,
              "solidity": 0.2
             }
            },
            "type": "bar"
           }
          ],
          "barpolar": [
           {
            "marker": {
             "line": {
              "color": "#E5ECF6",
              "width": 0.5
             },
             "pattern": {
              "fillmode": "overlay",
              "size": 10,
              "solidity": 0.2
             }
            },
            "type": "barpolar"
           }
          ],
          "carpet": [
           {
            "aaxis": {
             "endlinecolor": "#2a3f5f",
             "gridcolor": "white",
             "linecolor": "white",
             "minorgridcolor": "white",
             "startlinecolor": "#2a3f5f"
            },
            "baxis": {
             "endlinecolor": "#2a3f5f",
             "gridcolor": "white",
             "linecolor": "white",
             "minorgridcolor": "white",
             "startlinecolor": "#2a3f5f"
            },
            "type": "carpet"
           }
          ],
          "choropleth": [
           {
            "colorbar": {
             "outlinewidth": 0,
             "ticks": ""
            },
            "type": "choropleth"
           }
          ],
          "contour": [
           {
            "colorbar": {
             "outlinewidth": 0,
             "ticks": ""
            },
            "colorscale": [
             [
              0,
              "#0d0887"
             ],
             [
              0.1111111111111111,
              "#46039f"
             ],
             [
              0.2222222222222222,
              "#7201a8"
             ],
             [
              0.3333333333333333,
              "#9c179e"
             ],
             [
              0.4444444444444444,
              "#bd3786"
             ],
             [
              0.5555555555555556,
              "#d8576b"
             ],
             [
              0.6666666666666666,
              "#ed7953"
             ],
             [
              0.7777777777777778,
              "#fb9f3a"
             ],
             [
              0.8888888888888888,
              "#fdca26"
             ],
             [
              1,
              "#f0f921"
             ]
            ],
            "type": "contour"
           }
          ],
          "contourcarpet": [
           {
            "colorbar": {
             "outlinewidth": 0,
             "ticks": ""
            },
            "type": "contourcarpet"
           }
          ],
          "heatmap": [
           {
            "colorbar": {
             "outlinewidth": 0,
             "ticks": ""
            },
            "colorscale": [
             [
              0,
              "#0d0887"
             ],
             [
              0.1111111111111111,
              "#46039f"
             ],
             [
              0.2222222222222222,
              "#7201a8"
             ],
             [
              0.3333333333333333,
              "#9c179e"
             ],
             [
              0.4444444444444444,
              "#bd3786"
             ],
             [
              0.5555555555555556,
              "#d8576b"
             ],
             [
              0.6666666666666666,
              "#ed7953"
             ],
             [
              0.7777777777777778,
              "#fb9f3a"
             ],
             [
              0.8888888888888888,
              "#fdca26"
             ],
             [
              1,
              "#f0f921"
             ]
            ],
            "type": "heatmap"
           }
          ],
          "histogram": [
           {
            "marker": {
             "pattern": {
              "fillmode": "overlay",
              "size": 10,
              "solidity": 0.2
             }
            },
            "type": "histogram"
           }
          ],
          "histogram2d": [
           {
            "colorbar": {
             "outlinewidth": 0,
             "ticks": ""
            },
            "colorscale": [
             [
              0,
              "#0d0887"
             ],
             [
              0.1111111111111111,
              "#46039f"
             ],
             [
              0.2222222222222222,
              "#7201a8"
             ],
             [
              0.3333333333333333,
              "#9c179e"
             ],
             [
              0.4444444444444444,
              "#bd3786"
             ],
             [
              0.5555555555555556,
              "#d8576b"
             ],
             [
              0.6666666666666666,
              "#ed7953"
             ],
             [
              0.7777777777777778,
              "#fb9f3a"
             ],
             [
              0.8888888888888888,
              "#fdca26"
             ],
             [
              1,
              "#f0f921"
             ]
            ],
            "type": "histogram2d"
           }
          ],
          "histogram2dcontour": [
           {
            "colorbar": {
             "outlinewidth": 0,
             "ticks": ""
            },
            "colorscale": [
             [
              0,
              "#0d0887"
             ],
             [
              0.1111111111111111,
              "#46039f"
             ],
             [
              0.2222222222222222,
              "#7201a8"
             ],
             [
              0.3333333333333333,
              "#9c179e"
             ],
             [
              0.4444444444444444,
              "#bd3786"
             ],
             [
              0.5555555555555556,
              "#d8576b"
             ],
             [
              0.6666666666666666,
              "#ed7953"
             ],
             [
              0.7777777777777778,
              "#fb9f3a"
             ],
             [
              0.8888888888888888,
              "#fdca26"
             ],
             [
              1,
              "#f0f921"
             ]
            ],
            "type": "histogram2dcontour"
           }
          ],
          "mesh3d": [
           {
            "colorbar": {
             "outlinewidth": 0,
             "ticks": ""
            },
            "type": "mesh3d"
           }
          ],
          "parcoords": [
           {
            "line": {
             "colorbar": {
              "outlinewidth": 0,
              "ticks": ""
             }
            },
            "type": "parcoords"
           }
          ],
          "pie": [
           {
            "automargin": true,
            "type": "pie"
           }
          ],
          "scatter": [
           {
            "fillpattern": {
             "fillmode": "overlay",
             "size": 10,
             "solidity": 0.2
            },
            "type": "scatter"
           }
          ],
          "scatter3d": [
           {
            "line": {
             "colorbar": {
              "outlinewidth": 0,
              "ticks": ""
             }
            },
            "marker": {
             "colorbar": {
              "outlinewidth": 0,
              "ticks": ""
             }
            },
            "type": "scatter3d"
           }
          ],
          "scattercarpet": [
           {
            "marker": {
             "colorbar": {
              "outlinewidth": 0,
              "ticks": ""
             }
            },
            "type": "scattercarpet"
           }
          ],
          "scattergeo": [
           {
            "marker": {
             "colorbar": {
              "outlinewidth": 0,
              "ticks": ""
             }
            },
            "type": "scattergeo"
           }
          ],
          "scattergl": [
           {
            "marker": {
             "colorbar": {
              "outlinewidth": 0,
              "ticks": ""
             }
            },
            "type": "scattergl"
           }
          ],
          "scattermap": [
           {
            "marker": {
             "colorbar": {
              "outlinewidth": 0,
              "ticks": ""
             }
            },
            "type": "scattermap"
           }
          ],
          "scattermapbox": [
           {
            "marker": {
             "colorbar": {
              "outlinewidth": 0,
              "ticks": ""
             }
            },
            "type": "scattermapbox"
           }
          ],
          "scatterpolar": [
           {
            "marker": {
             "colorbar": {
              "outlinewidth": 0,
              "ticks": ""
             }
            },
            "type": "scatterpolar"
           }
          ],
          "scatterpolargl": [
           {
            "marker": {
             "colorbar": {
              "outlinewidth": 0,
              "ticks": ""
             }
            },
            "type": "scatterpolargl"
           }
          ],
          "scatterternary": [
           {
            "marker": {
             "colorbar": {
              "outlinewidth": 0,
              "ticks": ""
             }
            },
            "type": "scatterternary"
           }
          ],
          "surface": [
           {
            "colorbar": {
             "outlinewidth": 0,
             "ticks": ""
            },
            "colorscale": [
             [
              0,
              "#0d0887"
             ],
             [
              0.1111111111111111,
              "#46039f"
             ],
             [
              0.2222222222222222,
              "#7201a8"
             ],
             [
              0.3333333333333333,
              "#9c179e"
             ],
             [
              0.4444444444444444,
              "#bd3786"
             ],
             [
              0.5555555555555556,
              "#d8576b"
             ],
             [
              0.6666666666666666,
              "#ed7953"
             ],
             [
              0.7777777777777778,
              "#fb9f3a"
             ],
             [
              0.8888888888888888,
              "#fdca26"
             ],
             [
              1,
              "#f0f921"
             ]
            ],
            "type": "surface"
           }
          ],
          "table": [
           {
            "cells": {
             "fill": {
              "color": "#EBF0F8"
             },
             "line": {
              "color": "white"
             }
            },
            "header": {
             "fill": {
              "color": "#C8D4E3"
             },
             "line": {
              "color": "white"
             }
            },
            "type": "table"
           }
          ]
         },
         "layout": {
          "annotationdefaults": {
           "arrowcolor": "#2a3f5f",
           "arrowhead": 0,
           "arrowwidth": 1
          },
          "autotypenumbers": "strict",
          "coloraxis": {
           "colorbar": {
            "outlinewidth": 0,
            "ticks": ""
           }
          },
          "colorscale": {
           "diverging": [
            [
             0,
             "#8e0152"
            ],
            [
             0.1,
             "#c51b7d"
            ],
            [
             0.2,
             "#de77ae"
            ],
            [
             0.3,
             "#f1b6da"
            ],
            [
             0.4,
             "#fde0ef"
            ],
            [
             0.5,
             "#f7f7f7"
            ],
            [
             0.6,
             "#e6f5d0"
            ],
            [
             0.7,
             "#b8e186"
            ],
            [
             0.8,
             "#7fbc41"
            ],
            [
             0.9,
             "#4d9221"
            ],
            [
             1,
             "#276419"
            ]
           ],
           "sequential": [
            [
             0,
             "#0d0887"
            ],
            [
             0.1111111111111111,
             "#46039f"
            ],
            [
             0.2222222222222222,
             "#7201a8"
            ],
            [
             0.3333333333333333,
             "#9c179e"
            ],
            [
             0.4444444444444444,
             "#bd3786"
            ],
            [
             0.5555555555555556,
             "#d8576b"
            ],
            [
             0.6666666666666666,
             "#ed7953"
            ],
            [
             0.7777777777777778,
             "#fb9f3a"
            ],
            [
             0.8888888888888888,
             "#fdca26"
            ],
            [
             1,
             "#f0f921"
            ]
           ],
           "sequentialminus": [
            [
             0,
             "#0d0887"
            ],
            [
             0.1111111111111111,
             "#46039f"
            ],
            [
             0.2222222222222222,
             "#7201a8"
            ],
            [
             0.3333333333333333,
             "#9c179e"
            ],
            [
             0.4444444444444444,
             "#bd3786"
            ],
            [
             0.5555555555555556,
             "#d8576b"
            ],
            [
             0.6666666666666666,
             "#ed7953"
            ],
            [
             0.7777777777777778,
             "#fb9f3a"
            ],
            [
             0.8888888888888888,
             "#fdca26"
            ],
            [
             1,
             "#f0f921"
            ]
           ]
          },
          "colorway": [
           "#636efa",
           "#EF553B",
           "#00cc96",
           "#ab63fa",
           "#FFA15A",
           "#19d3f3",
           "#FF6692",
           "#B6E880",
           "#FF97FF",
           "#FECB52"
          ],
          "font": {
           "color": "#2a3f5f"
          },
          "geo": {
           "bgcolor": "white",
           "lakecolor": "white",
           "landcolor": "#E5ECF6",
           "showlakes": true,
           "showland": true,
           "subunitcolor": "white"
          },
          "hoverlabel": {
           "align": "left"
          },
          "hovermode": "closest",
          "mapbox": {
           "style": "light"
          },
          "paper_bgcolor": "white",
          "plot_bgcolor": "#E5ECF6",
          "polar": {
           "angularaxis": {
            "gridcolor": "white",
            "linecolor": "white",
            "ticks": ""
           },
           "bgcolor": "#E5ECF6",
           "radialaxis": {
            "gridcolor": "white",
            "linecolor": "white",
            "ticks": ""
           }
          },
          "scene": {
           "xaxis": {
            "backgroundcolor": "#E5ECF6",
            "gridcolor": "white",
            "gridwidth": 2,
            "linecolor": "white",
            "showbackground": true,
            "ticks": "",
            "zerolinecolor": "white"
           },
           "yaxis": {
            "backgroundcolor": "#E5ECF6",
            "gridcolor": "white",
            "gridwidth": 2,
            "linecolor": "white",
            "showbackground": true,
            "ticks": "",
            "zerolinecolor": "white"
           },
           "zaxis": {
            "backgroundcolor": "#E5ECF6",
            "gridcolor": "white",
            "gridwidth": 2,
            "linecolor": "white",
            "showbackground": true,
            "ticks": "",
            "zerolinecolor": "white"
           }
          },
          "shapedefaults": {
           "line": {
            "color": "#2a3f5f"
           }
          },
          "ternary": {
           "aaxis": {
            "gridcolor": "white",
            "linecolor": "white",
            "ticks": ""
           },
           "baxis": {
            "gridcolor": "white",
            "linecolor": "white",
            "ticks": ""
           },
           "bgcolor": "#E5ECF6",
           "caxis": {
            "gridcolor": "white",
            "linecolor": "white",
            "ticks": ""
           }
          },
          "title": {
           "x": 0.05
          },
          "xaxis": {
           "automargin": true,
           "gridcolor": "white",
           "linecolor": "white",
           "ticks": "",
           "title": {
            "standoff": 15
           },
           "zerolinecolor": "white",
           "zerolinewidth": 2
          },
          "yaxis": {
           "automargin": true,
           "gridcolor": "white",
           "linecolor": "white",
           "ticks": "",
           "title": {
            "standoff": 15
           },
           "zerolinecolor": "white",
           "zerolinewidth": 2
          }
         }
        },
        "title": {
         "text": "session: ken_20230630_spikes_sorted_SES<br>area: dlpfc"
        }
       }
      }
     },
     "metadata": {},
     "output_type": "display_data"
    },
    {
     "data": {
      "application/vnd.plotly.v1+json": {
       "config": {
        "plotlyServerURL": "https://plot.ly"
       },
       "data": [
        {
         "line": {
          "color": "rgb(31, 119, 180)"
         },
         "mode": "lines",
         "name": "homing L",
         "type": "scatter3d",
         "x": {
          "bdata": "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",
          "dtype": "f4"
         },
         "y": {
          "bdata": "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",
          "dtype": "f4"
         },
         "z": {
          "bdata": "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",
          "dtype": "f4"
         }
        },
        {
         "line": {
          "color": "rgb(255, 127, 14)"
         },
         "mode": "lines",
         "name": "homing R",
         "type": "scatter3d",
         "x": {
          "bdata": "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",
          "dtype": "f4"
         },
         "y": {
          "bdata": "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",
          "dtype": "f4"
         },
         "z": {
          "bdata": "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",
          "dtype": "f4"
         }
        },
        {
         "line": {
          "color": "rgb(44, 160, 44)"
         },
         "mode": "lines",
         "name": "precue L",
         "type": "scatter3d",
         "x": {
          "bdata": "E0CYQOb1l0AlKZpA4HyYQNRvi0DddodA+9KIQF+ZhUCtIIBA6LF1QF7EeUBvq4BAWhh3QMFMgED2coBAxrqFQLIpiEDurI9ARlaVQBjjnUAgSqNAf+CoQI3Zr0DWQrpA55TAQJ3ZxUBXus1A12bfQIwCBkGVwgpBCaIOQcgSEEEGeRJBysAVQcaHGEH1yRxBVCwfQdqRI0GB9SZBbkIpQZqvLEHiVDBBbsAzQUFvNkGo6jhBs3k7QYz1PUFLCUFBVBhFQa8MR0Fq7ElBdChOQQAzUEE/H1NBYxdVQVmEV0ERJ1lB+/pbQeEoX0G62mBBu1BkQa6TZ0HTxWpBe5NtQUHLb0GYynFBZAt0QazddEFnEnZBKB54QTSfeUGCDXxBLiB9QUGAfUHU2X5BcZB/QVdbgEHDtYBBVQCBQSY3gUGHRIFBJUCBQY4ugUGSDYFBjZuAQbIygEG4339Bia1+QVGCfUG5rX1BnDt8QVJRekHYYHlBQ6N3QTu7dUECknNBzlpzQSPFcEESR25B6DFsQe95Z0EmfGZBiSZjQexTYUFeZV5BxX9bQYBoWUHOAVZBP+1UQQO4UUEAnU9BoLtLQdv7SEH8XEVBd91BQS2eP0EIujtBqJk3QZ/GNEFEfDFBN+QuQRrjK0E86ihBaBQmQXIDJEGM8SBBwUceQS7PG0ER+xhBsLIUQRA3EkGtCw9B92sNQRzxCkHz/ghBWVMHQQAMBUFawQNBdBgCQac0AEEfn/1AeIL5QJZj9kAqf/VAZyDzQHMz8kDRdPBAcPvuQOJp7UDmMOxADITsQE2Y6kBpp+tA1FroQE2Y7EBGeelABQTpQBYb50Ae5+VA/srkQN8J5ECnKONAnQThQCY04ECp291Aph3cQE3X2UC+MNhAD3zVQAJf1kAnMNtAS43ZQO5N2EA=",
          "dtype": "f4"
         },
         "y": {
          "bdata": "R4e4QPi1uECfMrlATnO2QE3VuEBo9LZA8ie8QAFfvUDl37tAzk22QK4Ls0C8QrRAe0q2QMQytUA8V7VA4YixQNfLrUBCpKpA65OsQEoErkDfOq5As9asQARWrECx7KtAwTirQKyNqkC0Y6lA9hOmQK27mUAgl5ZAHayTQC0Zk0DzOpBAXCWNQBixiUAiNIVABIiBQD/Ud0Bf+21A2kxnQOrQXEDlhlFAsIxGQHiePUAAKzVAQ1YsQFaRI0ALBxhAB0AJQFzZAUDSXu0/OWvMP7kOvD9cd6Q/hGOUP8dSgD92T2U/nMI1P3oxAD97Csc+d7YdPvLmg71MmJK+TnX2vtdNJb+uV0m/vNByv7W3gr8yk5G/RP2ov4EOv795iOO/V3r0v7HmAMBB4Q3A1qgawEEkKMBP8DHAaII9wGyCSsCOUlTAmWtWwFXOZMBWf23AnbR+wJ84hcBFaIjAdf6OwNMFlMCpFJXAJq2ZwGx6oMD6x6LAD7umwNPnqsDeta/A1xOwwJ7TtMDOcbnAk768wBoTxMAxocXAVuTJwM44zMBlx8/A2MfSwCFH1cD9NNjAdofZwLp/3MCpv97AfM/iwGnc5cC2fenAajHtwBgP8MANaPTAMA/5wJUy/MAarP/A9zkBwczhAsEXbQTBWsoFwRYOB8GJbQjBP98JwSEsC8F8Bw3B1sYPwcGdEcHlQxTBkc8VwZqIGMFWxBrB4pocwe47IMHuUiLBm/kkwRfqJ8EVzSrBezYvwWQvM8HqyjTBq3E5wW9VOsGGaj3BIIBBwZKORMG8i0bB44dJwczvS8GCGVDBAK5UwaRRVMGS/1bBt4FZwWveW8HJT13BhUVgwZWYYcHVlmPBmBxnwUbIZ8FKqGrBAPpqwfvda8FDAG/BwDJvwQ5HccHtFHPBL/NxwUo9ccE=",
          "dtype": "f4"
         },
         "z": {
          "bdata": "tlLIQMxlyEAdtsdAT4rFQIHTy0BTVMlANSjPQEki1UC82thA2OncQK572UBlQNhAxafaQAxl1EAMlNRAl/zOQLNcy0BIRsRA1mm/QMaKvEB4pblAK/C0QFltsUDZNa1Ag6SqQEKZqEBin6VAk2afQB4/kUBMYo5AzjOMQPE2jEB/6IlAS9OIQJDLhUCye4NABfuAQAyefUAFnXpAcu51QHHqcEAwT2xAK0FoQLA2ZUCel2JAjw5gQAHfXUBhzlpAw9ZXQMBBVkAVRVRAZCdRQFT6TkCM701A42FMQPSaSECbckdAYQREQEWgPkDbTj1Ar6c3QNRuM0AHiixAziApQGRSKECXKiFAPZsiQD/UHUDvLhpAb0oXQGOIFECRiwxArSUKQFVyCEDyGAJAY4v7PwXk6z+xrOA/u1vSP9uGwz9esrU/U3KyP/sSnT8LLI4/24RePw+aMj9JpBo/hbjQPoIhhj6Ss1k+u6l5PcjlO76VG4u+5IXavjioEr+3TEO/VFxHvw4Jdb8vRZC/F5Oiv+cBzL8bltS/MGDxvytUAMCRkAzAMZAYwOQXIcDxzS7Aex4zwDjVP8ADFUjAFSxXwEDAYcAZZW/AMHF8wG5ngsACqYnADDKRwKRdlsD1OJzAmOKgwANTpsDZravA88OwwN6WtMB1CrrA3vW+wFphw8BAq8jA+2fQwMTu1MDpldrApIndwN3s4cBTV+XA643owF1T7MC6Lu/A6fjwwB6X88A2LfXAnIz3wFKU+cCIDPrA5NL7wA/Q+8DZUPzAjwH9wOXX/cCUf/7A63D9wGrO/sAV6PzAqrX8wG9hAMH2av7AmGD+wAaK/cAYXvrAbo/9wAGG/MBKafzAKJP9wJdy+8DZWP3ATyH9wHFn/8BY8PrA/1/8wPM9+8CLlwDBzrb6wGIK/cA=",
          "dtype": "f4"
         }
        },
        {
         "line": {
          "color": "rgb(214, 39, 40)"
         },
         "mode": "lines",
         "name": "precue R",
         "type": "scatter3d",
         "x": {
          "bdata": "+ZyuQLzarEAlKrVAJ7msQNmFuUBzybpAXFPAQI4AwUAvx8FAlurGQDNXyECXMc5Au33OQGo800CMR9RA2BrXQKUU10CddtVAFNrVQF8z0UDZrc9A1WHJQAC8wEB4L7VA1lesQL9RpEBqCJ1AuL+VQEyUb0CBflxAWKdOQNnxQUDBRC9Ao7IZQFa07j9uOMQ/BNqsP5lPlj/La3A/AGE4Px7BAT+kmV0+C+QJPcJfL77A96u+8H0Iv+ecJ7+yGF6/gsKPvxcIoL974rG/OnHPv4Zq+r9tI/+/4NYRwA9hHMAQMCjA6B4vwJbrNcDkr0DA7QdLwJ8wVcDyglvAg6ZiwMUJZ8BqqW7ASbhywFupeMCGzoDAYkOHwOA1i8Cil4/As76TwMRhlsBMXJrAujKewLlnosAoiKXAQKqowHgYq8B1f67A+wKxwD5Gs8AvKLXAGVW3wAnwucCPtL3AUf++wCsfwcB2GMPA9FjGwO/9yMC+6MvAcCfPwI950cC7/9PAeT/XwCcZ2sBoI9zAyabfwD0O4cA6gOLAdWDlwBsN6MAuK+rAyqDrwKPb7sDqme/ANNDxwOtx8sAVEfXAZBr3wHRX+MAlUfrAWQH8wDcK/8BxtgDBg7kCwe0nBMEpDQXBN2IGwSY7B8EM/AfBJZYJwQWaCsEQPwzB7d4MwWZFDsGqOQ/BJHUQwdGnEcH+oBLBNJwTwZJwFMEUzRTBUHEVwb0KFsF23RbBb3EYwVubF8EBthjBBTwawbeSG8GkAh3BVBsdweIIIMHG7h/Bu9shwSY+I8FjhyXBW30lwSZSKME5ZynB5yQrwfe/LME01S7Bf5ovwQ20McGRxzPB7+k1wYNrNcHDrTjB+6c5wXFIOsH9mTzB+y8+wQkEQMEZ0ELBaT1EwfpcRsFFJknBwzhLwZjVTcGiyU7BYPpQwYwoU8G/qlXBBO9WwbwYWcFgeVnB1FtaweyKW8H0p1vBFGFdwetQXcGOG17BstBewQllXsHKlF/Bx9BfwWzrX8HSvGDBv15hwabRYcEcr2PBREljwVfWYsHKfmTB",
          "dtype": "f4"
         },
         "y": {
          "bdata": "8mYxQP0PN0CiFCxAr2k6QC/fKkCGvydAx2UhQKhiIEDnZBtAtFwVQD3RGEBrzA5A7ukKQNHaBkBH6wxAA+ILQD4wC0CYZhJAvHMRQKZtG0CfohhAtx8eQFtcJkAlfi1AynkwQGqANEBEIjhAFP85QF3DRUAPKkpAu/JNQJ79UkDP0VVAdXhbQLXTZEAQLmpAunNuQN+jcEAB5XVADit7QA7zf0DoKoRAOR+FQLC8iEDZnIpAqZ2NQIt1j0DWkJJAt3GXQB4cmkAUmZtAGqufQFU8pkDg+qZAftWsQNdZsUAyurRA7mi3QHrguUBXWL5ASN3CQGVEx0CNHMpAW1LNQKVaz0DEAdNAYv3UQNUJ2EDcttxAha3jQJIM6EBl/exAnPLxQIIy9UBY0PlA72L+QPGcAUFxWwNBhxoFQRaKBkFKjghB3DkKQdG9C0EABQ1Bh30OQTA/EEEWdRJBuW0TQSG6FEGF9hVBbPcXQcWTGUE7WBtBr04dQeXDHkGdayBB4U0iQdEJJEF0ZSVBkJ8nQRiWKEFjsilBmJErQdJ7LUHq/i5BmRUwQbSNMkG/KTNB6vM0QRF6NUH/rTdBmXk5QYiBOkHuNDxB8pQ9Qe/6P0Ey5EFB5RFFQZJ0R0Fp9khBjTlLQYmvTEER/E1B4MFQQXSDUkGDS1VBimRWQZPLWEFziVpBbJxcQVcsX0H0XWFB07pjQUIKZkEsE2dB1QlpQR2eakGWi2xB/gluQZROb0Eg8HBBtq5zQcRcdUH4O3dBG1x3QQaceUHEy3pBnsN8QcqcfkHpiIBBd4qAQTsBgkGLiYJBBmKDQUIthEF3OYVBPoaFQe17hkGIbodB+3uIQeMdiEEPgYlBytyJQbUiikFBI4tBcdeLQb2kjEFd6o1Bl46OQb2Tj0Fk5pBBAOCRQdAfk0HRmJNBq6iUQcKplUEI35ZBL4CXQQSSmEF9EplBkNyZQXfkmkFmnZtBvm2dQYn0nUGgN59B7q+gQVntoEH+RKJBPfeiQeY5pEFmF6VB/u2lQX6XpkEMiKdBNPanQdSmp0Ez8adB",
          "dtype": "f4"
         },
         "z": {
          "bdata": "SOFtQC91d0DUE4BAIclzQMY3gUDcioBAPR+JQGe3iUCchZBAiduTQBIckkCqsZZAmimaQKGfm0AfN5VAWzmTQD6Rk0Bc+45A+yCMQL1Qg0DCvIRAuXd7QNcJZ0DDimBAlg5VQEv8UUAOA0xAQFtGQCbWLkCcMydASN8hQAYQHkDG6BZA7hYQQOQhBkD/QAFA1dH8P5D3+T/LR/U/i/XwPyzM7T+++uo/MWzqP6Vz6j9Mgeo/xsvsP39P7j/I4fI/J0r8PycjA0CObwJAibQIQLJ/EkCq1BNAywgeQKEPJ0B54C1ATdUzQHRwOUD/x0NAhghPQGhlWkDD32FASU9rQJtVcUAjNXtA1gqBQCkAhUAimYtAGpWVQC37m0AKDaNAQwarQEL+sEDXwrhAzxjBQK4fyUAMQM9ALCDVQG6X2kDd8+FAKGjnQAty7UC2WfJAaPH3QA5d/0DNWwNBtTsGQWX1CEF0lwtBjrgPQaZXE0E8KBdBB7oaQX15HkExYiJB8tclQXWgKUHHsixBTG4xQWftM0FePjdBnbg6QYH/P0Ea/0JBD+ZFQVebS0FgPE1BKmtRQQ+sUkF4WFdBlmdbQfDyXUHNgWFBIk1kQar+aEHbqWxBAxZzQZ0BeEEepnpBi5d/QZM7gUEKjoJBRJGFQRl0h0GkOIpB0ZCLQZUcjkHW849Bu9qRQaxylEEid5ZBqKOYQQCcmkE6vptBslydQcGcnkGSGaBBwVyhQYtIokGWVKNB0iylQeVypkF6xqdBK+CnQT6BqUHsSapBQHerQV7TrEHiJ65BTXGuQUbHr0ErILBB9L+wQUlIsUHuxbFB4ZCyQRYvs0FkZrNBjP+zQYl1s0EjmbNBqO6zQbq0s0Gl/bNBRom0QcSps0GqS7NBCw+zQVXAskGQKbJBOu2xQQ7DsEHaV7FBYK2wQdUYsEHEQrBB9+avQZEzsEFPpa9Bz/uuQWvarkFM8a5BYxiuQd88rkG4wq1BvyGuQRjyrUEL1K1B/9mtQdx8rUFU0a1Bk76tQazNrUGVX65B+qquQbDhrkGhb69B",
          "dtype": "f4"
         }
        }
       ],
       "layout": {
        "legend": {
         "itemsizing": "constant"
        },
        "margin": {
         "b": 10,
         "l": 10,
         "r": 10,
         "t": 40
        },
        "scene": {
         "aspectmode": "data",
         "bgcolor": "rgba(0,0,0,0)",
         "camera": {
          "eye": {
           "x": 1.5,
           "y": 1.5,
           "z": 1.5
          }
         },
         "xaxis": {
          "showbackground": false,
          "title": {
           "text": "UMAP1"
          }
         },
         "yaxis": {
          "showbackground": false,
          "title": {
           "text": "UMAP2"
          }
         },
         "zaxis": {
          "showbackground": false,
          "title": {
           "text": "UMAP3"
          }
         }
        },
        "template": {
         "data": {
          "bar": [
           {
            "error_x": {
             "color": "#2a3f5f"
            },
            "error_y": {
             "color": "#2a3f5f"
            },
            "marker": {
             "line": {
              "color": "#E5ECF6",
              "width": 0.5
             },
             "pattern": {
              "fillmode": "overlay",
              "size": 10,
              "solidity": 0.2
             }
            },
            "type": "bar"
           }
          ],
          "barpolar": [
           {
            "marker": {
             "line": {
              "color": "#E5ECF6",
              "width": 0.5
             },
             "pattern": {
              "fillmode": "overlay",
              "size": 10,
              "solidity": 0.2
             }
            },
            "type": "barpolar"
           }
          ],
          "carpet": [
           {
            "aaxis": {
             "endlinecolor": "#2a3f5f",
             "gridcolor": "white",
             "linecolor": "white",
             "minorgridcolor": "white",
             "startlinecolor": "#2a3f5f"
            },
            "baxis": {
             "endlinecolor": "#2a3f5f",
             "gridcolor": "white",
             "linecolor": "white",
             "minorgridcolor": "white",
             "startlinecolor": "#2a3f5f"
            },
            "type": "carpet"
           }
          ],
          "choropleth": [
           {
            "colorbar": {
             "outlinewidth": 0,
             "ticks": ""
            },
            "type": "choropleth"
           }
          ],
          "contour": [
           {
            "colorbar": {
             "outlinewidth": 0,
             "ticks": ""
            },
            "colorscale": [
             [
              0,
              "#0d0887"
             ],
             [
              0.1111111111111111,
              "#46039f"
             ],
             [
              0.2222222222222222,
              "#7201a8"
             ],
             [
              0.3333333333333333,
              "#9c179e"
             ],
             [
              0.4444444444444444,
              "#bd3786"
             ],
             [
              0.5555555555555556,
              "#d8576b"
             ],
             [
              0.6666666666666666,
              "#ed7953"
             ],
             [
              0.7777777777777778,
              "#fb9f3a"
             ],
             [
              0.8888888888888888,
              "#fdca26"
             ],
             [
              1,
              "#f0f921"
             ]
            ],
            "type": "contour"
           }
          ],
          "contourcarpet": [
           {
            "colorbar": {
             "outlinewidth": 0,
             "ticks": ""
            },
            "type": "contourcarpet"
           }
          ],
          "heatmap": [
           {
            "colorbar": {
             "outlinewidth": 0,
             "ticks": ""
            },
            "colorscale": [
             [
              0,
              "#0d0887"
             ],
             [
              0.1111111111111111,
              "#46039f"
             ],
             [
              0.2222222222222222,
              "#7201a8"
             ],
             [
              0.3333333333333333,
              "#9c179e"
             ],
             [
              0.4444444444444444,
              "#bd3786"
             ],
             [
              0.5555555555555556,
              "#d8576b"
             ],
             [
              0.6666666666666666,
              "#ed7953"
             ],
             [
              0.7777777777777778,
              "#fb9f3a"
             ],
             [
              0.8888888888888888,
              "#fdca26"
             ],
             [
              1,
              "#f0f921"
             ]
            ],
            "type": "heatmap"
           }
          ],
          "histogram": [
           {
            "marker": {
             "pattern": {
              "fillmode": "overlay",
              "size": 10,
              "solidity": 0.2
             }
            },
            "type": "histogram"
           }
          ],
          "histogram2d": [
           {
            "colorbar": {
             "outlinewidth": 0,
             "ticks": ""
            },
            "colorscale": [
             [
              0,
              "#0d0887"
             ],
             [
              0.1111111111111111,
              "#46039f"
             ],
             [
              0.2222222222222222,
              "#7201a8"
             ],
             [
              0.3333333333333333,
              "#9c179e"
             ],
             [
              0.4444444444444444,
              "#bd3786"
             ],
             [
              0.5555555555555556,
              "#d8576b"
             ],
             [
              0.6666666666666666,
              "#ed7953"
             ],
             [
              0.7777777777777778,
              "#fb9f3a"
             ],
             [
              0.8888888888888888,
              "#fdca26"
             ],
             [
              1,
              "#f0f921"
             ]
            ],
            "type": "histogram2d"
           }
          ],
          "histogram2dcontour": [
           {
            "colorbar": {
             "outlinewidth": 0,
             "ticks": ""
            },
            "colorscale": [
             [
              0,
              "#0d0887"
             ],
             [
              0.1111111111111111,
              "#46039f"
             ],
             [
              0.2222222222222222,
              "#7201a8"
             ],
             [
              0.3333333333333333,
              "#9c179e"
             ],
             [
              0.4444444444444444,
              "#bd3786"
             ],
             [
              0.5555555555555556,
              "#d8576b"
             ],
             [
              0.6666666666666666,
              "#ed7953"
             ],
             [
              0.7777777777777778,
              "#fb9f3a"
             ],
             [
              0.8888888888888888,
              "#fdca26"
             ],
             [
              1,
              "#f0f921"
             ]
            ],
            "type": "histogram2dcontour"
           }
          ],
          "mesh3d": [
           {
            "colorbar": {
             "outlinewidth": 0,
             "ticks": ""
            },
            "type": "mesh3d"
           }
          ],
          "parcoords": [
           {
            "line": {
             "colorbar": {
              "outlinewidth": 0,
              "ticks": ""
             }
            },
            "type": "parcoords"
           }
          ],
          "pie": [
           {
            "automargin": true,
            "type": "pie"
           }
          ],
          "scatter": [
           {
            "fillpattern": {
             "fillmode": "overlay",
             "size": 10,
             "solidity": 0.2
            },
            "type": "scatter"
           }
          ],
          "scatter3d": [
           {
            "line": {
             "colorbar": {
              "outlinewidth": 0,
              "ticks": ""
             }
            },
            "marker": {
             "colorbar": {
              "outlinewidth": 0,
              "ticks": ""
             }
            },
            "type": "scatter3d"
           }
          ],
          "scattercarpet": [
           {
            "marker": {
             "colorbar": {
              "outlinewidth": 0,
              "ticks": ""
             }
            },
            "type": "scattercarpet"
           }
          ],
          "scattergeo": [
           {
            "marker": {
             "colorbar": {
              "outlinewidth": 0,
              "ticks": ""
             }
            },
            "type": "scattergeo"
           }
          ],
          "scattergl": [
           {
            "marker": {
             "colorbar": {
              "outlinewidth": 0,
              "ticks": ""
             }
            },
            "type": "scattergl"
           }
          ],
          "scattermap": [
           {
            "marker": {
             "colorbar": {
              "outlinewidth": 0,
              "ticks": ""
             }
            },
            "type": "scattermap"
           }
          ],
          "scattermapbox": [
           {
            "marker": {
             "colorbar": {
              "outlinewidth": 0,
              "ticks": ""
             }
            },
            "type": "scattermapbox"
           }
          ],
          "scatterpolar": [
           {
            "marker": {
             "colorbar": {
              "outlinewidth": 0,
              "ticks": ""
             }
            },
            "type": "scatterpolar"
           }
          ],
          "scatterpolargl": [
           {
            "marker": {
             "colorbar": {
              "outlinewidth": 0,
              "ticks": ""
             }
            },
            "type": "scatterpolargl"
           }
          ],
          "scatterternary": [
           {
            "marker": {
             "colorbar": {
              "outlinewidth": 0,
              "ticks": ""
             }
            },
            "type": "scatterternary"
           }
          ],
          "surface": [
           {
            "colorbar": {
             "outlinewidth": 0,
             "ticks": ""
            },
            "colorscale": [
             [
              0,
              "#0d0887"
             ],
             [
              0.1111111111111111,
              "#46039f"
             ],
             [
              0.2222222222222222,
              "#7201a8"
             ],
             [
              0.3333333333333333,
              "#9c179e"
             ],
             [
              0.4444444444444444,
              "#bd3786"
             ],
             [
              0.5555555555555556,
              "#d8576b"
             ],
             [
              0.6666666666666666,
              "#ed7953"
             ],
             [
              0.7777777777777778,
              "#fb9f3a"
             ],
             [
              0.8888888888888888,
              "#fdca26"
             ],
             [
              1,
              "#f0f921"
             ]
            ],
            "type": "surface"
           }
          ],
          "table": [
           {
            "cells": {
             "fill": {
              "color": "#EBF0F8"
             },
             "line": {
              "color": "white"
             }
            },
            "header": {
             "fill": {
              "color": "#C8D4E3"
             },
             "line": {
              "color": "white"
             }
            },
            "type": "table"
           }
          ]
         },
         "layout": {
          "annotationdefaults": {
           "arrowcolor": "#2a3f5f",
           "arrowhead": 0,
           "arrowwidth": 1
          },
          "autotypenumbers": "strict",
          "coloraxis": {
           "colorbar": {
            "outlinewidth": 0,
            "ticks": ""
           }
          },
          "colorscale": {
           "diverging": [
            [
             0,
             "#8e0152"
            ],
            [
             0.1,
             "#c51b7d"
            ],
            [
             0.2,
             "#de77ae"
            ],
            [
             0.3,
             "#f1b6da"
            ],
            [
             0.4,
             "#fde0ef"
            ],
            [
             0.5,
             "#f7f7f7"
            ],
            [
             0.6,
             "#e6f5d0"
            ],
            [
             0.7,
             "#b8e186"
            ],
            [
             0.8,
             "#7fbc41"
            ],
            [
             0.9,
             "#4d9221"
            ],
            [
             1,
             "#276419"
            ]
           ],
           "sequential": [
            [
             0,
             "#0d0887"
            ],
            [
             0.1111111111111111,
             "#46039f"
            ],
            [
             0.2222222222222222,
             "#7201a8"
            ],
            [
             0.3333333333333333,
             "#9c179e"
            ],
            [
             0.4444444444444444,
             "#bd3786"
            ],
            [
             0.5555555555555556,
             "#d8576b"
            ],
            [
             0.6666666666666666,
             "#ed7953"
            ],
            [
             0.7777777777777778,
             "#fb9f3a"
            ],
            [
             0.8888888888888888,
             "#fdca26"
            ],
            [
             1,
             "#f0f921"
            ]
           ],
           "sequentialminus": [
            [
             0,
             "#0d0887"
            ],
            [
             0.1111111111111111,
             "#46039f"
            ],
            [
             0.2222222222222222,
             "#7201a8"
            ],
            [
             0.3333333333333333,
             "#9c179e"
            ],
            [
             0.4444444444444444,
             "#bd3786"
            ],
            [
             0.5555555555555556,
             "#d8576b"
            ],
            [
             0.6666666666666666,
             "#ed7953"
            ],
            [
             0.7777777777777778,
             "#fb9f3a"
            ],
            [
             0.8888888888888888,
             "#fdca26"
            ],
            [
             1,
             "#f0f921"
            ]
           ]
          },
          "colorway": [
           "#636efa",
           "#EF553B",
           "#00cc96",
           "#ab63fa",
           "#FFA15A",
           "#19d3f3",
           "#FF6692",
           "#B6E880",
           "#FF97FF",
           "#FECB52"
          ],
          "font": {
           "color": "#2a3f5f"
          },
          "geo": {
           "bgcolor": "white",
           "lakecolor": "white",
           "landcolor": "#E5ECF6",
           "showlakes": true,
           "showland": true,
           "subunitcolor": "white"
          },
          "hoverlabel": {
           "align": "left"
          },
          "hovermode": "closest",
          "mapbox": {
           "style": "light"
          },
          "paper_bgcolor": "white",
          "plot_bgcolor": "#E5ECF6",
          "polar": {
           "angularaxis": {
            "gridcolor": "white",
            "linecolor": "white",
            "ticks": ""
           },
           "bgcolor": "#E5ECF6",
           "radialaxis": {
            "gridcolor": "white",
            "linecolor": "white",
            "ticks": ""
           }
          },
          "scene": {
           "xaxis": {
            "backgroundcolor": "#E5ECF6",
            "gridcolor": "white",
            "gridwidth": 2,
            "linecolor": "white",
            "showbackground": true,
            "ticks": "",
            "zerolinecolor": "white"
           },
           "yaxis": {
            "backgroundcolor": "#E5ECF6",
            "gridcolor": "white",
            "gridwidth": 2,
            "linecolor": "white",
            "showbackground": true,
            "ticks": "",
            "zerolinecolor": "white"
           },
           "zaxis": {
            "backgroundcolor": "#E5ECF6",
            "gridcolor": "white",
            "gridwidth": 2,
            "linecolor": "white",
            "showbackground": true,
            "ticks": "",
            "zerolinecolor": "white"
           }
          },
          "shapedefaults": {
           "line": {
            "color": "#2a3f5f"
           }
          },
          "ternary": {
           "aaxis": {
            "gridcolor": "white",
            "linecolor": "white",
            "ticks": ""
           },
           "baxis": {
            "gridcolor": "white",
            "linecolor": "white",
            "ticks": ""
           },
           "bgcolor": "#E5ECF6",
           "caxis": {
            "gridcolor": "white",
            "linecolor": "white",
            "ticks": ""
           }
          },
          "title": {
           "x": 0.05
          },
          "xaxis": {
           "automargin": true,
           "gridcolor": "white",
           "linecolor": "white",
           "ticks": "",
           "title": {
            "standoff": 15
           },
           "zerolinecolor": "white",
           "zerolinewidth": 2
          },
          "yaxis": {
           "automargin": true,
           "gridcolor": "white",
           "linecolor": "white",
           "ticks": "",
           "title": {
            "standoff": 15
           },
           "zerolinecolor": "white",
           "zerolinewidth": 2
          }
         }
        },
        "title": {
         "text": "session: ken_20230701_spikes_sorted_SES<br>area: dlpfc"
        }
       }
      }
     },
     "metadata": {},
     "output_type": "display_data"
    },
    {
     "data": {
      "application/vnd.plotly.v1+json": {
       "config": {
        "plotlyServerURL": "https://plot.ly"
       },
       "data": [
        {
         "line": {
          "color": "rgb(31, 119, 180)"
         },
         "mode": "lines",
         "name": "gbyk L",
         "type": "scatter3d",
         "x": {
          "bdata": "tgqOQOkJkUBQ2o9AAbeVQBHPlkBq3JdA5hyWQI9mk0AfHI1Am4SCQI0ygEAFB3lAS1FtQPTnZUA/YV9AhcVUQNlvU0AwNVFAs8ZDQJvON0An9jdAXeQvQJ8vIkBk+BFA97gHQC0U8T8GJNA/n/TOP5bivD9CkKM/6jqVPyjxhD/gS2c/AvMzP2UP+D6Q+a4+nQ4iPvk0zzrNvJ69Dbp2vrNKt7716fW+OzQXv/TNI7+Hoj2/x79Fv8L7Ur8W1lq/RYRsv4+mY78b/He/AdN/v7Kngr+42oO/qsOEv9snh7+gKoO/lnODv5twgL+gC3q/X3J5v4ttZ7+TNFW/VYJEv9lxLb8Ebxi/P38Iv0pS9r71fNq+rEG+vlB4lb5IV1W+f6MMvqAUQ722pSE95PxIPkcwnT4Gb78+ZREAP7kKDz+RJSQ/+/04Py5/Vz+jans/DqCOP+//mj+2fLM/gOTHP0M/4D+AxOs/AkT9P+x7A0C9jhBAYa4WQFMcH0D8FS9ASFQzQA12O0C7WUZAsfpRQK4XYUCeB2lAi6dzQESPgkA1NYhA6kGOQPOqk0DnxJlATHKhQDtkpUBRUapAXD+vQFS2tEC7ErtAQUW/QHuqwkDt5MxAqdHTQLV210Cstt1ActniQPTS6EAIkexA0f/wQEn69EDzafpAUPv+QIyhAkHDkgRBCDIHQYETCEE4QApBnPMLQRo0DUHN5A9BwvQQQfcaEkGEPRNBIPcTQcSMFEFAOxVBJg0VQd5GFUFFMxVB1A4VQRBUFEEZ+RRBEMgTQZjjEkGoBhJB1Q0RQTUkEEGSDA9ByvMNQdj4DUHIVA1BHCsMQdZGDUF8dw1BGIYMQS2BDEEQCw5B2soOQWsgD0E6QxBB2/0QQfZpEEFQmw5BLnsTQZyIEUHZxxJBQIIUQYNEE0EbfhVBvw4VQQ==",
          "dtype": "f4"
         },
         "y": {
          "bdata": "SY/xPztS6T+Ceuk/8GG9PyyYwT8nssQ/bIfWP5yA6z8iX8o/P2nmPwfM7z/5APc/Yu8AQOAmB0AXwAdARWEPQJNOBUDmFwhAC8ARQEzIGUC0+hdAiY4dQJk9I0AkACtAlhEtQFaAN0DmiEFAPzNDQG/YSUBXaFBAl2BVQG63WkAMsmFAB7NrQLIid0BOun5A1taEQFWsiUDvHYxAaKKRQGAglkCfv5pAAsefQCJUokBNM6hALk2qQBSorUC5I7FAfee2QA9SuUBr+btAVajAQCuExEAOFMdA93rKQMSSzkDW+c9AHyvTQLgl10DGJ9xAWfPeQJgv4UBN4+RAHrnoQJHC7EBcdvBAPiLzQNoK9UAxDfdA7bP4QEIF+0CAW/1AUCn/QAq1AEGpvQFB5L0DQT72BEHUwQVBmykHQUGQB0Gr1ghBQaEJQXD5CkFvegxBM/YNQUblDkGP1RBBXWwSQX8/FEHz3xRBam8WQZ9tF0GcqhhBQ70ZQZCtGkEWuRxBwkYdQY6pHUHI+B5BDq8eQeqkHkFd3B5BA+8eQaesHkEiDh5BMuUeQQDaHkEmSh9B3/IeQXn7HkHBvx1BiX4dQUACHUHQkxxBx74bQbQRG0G0GBpBbQ8ZQfuPGEH1OxdBLcYWQUnrF0EcERVBry8UQb9uEkGijRFBf1AQQbbIDkHMwg1BfBoMQWbbC0HtqApBrZsJQZ5FB0FoMwhBmNgFQaOWBEEdVANBSKICQdcOAUFmXv9ATaz9QN0G+kCDZPlA+Bz3QMQ49EBuG/NAx7PvQMCz7kD7XOxAfQfpQD7F5kAC8OFAu7vdQNPv3ED42NlAtCLWQFCq1UAUc9BAhrHPQH0tzUDYYMpAtE/JQCjtyUBIdsZAVbjEQEeAwUCHH8JARibCQBPvvkAm8L1AmKjAQAgnv0DJUL5AG0bBQA==",
          "dtype": "f4"
         },
         "z": {
          "bdata": "n3sAQGHrAkDoNQNA0hUOQGHwDkCHoxFASDEGQOMy+z+t0QdAHqX+Py3NAUDxZfc/MuXtP1JL6T99SuA/803nP8MQ1T99r9U/SKrbPwRv1z/1vNo/BljcP2ia4z9yy+0/3lD2Pz4N/j9KEgVAQoIDQDt2B0BsoA9Aq/QTQNeFGEBMvx5AaHIoQPvWM0CPmTtA+BZHQFVXUUBY6lZAO3BjQKpNbkBD9nhAveSCQOg5hkAGE45A1/SQQNUolkBSo5pAmNiiQFXUpkCbc6pAbCeyQC2zt0Cy+rtAj+zBQPaByEAPwstAw1XSQGg32kDiR+RAq1npQD+q70Dgk/hA8csAQdrIBkHG0AtBaIkPQVXnEkGXjxZBrI8ZQRbhHEEq6iFBGJskQUcTKEGTeStB15wwQU7hNEFlGTdByaM7QcnAPUGM3T9BpX5CQT0iRkFucUpBJZJNQeg1UEFPQVVB6ApZQTitXUFSjF9BOmViQWEtZEGWxGhBbp9qQVg0bUHeZ3FBb4ByQSNxdEHF0HZBRBV5QXjhe0E4Nn1BPSJ/QdKqgEHSN4FB8DqCQersgkHMs4NB56qEQZA1hUH+o4VBaVGGQUbyhkEqgIdB9iKIQb+ZiEHTi4lBX2OKQWrBikGlrotBNeiLQaR2i0FG9oxBfXWNQQRcjkE23I5BBIOPQSB0kEGtCJFBWR6SQY9okkGueJNBa06UQRAhlUGCx5ZBpdmXQc7xmEFnJZpBtX6bQd1mnUGxyZ5B+wmgQecookFDvaJBwlOkQYfppUFw26ZBvImoQWfSqEFt46lBYTurQcMNrEHiNq5BQ6CvQbRCsEH8abFBfQezQc4Qs0Eg87RBtby1QZ68tkF1lbhBoWe5QYhfuUHnj7tBTh68QdgdvUFt1LxBepe+QdB0vkFfFb9B/hvAQehuv0GBe8BBXTvAQQ==",
          "dtype": "f4"
         }
        },
        {
         "line": {
          "color": "rgb(255, 127, 14)"
         },
         "mode": "lines",
         "name": "gbyk R",
         "type": "scatter3d",
         "x": {
          "bdata": "el2/QG1Wv0BJesFAnOy9QOBGvkB9MsBAv3PGQCu8xEAyncNArlLHQFWzyEC6TM5AEbHQQL+H1kBuldtAIcbfQA4u5UBBLOZAuSzsQAS88UBG4/VANPz5QErA/kDkxgBBDBgFQfE/BkGcwQlBY0IMQVZRDkEc5w9Bmh4RQRs8E0EqmRVBfi0WQRXlGEFGoBtB2+UcQf3DH0G27iFBEEIjQbpNJEEMwyVBRIQnQZbMJ0FiwihBMqApQUsoKkGaZStBf9opQYg6K0HexStB4SwsQaE2LEH9mCxBeRstQdZMLUFUsy1BPA8uQQFvLkGZxS5B+QAvQfcWL0Hscy9BaI0vQUW2L0FH5y9BqdsvQdkZMEGqPDBBJnQwQaTXMEHtODFBD5ExQcn0MUF4FjJBhfIyQcyIM0FNrTNBxIk0QRM4NEGelDVBNLQ2QYpON0E8xjhB3KI5Qd+WOkEQFDxBrgI+QVWBPkG2sT9B8FJBQX4pQkFv4ENBqsVFQXtSRkHRiEdBueVIQXY3SkGICkxBKONNQSlNUEGO4lJB1CRVQVvoVUH9BVlBxBJdQbKiXkGTpGNBTy1nQZW4a0ENLHBBYABzQbMmdkFkcXhB+1d7QQESfUHp0IBBLL2BQQCYgkGmT4RBfHmFQTSDhkHIgYdBdlyJQSpgikFIFoxBrmWNQfwfj0EOI5FBzd+SQaUQlEGE6ZVB4cKWQcBkl0FnBJlBfrGaQU53m0FK2Z1BF2GfQfGloEG1kqJBxj6jQVTjpEEGP6ZBu66nQTKwqEGVmalBeM2rQTaTrUEvWq9Bw4WwQWY3sUEpWrJB0Xe0QXQZtUFLWLZBa++3QR4jukHS07xB1Km9QXg/wEFrYMFBFDrCQZO5xEEFL8ZB34fHQQMryUHYkcpBFYXLQVqSzEGDns5B6s3OQVmkz0HMzNBBJXbRQecv00FrRNRBUtDVQdcJ10FBdthB6bbYQdEM2kHlSNxBZP7bQWuH3UG7Id5BHlzfQZ4u4EGhweBBUrDhQSst4kEoveJBKM3jQbTh40HqOuRBgOHkQZlP5UFdhOVBMfzlQeEn5kEGJuZBk6DlQadz5EH5h+VBUy7mQQ==",
          "dtype": "f4"
         },
         "y": {
          "bdata": "0iQvQThTMUFdWy9BPzYuQQlRL0GL3itBzZctQbMzLkEs5itBHHIsQbLALUEV2y1BFqQtQR6QLUFFHi1BhWEtQUoELEHqVCxB0gUrQRZ+KUF2iyhBTkUnQS58JUExXCRBYSghQeUwIEFXJx1BMc8aQT/KGEFPLhdBQNsVQeRaE0FDyRBBfwQQQcSODEGHCAlB7N8GQQJHAkFK0P1AXDD3QBPY8kBTEOxAsQ3mQNiq4UDFttlAI9LRQK6gzEBjZshA/kXFQL1Qv0A3FbhAUSq1QIoFsEBmXqtA42+hQKjinUDJpZdA43qSQNy+kECl9opAgE2IQEFqgUA7tnpA8/ByQNyDakDNhWNAlSNkQB1CWUB7hVNA2U5MQDqcQkAp8jlArrUxQLHiKkAw1CNAxr0aQMqIF0BXHxNA1EULQFPhCkCbdABAb27vP5S05T/r09E/Y5rHP/CVvD8atKw/dEGbP/colz9eA44/QjGCP2FgeD+QwmQ/q4tPPzFBRz8sJT4/lLs0P/rkJj9arhg/5NMEP4rS4j4p4MA+dc2XPoupkT4EYD8+AtzGPVyqfz0wpYm8bSCIvfhoAL4ZWTW+yI9Svvjjc77IHYW+Y9yPvqVUmb77H6G+EVKsvnAdmr5lWo6+Q3yVvph7kr4ETIi+zEh5vl5bb74rQU6+lshMvtf7Pr76DzW+dDklvv5TGr7luhi+jYwZvjkCGb4B+Ba+kMkJvn3EFr7w+hu+rH5KvqmuH76frja+gXtdvpNkXL5vDV6+N+SLvt2wsr5j126+6IyIvmQkjL7F0Iy+Ld2SvlYalL7GWZe+V6qbvsy8t75XX76+iEO3vuD3yr78cte+i+/Wvqfvzb4sqMu+D9vUvjId075KYdW+/ZHTvhpexr4cpsq+wCjHvniawb7RS7++gAfFvjeSwL5zHqm+TuzNvu0gwb5DRdy+FrzKvnV1sr7BV/m++NrVvtQe1b4l4tS+DFoKvzuHG78cVSq/L7xCv9yIWL88Tma/DfB7v107hb//TI2/Ai+hv3i8pL/o9Ky/HCi7v6gWyL8T+tS/ECfhv1pu8b++SvG/B7QAwOR6/b/BCP+/jdPxvw==",
          "dtype": "f4"
         },
         "z": {
          "bdata": "HPaeQI9dnkCrFKFA5PijQOT+oUDYGKRAvAOqQN67qUAHN6VACi+nQFqsp0A+ua1Afc+vQCMctEBVKrhAz3u7QETpvkCeQ8BAT0TFQOvuyUCmycxAbvPPQPPq00AGEtZAlK/cQD8+3kAWReNA0fLmQByy6UCGV+tAURHtQMmT7kDoSfFAqYHxQKfv80B4+PZAQzn3QB6p+EAVZPlA9tH4QC/i+EDrOPhA4yH2QPm19UD6TPNA7yPwQLld7UBdLOxA+/PnQDOp5kBRe+JAiJrgQJrZ3EDd89hAh+LPQNNZzEBPA8ZAhmXAQJlKvkCDobdABSK0QH3EqkA8LqVAp3yfQP18mUA+t5NAfSWTQE2di0DR+IVAr2yAQDnCb0C0H2NABwNVQGURSEAg5jxA4jgsQJP1JUCUtx1AZe0QQGFzCEC/nPE/b4/PP+gFuz+zRJI/JNF6P9BHSz+dewc/zeBxPqNqDD738kG9RChtvqxWsr6N/Ay/H+5Ev6nyUb/eNXi/ylCQv387nr/sALK/0vHBvwh31r/NXey/yxf/v9+cAsCW1A7A6SIewJ7DI8ChbzXArStBwKaaT8A/xFzA2p5kwLe2bcDqeXPAnIR6wBRrfsA49YPAROWFwCq/hcBf24fAp9GJwHa8i8CXbYzANICOwHGij8CJ/JHArEqSwDA2k8A065PApd+UwCKPlcB76pXAwxGWwOrjlcALFZfAtwqXwNq/l8A585jA34OawG8dmsBhSJvA7s+bwGd1nMAJZ53A++icwIHYm8Aqg57ABk2fwCF+n8A/JaLApW6fwMCan8AShp7AA4WewGewnMCERZzAkLqcwDNPmsAsTpjAs6iXwOviksA0KpLAff2QwP9wjcDCIovArx+IwLcXhsCqd4LA8/yAwI7wfMCfq3PAoEJzwMT4b8C/f2bA7KlowGzdYMCc1mDA6TFYwH5IU8DJAk3AxNdMwOEZR8B8XTnABr8/wByOOMA9HzXApZ4uwLAYKsDvAifAzo8hwNf7HcDaIRrABNAQwFMVEMAkrwvA3T0HwAfMBMDqevq/cajxv6Nn479iyuO/HI7Tv3+Rwr+USti/gRrkvw==",
          "dtype": "f4"
         }
        },
        {
         "line": {
          "color": "rgb(44, 160, 44)"
         },
         "mode": "lines",
         "name": "homing L",
         "type": "scatter3d",
         "x": {
          "bdata": "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",
          "dtype": "f4"
         },
         "y": {
          "bdata": "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",
          "dtype": "f4"
         },
         "z": {
          "bdata": "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",
          "dtype": "f4"
         }
        },
        {
         "line": {
          "color": "rgb(214, 39, 40)"
         },
         "mode": "lines",
         "name": "homing R",
         "type": "scatter3d",
         "x": {
          "bdata": "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",
          "dtype": "f4"
         },
         "y": {
          "bdata": "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",
          "dtype": "f4"
         },
         "z": {
          "bdata": "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",
          "dtype": "f4"
         }
        }
       ],
       "layout": {
        "legend": {
         "itemsizing": "constant"
        },
        "margin": {
         "b": 10,
         "l": 10,
         "r": 10,
         "t": 40
        },
        "scene": {
         "aspectmode": "data",
         "bgcolor": "rgba(0,0,0,0)",
         "camera": {
          "eye": {
           "x": 1.5,
           "y": 1.5,
           "z": 1.5
          }
         },
         "xaxis": {
          "showbackground": false,
          "title": {
           "text": "UMAP1"
          }
         },
         "yaxis": {
          "showbackground": false,
          "title": {
           "text": "UMAP2"
          }
         },
         "zaxis": {
          "showbackground": false,
          "title": {
           "text": "UMAP3"
          }
         }
        },
        "template": {
         "data": {
          "bar": [
           {
            "error_x": {
             "color": "#2a3f5f"
            },
            "error_y": {
             "color": "#2a3f5f"
            },
            "marker": {
             "line": {
              "color": "#E5ECF6",
              "width": 0.5
             },
             "pattern": {
              "fillmode": "overlay",
              "size": 10,
              "solidity": 0.2
             }
            },
            "type": "bar"
           }
          ],
          "barpolar": [
           {
            "marker": {
             "line": {
              "color": "#E5ECF6",
              "width": 0.5
             },
             "pattern": {
              "fillmode": "overlay",
              "size": 10,
              "solidity": 0.2
             }
            },
            "type": "barpolar"
           }
          ],
          "carpet": [
           {
            "aaxis": {
             "endlinecolor": "#2a3f5f",
             "gridcolor": "white",
             "linecolor": "white",
             "minorgridcolor": "white",
             "startlinecolor": "#2a3f5f"
            },
            "baxis": {
             "endlinecolor": "#2a3f5f",
             "gridcolor": "white",
             "linecolor": "white",
             "minorgridcolor": "white",
             "startlinecolor": "#2a3f5f"
            },
            "type": "carpet"
           }
          ],
          "choropleth": [
           {
            "colorbar": {
             "outlinewidth": 0,
             "ticks": ""
            },
            "type": "choropleth"
           }
          ],
          "contour": [
           {
            "colorbar": {
             "outlinewidth": 0,
             "ticks": ""
            },
            "colorscale": [
             [
              0,
              "#0d0887"
             ],
             [
              0.1111111111111111,
              "#46039f"
             ],
             [
              0.2222222222222222,
              "#7201a8"
             ],
             [
              0.3333333333333333,
              "#9c179e"
             ],
             [
              0.4444444444444444,
              "#bd3786"
             ],
             [
              0.5555555555555556,
              "#d8576b"
             ],
             [
              0.6666666666666666,
              "#ed7953"
             ],
             [
              0.7777777777777778,
              "#fb9f3a"
             ],
             [
              0.8888888888888888,
              "#fdca26"
             ],
             [
              1,
              "#f0f921"
             ]
            ],
            "type": "contour"
           }
          ],
          "contourcarpet": [
           {
            "colorbar": {
             "outlinewidth": 0,
             "ticks": ""
            },
            "type": "contourcarpet"
           }
          ],
          "heatmap": [
           {
            "colorbar": {
             "outlinewidth": 0,
             "ticks": ""
            },
            "colorscale": [
             [
              0,
              "#0d0887"
             ],
             [
              0.1111111111111111,
              "#46039f"
             ],
             [
              0.2222222222222222,
              "#7201a8"
             ],
             [
              0.3333333333333333,
              "#9c179e"
             ],
             [
              0.4444444444444444,
              "#bd3786"
             ],
             [
              0.5555555555555556,
              "#d8576b"
             ],
             [
              0.6666666666666666,
              "#ed7953"
             ],
             [
              0.7777777777777778,
              "#fb9f3a"
             ],
             [
              0.8888888888888888,
              "#fdca26"
             ],
             [
              1,
              "#f0f921"
             ]
            ],
            "type": "heatmap"
           }
          ],
          "histogram": [
           {
            "marker": {
             "pattern": {
              "fillmode": "overlay",
              "size": 10,
              "solidity": 0.2
             }
            },
            "type": "histogram"
           }
          ],
          "histogram2d": [
           {
            "colorbar": {
             "outlinewidth": 0,
             "ticks": ""
            },
            "colorscale": [
             [
              0,
              "#0d0887"
             ],
             [
              0.1111111111111111,
              "#46039f"
             ],
             [
              0.2222222222222222,
              "#7201a8"
             ],
             [
              0.3333333333333333,
              "#9c179e"
             ],
             [
              0.4444444444444444,
              "#bd3786"
             ],
             [
              0.5555555555555556,
              "#d8576b"
             ],
             [
              0.6666666666666666,
              "#ed7953"
             ],
             [
              0.7777777777777778,
              "#fb9f3a"
             ],
             [
              0.8888888888888888,
              "#fdca26"
             ],
             [
              1,
              "#f0f921"
             ]
            ],
            "type": "histogram2d"
           }
          ],
          "histogram2dcontour": [
           {
            "colorbar": {
             "outlinewidth": 0,
             "ticks": ""
            },
            "colorscale": [
             [
              0,
              "#0d0887"
             ],
             [
              0.1111111111111111,
              "#46039f"
             ],
             [
              0.2222222222222222,
              "#7201a8"
             ],
             [
              0.3333333333333333,
              "#9c179e"
             ],
             [
              0.4444444444444444,
              "#bd3786"
             ],
             [
              0.5555555555555556,
              "#d8576b"
             ],
             [
              0.6666666666666666,
              "#ed7953"
             ],
             [
              0.7777777777777778,
              "#fb9f3a"
             ],
             [
              0.8888888888888888,
              "#fdca26"
             ],
             [
              1,
              "#f0f921"
             ]
            ],
            "type": "histogram2dcontour"
           }
          ],
          "mesh3d": [
           {
            "colorbar": {
             "outlinewidth": 0,
             "ticks": ""
            },
            "type": "mesh3d"
           }
          ],
          "parcoords": [
           {
            "line": {
             "colorbar": {
              "outlinewidth": 0,
              "ticks": ""
             }
            },
            "type": "parcoords"
           }
          ],
          "pie": [
           {
            "automargin": true,
            "type": "pie"
           }
          ],
          "scatter": [
           {
            "fillpattern": {
             "fillmode": "overlay",
             "size": 10,
             "solidity": 0.2
            },
            "type": "scatter"
           }
          ],
          "scatter3d": [
           {
            "line": {
             "colorbar": {
              "outlinewidth": 0,
              "ticks": ""
             }
            },
            "marker": {
             "colorbar": {
              "outlinewidth": 0,
              "ticks": ""
             }
            },
            "type": "scatter3d"
           }
          ],
          "scattercarpet": [
           {
            "marker": {
             "colorbar": {
              "outlinewidth": 0,
              "ticks": ""
             }
            },
            "type": "scattercarpet"
           }
          ],
          "scattergeo": [
           {
            "marker": {
             "colorbar": {
              "outlinewidth": 0,
              "ticks": ""
             }
            },
            "type": "scattergeo"
           }
          ],
          "scattergl": [
           {
            "marker": {
             "colorbar": {
              "outlinewidth": 0,
              "ticks": ""
             }
            },
            "type": "scattergl"
           }
          ],
          "scattermap": [
           {
            "marker": {
             "colorbar": {
              "outlinewidth": 0,
              "ticks": ""
             }
            },
            "type": "scattermap"
           }
          ],
          "scattermapbox": [
           {
            "marker": {
             "colorbar": {
              "outlinewidth": 0,
              "ticks": ""
             }
            },
            "type": "scattermapbox"
           }
          ],
          "scatterpolar": [
           {
            "marker": {
             "colorbar": {
              "outlinewidth": 0,
              "ticks": ""
             }
            },
            "type": "scatterpolar"
           }
          ],
          "scatterpolargl": [
           {
            "marker": {
             "colorbar": {
              "outlinewidth": 0,
              "ticks": ""
             }
            },
            "type": "scatterpolargl"
           }
          ],
          "scatterternary": [
           {
            "marker": {
             "colorbar": {
              "outlinewidth": 0,
              "ticks": ""
             }
            },
            "type": "scatterternary"
           }
          ],
          "surface": [
           {
            "colorbar": {
             "outlinewidth": 0,
             "ticks": ""
            },
            "colorscale": [
             [
              0,
              "#0d0887"
             ],
             [
              0.1111111111111111,
              "#46039f"
             ],
             [
              0.2222222222222222,
              "#7201a8"
             ],
             [
              0.3333333333333333,
              "#9c179e"
             ],
             [
              0.4444444444444444,
              "#bd3786"
             ],
             [
              0.5555555555555556,
              "#d8576b"
             ],
             [
              0.6666666666666666,
              "#ed7953"
             ],
             [
              0.7777777777777778,
              "#fb9f3a"
             ],
             [
              0.8888888888888888,
              "#fdca26"
             ],
             [
              1,
              "#f0f921"
             ]
            ],
            "type": "surface"
           }
          ],
          "table": [
           {
            "cells": {
             "fill": {
              "color": "#EBF0F8"
             },
             "line": {
              "color": "white"
             }
            },
            "header": {
             "fill": {
              "color": "#C8D4E3"
             },
             "line": {
              "color": "white"
             }
            },
            "type": "table"
           }
          ]
         },
         "layout": {
          "annotationdefaults": {
           "arrowcolor": "#2a3f5f",
           "arrowhead": 0,
           "arrowwidth": 1
          },
          "autotypenumbers": "strict",
          "coloraxis": {
           "colorbar": {
            "outlinewidth": 0,
            "ticks": ""
           }
          },
          "colorscale": {
           "diverging": [
            [
             0,
             "#8e0152"
            ],
            [
             0.1,
             "#c51b7d"
            ],
            [
             0.2,
             "#de77ae"
            ],
            [
             0.3,
             "#f1b6da"
            ],
            [
             0.4,
             "#fde0ef"
            ],
            [
             0.5,
             "#f7f7f7"
            ],
            [
             0.6,
             "#e6f5d0"
            ],
            [
             0.7,
             "#b8e186"
            ],
            [
             0.8,
             "#7fbc41"
            ],
            [
             0.9,
             "#4d9221"
            ],
            [
             1,
             "#276419"
            ]
           ],
           "sequential": [
            [
             0,
             "#0d0887"
            ],
            [
             0.1111111111111111,
             "#46039f"
            ],
            [
             0.2222222222222222,
             "#7201a8"
            ],
            [
             0.3333333333333333,
             "#9c179e"
            ],
            [
             0.4444444444444444,
             "#bd3786"
            ],
            [
             0.5555555555555556,
             "#d8576b"
            ],
            [
             0.6666666666666666,
             "#ed7953"
            ],
            [
             0.7777777777777778,
             "#fb9f3a"
            ],
            [
             0.8888888888888888,
             "#fdca26"
            ],
            [
             1,
             "#f0f921"
            ]
           ],
           "sequentialminus": [
            [
             0,
             "#0d0887"
            ],
            [
             0.1111111111111111,
             "#46039f"
            ],
            [
             0.2222222222222222,
             "#7201a8"
            ],
            [
             0.3333333333333333,
             "#9c179e"
            ],
            [
             0.4444444444444444,
             "#bd3786"
            ],
            [
             0.5555555555555556,
             "#d8576b"
            ],
            [
             0.6666666666666666,
             "#ed7953"
            ],
            [
             0.7777777777777778,
             "#fb9f3a"
            ],
            [
             0.8888888888888888,
             "#fdca26"
            ],
            [
             1,
             "#f0f921"
            ]
           ]
          },
          "colorway": [
           "#636efa",
           "#EF553B",
           "#00cc96",
           "#ab63fa",
           "#FFA15A",
           "#19d3f3",
           "#FF6692",
           "#B6E880",
           "#FF97FF",
           "#FECB52"
          ],
          "font": {
           "color": "#2a3f5f"
          },
          "geo": {
           "bgcolor": "white",
           "lakecolor": "white",
           "landcolor": "#E5ECF6",
           "showlakes": true,
           "showland": true,
           "subunitcolor": "white"
          },
          "hoverlabel": {
           "align": "left"
          },
          "hovermode": "closest",
          "mapbox": {
           "style": "light"
          },
          "paper_bgcolor": "white",
          "plot_bgcolor": "#E5ECF6",
          "polar": {
           "angularaxis": {
            "gridcolor": "white",
            "linecolor": "white",
            "ticks": ""
           },
           "bgcolor": "#E5ECF6",
           "radialaxis": {
            "gridcolor": "white",
            "linecolor": "white",
            "ticks": ""
           }
          },
          "scene": {
           "xaxis": {
            "backgroundcolor": "#E5ECF6",
            "gridcolor": "white",
            "gridwidth": 2,
            "linecolor": "white",
            "showbackground": true,
            "ticks": "",
            "zerolinecolor": "white"
           },
           "yaxis": {
            "backgroundcolor": "#E5ECF6",
            "gridcolor": "white",
            "gridwidth": 2,
            "linecolor": "white",
            "showbackground": true,
            "ticks": "",
            "zerolinecolor": "white"
           },
           "zaxis": {
            "backgroundcolor": "#E5ECF6",
            "gridcolor": "white",
            "gridwidth": 2,
            "linecolor": "white",
            "showbackground": true,
            "ticks": "",
            "zerolinecolor": "white"
           }
          },
          "shapedefaults": {
           "line": {
            "color": "#2a3f5f"
           }
          },
          "ternary": {
           "aaxis": {
            "gridcolor": "white",
            "linecolor": "white",
            "ticks": ""
           },
           "baxis": {
            "gridcolor": "white",
            "linecolor": "white",
            "ticks": ""
           },
           "bgcolor": "#E5ECF6",
           "caxis": {
            "gridcolor": "white",
            "linecolor": "white",
            "ticks": ""
           }
          },
          "title": {
           "x": 0.05
          },
          "xaxis": {
           "automargin": true,
           "gridcolor": "white",
           "linecolor": "white",
           "ticks": "",
           "title": {
            "standoff": 15
           },
           "zerolinecolor": "white",
           "zerolinewidth": 2
          },
          "yaxis": {
           "automargin": true,
           "gridcolor": "white",
           "linecolor": "white",
           "ticks": "",
           "title": {
            "standoff": 15
           },
           "zerolinecolor": "white",
           "zerolinewidth": 2
          }
         }
        },
        "title": {
         "text": "session: ken_20230703_spikes_sorted_SES<br>area: dlpfc"
        }
       }
      }
     },
     "metadata": {},
     "output_type": "display_data"
    }
   ],
   "source": [
    "for session in SESSIONS:\n",
    "    poses_dir = DATA_DIR / session / \"poses\"\n",
    "    poses = ml.data.load_from_memmap(poses_dir)\n",
    "\n",
    "    intervals_dir = DATA_DIR / session / \"intervals\"\n",
    "    intervals = ml.data.load_intervals_as_pandas(intervals_dir)\n",
    "    intervals_cond = intervals.groupby([\"type\", \"side\"]).agg(list)\n",
    "\n",
    "    condition_labels = [f\"{t} {s}\" for t, s in intervals_cond.index]\n",
    "    conditions = {}\n",
    "    for cond, row in intervals_cond.iterrows():\n",
    "        cond_label = f\"{cond[0]} {cond[1]}\"\n",
    "        starts = np.array(row[\"first_frame_idx\"]) // 50\n",
    "        ends = starts + np.array(row[\"num_frames\"]) // 50\n",
    "        cond_intervals = [[start, end] for start, end in zip(starts, ends)]\n",
    "        conditions[cond_label] = cond_intervals\n",
    "\n",
    "    ml.plot.umap3d(\n",
    "        poses,\n",
    "        conditions,\n",
    "        plot_title=f\"session: {session}<br>area: {area}\",\n",
    "        plot_filename=PLOTS_DIR / f\"umap_poses_{session[:12]}_{area}.html\",\n",
    "        show=True,\n",
    "    )"
   ]
  }
 ],
 "metadata": {
  "kernelspec": {
   "display_name": ".mlab (3.13.5)",
   "language": "python",
   "name": "python3"
  },
  "language_info": {
   "codemirror_mode": {
    "name": "ipython",
    "version": 3
   },
   "file_extension": ".py",
   "mimetype": "text/x-python",
   "name": "python",
   "nbconvert_exporter": "python",
   "pygments_lexer": "ipython3",
   "version": "3.13.5"
  }
 },
 "nbformat": 4,
 "nbformat_minor": 2
}
