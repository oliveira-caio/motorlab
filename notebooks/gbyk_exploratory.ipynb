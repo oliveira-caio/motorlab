{
 "cells": [
  {
   "cell_type": "markdown",
   "metadata": {},
   "source": [
    "### exploratory analysis of the gbyk experiment\n",
    "\n",
    "click [here](https://www.notion.so/oliveiracaio/in-progress-exploratory-analysis-of-the-gbyk-experiment-17ca2d01e2ff80b28fa1e28899d36bd3?pvs=25) to access the corresponding notion page."
   ]
  },
  {
   "cell_type": "code",
   "execution_count": null,
   "metadata": {},
   "outputs": [],
   "source": [
    "%load_ext autoreload\n",
    "%autoreload 2"
   ]
  },
  {
   "cell_type": "code",
   "execution_count": null,
   "metadata": {},
   "outputs": [],
   "source": [
    "import os\n",
    "\n",
    "from pathlib import Path\n",
    "\n",
    "import matplotlib.pyplot as plt\n",
    "import numpy as np\n",
    "import pandas as pd\n",
    "import seaborn as sns\n",
    "import yaml\n",
    "\n",
    "import motorlab as ml"
   ]
  },
  {
   "cell_type": "code",
   "execution_count": null,
   "metadata": {},
   "outputs": [],
   "source": [
    "os.chdir(Path().resolve().parent)"
   ]
  },
  {
   "cell_type": "code",
   "execution_count": null,
   "metadata": {},
   "outputs": [],
   "source": [
    "sns.set_context(\"poster\", font_scale=2.0)\n",
    "sns.set_style(\"white\")\n",
    "sns.set_theme(style=\"ticks\")\n",
    "\n",
    "PLOTS_DIR = Path(\"plots/gbyk_stats/\")\n",
    "PALETTE = sns.color_palette(\n",
    "    [\n",
    "        sns.xkcd_rgb[\"electric pink\"],\n",
    "        sns.xkcd_rgb[\"neon blue\"],\n",
    "        sns.xkcd_rgb[\"bright red\"],\n",
    "        sns.xkcd_rgb[\"blue\"],\n",
    "        sns.xkcd_rgb[\"black\"],\n",
    "        sns.xkcd_rgb[\"mango\"],\n",
    "    ]\n",
    ")\n",
    "SESSIONS = ml.config.gbyk_sessions\n",
    "DATA_DIR = Path(\"data/gbyk\")"
   ]
  },
  {
   "cell_type": "code",
   "execution_count": null,
   "metadata": {},
   "outputs": [],
   "source": [
    "trial_info = dict()\n",
    "\n",
    "for session in SESSIONS:\n",
    "    trial_info[session] = []\n",
    "    trials_dir = DATA_DIR / session / \"intervals\"\n",
    "    for trial in sorted(trials_dir.iterdir()):\n",
    "        with trial.open(\"r\") as f:\n",
    "            meta = yaml.safe_load(f)\n",
    "            meta[\"num_frames\"] = meta[\"num_frames\"] // 50\n",
    "            meta[\"first_frame_idx\"] = meta[\"first_frame_idx\"] // 50\n",
    "            trial_info[session].append(meta)"
   ]
  },
  {
   "cell_type": "code",
   "execution_count": null,
   "metadata": {},
   "outputs": [],
   "source": [
    "df = pd.DataFrame(\n",
    "    [\n",
    "        {**trial, \"session\": session}\n",
    "        for session, trials in trial_info.items()\n",
    "        for trial in trials\n",
    "    ]\n",
    ")\n",
    "df"
   ]
  },
  {
   "cell_type": "code",
   "execution_count": null,
   "metadata": {},
   "outputs": [],
   "source": [
    "summary = (\n",
    "    df.groupby([\"session\", \"type\", \"side\"])\n",
    "    .agg(\n",
    "        count=(\"side\", \"size\"),\n",
    "        mistake=(\n",
    "            \"reward\",\n",
    "            lambda x: (\n",
    "                df.loc[x.index, \"side\"] != df.loc[x.index, \"reward\"]\n",
    "            ).sum(),\n",
    "        ),\n",
    "    )\n",
    "    .unstack([\"type\", \"side\"], fill_value=0)\n",
    "    .reset_index()\n",
    ")\n",
    "\n",
    "summary.columns = [\"session\"] + [\n",
    "    f\"{t} {c} {stat}\" for stat, t, c in summary.columns[1:]\n",
    "]\n",
    "summary.to_csv(\"gbyk_stats.csv\", index=False)\n",
    "summary"
   ]
  },
  {
   "cell_type": "markdown",
   "metadata": {},
   "source": [
    "### histograms of trial duration"
   ]
  },
  {
   "cell_type": "code",
   "execution_count": null,
   "metadata": {},
   "outputs": [],
   "source": [
    "ncols = 2\n",
    "nrows = len(SESSIONS) // ncols + (len(SESSIONS) % ncols > 0)\n",
    "fig, axs = plt.subplots(\n",
    "    nrows,\n",
    "    ncols,\n",
    "    figsize=(4 * ncols, 4 * nrows),\n",
    "    sharex=True,\n",
    "    sharey=True,\n",
    ")\n",
    "\n",
    "df[\"duration\"] = df[\"num_frames\"] * 50 / 1000  # Convert to seconds\n",
    "hue_order = [\"L\", \"R\"]\n",
    "side_palette = {\"L\": PALETTE[0], \"R\": PALETTE[1]}\n",
    "\n",
    "for i, session in enumerate(SESSIONS):\n",
    "    axs[i // ncols, i % ncols].set_title(session, pad=7)\n",
    "\n",
    "    g = sns.histplot(\n",
    "        df[(df[\"session\"] == session) & (df[\"type\"] != \"homing\")],\n",
    "        x=\"duration\",\n",
    "        hue=\"side\",\n",
    "        ax=axs[i // ncols, i % ncols],\n",
    "        palette=side_palette,\n",
    "        legend=True,\n",
    "    )\n",
    "\n",
    "    legend = axs[i // ncols, i % ncols].get_legend()\n",
    "    handles = legend.get_patches()\n",
    "    labels = [t.get_text() for t in legend.get_texts()]\n",
    "    sorted_pairs = sorted(zip(handles, labels), key=lambda x: x[1])\n",
    "    sorted_handles, sorted_labels = zip(*sorted_pairs)\n",
    "    axs[i // ncols, i % ncols].legend(sorted_handles, sorted_labels)\n",
    "\n",
    "for ax in axs.flat:\n",
    "    ax.set_xlabel(\"duration [s]\")\n",
    "\n",
    "plt.savefig(\n",
    "    PLOTS_DIR / \"histogram_trials_side.svg\",\n",
    "    bbox_inches=\"tight\",\n",
    ")\n",
    "plt.show()"
   ]
  },
  {
   "cell_type": "code",
   "execution_count": null,
   "metadata": {},
   "outputs": [],
   "source": [
    "ncols = 2\n",
    "nrows = len(SESSIONS) // ncols + (len(SESSIONS) % ncols > 0)\n",
    "fig, axs = plt.subplots(\n",
    "    nrows,\n",
    "    ncols,\n",
    "    figsize=(4 * ncols, 3 * nrows),\n",
    "    sharex=True,\n",
    "    sharey=True,\n",
    ")\n",
    "\n",
    "hue_order = [\"precue\", \"gbyk\"]\n",
    "type_palette = {\"precue\": PALETTE[0], \"gbyk\": PALETTE[1]}\n",
    "\n",
    "for i, session in enumerate(SESSIONS):\n",
    "    axs[i // ncols, i % ncols].set_title(session, pad=7)\n",
    "\n",
    "    g = sns.histplot(\n",
    "        df[(df[\"session\"] == session) & (df[\"type\"] != \"homing\")],\n",
    "        x=\"duration\",\n",
    "        hue=\"type\",\n",
    "        ax=axs[i // ncols, i % ncols],\n",
    "        palette=type_palette,\n",
    "        legend=True,\n",
    "    )\n",
    "\n",
    "    legend = axs[i // ncols, i % ncols].get_legend()\n",
    "    handles = legend.get_patches()\n",
    "    labels = [t.get_text() for t in legend.get_texts()]\n",
    "    sorted_pairs = sorted(zip(handles, labels), key=lambda x: x[1])\n",
    "    sorted_handles, sorted_labels = zip(*sorted_pairs)\n",
    "    axs[i // ncols, i % ncols].legend(sorted_handles, sorted_labels)\n",
    "\n",
    "for ax in axs.flat:\n",
    "    ax.set_xlabel(\"duration [s]\")\n",
    "\n",
    "plt.savefig(\n",
    "    PLOTS_DIR / \"histogram_trials_type.svg\",\n",
    "    bbox_inches=\"tight\",\n",
    ")\n",
    "plt.show()"
   ]
  },
  {
   "cell_type": "code",
   "execution_count": null,
   "metadata": {},
   "outputs": [],
   "source": [
    "ncols = 2\n",
    "nrows = len(SESSIONS) // ncols + (len(SESSIONS) % ncols > 0)\n",
    "fig, axs = plt.subplots(\n",
    "    nrows,\n",
    "    ncols,\n",
    "    figsize=(4 * ncols, 3 * nrows),\n",
    "    sharex=True,\n",
    "    sharey=True,\n",
    ")\n",
    "\n",
    "df[\"type_side\"] = df[\"type\"] + \" \" + df[\"side\"]\n",
    "hue_order = [\"precue L\", \"precue R\", \"gbyk L\", \"gbyk R\"]\n",
    "combined_palette = {\n",
    "    \"precue L\": PALETTE[2],\n",
    "    \"precue R\": PALETTE[3],\n",
    "    \"gbyk L\": PALETTE[4],\n",
    "    \"gbyk R\": PALETTE[5],\n",
    "}\n",
    "\n",
    "for i, session in enumerate(SESSIONS):\n",
    "    axs[i // ncols, i % ncols].set_title(session, pad=7)\n",
    "\n",
    "    g = sns.histplot(\n",
    "        df[(df[\"session\"] == session) & (df[\"type\"] != \"homing\")],\n",
    "        x=\"duration\",\n",
    "        hue=\"type_side\",\n",
    "        ax=axs[i // ncols, i % ncols],\n",
    "        palette=combined_palette,\n",
    "        legend=True,\n",
    "    )\n",
    "\n",
    "    legend = axs[i // ncols, i % ncols].get_legend()\n",
    "    handles = legend.get_patches()\n",
    "    labels = [t.get_text() for t in legend.get_texts()]\n",
    "    sorted_pairs = sorted(zip(handles, labels), key=lambda x: x[1])\n",
    "    sorted_handles, sorted_labels = zip(*sorted_pairs)\n",
    "    axs[i // ncols, i % ncols].legend(sorted_handles, sorted_labels)\n",
    "\n",
    "for ax in axs.flat:\n",
    "    ax.set_xlabel(\"duration [s]\")\n",
    "\n",
    "plt.savefig(\n",
    "    PLOTS_DIR / \"histogram_trials_condition.svg\",\n",
    "    bbox_inches=\"tight\",\n",
    ")\n",
    "plt.show()"
   ]
  },
  {
   "cell_type": "markdown",
   "metadata": {},
   "source": [
    "### traces of the center of mass during trials"
   ]
  },
  {
   "cell_type": "code",
   "execution_count": null,
   "metadata": {},
   "outputs": [],
   "source": [
    "ncols = 2\n",
    "nrows = len(SESSIONS) // ncols + (len(SESSIONS) % ncols > 0)\n",
    "fig, axs = plt.subplots(\n",
    "    nrows,\n",
    "    ncols,\n",
    "    figsize=(4 * ncols, 3 * nrows),\n",
    "    sharex=True,\n",
    "    sharey=True,\n",
    ")\n",
    "\n",
    "tile_size = ml.room.y_size / ml.room.y_divisions\n",
    "ylines = [(i + 1) * tile_size for i in range(ml.room.y_divisions)]\n",
    "for i, session in enumerate(SESSIONS):\n",
    "    axs[i // ncols, i % ncols].set_title(session, pad=7)\n",
    "    for y in ylines:\n",
    "        axs[i // ncols, i % ncols].axhline(\n",
    "            y=y, color=\"black\", linestyle=\"-\", alpha=0.2\n",
    "        )\n",
    "    com = np.load(\n",
    "        DATA_DIR / session / \"poses\" / \"meta\" / \"com.npy\", allow_pickle=True\n",
    "    )\n",
    "    duration = len(com) - (len(com) % 50)\n",
    "    com = com[:duration].reshape(-1, 5, 3).mean(axis=1)\n",
    "    query = (df[\"session\"] == session) & (df[\"type\"] != \"homing\")\n",
    "    type = df[query][\"type\"].values.astype(str)\n",
    "    reward = df[query][\"reward\"].values.astype(str)\n",
    "    start = df[query][\"first_frame_idx\"].values.astype(int)\n",
    "    end = start + df[query][\"num_frames\"].values.astype(int)\n",
    "\n",
    "    for j in range(len(type)):\n",
    "        if type[j] == \"precue\":\n",
    "            color = \"red\" if reward[j] == \"L\" else \"blue\"\n",
    "        else:\n",
    "            color = \"black\" if reward[j] == \"L\" else \"orange\"\n",
    "\n",
    "        axs[i // ncols, i % ncols].plot(\n",
    "            com[start[j] : end[j], 0],\n",
    "            com[start[j] : end[j], 1],\n",
    "            color=color,\n",
    "            label=type[j] + \" \" + reward[j],\n",
    "        )\n",
    "\n",
    "handles = [\n",
    "    plt.Line2D([], [], color=\"red\", label=\"precue L\"),\n",
    "    plt.Line2D([], [], color=\"blue\", label=\"precue R\"),\n",
    "    plt.Line2D([], [], color=\"black\", label=\"gbyk L\"),\n",
    "    plt.Line2D([], [], color=\"orange\", label=\"gbyk R\"),\n",
    "]\n",
    "fig.legend(\n",
    "    handles=handles,\n",
    "    frameon=False,\n",
    "    loc=\"center\",\n",
    "    bbox_to_anchor=(0.5, 0.905),\n",
    "    ncol=4,\n",
    ")\n",
    "plt.xticks([])\n",
    "yticks_positions = [\n",
    "    i * tile_size + tile_size / 2 for i in range(ml.room.y_divisions)\n",
    "]\n",
    "yticks_labels = [\"Tile 1\", \"Tile 2\", \"Tile 3\", \"Tile 4\", \"Tile 5\"]\n",
    "axs[0, 0].set_yticks(yticks_positions)\n",
    "axs[0, 0].set_yticklabels(yticks_labels)\n",
    "axs[0, 0].set_ylim(0, ml.room.y_size)\n",
    "axs[0, 0].set_xlim(0, ml.room.x_size)\n",
    "\n",
    "plt.savefig(PLOTS_DIR / \"traces_com_trials_condition.svg\", bbox_inches=\"tight\")\n",
    "plt.show()"
   ]
  },
  {
   "cell_type": "markdown",
   "metadata": {},
   "source": [
    "### histograms of homing duration"
   ]
  },
  {
   "cell_type": "code",
   "execution_count": null,
   "metadata": {},
   "outputs": [],
   "source": [
    "ncols = 2\n",
    "nrows = len(SESSIONS) // ncols + (len(SESSIONS) % ncols > 0)\n",
    "fig, axs = plt.subplots(\n",
    "    nrows,\n",
    "    ncols,\n",
    "    figsize=(6 * ncols, 6 * nrows),\n",
    "    sharey=True,\n",
    ")\n",
    "\n",
    "inter_trials_dict = {\n",
    "    \"session\": [],\n",
    "    \"duration\": [],\n",
    "}\n",
    "no_homing_df = df[df[\"type\"] != \"homing\"]\n",
    "\n",
    "for i in range(len(no_homing_df) - 1):\n",
    "    row_i = no_homing_df.iloc[i]\n",
    "    row_i_plus_1 = no_homing_df.iloc[i + 1]\n",
    "\n",
    "    if row_i[\"session\"] != row_i_plus_1[\"session\"]:\n",
    "        continue\n",
    "\n",
    "    end_i = row_i[\"first_frame_idx\"] + row_i[\"num_frames\"]\n",
    "    start_i_plus_1 = row_i_plus_1[\"first_frame_idx\"]\n",
    "    inter_trials_dict[\"session\"].append(row_i[\"session\"])\n",
    "    inter_trials_dict[\"duration\"].append((start_i_plus_1 - end_i) * 50 / 1000)\n",
    "\n",
    "inter_trials_df = pd.DataFrame(inter_trials_dict)\n",
    "\n",
    "for i, session in enumerate(SESSIONS):\n",
    "    axs[i // ncols, i % ncols].set_title(session, pad=7)\n",
    "\n",
    "    g = sns.histplot(\n",
    "        data=inter_trials_df[inter_trials_df[\"session\"] == session],\n",
    "        x=\"duration\",\n",
    "        ax=axs[i // ncols, i % ncols],\n",
    "    )\n",
    "\n",
    "    axs[i // ncols, i % ncols].axvline(\n",
    "        x=60,\n",
    "        color=\"black\",\n",
    "        linestyle=\"--\",\n",
    "        alpha=0.7,\n",
    "        label=\"60s\",\n",
    "    )\n",
    "    axs[i // ncols, i % ncols].legend()\n",
    "\n",
    "for ax in axs.flat:\n",
    "    ax.set_xlabel(\"duration [s]\")\n",
    "\n",
    "plt.savefig(\n",
    "    PLOTS_DIR / \"histogram_inter_trials.svg\",\n",
    "    bbox_inches=\"tight\",\n",
    ")\n",
    "plt.show()"
   ]
  },
  {
   "cell_type": "code",
   "execution_count": null,
   "metadata": {},
   "outputs": [],
   "source": [
    "ncols = 2\n",
    "nrows = len(SESSIONS) // ncols + (len(SESSIONS) % ncols > 0)\n",
    "fig, axs = plt.subplots(\n",
    "    nrows,\n",
    "    ncols,\n",
    "    figsize=(4 * ncols, 4 * nrows),\n",
    "    sharex=True,\n",
    "    sharey=True,\n",
    ")\n",
    "\n",
    "hue_order = [\"L\", \"R\"]\n",
    "side_palette = {\"L\": PALETTE[0], \"R\": PALETTE[1]}\n",
    "\n",
    "for i, session in enumerate(SESSIONS):\n",
    "    axs[i // ncols, i % ncols].set_title(session, pad=7)\n",
    "\n",
    "    g = sns.histplot(\n",
    "        df[(df[\"session\"] == session) & (df[\"type\"] == \"homing\")],\n",
    "        x=\"duration\",\n",
    "        hue=\"side\",\n",
    "        ax=axs[i // ncols, i % ncols],\n",
    "        palette=side_palette,\n",
    "        legend=True,\n",
    "    )\n",
    "\n",
    "    legend = axs[i // ncols, i % ncols].get_legend()\n",
    "    handles = legend.get_patches()\n",
    "    labels = [t.get_text() for t in legend.get_texts()]\n",
    "    sorted_pairs = sorted(zip(handles, labels), key=lambda x: x[1])\n",
    "    sorted_handles, sorted_labels = zip(*sorted_pairs)\n",
    "    axs[i // ncols, i % ncols].legend(sorted_handles, sorted_labels)\n",
    "\n",
    "for ax in axs.flat:\n",
    "    ax.set_xlabel(\"duration [s]\")\n",
    "\n",
    "plt.savefig(\n",
    "    PLOTS_DIR / \"histogram_homing_side.svg\",\n",
    "    bbox_inches=\"tight\",\n",
    ")\n",
    "plt.show()"
   ]
  },
  {
   "cell_type": "markdown",
   "metadata": {},
   "source": [
    "### firing rates"
   ]
  },
  {
   "cell_type": "code",
   "execution_count": null,
   "metadata": {},
   "outputs": [],
   "source": [
    "spikes_dict = {\n",
    "    \"session\": [],\n",
    "    \"m1_l\": [],\n",
    "    \"m1_m\": [],\n",
    "    \"pmd_l\": [],\n",
    "    \"pmd_m\": [],\n",
    "    \"dlpfc\": [],\n",
    "}\n",
    "areas = dict()\n",
    "\n",
    "for session in SESSIONS:\n",
    "    spikes_dir = DATA_DIR / session / \"spikes\"\n",
    "    areas[session] = np.char.lower(\n",
    "        np.load(spikes_dir / \"meta\" / \"areas.npy\", allow_pickle=True)\n",
    "    )\n",
    "    spikes_dict[\"session\"].append(session)\n",
    "    spikes_dict[\"m1_l\"].append(np.sum(areas[session] == \"m1_l\"))\n",
    "    spikes_dict[\"m1_m\"].append(np.sum(areas[session] == \"m1_m\"))\n",
    "    spikes_dict[\"pmd_l\"].append(np.sum(areas[session] == \"pmd_l\"))\n",
    "    spikes_dict[\"pmd_m\"].append(np.sum(areas[session] == \"pmd_m\"))\n",
    "    spikes_dict[\"dlpfc\"].append(np.sum(areas[session] == \"dlpfc\"))"
   ]
  },
  {
   "cell_type": "code",
   "execution_count": null,
   "metadata": {},
   "outputs": [],
   "source": [
    "spikes_df = pd.DataFrame(spikes_dict)\n",
    "spikes_df"
   ]
  },
  {
   "cell_type": "code",
   "execution_count": 83,
   "metadata": {},
   "outputs": [],
   "source": [
    "firing_rates_dict = {\n",
    "    \"session\": [],\n",
    "    \"area\": [],\n",
    "    \"firing_rate\": [],\n",
    "}\n",
    "\n",
    "for i, session in enumerate(SESSIONS):\n",
    "    spikes_dir = DATA_DIR / session / \"spike_count\"\n",
    "    spikes = ml.data.load_from_memmap(spikes_dir)\n",
    "    firing_rates = 20 * spikes.sum(axis=0) / spikes.shape[0]\n",
    "    m1_l_fr = firing_rates[areas[session] == \"m1_l\"]\n",
    "    m1_m_fr = firing_rates[areas[session] == \"m1_m\"]\n",
    "    pmd_l_fr = firing_rates[areas[session] == \"pmd_l\"]\n",
    "    pmd_m_fr = firing_rates[areas[session] == \"pmd_m\"]\n",
    "    dlpfc_fr = firing_rates[areas[session] == \"dlpfc\"]\n",
    "    firing_rates_dict[\"session\"].extend([session] * spikes.shape[1])\n",
    "    firing_rates_dict[\"area\"].extend(\n",
    "        [\"m1_l\"] * len(m1_l_fr)\n",
    "        + [\"m1_m\"] * len(m1_m_fr)\n",
    "        + [\"pmd_l\"] * len(pmd_l_fr)\n",
    "        + [\"pmd_m\"] * len(pmd_m_fr)\n",
    "        + [\"dlpfc\"] * len(dlpfc_fr)\n",
    "    )\n",
    "    firing_rates_dict[\"firing_rate\"].extend(\n",
    "        list(m1_l_fr)\n",
    "        + list(m1_m_fr)\n",
    "        + list(pmd_l_fr)\n",
    "        + list(pmd_m_fr)\n",
    "        + list(dlpfc_fr)\n",
    "    )\n",
    "\n",
    "firing_rates_df = pd.DataFrame(firing_rates_dict)"
   ]
  },
  {
   "cell_type": "code",
   "execution_count": 84,
   "metadata": {},
   "outputs": [
    {
     "data": {
      "application/vnd.microsoft.datawrangler.viewer.v0+json": {
       "columns": [
        {
         "name": "index",
         "rawType": "int64",
         "type": "integer"
        },
        {
         "name": "session",
         "rawType": "object",
         "type": "string"
        },
        {
         "name": "area",
         "rawType": "object",
         "type": "string"
        },
        {
         "name": "firing_rate",
         "rawType": "float32",
         "type": "float"
        }
       ],
       "ref": "003ddb82-f5a8-409d-8083-b7c7a24e4809",
       "rows": [
        [
         "0",
         "bex_20230621_spikes_sorted_SES",
         "m1_l",
         "22.195894"
        ],
        [
         "1",
         "bex_20230621_spikes_sorted_SES",
         "m1_l",
         "14.675999"
        ],
        [
         "2",
         "bex_20230621_spikes_sorted_SES",
         "m1_l",
         "14.349693"
        ],
        [
         "3",
         "bex_20230621_spikes_sorted_SES",
         "m1_l",
         "16.930395"
        ],
        [
         "4",
         "bex_20230621_spikes_sorted_SES",
         "m1_l",
         "24.36057"
        ],
        [
         "5",
         "bex_20230621_spikes_sorted_SES",
         "m1_l",
         "9.129545"
        ],
        [
         "6",
         "bex_20230621_spikes_sorted_SES",
         "m1_l",
         "10.718548"
        ],
        [
         "7",
         "bex_20230621_spikes_sorted_SES",
         "m1_l",
         "18.996504"
        ],
        [
         "8",
         "bex_20230621_spikes_sorted_SES",
         "m1_l",
         "17.540112"
        ],
        [
         "9",
         "bex_20230621_spikes_sorted_SES",
         "m1_l",
         "13.68258"
        ],
        [
         "10",
         "bex_20230621_spikes_sorted_SES",
         "m1_l",
         "12.948608"
        ],
        [
         "11",
         "bex_20230621_spikes_sorted_SES",
         "m1_l",
         "11.968955"
        ],
        [
         "12",
         "bex_20230621_spikes_sorted_SES",
         "m1_l",
         "51.19037"
        ],
        [
         "13",
         "bex_20230621_spikes_sorted_SES",
         "m1_l",
         "8.153702"
        ],
        [
         "14",
         "bex_20230621_spikes_sorted_SES",
         "m1_l",
         "9.087635"
        ],
        [
         "15",
         "bex_20230621_spikes_sorted_SES",
         "m1_l",
         "6.964991"
        ],
        [
         "16",
         "bex_20230621_spikes_sorted_SES",
         "m1_l",
         "13.775372"
        ],
        [
         "17",
         "bex_20230621_spikes_sorted_SES",
         "m1_l",
         "16.657183"
        ],
        [
         "18",
         "bex_20230621_spikes_sorted_SES",
         "m1_l",
         "8.453952"
        ],
        [
         "19",
         "bex_20230621_spikes_sorted_SES",
         "m1_l",
         "18.7727"
        ],
        [
         "20",
         "bex_20230621_spikes_sorted_SES",
         "m1_l",
         "35.339546"
        ],
        [
         "21",
         "bex_20230621_spikes_sorted_SES",
         "m1_l",
         "6.090911"
        ],
        [
         "22",
         "bex_20230621_spikes_sorted_SES",
         "m1_l",
         "32.150482"
        ],
        [
         "23",
         "bex_20230621_spikes_sorted_SES",
         "m1_l",
         "7.6915894"
        ],
        [
         "24",
         "bex_20230621_spikes_sorted_SES",
         "m1_l",
         "6.3805914"
        ],
        [
         "25",
         "bex_20230621_spikes_sorted_SES",
         "m1_l",
         "21.1688"
        ],
        [
         "26",
         "bex_20230621_spikes_sorted_SES",
         "m1_l",
         "44.850704"
        ],
        [
         "27",
         "bex_20230621_spikes_sorted_SES",
         "m1_l",
         "6.6303287"
        ],
        [
         "28",
         "bex_20230621_spikes_sorted_SES",
         "m1_l",
         "12.234301"
        ],
        [
         "29",
         "bex_20230621_spikes_sorted_SES",
         "m1_l",
         "31.644371"
        ],
        [
         "30",
         "bex_20230621_spikes_sorted_SES",
         "m1_l",
         "12.702682"
        ],
        [
         "31",
         "bex_20230621_spikes_sorted_SES",
         "m1_l",
         "36.88406"
        ],
        [
         "32",
         "bex_20230621_spikes_sorted_SES",
         "m1_l",
         "28.484676"
        ],
        [
         "33",
         "bex_20230621_spikes_sorted_SES",
         "m1_l",
         "16.311213"
        ],
        [
         "34",
         "bex_20230621_spikes_sorted_SES",
         "m1_m",
         "13.861649"
        ],
        [
         "35",
         "bex_20230621_spikes_sorted_SES",
         "m1_m",
         "70.54587"
        ],
        [
         "36",
         "bex_20230621_spikes_sorted_SES",
         "m1_m",
         "7.784995"
        ],
        [
         "37",
         "bex_20230621_spikes_sorted_SES",
         "m1_m",
         "28.236784"
        ],
        [
         "38",
         "bex_20230621_spikes_sorted_SES",
         "m1_m",
         "10.800032"
        ],
        [
         "39",
         "bex_20230621_spikes_sorted_SES",
         "m1_m",
         "12.347739"
        ],
        [
         "40",
         "bex_20230621_spikes_sorted_SES",
         "m1_m",
         "7.2828164"
        ],
        [
         "41",
         "bex_20230621_spikes_sorted_SES",
         "m1_m",
         "19.156153"
        ],
        [
         "42",
         "bex_20230621_spikes_sorted_SES",
         "m1_m",
         "6.2495775"
        ],
        [
         "43",
         "bex_20230621_spikes_sorted_SES",
         "m1_m",
         "20.850607"
        ],
        [
         "44",
         "bex_20230621_spikes_sorted_SES",
         "m1_m",
         "16.900038"
        ],
        [
         "45",
         "bex_20230621_spikes_sorted_SES",
         "m1_m",
         "5.7934875"
        ],
        [
         "46",
         "bex_20230621_spikes_sorted_SES",
         "m1_m",
         "28.995459"
        ],
        [
         "47",
         "bex_20230621_spikes_sorted_SES",
         "m1_m",
         "7.0833464"
        ],
        [
         "48",
         "bex_20230621_spikes_sorted_SES",
         "m1_m",
         "9.806491"
        ],
        [
         "49",
         "bex_20230621_spikes_sorted_SES",
         "m1_m",
         "8.7813635"
        ]
       ],
       "shape": {
        "columns": 3,
        "rows": 3175
       }
      },
      "text/html": [
       "<div>\n",
       "<style scoped>\n",
       "    .dataframe tbody tr th:only-of-type {\n",
       "        vertical-align: middle;\n",
       "    }\n",
       "\n",
       "    .dataframe tbody tr th {\n",
       "        vertical-align: top;\n",
       "    }\n",
       "\n",
       "    .dataframe thead th {\n",
       "        text-align: right;\n",
       "    }\n",
       "</style>\n",
       "<table border=\"1\" class=\"dataframe\">\n",
       "  <thead>\n",
       "    <tr style=\"text-align: right;\">\n",
       "      <th></th>\n",
       "      <th>session</th>\n",
       "      <th>area</th>\n",
       "      <th>firing_rate</th>\n",
       "    </tr>\n",
       "  </thead>\n",
       "  <tbody>\n",
       "    <tr>\n",
       "      <th>0</th>\n",
       "      <td>bex_20230621_spikes_sorted_SES</td>\n",
       "      <td>m1_l</td>\n",
       "      <td>22.195894</td>\n",
       "    </tr>\n",
       "    <tr>\n",
       "      <th>1</th>\n",
       "      <td>bex_20230621_spikes_sorted_SES</td>\n",
       "      <td>m1_l</td>\n",
       "      <td>14.675999</td>\n",
       "    </tr>\n",
       "    <tr>\n",
       "      <th>2</th>\n",
       "      <td>bex_20230621_spikes_sorted_SES</td>\n",
       "      <td>m1_l</td>\n",
       "      <td>14.349693</td>\n",
       "    </tr>\n",
       "    <tr>\n",
       "      <th>3</th>\n",
       "      <td>bex_20230621_spikes_sorted_SES</td>\n",
       "      <td>m1_l</td>\n",
       "      <td>16.930395</td>\n",
       "    </tr>\n",
       "    <tr>\n",
       "      <th>4</th>\n",
       "      <td>bex_20230621_spikes_sorted_SES</td>\n",
       "      <td>m1_l</td>\n",
       "      <td>24.360571</td>\n",
       "    </tr>\n",
       "    <tr>\n",
       "      <th>...</th>\n",
       "      <td>...</td>\n",
       "      <td>...</td>\n",
       "      <td>...</td>\n",
       "    </tr>\n",
       "    <tr>\n",
       "      <th>3170</th>\n",
       "      <td>ken_20230703_spikes_sorted_SES</td>\n",
       "      <td>dlpfc</td>\n",
       "      <td>13.387162</td>\n",
       "    </tr>\n",
       "    <tr>\n",
       "      <th>3171</th>\n",
       "      <td>ken_20230703_spikes_sorted_SES</td>\n",
       "      <td>dlpfc</td>\n",
       "      <td>11.547990</td>\n",
       "    </tr>\n",
       "    <tr>\n",
       "      <th>3172</th>\n",
       "      <td>ken_20230703_spikes_sorted_SES</td>\n",
       "      <td>dlpfc</td>\n",
       "      <td>33.227650</td>\n",
       "    </tr>\n",
       "    <tr>\n",
       "      <th>3173</th>\n",
       "      <td>ken_20230703_spikes_sorted_SES</td>\n",
       "      <td>dlpfc</td>\n",
       "      <td>50.899506</td>\n",
       "    </tr>\n",
       "    <tr>\n",
       "      <th>3174</th>\n",
       "      <td>ken_20230703_spikes_sorted_SES</td>\n",
       "      <td>dlpfc</td>\n",
       "      <td>19.504726</td>\n",
       "    </tr>\n",
       "  </tbody>\n",
       "</table>\n",
       "<p>3175 rows × 3 columns</p>\n",
       "</div>"
      ],
      "text/plain": [
       "                             session   area  firing_rate\n",
       "0     bex_20230621_spikes_sorted_SES   m1_l    22.195894\n",
       "1     bex_20230621_spikes_sorted_SES   m1_l    14.675999\n",
       "2     bex_20230621_spikes_sorted_SES   m1_l    14.349693\n",
       "3     bex_20230621_spikes_sorted_SES   m1_l    16.930395\n",
       "4     bex_20230621_spikes_sorted_SES   m1_l    24.360571\n",
       "...                              ...    ...          ...\n",
       "3170  ken_20230703_spikes_sorted_SES  dlpfc    13.387162\n",
       "3171  ken_20230703_spikes_sorted_SES  dlpfc    11.547990\n",
       "3172  ken_20230703_spikes_sorted_SES  dlpfc    33.227650\n",
       "3173  ken_20230703_spikes_sorted_SES  dlpfc    50.899506\n",
       "3174  ken_20230703_spikes_sorted_SES  dlpfc    19.504726\n",
       "\n",
       "[3175 rows x 3 columns]"
      ]
     },
     "execution_count": 84,
     "metadata": {},
     "output_type": "execute_result"
    }
   ],
   "source": [
    "firing_rates_df"
   ]
  },
  {
   "cell_type": "code",
   "execution_count": 85,
   "metadata": {},
   "outputs": [
    {
     "data": {
      "image/png": "[encoded data removed]",
      "text/plain": [
       "<Figure size 1105.75x3000 with 12 Axes>"
      ]
     },
     "metadata": {},
     "output_type": "display_data"
    }
   ],
   "source": [
    "g = sns.catplot(\n",
    "    data=firing_rates_df,\n",
    "    col=\"session\",\n",
    "    hue=\"area\",\n",
    "    x=\"area\",\n",
    "    y=\"firing_rate\",\n",
    "    kind=\"bar\",\n",
    "    palette=PALETTE[:5],\n",
    "    legend=True,\n",
    "    errorbar=\"sd\",\n",
    "    col_wrap=2,\n",
    ")\n",
    "g.set_axis_labels(\"\", \"firing rate [Hz]\")\n",
    "\n",
    "legend = g._legend\n",
    "handles = legend.legend_handles\n",
    "labels = [t.get_text() for t in legend.get_texts()]\n",
    "legend.remove()\n",
    "g.fig.legend(\n",
    "    handles,\n",
    "    labels,\n",
    "    bbox_to_anchor=(0.5, 1.005),\n",
    "    loc=\"center\",\n",
    "    frameon=False,\n",
    "    ncol=5,\n",
    "    title=\"\",\n",
    ")\n",
    "plt.tight_layout()"
   ]
  }
 ],
 "metadata": {
  "kernelspec": {
   "display_name": ".mlab",
   "language": "python",
   "name": "python3"
  },
  "language_info": {
   "codemirror_mode": {
    "name": "ipython",
    "version": 3
   },
   "file_extension": ".py",
   "mimetype": "text/x-python",
   "name": "python",
   "nbconvert_exporter": "python",
   "pygments_lexer": "ipython3",
   "version": "3.13.5"
  }
 },
 "nbformat": 4,
 "nbformat_minor": 2
}
