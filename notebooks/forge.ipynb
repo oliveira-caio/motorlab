{
 "cells": [
  {
   "cell_type": "code",
   "execution_count": 1,
   "metadata": {},
   "outputs": [],
   "source": [
    "import os\n",
    "\n",
    "import numpy as np\n",
    "import pickle"
   ]
  },
  {
   "cell_type": "code",
   "execution_count": 12,
   "metadata": {},
   "outputs": [],
   "source": [
    "with open(\"ken_20230614/data/poses/coords.npy\", \"rb\") as f:\n",
    "    keypoints = np.load(f)\n",
    "    keypoints = np.reshape(keypoints, (-1, 3, keypoints.shape[-1]))\n",
    "    keypoints = np.transpose(keypoints, (2, 0, 1))\n",
    "    keypoints[..., [0, 1, 2]] = keypoints[..., [0, 2, 1]]\n",
    "\n",
    "red_vlad = [\n",
    "    \"L_wrist\",\n",
    "    \"L_elbow\",\n",
    "    \"L_shoulder\",\n",
    "    \"R_wrist\",\n",
    "    \"R_elbow\",\n",
    "    \"R_shoulder\",\n",
    "    \"L_ankle\",\n",
    "    \"L_knee\",\n",
    "    \"L_hip\",\n",
    "    \"R_ankle\",\n",
    "    \"R_knee\",\n",
    "    \"R_hip\",\n",
    "    \"E_tail\",\n",
    "    \"S_tail\",\n",
    "    \"neck\",\n",
    "    \"L_ear\",\n",
    "    \"R_ear\",\n",
    "    \"nose\",\n",
    "]\n",
    "skeleton = [\n",
    "    [13, 12],\n",
    "    [13, 8],\n",
    "    [13, 11],\n",
    "    [10, 11],\n",
    "    [10, 9],\n",
    "    [7, 8],\n",
    "    [7, 6],\n",
    "    [4, 5],\n",
    "    [4, 3],\n",
    "    [1, 2],\n",
    "    [1, 0],\n",
    "    [14, 13],\n",
    "    [14, 17],\n",
    "    [14, 2],\n",
    "    [14, 5],\n",
    "    [14, 15],\n",
    "    [14, 16],\n",
    "    [17, 15],\n",
    "    [17, 16],\n",
    "]"
   ]
  },
  {
   "cell_type": "code",
   "execution_count": 14,
   "metadata": {},
   "outputs": [],
   "source": [
    "with open(\"id_snippets.pkl\", \"rb\") as f:\n",
    "    trials_timings = pickle.load(f)"
   ]
  },
  {
   "cell_type": "code",
   "execution_count": 21,
   "metadata": {},
   "outputs": [],
   "source": [
    "trials_timings = [[b-300, e+300] for [b, e] in trials_timings]"
   ]
  },
  {
   "cell_type": "code",
   "execution_count": 25,
   "metadata": {},
   "outputs": [],
   "source": [
    "for i, trial in enumerate(trials_timings):\n",
    "    forge_dict = {\n",
    "        \"sequence\": keypoints[trial[0]:trial[1]],\n",
    "        \"skeleton\": skeleton,\n",
    "        \"frametime\": 10,\n",
    "    }\n",
    "    with open(os.path.join(\"forge\", f\"trial_{i}.pkl\"), \"wb\") as f:\n",
    "        pickle.dump(forge_dict, f)"
   ]
  }
 ],
 "metadata": {
  "kernelspec": {
   "display_name": "venv",
   "language": "python",
   "name": "python3"
  },
  "language_info": {
   "codemirror_mode": {
    "name": "ipython",
    "version": 3
   },
   "file_extension": ".py",
   "mimetype": "text/x-python",
   "name": "python",
   "nbconvert_exporter": "python",
   "pygments_lexer": "ipython3",
   "version": "3.12.8"
  }
 },
 "nbformat": 4,
 "nbformat_minor": 2
}
