{
 "cells": [
  {
   "cell_type": "code",
   "execution_count": 1,
   "id": "74a244fa",
   "metadata": {},
   "outputs": [],
   "source": [
    "%load_ext autoreload\n",
    "%autoreload 2"
   ]
  },
  {
   "cell_type": "code",
   "execution_count": 2,
   "id": "bbb349ce",
   "metadata": {},
   "outputs": [],
   "source": [
    "import os\n",
    "\n",
    "from pathlib import Path\n",
    "\n",
    "import motorlab as ml\n",
    "import numpy as np\n",
    "import seaborn as sns"
   ]
  },
  {
   "cell_type": "code",
   "execution_count": 3,
   "id": "2a9d9e7c",
   "metadata": {},
   "outputs": [],
   "source": [
    "os.chdir(Path().resolve().parent)"
   ]
  },
  {
   "cell_type": "code",
   "execution_count": 4,
   "id": "83e8584c",
   "metadata": {},
   "outputs": [],
   "source": [
    "def get_config(experiment=\"gbyk\"):\n",
    "    if experiment == \"gbyk\":\n",
    "        sessions = [\n",
    "            \"bex_20230621_spikes_sorted_SES\",  # before\n",
    "            \"bex_20230624_spikes_sorted_SES\",  # before\n",
    "            \"bex_20230629_spikes_sorted_SES\",  # before\n",
    "            \"bex_20230630_spikes_sorted_SES\",  # before\n",
    "            \"bex_20230701_spikes_sorted_SES\",  # before\n",
    "            \"bex_20230708_spikes_sorted_SES\",  # while\n",
    "            \"ken_20230614_spikes_sorted_SES\",  # while and before\n",
    "            \"ken_20230618_spikes_sorted_SES\",  # before\n",
    "            \"ken_20230622_spikes_sorted_SES\",  # while, before and free\n",
    "            \"ken_20230629_spikes_sorted_SES\",  # while, before and free\n",
    "            \"ken_20230630_spikes_sorted_SES\",  # while\n",
    "            \"ken_20230701_spikes_sorted_SES\",  # before\n",
    "            \"ken_20230703_spikes_sorted_SES\",  # while\n",
    "        ]\n",
    "    else:\n",
    "        sessions = [\n",
    "            \"bex_20230221\",\n",
    "            \"bex_20230222\",\n",
    "            \"bex_20230223\",\n",
    "            \"bex_20230224\",\n",
    "            \"bex_20230225\",\n",
    "            \"bex_20230226\",\n",
    "            \"jon_20230125\",\n",
    "            \"jon_20230126\",\n",
    "            \"jon_20230127\",\n",
    "            \"jon_20230130\",\n",
    "            \"jon_20230131\",\n",
    "            \"jon_20230202\",\n",
    "            \"jon_20230203\",\n",
    "            \"luk_20230126\",\n",
    "            \"luk_20230127\",\n",
    "            \"luk_20230130\",\n",
    "            \"luk_20230131\",\n",
    "            \"luk_20230202\",\n",
    "            \"luk_20230203\",\n",
    "        ]\n",
    "\n",
    "    config = {\n",
    "        \"DATA_DIR\": f\"data/{experiment}\",\n",
    "        \"CHECKPOINT_DIR\": \"checkpoint/posetoneuro\",\n",
    "        \"CONFIG_DIR\": \"config/posetoneuro\",\n",
    "        \"save\": True,\n",
    "        \"experiment\": experiment,\n",
    "        \"seed\": 0,\n",
    "        \"homing\": False,\n",
    "        \"filter\": False,\n",
    "        \"in_modalities\": \"poses\",\n",
    "        \"out_modalities\": \"spike_count\",\n",
    "        \"architecture\": \"gru\",\n",
    "        \"sessions\": sessions,\n",
    "        \"body_repr\": \"centered\",\n",
    "        \"loss_fn\": \"poisson\",\n",
    "        \"metric\": \"correlation\",\n",
    "        \"model\": {\n",
    "            \"hidden_dim\": 64,\n",
    "            \"n_layers\": 1,\n",
    "            \"readout\": \"softplus\",\n",
    "        },\n",
    "        \"train\": {\"n_epochs\": 100, \"lr\": 3e-2},\n",
    "        \"track\": {\"metrics\": True, \"wandb\": False},\n",
    "    }\n",
    "    return config"
   ]
  },
  {
   "cell_type": "code",
   "execution_count": null,
   "id": "0fa7cc26",
   "metadata": {},
   "outputs": [],
   "source": [
    "ml.model.train(get_config())"
   ]
  },
  {
   "cell_type": "code",
   "execution_count": 10,
   "id": "d5962e9f",
   "metadata": {},
   "outputs": [],
   "source": [
    "sessions = [\"ken_20230614\"]\n",
    "DATA_DIR = Path(\"data/gbyk/\")\n",
    "CONFIG_PATH = Path(\"config/posetoneuro/20250618181920.yaml\")\n",
    "eval_metrics, eval_preds, eval_gts = ml.model.evaluate(CONFIG_PATH)\n",
    "global_corr = ml.metrics.global_correlation(eval_preds, eval_gts)\n",
    "local_corr = ml.metrics.local_correlation(eval_preds, eval_gts)"
   ]
  },
  {
   "cell_type": "code",
   "execution_count": 11,
   "id": "f36288bc",
   "metadata": {},
   "outputs": [],
   "source": [
    "areas = dict()\n",
    "for session in sessions:\n",
    "    areas[session] = np.load(Path(f\"{DATA_DIR}/{session}/responses/meta/areas.npy\"))\n",
    "    areas[session] = np.where(\n",
    "        np.char.startswith(areas[session], \"M1\"), \"M1\", areas[session]\n",
    "    )\n",
    "    areas[session] = np.where(\n",
    "        np.char.startswith(areas[session], \"PMd\"), \"PMd\", areas[session]\n",
    "    )"
   ]
  },
  {
   "cell_type": "code",
   "execution_count": 12,
   "id": "cfb26dfc",
   "metadata": {},
   "outputs": [],
   "source": [
    "results = {\"session\": [], \"area\": [], \"global_corr\": [], \"local_corr\": []}\n",
    "for session in sessions:\n",
    "    results[\"session\"].extend([session] * len(global_corr[session]))\n",
    "    results[\"area\"].extend(areas[session])\n",
    "    results[\"global_corr\"].extend(global_corr[session])\n",
    "    results[\"local_corr\"].extend(local_corr[session])"
   ]
  },
  {
   "cell_type": "code",
   "execution_count": 21,
   "id": "270f1ce4",
   "metadata": {},
   "outputs": [
    {
     "data": {
      "text/plain": [
       "<Axes: ylabel='global_corr'>"
      ]
     },
     "execution_count": 21,
     "metadata": {},
     "output_type": "execute_result"
    },
    {
     "data": {
      "image/png": "[encoded data removed]",
      "text/plain": [
       "<Figure size 640x480 with 1 Axes>"
      ]
     },
     "metadata": {},
     "output_type": "display_data"
    }
   ],
   "source": [
    "sns.barplot(data=results, hue=\"area\", y=\"global_corr\")"
   ]
  },
  {
   "cell_type": "code",
   "execution_count": 20,
   "id": "5bc324d1",
   "metadata": {},
   "outputs": [
    {
     "data": {
      "text/plain": [
       "<Axes: ylabel='local_corr'>"
      ]
     },
     "execution_count": 20,
     "metadata": {},
     "output_type": "execute_result"
    },
    {
     "data": {
      "image/png": "[encoded data removed]",
      "text/plain": [
       "<Figure size 640x480 with 1 Axes>"
      ]
     },
     "metadata": {},
     "output_type": "display_data"
    }
   ],
   "source": [
    "sns.barplot(data=results, hue=\"area\", y=\"local_corr\")"
   ]
  }
 ],
 "metadata": {
  "kernelspec": {
   "display_name": ".mlab",
   "language": "python",
   "name": "python3"
  },
  "language_info": {
   "codemirror_mode": {
    "name": "ipython",
    "version": 3
   },
   "file_extension": ".py",
   "mimetype": "text/x-python",
   "name": "python",
   "nbconvert_exporter": "python",
   "pygments_lexer": "ipython3",
   "version": "3.13.5"
  }
 },
 "nbformat": 4,
 "nbformat_minor": 5
}
