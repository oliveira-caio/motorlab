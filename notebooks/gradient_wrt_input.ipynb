{
 "cells": [
  {
   "cell_type": "markdown",
   "id": "9da77454",
   "metadata": {},
   "source": [
    "the goal of this notebook is to obtain a plot that looks like this:\n",
    "- x-axis has 5 values: one for each tile in the y-axis (this represents distance to target).\n",
    "- the y-axis has `number of keypoints` values.\n",
    "- the (x, y) value will be a heatmap with the importance of each keypoint to predict the value in that specific tile.\n",
    "\n",
    "another variation is not to discretize the x-axis into tiles, but then it's tricky to average over trials."
   ]
  },
  {
   "cell_type": "code",
   "execution_count": null,
   "id": "1b3b0d57",
   "metadata": {},
   "outputs": [],
   "source": [
    "%load_ext autoreload\n",
    "%autoreload 2"
   ]
  },
  {
   "cell_type": "code",
   "execution_count": null,
   "id": "e28d6d51",
   "metadata": {},
   "outputs": [],
   "source": [
    "import os\n",
    "\n",
    "from pathlib import Path\n",
    "\n",
    "import matplotlib.pyplot as plt\n",
    "import numpy as np\n",
    "import pandas as pd\n",
    "import seaborn as sns\n",
    "import torch\n",
    "import yaml\n",
    "\n",
    "import motorlab as ml"
   ]
  },
  {
   "cell_type": "code",
   "execution_count": null,
   "id": "ea9f6122",
   "metadata": {},
   "outputs": [],
   "source": [
    "os.chdir(Path().resolve().parent)"
   ]
  },
  {
   "cell_type": "code",
   "execution_count": null,
   "id": "d55b55a9",
   "metadata": {},
   "outputs": [],
   "source": [
    "# regression, fc, with homing\n",
    "run = 20250710162620  # removed: none\n",
    "run = 20250710230142  # removed: head\n",
    "run = 20250710232432  # removed: limbs\n",
    "run = 20250710234620  # removed: limbs + head"
   ]
  },
  {
   "cell_type": "code",
   "execution_count": null,
   "id": "5821a4f2",
   "metadata": {},
   "outputs": [],
   "source": [
    "run = 20250711173716  # projected to pc"
   ]
  },
  {
   "cell_type": "code",
   "execution_count": null,
   "id": "b15f2649",
   "metadata": {},
   "outputs": [],
   "source": [
    "config_path = f\"config/poses_to_position/{run}.yaml\"\n",
    "with open(config_path, \"r\") as file:\n",
    "    config = yaml.safe_load(file)"
   ]
  },
  {
   "cell_type": "code",
   "execution_count": null,
   "id": "37b819bc",
   "metadata": {},
   "outputs": [],
   "source": [
    "model = ml.model.create_model(\n",
    "    config,\n",
    "    is_train=False,\n",
    ")"
   ]
  },
  {
   "cell_type": "code",
   "execution_count": null,
   "id": "840f75dd",
   "metadata": {},
   "outputs": [],
   "source": [
    "_, train_intervals, _ = ml.utils.get_tiers_intervals(\n",
    "    config[\"DATA_DIR\"],\n",
    "    config[\"sessions\"],\n",
    "    config[\"experiment\"],\n",
    "    include_trial=config[\"intervals\"][\"include_trial\"],\n",
    "    include_homing=config[\"intervals\"][\"include_homing\"],\n",
    "    include_sitting=config[\"intervals\"][\"include_sitting\"],\n",
    "    shuffle=False,\n",
    "    seed=0,\n",
    ")\n",
    "intervals = ml.utils.get_intervals(\n",
    "    config[\"DATA_DIR\"],\n",
    "    config[\"sessions\"],\n",
    "    config[\"experiment\"],\n",
    "    include_trial=config[\"intervals\"][\"include_trial\"],\n",
    "    include_homing=config[\"intervals\"][\"include_homing\"],\n",
    "    include_sitting=config[\"intervals\"][\"include_sitting\"],\n",
    "    shuffle=False,\n",
    "    seed=0,\n",
    ")\n",
    "data_dict = ml.data.load_all(config, train_intervals)"
   ]
  },
  {
   "cell_type": "markdown",
   "id": "ae4192c2",
   "metadata": {},
   "source": [
    "the importance is computed as follows: for each session i have several trials. i'll feed each frame of each trial to the model and compute the gradient of the output ((x, y) coordinates of the center of mass) with respect to the input (keypoints in egocentric coordinates). this tells me which keypoints matter and which doesn't for the prediction. by doing this i can obtain a dictionary with sessions as keys and values will be a list of trials. then, for each trial, i have a numpy array with shape `(trial length, 2, number of keypoints)`. basically, each frame contains a jacobian and we have 2 rows because we're predicting the (x, y) coordinates of the center of mass, even though we're mainly interested in the y-coordinate for now."
   ]
  },
  {
   "cell_type": "code",
   "execution_count": null,
   "id": "8a318451",
   "metadata": {},
   "outputs": [],
   "source": [
    "grads = {session: [] for session in intervals}\n",
    "\n",
    "for session in intervals:\n",
    "    d = data_dict[session][\"poses\"]\n",
    "    for s, e in intervals[session]:\n",
    "        x = torch.tensor(d[s:e], device=ml.utils.device, requires_grad=True)\n",
    "        pred = model(x, session)\n",
    "\n",
    "        grad = torch.stack(\n",
    "            [\n",
    "                torch.autograd.grad(\n",
    "                    outputs=pred[:, i],\n",
    "                    inputs=x,\n",
    "                    grad_outputs=torch.ones_like(pred[:, i]),\n",
    "                    retain_graph=True,\n",
    "                )[0]\n",
    "                for i in range(pred.shape[-1])\n",
    "            ],\n",
    "            dim=1,\n",
    "        )\n",
    "        grads[session].append(grad.detach().cpu().numpy())"
   ]
  },
  {
   "cell_type": "markdown",
   "id": "5c7bc54b",
   "metadata": {},
   "source": [
    "now that we have gradients per session, per trial, we can bin the trials into tiles. in order to do this, we iterate over both the gradients and poses at the same time, get the tile the monkey is in each frame using the poses, and put the gradient into that bin. i'll do this for each trial and basically concatenate the gradients per bin. meaning: at the end i have a dictionary with sessions as keys and another dictionary as values. the inner dictionary has each tile as a key and values will be a list of gradients where each element of the list represents a gradient of a given time point in which the monkey was in that specific tile."
   ]
  },
  {
   "cell_type": "code",
   "execution_count": null,
   "id": "c19c58a4",
   "metadata": {},
   "outputs": [],
   "source": [
    "poses = dict()\n",
    "for session in config[\"sessions\"]:\n",
    "    POSES_DIR = Path(config[\"DATA_DIR\"]) / session / \"poses\"\n",
    "    poses[session] = ml.data.load_from_memmap(POSES_DIR)"
   ]
  },
  {
   "cell_type": "code",
   "execution_count": null,
   "id": "23f0e436",
   "metadata": {},
   "outputs": [],
   "source": [
    "grads_per_tile = {\n",
    "    session: {i: [] for i in range(15)} for session in config[\"sessions\"]\n",
    "}\n",
    "\n",
    "for session in config[\"sessions\"]:\n",
    "    for t, (s, e) in enumerate(intervals[session]):\n",
    "        tiles = ml.room.get_tiles(\n",
    "            poses[session][s:e, 0], poses[session][s:e, 1]\n",
    "        ).astype(int)\n",
    "        for i, tile in enumerate(tiles):\n",
    "            grads_per_tile[session][tile].append(grads[session][t][i])"
   ]
  },
  {
   "cell_type": "code",
   "execution_count": null,
   "id": "f69735a2",
   "metadata": {},
   "outputs": [],
   "source": [
    "importance_per_tile = {\n",
    "    session: {\n",
    "        i: np.stack(\n",
    "            [np.abs(g) for g in grads_per_tile[session][i]], axis=0\n",
    "        ).mean(axis=0)\n",
    "        # .reshape(2, 21, 3)\n",
    "        # .sum(axis=-1)\n",
    "        for i in range(15)\n",
    "        if grads_per_tile[session][i]\n",
    "    }\n",
    "    for session in config[\"sessions\"]\n",
    "}"
   ]
  },
  {
   "cell_type": "code",
   "execution_count": null,
   "id": "31699ada",
   "metadata": {},
   "outputs": [],
   "source": [
    "importance_y_axis = {\n",
    "    session: {i: None for i in range(5)} for session in config[\"sessions\"]\n",
    "}\n",
    "\n",
    "for session in config[\"sessions\"]:\n",
    "    for i in range(0, 15, 3):\n",
    "        importance_y_axis[session][i // 3] = np.mean(\n",
    "            [\n",
    "                importance_per_tile[session][t][1]\n",
    "                for t in range(i, i + 3)\n",
    "                if t in importance_per_tile[session]\n",
    "            ],\n",
    "            axis=0,\n",
    "        )"
   ]
  },
  {
   "cell_type": "markdown",
   "id": "ba97801a",
   "metadata": {},
   "source": [
    "for keypoints"
   ]
  },
  {
   "cell_type": "code",
   "execution_count": null,
   "id": "70aa7267",
   "metadata": {},
   "outputs": [],
   "source": [
    "results_y_axis = {\n",
    "    \"session\": [],\n",
    "    \"tile\": [],\n",
    "    \"keypoint\": [],\n",
    "    \"importance\": [],\n",
    "}\n",
    "\n",
    "for session in importance_y_axis:\n",
    "    for tile in importance_y_axis[session]:\n",
    "        for kp, idx in ml.poses.keypoints_dict[\"gbyk\"].items():\n",
    "            results_y_axis[\"session\"].append(session)\n",
    "            results_y_axis[\"tile\"].append(tile)\n",
    "            results_y_axis[\"keypoint\"].append(kp)\n",
    "            results_y_axis[\"importance\"].append(\n",
    "                importance_y_axis[session][tile][idx]\n",
    "            )\n",
    "\n",
    "df_results_y_axis = pd.DataFrame(results_y_axis)"
   ]
  },
  {
   "cell_type": "code",
   "execution_count": null,
   "id": "cdea63c6",
   "metadata": {},
   "outputs": [],
   "source": [
    "nrows = len(config[\"sessions\"]) // 2\n",
    "ncols = 2 if len(config[\"sessions\"]) > 2 else len(config[\"sessions\"])\n",
    "\n",
    "fig, axes = plt.subplots(\n",
    "    nrows=nrows,\n",
    "    ncols=ncols,\n",
    "    figsize=(5 * ncols, 5 * nrows),\n",
    "    sharex=True,\n",
    "    sharey=True,\n",
    ")\n",
    "\n",
    "for i, session in enumerate(config[\"sessions\"]):\n",
    "    sub_df = df_results_y_axis[df_results_y_axis[\"session\"] == session]\n",
    "    pivot = sub_df.pivot(index=\"keypoint\", columns=\"tile\", values=\"importance\")\n",
    "    sns.heatmap(pivot, ax=axes[i // ncols, i % ncols])\n",
    "    axes[i // ncols, i % ncols].set_title(session)\n",
    "\n",
    "plt.tight_layout()\n",
    "plt.show()"
   ]
  },
  {
   "cell_type": "markdown",
   "id": "527aa85b",
   "metadata": {},
   "source": [
    "for pcas"
   ]
  },
  {
   "cell_type": "code",
   "execution_count": null,
   "id": "8284b889",
   "metadata": {},
   "outputs": [],
   "source": [
    "results_y_axis = {\n",
    "    \"session\": [],\n",
    "    \"tile\": [],\n",
    "    \"pc\": [],\n",
    "    \"importance\": [],\n",
    "}\n",
    "\n",
    "for session in importance_y_axis:\n",
    "    for tile in importance_y_axis[session]:\n",
    "        for idx in range(63):\n",
    "            results_y_axis[\"session\"].append(session)\n",
    "            results_y_axis[\"tile\"].append(tile)\n",
    "            results_y_axis[\"pc\"].append(idx)\n",
    "            results_y_axis[\"importance\"].append(\n",
    "                importance_y_axis[session][tile][idx]\n",
    "            )\n",
    "\n",
    "df_results_y_axis = pd.DataFrame(results_y_axis)"
   ]
  },
  {
   "cell_type": "code",
   "execution_count": null,
   "id": "3098583d",
   "metadata": {},
   "outputs": [],
   "source": [
    "nrows = len(config[\"sessions\"]) // 2\n",
    "ncols = 2 if len(config[\"sessions\"]) > 2 else len(config[\"sessions\"])\n",
    "\n",
    "fig, axes = plt.subplots(\n",
    "    nrows=nrows,\n",
    "    ncols=ncols,\n",
    "    figsize=(5 * ncols, 5 * nrows),\n",
    "    sharex=True,\n",
    "    sharey=True,\n",
    ")\n",
    "\n",
    "for i, session in enumerate(config[\"sessions\"]):\n",
    "    sub_df = df_results_y_axis[df_results_y_axis[\"session\"] == session]\n",
    "    pivot = sub_df.pivot(index=\"pc\", columns=\"tile\", values=\"importance\")\n",
    "    sns.heatmap(pivot, ax=axes[i // ncols, i % ncols])\n",
    "    axes[i // ncols, i % ncols].set_title(session)\n",
    "\n",
    "plt.tight_layout()\n",
    "plt.show()"
   ]
  },
  {
   "cell_type": "code",
   "execution_count": null,
   "id": "6d71163a",
   "metadata": {},
   "outputs": [],
   "source": [
    "importance_x_axis = {\n",
    "    session: {i: None for i in range(3)} for session in config[\"sessions\"]\n",
    "}\n",
    "\n",
    "for session in config[\"sessions\"]:\n",
    "    for i in range(0, 3):\n",
    "        importance_x_axis[session][i] = np.mean(\n",
    "            [\n",
    "                importance_per_tile[session][t][1]\n",
    "                for t in range(i, 15, 3)\n",
    "                if t in importance_per_tile[session]\n",
    "            ],\n",
    "            axis=0,\n",
    "        )"
   ]
  },
  {
   "cell_type": "code",
   "execution_count": null,
   "id": "769718b9",
   "metadata": {},
   "outputs": [],
   "source": [
    "results_x_axis = {\n",
    "    \"session\": [],\n",
    "    \"tile\": [],\n",
    "    \"keypoint\": [],\n",
    "    \"importance\": [],\n",
    "}\n",
    "\n",
    "for session in importance_x_axis:\n",
    "    for tile in importance_x_axis[session]:\n",
    "        for kp, idx in ml.poses.keypoints_dict[\"gbyk\"].items():\n",
    "            results_x_axis[\"session\"].append(session)\n",
    "            results_x_axis[\"tile\"].append(tile)\n",
    "            results_x_axis[\"keypoint\"].append(kp)\n",
    "            results_x_axis[\"importance\"].append(\n",
    "                importance_x_axis[session][tile][idx]\n",
    "            )\n",
    "\n",
    "df_results_x_axis = pd.DataFrame(results_x_axis)"
   ]
  },
  {
   "cell_type": "code",
   "execution_count": null,
   "id": "934652f4",
   "metadata": {},
   "outputs": [],
   "source": [
    "nrows = len(config[\"sessions\"]) // 2\n",
    "ncols = 2 if len(config[\"sessions\"]) > 2 else len(config[\"sessions\"])\n",
    "\n",
    "fig, axes = plt.subplots(\n",
    "    nrows=nrows,\n",
    "    ncols=ncols,\n",
    "    figsize=(5 * ncols, 5 * nrows),\n",
    "    sharex=True,\n",
    "    sharey=True,\n",
    ")\n",
    "\n",
    "for i, session in enumerate(config[\"sessions\"]):\n",
    "    sub_df = df_results_x_axis[df_results_x_axis[\"session\"] == session]\n",
    "    pivot = sub_df.pivot(index=\"keypoint\", columns=\"tile\", values=\"importance\")\n",
    "    sns.heatmap(pivot, ax=axes[i // ncols, i % ncols])\n",
    "    axes[i // ncols, i % ncols].set_title(session)\n",
    "\n",
    "plt.tight_layout()\n",
    "plt.show()"
   ]
  },
  {
   "cell_type": "code",
   "execution_count": 151,
   "id": "42c257dc",
   "metadata": {},
   "outputs": [],
   "source": [
    "importance_bex_y_axis = {\n",
    "    t: np.mean(\n",
    "        [\n",
    "            importance_y_axis[session][t]\n",
    "            for session in config[\"sessions\"]\n",
    "            if \"bex\" in session\n",
    "        ],\n",
    "        axis=0,\n",
    "    )\n",
    "    for t in range(5)\n",
    "}"
   ]
  },
  {
   "cell_type": "code",
   "execution_count": null,
   "id": "ba6c5d83",
   "metadata": {},
   "outputs": [],
   "source": [
    "results_bex_y_axis = {\n",
    "    \"tile\": [],\n",
    "    \"keypoint\": [],\n",
    "    \"importance\": [],\n",
    "}\n",
    "\n",
    "\n",
    "for tile in importance_bex_y_axis:\n",
    "    for kp, idx in ml.poses.keypoints_dict[\"gbyk\"].items():\n",
    "        results_bex_y_axis[\"tile\"].append(tile)\n",
    "        results_bex_y_axis[\"keypoint\"].append(kp)\n",
    "        results_bex_y_axis[\"importance\"].append(\n",
    "            importance_bex_y_axis[tile][idx]\n",
    "        )\n",
    "\n",
    "df_results_bex_y_axis = pd.DataFrame(results_bex_y_axis)"
   ]
  },
  {
   "cell_type": "code",
   "execution_count": null,
   "id": "0070c6e9",
   "metadata": {},
   "outputs": [],
   "source": [
    "pivot = df_results_bex_y_axis.pivot(\n",
    "    index=\"keypoint\", columns=\"tile\", values=\"importance\"\n",
    ")\n",
    "g = sns.heatmap(pivot)\n",
    "g.set_title(\"bex\")\n",
    "plt.show()"
   ]
  },
  {
   "cell_type": "code",
   "execution_count": 152,
   "id": "1a0b4f82",
   "metadata": {},
   "outputs": [],
   "source": [
    "results_bex_y_axis = {\n",
    "    \"tile\": [],\n",
    "    \"pc\": [],\n",
    "    \"importance\": [],\n",
    "}\n",
    "\n",
    "\n",
    "for tile in importance_bex_y_axis:\n",
    "    for idx in range(63):\n",
    "        results_bex_y_axis[\"tile\"].append(tile)\n",
    "        results_bex_y_axis[\"pc\"].append(idx)\n",
    "        results_bex_y_axis[\"importance\"].append(\n",
    "            importance_bex_y_axis[tile][idx]\n",
    "        )\n",
    "\n",
    "df_results_bex_y_axis = pd.DataFrame(results_bex_y_axis)"
   ]
  },
  {
   "cell_type": "code",
   "execution_count": 153,
   "id": "e3505b9d",
   "metadata": {},
   "outputs": [
    {
     "data": {
      "image/png": "[encoded data removed]",
      "text/plain": [
       "<Figure size 640x480 with 2 Axes>"
      ]
     },
     "metadata": {},
     "output_type": "display_data"
    }
   ],
   "source": [
    "pivot = df_results_bex_y_axis.pivot(\n",
    "    index=\"pc\", columns=\"tile\", values=\"importance\"\n",
    ")\n",
    "g = sns.heatmap(pivot)\n",
    "g.set_title(\"bex\")\n",
    "plt.show()"
   ]
  },
  {
   "cell_type": "code",
   "execution_count": 156,
   "id": "baf3e76c",
   "metadata": {},
   "outputs": [],
   "source": [
    "importance_ken_y_axis = {\n",
    "    t: np.mean(\n",
    "        [\n",
    "            importance_y_axis[session][t]\n",
    "            for session in config[\"sessions\"]\n",
    "            if \"ken\" in session\n",
    "        ],\n",
    "        axis=0,\n",
    "    )\n",
    "    for t in range(5)\n",
    "}"
   ]
  },
  {
   "cell_type": "code",
   "execution_count": null,
   "id": "5c630db0",
   "metadata": {},
   "outputs": [],
   "source": [
    "results_ken_y_axis = {\n",
    "    \"tile\": [],\n",
    "    \"keypoint\": [],\n",
    "    \"importance\": [],\n",
    "}\n",
    "\n",
    "\n",
    "for tile in importance_ken_y_axis:\n",
    "    for kp, idx in ml.poses.keypoints_dict[\"gbyk\"].items():\n",
    "        results_ken_y_axis[\"tile\"].append(tile)\n",
    "        results_ken_y_axis[\"keypoint\"].append(kp)\n",
    "        results_ken_y_axis[\"importance\"].append(\n",
    "            importance_ken_y_axis[tile][idx]\n",
    "        )\n",
    "\n",
    "df_results_ken_y_axis = pd.DataFrame(results_ken_y_axis)"
   ]
  },
  {
   "cell_type": "code",
   "execution_count": null,
   "id": "57154ebe",
   "metadata": {},
   "outputs": [],
   "source": [
    "pivot = df_results_ken_y_axis.pivot(\n",
    "    index=\"keypoint\", columns=\"tile\", values=\"importance\"\n",
    ")\n",
    "g = sns.heatmap(pivot)\n",
    "g.set_title(\"ken\")\n",
    "plt.show()"
   ]
  },
  {
   "cell_type": "code",
   "execution_count": 157,
   "id": "5cc63f05",
   "metadata": {},
   "outputs": [],
   "source": [
    "results_ken_y_axis = {\n",
    "    \"tile\": [],\n",
    "    \"pc\": [],\n",
    "    \"importance\": [],\n",
    "}\n",
    "\n",
    "\n",
    "for tile in importance_ken_y_axis:\n",
    "    for idx in range(63):\n",
    "        results_ken_y_axis[\"tile\"].append(tile)\n",
    "        results_ken_y_axis[\"pc\"].append(idx)\n",
    "        results_ken_y_axis[\"importance\"].append(\n",
    "            importance_ken_y_axis[tile][idx]\n",
    "        )\n",
    "\n",
    "df_results_ken_y_axis = pd.DataFrame(results_ken_y_axis)"
   ]
  },
  {
   "cell_type": "code",
   "execution_count": 158,
   "id": "70007971",
   "metadata": {},
   "outputs": [
    {
     "data": {
      "image/png": "[encoded data removed]",
      "text/plain": [
       "<Figure size 640x480 with 2 Axes>"
      ]
     },
     "metadata": {},
     "output_type": "display_data"
    }
   ],
   "source": [
    "pivot = df_results_ken_y_axis.pivot(\n",
    "    index=\"pc\", columns=\"tile\", values=\"importance\"\n",
    ")\n",
    "g = sns.heatmap(pivot)\n",
    "g.set_title(\"ken\")\n",
    "plt.show()"
   ]
  }
 ],
 "metadata": {
  "kernelspec": {
   "display_name": ".mlab",
   "language": "python",
   "name": "python3"
  },
  "language_info": {
   "codemirror_mode": {
    "name": "ipython",
    "version": 3
   },
   "file_extension": ".py",
   "mimetype": "text/x-python",
   "name": "python",
   "nbconvert_exporter": "python",
   "pygments_lexer": "ipython3",
   "version": "3.13.5"
  }
 },
 "nbformat": 4,
 "nbformat_minor": 5
}
