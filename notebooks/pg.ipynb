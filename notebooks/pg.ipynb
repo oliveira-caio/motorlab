{
 "cells": [
  {
   "cell_type": "markdown",
   "metadata": {},
   "source": [
    "# imports"
   ]
  },
  {
   "cell_type": "code",
   "execution_count": 1,
   "metadata": {},
   "outputs": [],
   "source": [
    "import os\n",
    "import pickle\n",
    "import sys\n",
    "\n",
    "import matplotlib.pyplot as plt\n",
    "import numpy as np\n",
    "import vci\n",
    "import yaml\n",
    "\n",
    "parent_dir = os.path.dirname(os.getcwd())\n",
    "if parent_dir not in sys.path:\n",
    "    sys.path.append(parent_dir)\n",
    "\n",
    "import helpers\n",
    "import pg"
   ]
  },
  {
   "cell_type": "markdown",
   "metadata": {},
   "source": [
    "# processing"
   ]
  },
  {
   "cell_type": "code",
   "execution_count": 2,
   "metadata": {},
   "outputs": [],
   "source": [
    "def split_trials(trials, dataset, ms):\n",
    "    split = {session: [] for session in trials}\n",
    "\n",
    "    for session in trials:\n",
    "        for trial in trials[session]:\n",
    "            trial_dict = dict()\n",
    "            keypoints = dataset[session][\"keypoints\"][trial]\n",
    "            keypoints = np.reshape(keypoints, (-1, ms, keypoints.shape[-1]))\n",
    "            keypoints = np.mean(keypoints, axis=1)\n",
    "            trial_dict[\"keypoints\"] = keypoints\n",
    "\n",
    "            spikes = dataset[session][\"spikes\"][trial]\n",
    "            spikes = np.reshape(spikes, (-1, ms, spikes.shape[-1]))\n",
    "            spikes = np.sum(spikes, axis=1)\n",
    "            trial_dict[\"spikes\"] = spikes\n",
    "            split[session].append(trial_dict)\n",
    "\n",
    "    return split\n",
    "\n",
    "\n",
    "def process(dataset, train_trials, val_trials, test_trials, ms=5):\n",
    "    test_set = split_trials(test_trials, dataset, ms)\n",
    "    val_set = split_trials(val_trials, dataset, ms)\n",
    "    train_set = split_trials(train_trials, dataset, ms)\n",
    "\n",
    "    max_all = max(\n",
    "        np.max(trial[\"keypoints\"])\n",
    "        for session in train_set\n",
    "        for trial in train_set[session]\n",
    "    )\n",
    "    min_all = min(\n",
    "        np.min(trial[\"keypoints\"])\n",
    "        for session in train_set\n",
    "        for trial in train_set[session]\n",
    "    )\n",
    "\n",
    "    for data_mode in (train_set, test_set, val_set):\n",
    "        for session in data_mode:\n",
    "            for trial in data_mode[session]:\n",
    "                trial[\"keypoints\"] = -1 + 2 * (trial[\"keypoints\"] - min_all) / (\n",
    "                    max_all - min_all\n",
    "                )\n",
    "\n",
    "    return train_set, val_set, test_set"
   ]
  },
  {
   "cell_type": "markdown",
   "metadata": {},
   "source": [
    "# base dataset\n",
    "\n",
    "keypoints in global coordinates."
   ]
  },
  {
   "cell_type": "code",
   "execution_count": null,
   "metadata": {},
   "outputs": [],
   "source": [
    "sessions = [\n",
    "    x for x in os.listdir(\"./\") if \"luk\" in x or \"jon\" in x or \"bex\" in x\n",
    "]\n",
    "dataset = dict()\n",
    "\n",
    "for session in sessions:\n",
    "    with open(os.path.join(session, \"meta.yml\")) as fyaml:\n",
    "        try:\n",
    "            monkey = yaml.safe_load(fyaml)\n",
    "            monkey[\"session\"] = session\n",
    "        except yaml.YAMLError as exc:\n",
    "            print(exc)\n",
    "    dataset[session] = dict()\n",
    "    dataset[session][\"keypoints\"] = pg.preprocess_keypoints(\n",
    "        monkey, from_files=True\n",
    "    )\n",
    "    dataset[session][\"spikes\"] = pg.preprocess_spikes(monkey, from_files=True)\n",
    "\n",
    "test_trials = {\n",
    "    \"bex_20230226\": [1],\n",
    "    \"jon_20230203\": [1],\n",
    "    \"luk_20230126\": [0],\n",
    "}\n",
    "val_trials = {\n",
    "    \"bex_20230226\": [2],\n",
    "    \"jon_20230126\": [0],\n",
    "    \"luk_20230202\": [1],\n",
    "}\n",
    "union_trials = {\n",
    "    key: val_trials.get(key, []) + test_trials.get(key, [])\n",
    "    for key in set(val_trials) | set(test_trials)\n",
    "}\n",
    "train_trials = {\n",
    "    session: [\n",
    "        i\n",
    "        for i in range(len(dataset[session][\"keypoints\"]))\n",
    "        if session not in union_trials or i not in union_trials[session]\n",
    "    ]\n",
    "    for session in dataset\n",
    "}\n",
    "\n",
    "train_set, val_set, test_set = process(\n",
    "    dataset, train_trials, val_trials, test_trials\n",
    ")\n",
    "data = {\"train\": train_set, \"validation\": val_set, \"test\": test_set}\n",
    "\n",
    "with open(\"pg.pkl\", \"wb\") as f:\n",
    "    pickle.dump(data, f)"
   ]
  },
  {
   "cell_type": "markdown",
   "metadata": {},
   "source": [
    "# old dataset\n",
    "\n",
    "only bex and being conservative with the good frames."
   ]
  },
  {
   "cell_type": "code",
   "execution_count": null,
   "metadata": {},
   "outputs": [],
   "source": [
    "sessions = [x for x in os.listdir(\"./\") if \"bex\" in x]\n",
    "dataset = dict()\n",
    "\n",
    "for session in sessions:\n",
    "    with open(f\"{session}/old_meta.yml\") as fyaml:\n",
    "        try:\n",
    "            monkey = yaml.safe_load(fyaml)\n",
    "            monkey[\"session\"] = session\n",
    "        except yaml.YAMLError as exc:\n",
    "            print(exc)\n",
    "    dataset[session] = dict()\n",
    "    dataset[session][\"keypoints\"] = pg.preprocess_keypoints(monkey)\n",
    "    dataset[session][\"spikes\"] = pg.preprocess_spikes(monkey)\n",
    "\n",
    "test_trials = {\"bex_20230226\": [1]}\n",
    "val_trials = {\"bex_20230226\": [2]}\n",
    "union_trials = {\n",
    "    key: val_trials.get(key, []) + test_trials.get(key, [])\n",
    "    for key in set(val_trials) | set(test_trials)\n",
    "}\n",
    "train_trials = {\n",
    "    session: [\n",
    "        i\n",
    "        for i in range(len(dataset[session][\"keypoints\"]))\n",
    "        if session not in union_trials or i not in union_trials[session]\n",
    "    ]\n",
    "    for session in dataset\n",
    "}\n",
    "\n",
    "train_set, val_set, test_set = process(\n",
    "    dataset, train_trials, val_trials, test_trials\n",
    ")\n",
    "data = {\"train\": train_set, \"validation\": val_set, \"test\": test_set}\n",
    "\n",
    "with open(\"pg_old.pkl\", \"wb\") as f:\n",
    "    pickle.dump(data, f)"
   ]
  },
  {
   "cell_type": "markdown",
   "metadata": {},
   "source": [
    "# new old dataset\n",
    "\n",
    "added monkeys, but for testing i'm still using the exact same old dataset without increasing the number of frames."
   ]
  },
  {
   "cell_type": "code",
   "execution_count": null,
   "metadata": {},
   "outputs": [],
   "source": [
    "sessions = [\n",
    "    x for x in os.listdir(\"./\") if \"luk\" in x or \"jon\" in x or \"bex\" in x\n",
    "]\n",
    "dataset = dict()\n",
    "\n",
    "for session in sessions:\n",
    "    if \"bex\" in session:\n",
    "        with open(os.path.join(session, \"old_meta.yml\")) as fyaml:\n",
    "            try:\n",
    "                monkey = yaml.safe_load(fyaml)\n",
    "            except yaml.YAMLError as exc:\n",
    "                print(exc)\n",
    "    else:\n",
    "        with open(os.path.join(session, \"meta.yml\")) as fyaml:\n",
    "            try:\n",
    "                monkey = yaml.safe_load(fyaml)\n",
    "            except yaml.YAMLError as exc:\n",
    "                print(exc)\n",
    "    monkey[\"session\"] = session\n",
    "    dataset[session] = dict()\n",
    "    dataset[session][\"keypoints\"] = pg.preprocess_keypoints(monkey)\n",
    "    dataset[session][\"spikes\"] = pg.preprocess_spikes(monkey)\n",
    "\n",
    "test_trials = {\n",
    "    \"bex_20230226\": [1],\n",
    "    \"jon_20230203\": [1],\n",
    "    \"luk_20230126\": [0],\n",
    "}\n",
    "val_trials = {\n",
    "    \"bex_20230226\": [2],\n",
    "    \"jon_20230126\": [0],\n",
    "    \"luk_20230202\": [1],\n",
    "}\n",
    "union_trials = {\n",
    "    key: val_trials.get(key, []) + test_trials.get(key, [])\n",
    "    for key in set(val_trials) | set(test_trials)\n",
    "}\n",
    "train_trials = {\n",
    "    session: [\n",
    "        i\n",
    "        for i in range(len(dataset[session][\"keypoints\"]))\n",
    "        if session not in union_trials or i not in union_trials[session]\n",
    "    ]\n",
    "    for session in dataset\n",
    "}\n",
    "\n",
    "train_set, val_set, test_set = process(\n",
    "    dataset, train_trials, val_trials, test_trials\n",
    ")\n",
    "data = {\"train\": train_set, \"validation\": val_set, \"test\": test_set}\n",
    "\n",
    "with open(\"pg_new_old.pkl\", \"wb\") as f:\n",
    "    pickle.dump(data, f)"
   ]
  },
  {
   "cell_type": "markdown",
   "metadata": {},
   "source": [
    "# nose dataset\n",
    "\n",
    "nose in global coordinates and the other keypoints are relative (difference) to the nose."
   ]
  },
  {
   "cell_type": "code",
   "execution_count": 8,
   "metadata": {},
   "outputs": [],
   "source": [
    "with open(\"pg.pkl\", \"rb\") as old:\n",
    "    old_data = pickle.load(old)\n",
    "    with open(\"pg_nose.pkl\", \"wb\") as new:\n",
    "        new_data = helpers.compute_differences(\n",
    "            old_data, nose_idx=3, add_nose=True\n",
    "        )\n",
    "        pickle.dump(new_data, new)"
   ]
  },
  {
   "cell_type": "markdown",
   "metadata": {},
   "source": [
    "# noseless dataset"
   ]
  },
  {
   "cell_type": "code",
   "execution_count": 2,
   "metadata": {},
   "outputs": [],
   "source": [
    "with open(\"pg.pkl\", \"rb\") as old:\n",
    "    old_data = pickle.load(old)\n",
    "    with open(\"pg_noseless.pkl\", \"wb\") as new:\n",
    "        new_data = helpers.compute_differences(\n",
    "            old_data, nose_idx=3, add_nose=False\n",
    "        )\n",
    "        pickle.dump(new_data, new)"
   ]
  },
  {
   "cell_type": "markdown",
   "metadata": {},
   "source": [
    "# centered dataset"
   ]
  },
  {
   "cell_type": "code",
   "execution_count": 2,
   "metadata": {},
   "outputs": [],
   "source": [
    "with open(\"pg.pkl\", \"rb\") as old:\n",
    "    old_data = pickle.load(old)\n",
    "    with open(\"pg_centered.pkl\", \"wb\") as new:\n",
    "        new_data = helpers.center_head_differences(\n",
    "            old_data, l_ear_idx=1, r_ear_idx=2, add_center=True\n",
    "        )\n",
    "        pickle.dump(new_data, new)"
   ]
  },
  {
   "cell_type": "markdown",
   "metadata": {},
   "source": [
    "# uncentered dataset"
   ]
  },
  {
   "cell_type": "code",
   "execution_count": 3,
   "metadata": {},
   "outputs": [],
   "source": [
    "with open(\"pg.pkl\", \"rb\") as old:\n",
    "    old_data = pickle.load(old)\n",
    "    with open(\"pg_uncentered.pkl\", \"wb\") as new:\n",
    "        new_data = helpers.center_head_differences(\n",
    "            old_data, l_ear_idx=1, r_ear_idx=2, add_center=False\n",
    "        )\n",
    "        pickle.dump(new_data, new)"
   ]
  },
  {
   "cell_type": "markdown",
   "metadata": {},
   "source": [
    "# head dataset\n",
    "\n",
    "change the coordinate system such that the origin is the nose, the x-axis is the vector nose-neck, the y-axis is the vector nose-l_ear and the z-axis is the vector nose-r_ear"
   ]
  },
  {
   "cell_type": "code",
   "execution_count": 5,
   "metadata": {},
   "outputs": [],
   "source": [
    "with open(\"pg.pkl\", \"rb\") as old:\n",
    "    old_data = pickle.load(old)\n",
    "    with open(\"pg_head.pkl\", \"wb\") as new:\n",
    "        new_data = helpers.head_coordinates(\n",
    "            old_data, face_idxs=[0, 1, 2, 3], add_nose=True\n",
    "        )\n",
    "        pickle.dump(new_data, new)"
   ]
  },
  {
   "cell_type": "markdown",
   "metadata": {},
   "source": [
    "# noseless head dataset\n",
    "\n",
    "i remove the nose (origin) from the head dataset, which means there's only information about the monkeys' body, but not where he's in the room."
   ]
  },
  {
   "cell_type": "code",
   "execution_count": 6,
   "metadata": {},
   "outputs": [],
   "source": [
    "with open(\"pg.pkl\", \"rb\") as old:\n",
    "    old_data = pickle.load(old)\n",
    "    with open(\"pg_noseless_head.pkl\", \"wb\") as new:\n",
    "        new_data = helpers.head_coordinates(\n",
    "            old_data, face_idxs=[0, 1, 2, 3], add_nose=False\n",
    "        )\n",
    "        pickle.dump(new_data, new)"
   ]
  },
  {
   "cell_type": "markdown",
   "metadata": {},
   "source": [
    "# orthogonal head dataset"
   ]
  },
  {
   "cell_type": "code",
   "execution_count": 7,
   "metadata": {},
   "outputs": [],
   "source": [
    "with open(\"pg.pkl\", \"rb\") as old:\n",
    "    old_data = pickle.load(old)\n",
    "    with open(\"pg_orthogonal_head.pkl\", \"wb\") as new:\n",
    "        new_data = helpers.orthogonal_head_coordinates(\n",
    "            old_data, face_idxs=[1, 2, 3], add_origin=True\n",
    "        )\n",
    "        pickle.dump(new_data, new)"
   ]
  },
  {
   "cell_type": "markdown",
   "metadata": {},
   "source": [
    "# originless orthogonal head dataset"
   ]
  },
  {
   "cell_type": "code",
   "execution_count": 8,
   "metadata": {},
   "outputs": [],
   "source": [
    "with open(\"pg.pkl\", \"rb\") as old:\n",
    "    old_data = pickle.load(old)\n",
    "    with open(\"pg_originless_orthogonal_head.pkl\", \"wb\") as new:\n",
    "        new_data = helpers.orthogonal_head_coordinates(\n",
    "            old_data, face_idxs=[1, 2, 3], add_origin=False\n",
    "        )\n",
    "        pickle.dump(new_data, new)"
   ]
  },
  {
   "cell_type": "markdown",
   "metadata": {},
   "source": [
    "# low pass filtered dataset\n",
    "\n",
    "applies a Butterworth filter of order 4 and cutoff frequency of 2Hz"
   ]
  },
  {
   "cell_type": "code",
   "execution_count": null,
   "metadata": {},
   "outputs": [],
   "source": [
    "sessions = [\n",
    "    \"bex_20230221\",\n",
    "    \"bex_20230222\",\n",
    "    \"bex_20230223\",\n",
    "    \"bex_20230224\",\n",
    "    \"bex_20230225\",\n",
    "    \"bex_20230226\",\n",
    "]\n",
    "dataset = dict()\n",
    "\n",
    "for session in sessions:\n",
    "    with open(f\"{session}/meta.yml\") as fyaml:\n",
    "        try:\n",
    "            monkey = yaml.safe_load(fyaml)\n",
    "            monkey[\"session\"] = session\n",
    "        except yaml.YAMLError as exc:\n",
    "            print(exc)\n",
    "    dataset[session] = dict()\n",
    "    dataset[session][\"keypoints\"] = pg.preprocess_keypoints(monkey)\n",
    "    dataset[session][\"spikes\"] = pg.preprocess_spikes(monkey)\n",
    "\n",
    "for session in dataset:\n",
    "    for tr in range(len(dataset[session][\"spikes\"])):\n",
    "        for ch in range(dataset[session][\"spikes\"][tr].shape[1]):\n",
    "            dataset[session][\"spikes\"][tr][:, ch] = helpers.lowpass_filter(\n",
    "                dataset[session][\"spikes\"][tr][:, ch], cutoff=2\n",
    "            )\n",
    "\n",
    "data = process(dataset)\n",
    "\n",
    "with open(\"pg_lowfilter.pkl\", \"wb\") as f:\n",
    "    pickle.dump(data, f)"
   ]
  },
  {
   "cell_type": "markdown",
   "metadata": {},
   "source": [
    "# medium pass filtered dataset\n",
    "\n",
    "applies a Butterworth filter of order 4 and cutoff frequency of 10Hz"
   ]
  },
  {
   "cell_type": "code",
   "execution_count": 7,
   "metadata": {},
   "outputs": [],
   "source": [
    "sessions = [\n",
    "    \"bex_20230221\",\n",
    "    \"bex_20230222\",\n",
    "    \"bex_20230223\",\n",
    "    \"bex_20230224\",\n",
    "    \"bex_20230225\",\n",
    "    \"bex_20230226\",\n",
    "]\n",
    "dataset = dict()\n",
    "\n",
    "for session in sessions:\n",
    "    with open(f\"{session}/meta.yaml\") as fyaml:\n",
    "        try:\n",
    "            monkey = yaml.safe_load(fyaml)\n",
    "            monkey[\"session\"] = session\n",
    "        except yaml.YAMLError as exc:\n",
    "            print(exc)\n",
    "    dataset[session] = dict()\n",
    "    dataset[session][\"keypoints\"] = pg.preprocess_keypoints(monkey)\n",
    "    dataset[session][\"spikes\"] = pg.preprocess_spikes(monkey)\n",
    "\n",
    "for session in dataset:\n",
    "    for tr in range(len(dataset[session][\"spikes\"])):\n",
    "        for ch in range(dataset[session][\"spikes\"][tr].shape[1]):\n",
    "            dataset[session][\"spikes\"][tr][:, ch] = helpers.lowpass_filter(\n",
    "                dataset[session][\"spikes\"][tr][:, ch], cutoff=10\n",
    "            )\n",
    "\n",
    "data = process(dataset)\n",
    "\n",
    "with open(\"pg_mediumfilter.pkl\", \"wb\") as f:\n",
    "    pickle.dump(data, f)"
   ]
  },
  {
   "cell_type": "markdown",
   "metadata": {},
   "source": [
    "# pca\n",
    "\n",
    "dataset where i extract the first two principal components of the neural data. should be easier to predict."
   ]
  },
  {
   "cell_type": "code",
   "execution_count": 8,
   "metadata": {},
   "outputs": [],
   "source": [
    "sessions = [\n",
    "    \"bex_20230221\",\n",
    "    \"bex_20230222\",\n",
    "    \"bex_20230223\",\n",
    "    \"bex_20230224\",\n",
    "    \"bex_20230225\",\n",
    "    \"bex_20230226\",\n",
    "]\n",
    "dataset = dict()\n",
    "n_comps = 2\n",
    "\n",
    "for session in sessions:\n",
    "    with open(f\"{session}/meta.yaml\") as fyaml:\n",
    "        try:\n",
    "            monkey = yaml.safe_load(fyaml)\n",
    "            monkey[\"session\"] = session\n",
    "        except yaml.YAMLError as exc:\n",
    "            print(exc)\n",
    "    dataset[session] = dict()\n",
    "    dataset[session][\"keypoints\"] = pg.preprocess_keypoints(monkey)\n",
    "    dataset[session][\"spikes\"] = pg.preprocess_spikes(\n",
    "        monkey, pca=True, n_comps=2\n",
    "    )\n",
    "\n",
    "data = process(dataset)\n",
    "\n",
    "with open(\"pg_pca.pkl\", \"wb\") as f:\n",
    "    pickle.dump(data, f)"
   ]
  },
  {
   "cell_type": "markdown",
   "metadata": {},
   "source": [
    "# random\n",
    "\n",
    "dataset with Gaussian noise as input. the goal is to check whether the model learns anything from the input."
   ]
  },
  {
   "cell_type": "code",
   "execution_count": 7,
   "metadata": {},
   "outputs": [],
   "source": [
    "with open(\"pg.pkl\", \"rb\") as old:\n",
    "    old_data = pickle.load(old)\n",
    "    with open(\"pg_random.pkl\", \"wb\") as new:\n",
    "        new_data = helpers.randomize(old_data)\n",
    "        pickle.dump(new_data, new)"
   ]
  },
  {
   "cell_type": "markdown",
   "metadata": {},
   "source": [
    "# debugging"
   ]
  },
  {
   "cell_type": "markdown",
   "metadata": {},
   "source": [
    "### dimensions"
   ]
  },
  {
   "cell_type": "code",
   "execution_count": 14,
   "metadata": {},
   "outputs": [],
   "source": [
    "def check(data):\n",
    "    for mode in (\"train\", \"validation\", \"test\"):\n",
    "        for session in data[mode]:\n",
    "            for trial in data[mode][session]:\n",
    "                keypoints = trial[\"keypoints\"]\n",
    "                spikes = trial[\"spikes\"]\n",
    "                assert keypoints.shape[0] == spikes.shape[0]\n",
    "\n",
    "\n",
    "with open(\"pg.pkl\", \"rb\") as f:\n",
    "    base = pickle.load(f)\n",
    "\n",
    "check(base)\n",
    "\n",
    "with open(\"pg_diff.pkl\", \"rb\") as f:\n",
    "    diff = pickle.load(f)\n",
    "\n",
    "check(diff)\n",
    "\n",
    "with open(\"pg_head.pkl\", \"rb\") as f:\n",
    "    head = pickle.load(f)\n",
    "\n",
    "check(head)\n",
    "\n",
    "# with open(\"pg_lowfilter.pkl\", \"rb\") as f:\n",
    "#     lowfilter = pickle.load(f)\n",
    "\n",
    "# check(lowfilter)\n",
    "\n",
    "# with open(\"pg_mediumfilter.pkl\", \"rb\") as f:\n",
    "#     mediumfilter = pickle.load(f)\n",
    "\n",
    "# check(mediumfilter)\n",
    "\n",
    "# with open(\"pg_pca.pkl\", \"rb\") as f:\n",
    "#     pca = pickle.load(f)\n",
    "\n",
    "# check(pca)\n",
    "\n",
    "with open(\"pg_random.pkl\", \"rb\") as f:\n",
    "    random = pickle.load(f)\n",
    "\n",
    "check(random)"
   ]
  },
  {
   "cell_type": "markdown",
   "metadata": {},
   "source": [
    "### poses"
   ]
  },
  {
   "cell_type": "code",
   "execution_count": 15,
   "metadata": {},
   "outputs": [],
   "source": [
    "skeleton = [\n",
    "    [16, 17],\n",
    "    [16, 10],\n",
    "    [16, 13],\n",
    "    [14, 13],\n",
    "    [14, 15],\n",
    "    [11, 10],\n",
    "    [11, 12],\n",
    "    [8, 7],\n",
    "    [8, 9],\n",
    "    [5, 4],\n",
    "    [5, 6],\n",
    "    [0, 16],\n",
    "    [0, 3],\n",
    "    [0, 4],\n",
    "    [0, 7],\n",
    "    [0, 1],\n",
    "    [0, 2],\n",
    "    [3, 1],\n",
    "    [3, 2],\n",
    "]"
   ]
  },
  {
   "cell_type": "code",
   "execution_count": 16,
   "metadata": {},
   "outputs": [
    {
     "name": "stdout",
     "output_type": "stream",
     "text": [
      "10080\n",
      "(54,)\n"
     ]
    },
    {
     "data": {
      "application/vnd.plotly.v1+json": {
       "config": {
        "plotlyServerURL": "https://plot.ly"
       },
       "data": [
        {
         "line": {
          "color": "blue",
          "width": 7
         },
         "marker": {
          "color": "black",
          "size": 5
         },
         "mode": "lines+markers",
         "type": "scatter3d",
         "x": [
          0.2329264131102915,
          0.1936491801654081
         ],
         "y": [
          0.6973493279186114,
          0.6431889535111954
         ],
         "z": [
          -0.31204552293423515,
          -0.31994116472457335
         ]
        },
        {
         "line": {
          "color": "blue",
          "width": 7
         },
         "marker": {
          "color": "black",
          "size": 5
         },
         "mode": "lines+markers",
         "type": "scatter3d",
         "x": [
          0.2329264131102915,
          0.20397263874411187
         ],
         "y": [
          0.6973493279186114,
          0.7048836095075759
         ],
         "z": [
          -0.31204552293423515,
          -0.30313246564894314
         ]
        },
        {
         "line": {
          "color": "blue",
          "width": 7
         },
         "marker": {
          "color": "black",
          "size": 5
         },
         "mode": "lines+markers",
         "type": "scatter3d",
         "x": [
          0.2329264131102915,
          0.25812451277358894
         ],
         "y": [
          0.6973493279186114,
          0.7326091224122511
         ],
         "z": [
          -0.31204552293423515,
          -0.31568065669763656
         ]
        },
        {
         "line": {
          "color": "blue",
          "width": 7
         },
         "marker": {
          "color": "black",
          "size": 5
         },
         "mode": "lines+markers",
         "type": "scatter3d",
         "x": [
          0.2533035883731589,
          0.25812451277358894
         ],
         "y": [
          0.7556407203147819,
          0.7326091224122511
         ],
         "z": [
          -0.2765313788344935,
          -0.31568065669763656
         ]
        },
        {
         "line": {
          "color": "blue",
          "width": 7
         },
         "marker": {
          "color": "black",
          "size": 5
         },
         "mode": "lines+markers",
         "type": "scatter3d",
         "x": [
          0.2533035883731589,
          0.2615230551894301
         ],
         "y": [
          0.7556407203147819,
          0.7582916429940634
         ],
         "z": [
          -0.2765313788344935,
          -0.3104059619669909
         ]
        },
        {
         "line": {
          "color": "blue",
          "width": 7
         },
         "marker": {
          "color": "black",
          "size": 5
         },
         "mode": "lines+markers",
         "type": "scatter3d",
         "x": [
          0.18813223726939676,
          0.20397263874411187
         ],
         "y": [
          0.7424790182593697,
          0.7048836095075759
         ],
         "z": [
          -0.2740433779900042,
          -0.30313246564894314
         ]
        },
        {
         "line": {
          "color": "blue",
          "width": 7
         },
         "marker": {
          "color": "black",
          "size": 5
         },
         "mode": "lines+markers",
         "type": "scatter3d",
         "x": [
          0.18813223726939676,
          0.17792285307360323
         ],
         "y": [
          0.7424790182593697,
          0.7358736997427484
         ],
         "z": [
          -0.2740433779900042,
          -0.3118839639221942
         ]
        },
        {
         "line": {
          "color": "blue",
          "width": 7
         },
         "marker": {
          "color": "black",
          "size": 5
         },
         "mode": "lines+markers",
         "type": "scatter3d",
         "x": [
          0.2243947141517202,
          0.241326051692619
         ],
         "y": [
          0.7442052458408488,
          0.7683967257804494
         ],
         "z": [
          -0.25067625842218455,
          -0.21383250573672563
         ]
        },
        {
         "line": {
          "color": "blue",
          "width": 7
         },
         "marker": {
          "color": "black",
          "size": 5
         },
         "mode": "lines+markers",
         "type": "scatter3d",
         "x": [
          0.2243947141517202,
          0.1801146088107035
         ],
         "y": [
          0.7442052458408488,
          0.9112276017787362
         ],
         "z": [
          -0.25067625842218455,
          -0.24570270247266235
         ]
        },
        {
         "line": {
          "color": "blue",
          "width": 7
         },
         "marker": {
          "color": "black",
          "size": 5
         },
         "mode": "lines+markers",
         "type": "scatter3d",
         "x": [
          0.1819167450854391,
          0.19219149355493537
         ],
         "y": [
          0.7525826018506394,
          0.7496719177283311
         ],
         "z": [
          -0.2566519828250414,
          -0.21581381345895378
         ]
        },
        {
         "line": {
          "color": "blue",
          "width": 7
         },
         "marker": {
          "color": "black",
          "size": 5
         },
         "mode": "lines+markers",
         "type": "scatter3d",
         "x": [
          0.1819167450854391,
          0.1759054406911953
         ],
         "y": [
          0.7525826018506394,
          0.7844289507857143
         ],
         "z": [
          -0.2566519828250414,
          -0.23079587550702585
         ]
        },
        {
         "line": {
          "color": "blue",
          "width": 7
         },
         "marker": {
          "color": "black",
          "size": 5
         },
         "mode": "lines+markers",
         "type": "scatter3d",
         "x": [
          0.21795307126969243,
          0.2329264131102915
         ],
         "y": [
          0.7500810337748607,
          0.6973493279186114
         ],
         "z": [
          -0.19577728579604892,
          -0.31204552293423515
         ]
        },
        {
         "line": {
          "color": "blue",
          "width": 7
         },
         "marker": {
          "color": "black",
          "size": 5
         },
         "mode": "lines+markers",
         "type": "scatter3d",
         "x": [
          0.21795307126969243,
          0.1996879273781329
         ],
         "y": [
          0.7500810337748607,
          0.7931436299573273
         ],
         "z": [
          -0.19577728579604892,
          -0.19535219673010829
         ]
        },
        {
         "line": {
          "color": "blue",
          "width": 7
         },
         "marker": {
          "color": "black",
          "size": 5
         },
         "mode": "lines+markers",
         "type": "scatter3d",
         "x": [
          0.21795307126969243,
          0.19219149355493537
         ],
         "y": [
          0.7500810337748607,
          0.7496719177283311
         ],
         "z": [
          -0.19577728579604892,
          -0.21581381345895378
         ]
        },
        {
         "line": {
          "color": "blue",
          "width": 7
         },
         "marker": {
          "color": "black",
          "size": 5
         },
         "mode": "lines+markers",
         "type": "scatter3d",
         "x": [
          0.21795307126969243,
          0.241326051692619
         ],
         "y": [
          0.7500810337748607,
          0.7683967257804494
         ],
         "z": [
          -0.19577728579604892,
          -0.21383250573672563
         ]
        },
        {
         "line": {
          "color": "blue",
          "width": 7
         },
         "marker": {
          "color": "black",
          "size": 5
         },
         "mode": "lines+markers",
         "type": "scatter3d",
         "x": [
          0.21795307126969243,
          0.19517183919931624
         ],
         "y": [
          0.7500810337748607,
          0.7516791854923535
         ],
         "z": [
          -0.19577728579604892,
          -0.18937202463961145
         ]
        },
        {
         "line": {
          "color": "blue",
          "width": 7
         },
         "marker": {
          "color": "black",
          "size": 5
         },
         "mode": "lines+markers",
         "type": "scatter3d",
         "x": [
          0.21795307126969243,
          0.23221812151882748
         ],
         "y": [
          0.7500810337748607,
          0.7671478572350139
         ],
         "z": [
          -0.19577728579604892,
          -0.1885682921774232
         ]
        },
        {
         "line": {
          "color": "blue",
          "width": 7
         },
         "marker": {
          "color": "black",
          "size": 5
         },
         "mode": "lines+markers",
         "type": "scatter3d",
         "x": [
          0.1996879273781329,
          0.19517183919931624
         ],
         "y": [
          0.7931436299573273,
          0.7516791854923535
         ],
         "z": [
          -0.19535219673010829,
          -0.18937202463961145
         ]
        },
        {
         "line": {
          "color": "blue",
          "width": 7
         },
         "marker": {
          "color": "black",
          "size": 5
         },
         "mode": "lines+markers",
         "type": "scatter3d",
         "x": [
          0.1996879273781329,
          0.23221812151882748
         ],
         "y": [
          0.7931436299573273,
          0.7671478572350139
         ],
         "z": [
          -0.19535219673010829,
          -0.1885682921774232
         ]
        }
       ],
       "layout": {
        "scene": {
         "xaxis": {
          "visible": false
         },
         "yaxis": {
          "visible": false
         },
         "zaxis": {
          "visible": false
         }
        },
        "showlegend": false,
        "template": {
         "data": {
          "bar": [
           {
            "error_x": {
             "color": "#2a3f5f"
            },
            "error_y": {
             "color": "#2a3f5f"
            },
            "marker": {
             "line": {
              "color": "#E5ECF6",
              "width": 0.5
             },
             "pattern": {
              "fillmode": "overlay",
              "size": 10,
              "solidity": 0.2
             }
            },
            "type": "bar"
           }
          ],
          "barpolar": [
           {
            "marker": {
             "line": {
              "color": "#E5ECF6",
              "width": 0.5
             },
             "pattern": {
              "fillmode": "overlay",
              "size": 10,
              "solidity": 0.2
             }
            },
            "type": "barpolar"
           }
          ],
          "carpet": [
           {
            "aaxis": {
             "endlinecolor": "#2a3f5f",
             "gridcolor": "white",
             "linecolor": "white",
             "minorgridcolor": "white",
             "startlinecolor": "#2a3f5f"
            },
            "baxis": {
             "endlinecolor": "#2a3f5f",
             "gridcolor": "white",
             "linecolor": "white",
             "minorgridcolor": "white",
             "startlinecolor": "#2a3f5f"
            },
            "type": "carpet"
           }
          ],
          "choropleth": [
           {
            "colorbar": {
             "outlinewidth": 0,
             "ticks": ""
            },
            "type": "choropleth"
           }
          ],
          "contour": [
           {
            "colorbar": {
             "outlinewidth": 0,
             "ticks": ""
            },
            "colorscale": [
             [
              0,
              "#0d0887"
             ],
             [
              0.1111111111111111,
              "#46039f"
             ],
             [
              0.2222222222222222,
              "#7201a8"
             ],
             [
              0.3333333333333333,
              "#9c179e"
             ],
             [
              0.4444444444444444,
              "#bd3786"
             ],
             [
              0.5555555555555556,
              "#d8576b"
             ],
             [
              0.6666666666666666,
              "#ed7953"
             ],
             [
              0.7777777777777778,
              "#fb9f3a"
             ],
             [
              0.8888888888888888,
              "#fdca26"
             ],
             [
              1,
              "#f0f921"
             ]
            ],
            "type": "contour"
           }
          ],
          "contourcarpet": [
           {
            "colorbar": {
             "outlinewidth": 0,
             "ticks": ""
            },
            "type": "contourcarpet"
           }
          ],
          "heatmap": [
           {
            "colorbar": {
             "outlinewidth": 0,
             "ticks": ""
            },
            "colorscale": [
             [
              0,
              "#0d0887"
             ],
             [
              0.1111111111111111,
              "#46039f"
             ],
             [
              0.2222222222222222,
              "#7201a8"
             ],
             [
              0.3333333333333333,
              "#9c179e"
             ],
             [
              0.4444444444444444,
              "#bd3786"
             ],
             [
              0.5555555555555556,
              "#d8576b"
             ],
             [
              0.6666666666666666,
              "#ed7953"
             ],
             [
              0.7777777777777778,
              "#fb9f3a"
             ],
             [
              0.8888888888888888,
              "#fdca26"
             ],
             [
              1,
              "#f0f921"
             ]
            ],
            "type": "heatmap"
           }
          ],
          "heatmapgl": [
           {
            "colorbar": {
             "outlinewidth": 0,
             "ticks": ""
            },
            "colorscale": [
             [
              0,
              "#0d0887"
             ],
             [
              0.1111111111111111,
              "#46039f"
             ],
             [
              0.2222222222222222,
              "#7201a8"
             ],
             [
              0.3333333333333333,
              "#9c179e"
             ],
             [
              0.4444444444444444,
              "#bd3786"
             ],
             [
              0.5555555555555556,
              "#d8576b"
             ],
             [
              0.6666666666666666,
              "#ed7953"
             ],
             [
              0.7777777777777778,
              "#fb9f3a"
             ],
             [
              0.8888888888888888,
              "#fdca26"
             ],
             [
              1,
              "#f0f921"
             ]
            ],
            "type": "heatmapgl"
           }
          ],
          "histogram": [
           {
            "marker": {
             "pattern": {
              "fillmode": "overlay",
              "size": 10,
              "solidity": 0.2
             }
            },
            "type": "histogram"
           }
          ],
          "histogram2d": [
           {
            "colorbar": {
             "outlinewidth": 0,
             "ticks": ""
            },
            "colorscale": [
             [
              0,
              "#0d0887"
             ],
             [
              0.1111111111111111,
              "#46039f"
             ],
             [
              0.2222222222222222,
              "#7201a8"
             ],
             [
              0.3333333333333333,
              "#9c179e"
             ],
             [
              0.4444444444444444,
              "#bd3786"
             ],
             [
              0.5555555555555556,
              "#d8576b"
             ],
             [
              0.6666666666666666,
              "#ed7953"
             ],
             [
              0.7777777777777778,
              "#fb9f3a"
             ],
             [
              0.8888888888888888,
              "#fdca26"
             ],
             [
              1,
              "#f0f921"
             ]
            ],
            "type": "histogram2d"
           }
          ],
          "histogram2dcontour": [
           {
            "colorbar": {
             "outlinewidth": 0,
             "ticks": ""
            },
            "colorscale": [
             [
              0,
              "#0d0887"
             ],
             [
              0.1111111111111111,
              "#46039f"
             ],
             [
              0.2222222222222222,
              "#7201a8"
             ],
             [
              0.3333333333333333,
              "#9c179e"
             ],
             [
              0.4444444444444444,
              "#bd3786"
             ],
             [
              0.5555555555555556,
              "#d8576b"
             ],
             [
              0.6666666666666666,
              "#ed7953"
             ],
             [
              0.7777777777777778,
              "#fb9f3a"
             ],
             [
              0.8888888888888888,
              "#fdca26"
             ],
             [
              1,
              "#f0f921"
             ]
            ],
            "type": "histogram2dcontour"
           }
          ],
          "mesh3d": [
           {
            "colorbar": {
             "outlinewidth": 0,
             "ticks": ""
            },
            "type": "mesh3d"
           }
          ],
          "parcoords": [
           {
            "line": {
             "colorbar": {
              "outlinewidth": 0,
              "ticks": ""
             }
            },
            "type": "parcoords"
           }
          ],
          "pie": [
           {
            "automargin": true,
            "type": "pie"
           }
          ],
          "scatter": [
           {
            "fillpattern": {
             "fillmode": "overlay",
             "size": 10,
             "solidity": 0.2
            },
            "type": "scatter"
           }
          ],
          "scatter3d": [
           {
            "line": {
             "colorbar": {
              "outlinewidth": 0,
              "ticks": ""
             }
            },
            "marker": {
             "colorbar": {
              "outlinewidth": 0,
              "ticks": ""
             }
            },
            "type": "scatter3d"
           }
          ],
          "scattercarpet": [
           {
            "marker": {
             "colorbar": {
              "outlinewidth": 0,
              "ticks": ""
             }
            },
            "type": "scattercarpet"
           }
          ],
          "scattergeo": [
           {
            "marker": {
             "colorbar": {
              "outlinewidth": 0,
              "ticks": ""
             }
            },
            "type": "scattergeo"
           }
          ],
          "scattergl": [
           {
            "marker": {
             "colorbar": {
              "outlinewidth": 0,
              "ticks": ""
             }
            },
            "type": "scattergl"
           }
          ],
          "scattermapbox": [
           {
            "marker": {
             "colorbar": {
              "outlinewidth": 0,
              "ticks": ""
             }
            },
            "type": "scattermapbox"
           }
          ],
          "scatterpolar": [
           {
            "marker": {
             "colorbar": {
              "outlinewidth": 0,
              "ticks": ""
             }
            },
            "type": "scatterpolar"
           }
          ],
          "scatterpolargl": [
           {
            "marker": {
             "colorbar": {
              "outlinewidth": 0,
              "ticks": ""
             }
            },
            "type": "scatterpolargl"
           }
          ],
          "scatterternary": [
           {
            "marker": {
             "colorbar": {
              "outlinewidth": 0,
              "ticks": ""
             }
            },
            "type": "scatterternary"
           }
          ],
          "surface": [
           {
            "colorbar": {
             "outlinewidth": 0,
             "ticks": ""
            },
            "colorscale": [
             [
              0,
              "#0d0887"
             ],
             [
              0.1111111111111111,
              "#46039f"
             ],
             [
              0.2222222222222222,
              "#7201a8"
             ],
             [
              0.3333333333333333,
              "#9c179e"
             ],
             [
              0.4444444444444444,
              "#bd3786"
             ],
             [
              0.5555555555555556,
              "#d8576b"
             ],
             [
              0.6666666666666666,
              "#ed7953"
             ],
             [
              0.7777777777777778,
              "#fb9f3a"
             ],
             [
              0.8888888888888888,
              "#fdca26"
             ],
             [
              1,
              "#f0f921"
             ]
            ],
            "type": "surface"
           }
          ],
          "table": [
           {
            "cells": {
             "fill": {
              "color": "#EBF0F8"
             },
             "line": {
              "color": "white"
             }
            },
            "header": {
             "fill": {
              "color": "#C8D4E3"
             },
             "line": {
              "color": "white"
             }
            },
            "type": "table"
           }
          ]
         },
         "layout": {
          "annotationdefaults": {
           "arrowcolor": "#2a3f5f",
           "arrowhead": 0,
           "arrowwidth": 1
          },
          "autotypenumbers": "strict",
          "coloraxis": {
           "colorbar": {
            "outlinewidth": 0,
            "ticks": ""
           }
          },
          "colorscale": {
           "diverging": [
            [
             0,
             "#8e0152"
            ],
            [
             0.1,
             "#c51b7d"
            ],
            [
             0.2,
             "#de77ae"
            ],
            [
             0.3,
             "#f1b6da"
            ],
            [
             0.4,
             "#fde0ef"
            ],
            [
             0.5,
             "#f7f7f7"
            ],
            [
             0.6,
             "#e6f5d0"
            ],
            [
             0.7,
             "#b8e186"
            ],
            [
             0.8,
             "#7fbc41"
            ],
            [
             0.9,
             "#4d9221"
            ],
            [
             1,
             "#276419"
            ]
           ],
           "sequential": [
            [
             0,
             "#0d0887"
            ],
            [
             0.1111111111111111,
             "#46039f"
            ],
            [
             0.2222222222222222,
             "#7201a8"
            ],
            [
             0.3333333333333333,
             "#9c179e"
            ],
            [
             0.4444444444444444,
             "#bd3786"
            ],
            [
             0.5555555555555556,
             "#d8576b"
            ],
            [
             0.6666666666666666,
             "#ed7953"
            ],
            [
             0.7777777777777778,
             "#fb9f3a"
            ],
            [
             0.8888888888888888,
             "#fdca26"
            ],
            [
             1,
             "#f0f921"
            ]
           ],
           "sequentialminus": [
            [
             0,
             "#0d0887"
            ],
            [
             0.1111111111111111,
             "#46039f"
            ],
            [
             0.2222222222222222,
             "#7201a8"
            ],
            [
             0.3333333333333333,
             "#9c179e"
            ],
            [
             0.4444444444444444,
             "#bd3786"
            ],
            [
             0.5555555555555556,
             "#d8576b"
            ],
            [
             0.6666666666666666,
             "#ed7953"
            ],
            [
             0.7777777777777778,
             "#fb9f3a"
            ],
            [
             0.8888888888888888,
             "#fdca26"
            ],
            [
             1,
             "#f0f921"
            ]
           ]
          },
          "colorway": [
           "#636efa",
           "#EF553B",
           "#00cc96",
           "#ab63fa",
           "#FFA15A",
           "#19d3f3",
           "#FF6692",
           "#B6E880",
           "#FF97FF",
           "#FECB52"
          ],
          "font": {
           "color": "#2a3f5f"
          },
          "geo": {
           "bgcolor": "white",
           "lakecolor": "white",
           "landcolor": "#E5ECF6",
           "showlakes": true,
           "showland": true,
           "subunitcolor": "white"
          },
          "hoverlabel": {
           "align": "left"
          },
          "hovermode": "closest",
          "mapbox": {
           "style": "light"
          },
          "paper_bgcolor": "white",
          "plot_bgcolor": "#E5ECF6",
          "polar": {
           "angularaxis": {
            "gridcolor": "white",
            "linecolor": "white",
            "ticks": ""
           },
           "bgcolor": "#E5ECF6",
           "radialaxis": {
            "gridcolor": "white",
            "linecolor": "white",
            "ticks": ""
           }
          },
          "scene": {
           "xaxis": {
            "backgroundcolor": "#E5ECF6",
            "gridcolor": "white",
            "gridwidth": 2,
            "linecolor": "white",
            "showbackground": true,
            "ticks": "",
            "zerolinecolor": "white"
           },
           "yaxis": {
            "backgroundcolor": "#E5ECF6",
            "gridcolor": "white",
            "gridwidth": 2,
            "linecolor": "white",
            "showbackground": true,
            "ticks": "",
            "zerolinecolor": "white"
           },
           "zaxis": {
            "backgroundcolor": "#E5ECF6",
            "gridcolor": "white",
            "gridwidth": 2,
            "linecolor": "white",
            "showbackground": true,
            "ticks": "",
            "zerolinecolor": "white"
           }
          },
          "shapedefaults": {
           "line": {
            "color": "#2a3f5f"
           }
          },
          "ternary": {
           "aaxis": {
            "gridcolor": "white",
            "linecolor": "white",
            "ticks": ""
           },
           "baxis": {
            "gridcolor": "white",
            "linecolor": "white",
            "ticks": ""
           },
           "bgcolor": "#E5ECF6",
           "caxis": {
            "gridcolor": "white",
            "linecolor": "white",
            "ticks": ""
           }
          },
          "title": {
           "x": 0.05
          },
          "xaxis": {
           "automargin": true,
           "gridcolor": "white",
           "linecolor": "white",
           "ticks": "",
           "title": {
            "standoff": 15
           },
           "zerolinecolor": "white",
           "zerolinewidth": 2
          },
          "yaxis": {
           "automargin": true,
           "gridcolor": "white",
           "linecolor": "white",
           "ticks": "",
           "title": {
            "standoff": 15
           },
           "zerolinecolor": "white",
           "zerolinewidth": 2
          }
         }
        }
       }
      }
     },
     "metadata": {},
     "output_type": "display_data"
    }
   ],
   "source": [
    "with open(\"pg.pkl\", \"rb\") as f:\n",
    "    data = pickle.load(f)\n",
    "\n",
    "keypoints = data[\"train\"][\"bex_20230226\"][0][\"keypoints\"]\n",
    "print(len(keypoints))\n",
    "keypoints = keypoints[2900]\n",
    "print(keypoints.shape)\n",
    "keypoints = np.reshape(keypoints, (-1, 18, 3))\n",
    "vci.plot.plot_pose(keypoints[0], skeleton)"
   ]
  },
  {
   "cell_type": "code",
   "execution_count": 17,
   "metadata": {},
   "outputs": [
    {
     "name": "stdout",
     "output_type": "stream",
     "text": [
      "10080\n",
      "(54,)\n"
     ]
    },
    {
     "data": {
      "application/vnd.plotly.v1+json": {
       "config": {
        "plotlyServerURL": "https://plot.ly"
       },
       "data": [
        {
         "line": {
          "color": "blue",
          "width": 7
         },
         "marker": {
          "color": "black",
          "size": 5
         },
         "mode": "lines+markers",
         "type": "scatter3d",
         "x": [
          0.2329264131102915,
          0.1936491801654081
         ],
         "y": [
          0.6973493279186114,
          0.6431889535111954
         ],
         "z": [
          -0.31204552293423515,
          -0.31994116472457335
         ]
        },
        {
         "line": {
          "color": "blue",
          "width": 7
         },
         "marker": {
          "color": "black",
          "size": 5
         },
         "mode": "lines+markers",
         "type": "scatter3d",
         "x": [
          0.2329264131102915,
          0.20397263874411187
         ],
         "y": [
          0.6973493279186114,
          0.7048836095075759
         ],
         "z": [
          -0.31204552293423515,
          -0.30313246564894314
         ]
        },
        {
         "line": {
          "color": "blue",
          "width": 7
         },
         "marker": {
          "color": "black",
          "size": 5
         },
         "mode": "lines+markers",
         "type": "scatter3d",
         "x": [
          0.2329264131102915,
          0.25812451277358894
         ],
         "y": [
          0.6973493279186114,
          0.7326091224122511
         ],
         "z": [
          -0.31204552293423515,
          -0.31568065669763656
         ]
        },
        {
         "line": {
          "color": "blue",
          "width": 7
         },
         "marker": {
          "color": "black",
          "size": 5
         },
         "mode": "lines+markers",
         "type": "scatter3d",
         "x": [
          0.2533035883731589,
          0.25812451277358894
         ],
         "y": [
          0.7556407203147819,
          0.7326091224122511
         ],
         "z": [
          -0.2765313788344935,
          -0.31568065669763656
         ]
        },
        {
         "line": {
          "color": "blue",
          "width": 7
         },
         "marker": {
          "color": "black",
          "size": 5
         },
         "mode": "lines+markers",
         "type": "scatter3d",
         "x": [
          0.2533035883731589,
          0.2615230551894301
         ],
         "y": [
          0.7556407203147819,
          0.7582916429940634
         ],
         "z": [
          -0.2765313788344935,
          -0.3104059619669909
         ]
        },
        {
         "line": {
          "color": "blue",
          "width": 7
         },
         "marker": {
          "color": "black",
          "size": 5
         },
         "mode": "lines+markers",
         "type": "scatter3d",
         "x": [
          0.18813223726939676,
          0.20397263874411187
         ],
         "y": [
          0.7424790182593697,
          0.7048836095075759
         ],
         "z": [
          -0.2740433779900042,
          -0.30313246564894314
         ]
        },
        {
         "line": {
          "color": "blue",
          "width": 7
         },
         "marker": {
          "color": "black",
          "size": 5
         },
         "mode": "lines+markers",
         "type": "scatter3d",
         "x": [
          0.18813223726939676,
          0.17792285307360323
         ],
         "y": [
          0.7424790182593697,
          0.7358736997427484
         ],
         "z": [
          -0.2740433779900042,
          -0.3118839639221942
         ]
        },
        {
         "line": {
          "color": "blue",
          "width": 7
         },
         "marker": {
          "color": "black",
          "size": 5
         },
         "mode": "lines+markers",
         "type": "scatter3d",
         "x": [
          0.2243947141517202,
          0.241326051692619
         ],
         "y": [
          0.7442052458408488,
          0.7683967257804494
         ],
         "z": [
          -0.25067625842218455,
          -0.21383250573672563
         ]
        },
        {
         "line": {
          "color": "blue",
          "width": 7
         },
         "marker": {
          "color": "black",
          "size": 5
         },
         "mode": "lines+markers",
         "type": "scatter3d",
         "x": [
          0.2243947141517202,
          0.1801146088107035
         ],
         "y": [
          0.7442052458408488,
          0.9112276017787362
         ],
         "z": [
          -0.25067625842218455,
          -0.24570270247266235
         ]
        },
        {
         "line": {
          "color": "blue",
          "width": 7
         },
         "marker": {
          "color": "black",
          "size": 5
         },
         "mode": "lines+markers",
         "type": "scatter3d",
         "x": [
          0.1819167450854391,
          0.19219149355493537
         ],
         "y": [
          0.7525826018506394,
          0.7496719177283311
         ],
         "z": [
          -0.2566519828250414,
          -0.21581381345895378
         ]
        },
        {
         "line": {
          "color": "blue",
          "width": 7
         },
         "marker": {
          "color": "black",
          "size": 5
         },
         "mode": "lines+markers",
         "type": "scatter3d",
         "x": [
          0.1819167450854391,
          0.1759054406911953
         ],
         "y": [
          0.7525826018506394,
          0.7844289507857143
         ],
         "z": [
          -0.2566519828250414,
          -0.23079587550702585
         ]
        },
        {
         "line": {
          "color": "blue",
          "width": 7
         },
         "marker": {
          "color": "black",
          "size": 5
         },
         "mode": "lines+markers",
         "type": "scatter3d",
         "x": [
          0.21795307126969243,
          0.2329264131102915
         ],
         "y": [
          0.7500810337748607,
          0.6973493279186114
         ],
         "z": [
          -0.19577728579604892,
          -0.31204552293423515
         ]
        },
        {
         "line": {
          "color": "blue",
          "width": 7
         },
         "marker": {
          "color": "black",
          "size": 5
         },
         "mode": "lines+markers",
         "type": "scatter3d",
         "x": [
          0.21795307126969243,
          0.1996879273781329
         ],
         "y": [
          0.7500810337748607,
          0.7931436299573273
         ],
         "z": [
          -0.19577728579604892,
          -0.19535219673010829
         ]
        },
        {
         "line": {
          "color": "blue",
          "width": 7
         },
         "marker": {
          "color": "black",
          "size": 5
         },
         "mode": "lines+markers",
         "type": "scatter3d",
         "x": [
          0.21795307126969243,
          0.19219149355493537
         ],
         "y": [
          0.7500810337748607,
          0.7496719177283311
         ],
         "z": [
          -0.19577728579604892,
          -0.21581381345895378
         ]
        },
        {
         "line": {
          "color": "blue",
          "width": 7
         },
         "marker": {
          "color": "black",
          "size": 5
         },
         "mode": "lines+markers",
         "type": "scatter3d",
         "x": [
          0.21795307126969243,
          0.241326051692619
         ],
         "y": [
          0.7500810337748607,
          0.7683967257804494
         ],
         "z": [
          -0.19577728579604892,
          -0.21383250573672563
         ]
        },
        {
         "line": {
          "color": "blue",
          "width": 7
         },
         "marker": {
          "color": "black",
          "size": 5
         },
         "mode": "lines+markers",
         "type": "scatter3d",
         "x": [
          0.21795307126969243,
          0.19517183919931624
         ],
         "y": [
          0.7500810337748607,
          0.7516791854923535
         ],
         "z": [
          -0.19577728579604892,
          -0.18937202463961145
         ]
        },
        {
         "line": {
          "color": "blue",
          "width": 7
         },
         "marker": {
          "color": "black",
          "size": 5
         },
         "mode": "lines+markers",
         "type": "scatter3d",
         "x": [
          0.21795307126969243,
          0.23221812151882748
         ],
         "y": [
          0.7500810337748607,
          0.7671478572350139
         ],
         "z": [
          -0.19577728579604892,
          -0.1885682921774232
         ]
        },
        {
         "line": {
          "color": "blue",
          "width": 7
         },
         "marker": {
          "color": "black",
          "size": 5
         },
         "mode": "lines+markers",
         "type": "scatter3d",
         "x": [
          0.1996879273781329,
          0.19517183919931624
         ],
         "y": [
          0.7931436299573273,
          0.7516791854923535
         ],
         "z": [
          -0.19535219673010829,
          -0.18937202463961145
         ]
        },
        {
         "line": {
          "color": "blue",
          "width": 7
         },
         "marker": {
          "color": "black",
          "size": 5
         },
         "mode": "lines+markers",
         "type": "scatter3d",
         "x": [
          0.1996879273781329,
          0.23221812151882748
         ],
         "y": [
          0.7931436299573273,
          0.7671478572350139
         ],
         "z": [
          -0.19535219673010829,
          -0.1885682921774232
         ]
        }
       ],
       "layout": {
        "scene": {
         "xaxis": {
          "visible": false
         },
         "yaxis": {
          "visible": false
         },
         "zaxis": {
          "visible": false
         }
        },
        "showlegend": false,
        "template": {
         "data": {
          "bar": [
           {
            "error_x": {
             "color": "#2a3f5f"
            },
            "error_y": {
             "color": "#2a3f5f"
            },
            "marker": {
             "line": {
              "color": "#E5ECF6",
              "width": 0.5
             },
             "pattern": {
              "fillmode": "overlay",
              "size": 10,
              "solidity": 0.2
             }
            },
            "type": "bar"
           }
          ],
          "barpolar": [
           {
            "marker": {
             "line": {
              "color": "#E5ECF6",
              "width": 0.5
             },
             "pattern": {
              "fillmode": "overlay",
              "size": 10,
              "solidity": 0.2
             }
            },
            "type": "barpolar"
           }
          ],
          "carpet": [
           {
            "aaxis": {
             "endlinecolor": "#2a3f5f",
             "gridcolor": "white",
             "linecolor": "white",
             "minorgridcolor": "white",
             "startlinecolor": "#2a3f5f"
            },
            "baxis": {
             "endlinecolor": "#2a3f5f",
             "gridcolor": "white",
             "linecolor": "white",
             "minorgridcolor": "white",
             "startlinecolor": "#2a3f5f"
            },
            "type": "carpet"
           }
          ],
          "choropleth": [
           {
            "colorbar": {
             "outlinewidth": 0,
             "ticks": ""
            },
            "type": "choropleth"
           }
          ],
          "contour": [
           {
            "colorbar": {
             "outlinewidth": 0,
             "ticks": ""
            },
            "colorscale": [
             [
              0,
              "#0d0887"
             ],
             [
              0.1111111111111111,
              "#46039f"
             ],
             [
              0.2222222222222222,
              "#7201a8"
             ],
             [
              0.3333333333333333,
              "#9c179e"
             ],
             [
              0.4444444444444444,
              "#bd3786"
             ],
             [
              0.5555555555555556,
              "#d8576b"
             ],
             [
              0.6666666666666666,
              "#ed7953"
             ],
             [
              0.7777777777777778,
              "#fb9f3a"
             ],
             [
              0.8888888888888888,
              "#fdca26"
             ],
             [
              1,
              "#f0f921"
             ]
            ],
            "type": "contour"
           }
          ],
          "contourcarpet": [
           {
            "colorbar": {
             "outlinewidth": 0,
             "ticks": ""
            },
            "type": "contourcarpet"
           }
          ],
          "heatmap": [
           {
            "colorbar": {
             "outlinewidth": 0,
             "ticks": ""
            },
            "colorscale": [
             [
              0,
              "#0d0887"
             ],
             [
              0.1111111111111111,
              "#46039f"
             ],
             [
              0.2222222222222222,
              "#7201a8"
             ],
             [
              0.3333333333333333,
              "#9c179e"
             ],
             [
              0.4444444444444444,
              "#bd3786"
             ],
             [
              0.5555555555555556,
              "#d8576b"
             ],
             [
              0.6666666666666666,
              "#ed7953"
             ],
             [
              0.7777777777777778,
              "#fb9f3a"
             ],
             [
              0.8888888888888888,
              "#fdca26"
             ],
             [
              1,
              "#f0f921"
             ]
            ],
            "type": "heatmap"
           }
          ],
          "heatmapgl": [
           {
            "colorbar": {
             "outlinewidth": 0,
             "ticks": ""
            },
            "colorscale": [
             [
              0,
              "#0d0887"
             ],
             [
              0.1111111111111111,
              "#46039f"
             ],
             [
              0.2222222222222222,
              "#7201a8"
             ],
             [
              0.3333333333333333,
              "#9c179e"
             ],
             [
              0.4444444444444444,
              "#bd3786"
             ],
             [
              0.5555555555555556,
              "#d8576b"
             ],
             [
              0.6666666666666666,
              "#ed7953"
             ],
             [
              0.7777777777777778,
              "#fb9f3a"
             ],
             [
              0.8888888888888888,
              "#fdca26"
             ],
             [
              1,
              "#f0f921"
             ]
            ],
            "type": "heatmapgl"
           }
          ],
          "histogram": [
           {
            "marker": {
             "pattern": {
              "fillmode": "overlay",
              "size": 10,
              "solidity": 0.2
             }
            },
            "type": "histogram"
           }
          ],
          "histogram2d": [
           {
            "colorbar": {
             "outlinewidth": 0,
             "ticks": ""
            },
            "colorscale": [
             [
              0,
              "#0d0887"
             ],
             [
              0.1111111111111111,
              "#46039f"
             ],
             [
              0.2222222222222222,
              "#7201a8"
             ],
             [
              0.3333333333333333,
              "#9c179e"
             ],
             [
              0.4444444444444444,
              "#bd3786"
             ],
             [
              0.5555555555555556,
              "#d8576b"
             ],
             [
              0.6666666666666666,
              "#ed7953"
             ],
             [
              0.7777777777777778,
              "#fb9f3a"
             ],
             [
              0.8888888888888888,
              "#fdca26"
             ],
             [
              1,
              "#f0f921"
             ]
            ],
            "type": "histogram2d"
           }
          ],
          "histogram2dcontour": [
           {
            "colorbar": {
             "outlinewidth": 0,
             "ticks": ""
            },
            "colorscale": [
             [
              0,
              "#0d0887"
             ],
             [
              0.1111111111111111,
              "#46039f"
             ],
             [
              0.2222222222222222,
              "#7201a8"
             ],
             [
              0.3333333333333333,
              "#9c179e"
             ],
             [
              0.4444444444444444,
              "#bd3786"
             ],
             [
              0.5555555555555556,
              "#d8576b"
             ],
             [
              0.6666666666666666,
              "#ed7953"
             ],
             [
              0.7777777777777778,
              "#fb9f3a"
             ],
             [
              0.8888888888888888,
              "#fdca26"
             ],
             [
              1,
              "#f0f921"
             ]
            ],
            "type": "histogram2dcontour"
           }
          ],
          "mesh3d": [
           {
            "colorbar": {
             "outlinewidth": 0,
             "ticks": ""
            },
            "type": "mesh3d"
           }
          ],
          "parcoords": [
           {
            "line": {
             "colorbar": {
              "outlinewidth": 0,
              "ticks": ""
             }
            },
            "type": "parcoords"
           }
          ],
          "pie": [
           {
            "automargin": true,
            "type": "pie"
           }
          ],
          "scatter": [
           {
            "fillpattern": {
             "fillmode": "overlay",
             "size": 10,
             "solidity": 0.2
            },
            "type": "scatter"
           }
          ],
          "scatter3d": [
           {
            "line": {
             "colorbar": {
              "outlinewidth": 0,
              "ticks": ""
             }
            },
            "marker": {
             "colorbar": {
              "outlinewidth": 0,
              "ticks": ""
             }
            },
            "type": "scatter3d"
           }
          ],
          "scattercarpet": [
           {
            "marker": {
             "colorbar": {
              "outlinewidth": 0,
              "ticks": ""
             }
            },
            "type": "scattercarpet"
           }
          ],
          "scattergeo": [
           {
            "marker": {
             "colorbar": {
              "outlinewidth": 0,
              "ticks": ""
             }
            },
            "type": "scattergeo"
           }
          ],
          "scattergl": [
           {
            "marker": {
             "colorbar": {
              "outlinewidth": 0,
              "ticks": ""
             }
            },
            "type": "scattergl"
           }
          ],
          "scattermapbox": [
           {
            "marker": {
             "colorbar": {
              "outlinewidth": 0,
              "ticks": ""
             }
            },
            "type": "scattermapbox"
           }
          ],
          "scatterpolar": [
           {
            "marker": {
             "colorbar": {
              "outlinewidth": 0,
              "ticks": ""
             }
            },
            "type": "scatterpolar"
           }
          ],
          "scatterpolargl": [
           {
            "marker": {
             "colorbar": {
              "outlinewidth": 0,
              "ticks": ""
             }
            },
            "type": "scatterpolargl"
           }
          ],
          "scatterternary": [
           {
            "marker": {
             "colorbar": {
              "outlinewidth": 0,
              "ticks": ""
             }
            },
            "type": "scatterternary"
           }
          ],
          "surface": [
           {
            "colorbar": {
             "outlinewidth": 0,
             "ticks": ""
            },
            "colorscale": [
             [
              0,
              "#0d0887"
             ],
             [
              0.1111111111111111,
              "#46039f"
             ],
             [
              0.2222222222222222,
              "#7201a8"
             ],
             [
              0.3333333333333333,
              "#9c179e"
             ],
             [
              0.4444444444444444,
              "#bd3786"
             ],
             [
              0.5555555555555556,
              "#d8576b"
             ],
             [
              0.6666666666666666,
              "#ed7953"
             ],
             [
              0.7777777777777778,
              "#fb9f3a"
             ],
             [
              0.8888888888888888,
              "#fdca26"
             ],
             [
              1,
              "#f0f921"
             ]
            ],
            "type": "surface"
           }
          ],
          "table": [
           {
            "cells": {
             "fill": {
              "color": "#EBF0F8"
             },
             "line": {
              "color": "white"
             }
            },
            "header": {
             "fill": {
              "color": "#C8D4E3"
             },
             "line": {
              "color": "white"
             }
            },
            "type": "table"
           }
          ]
         },
         "layout": {
          "annotationdefaults": {
           "arrowcolor": "#2a3f5f",
           "arrowhead": 0,
           "arrowwidth": 1
          },
          "autotypenumbers": "strict",
          "coloraxis": {
           "colorbar": {
            "outlinewidth": 0,
            "ticks": ""
           }
          },
          "colorscale": {
           "diverging": [
            [
             0,
             "#8e0152"
            ],
            [
             0.1,
             "#c51b7d"
            ],
            [
             0.2,
             "#de77ae"
            ],
            [
             0.3,
             "#f1b6da"
            ],
            [
             0.4,
             "#fde0ef"
            ],
            [
             0.5,
             "#f7f7f7"
            ],
            [
             0.6,
             "#e6f5d0"
            ],
            [
             0.7,
             "#b8e186"
            ],
            [
             0.8,
             "#7fbc41"
            ],
            [
             0.9,
             "#4d9221"
            ],
            [
             1,
             "#276419"
            ]
           ],
           "sequential": [
            [
             0,
             "#0d0887"
            ],
            [
             0.1111111111111111,
             "#46039f"
            ],
            [
             0.2222222222222222,
             "#7201a8"
            ],
            [
             0.3333333333333333,
             "#9c179e"
            ],
            [
             0.4444444444444444,
             "#bd3786"
            ],
            [
             0.5555555555555556,
             "#d8576b"
            ],
            [
             0.6666666666666666,
             "#ed7953"
            ],
            [
             0.7777777777777778,
             "#fb9f3a"
            ],
            [
             0.8888888888888888,
             "#fdca26"
            ],
            [
             1,
             "#f0f921"
            ]
           ],
           "sequentialminus": [
            [
             0,
             "#0d0887"
            ],
            [
             0.1111111111111111,
             "#46039f"
            ],
            [
             0.2222222222222222,
             "#7201a8"
            ],
            [
             0.3333333333333333,
             "#9c179e"
            ],
            [
             0.4444444444444444,
             "#bd3786"
            ],
            [
             0.5555555555555556,
             "#d8576b"
            ],
            [
             0.6666666666666666,
             "#ed7953"
            ],
            [
             0.7777777777777778,
             "#fb9f3a"
            ],
            [
             0.8888888888888888,
             "#fdca26"
            ],
            [
             1,
             "#f0f921"
            ]
           ]
          },
          "colorway": [
           "#636efa",
           "#EF553B",
           "#00cc96",
           "#ab63fa",
           "#FFA15A",
           "#19d3f3",
           "#FF6692",
           "#B6E880",
           "#FF97FF",
           "#FECB52"
          ],
          "font": {
           "color": "#2a3f5f"
          },
          "geo": {
           "bgcolor": "white",
           "lakecolor": "white",
           "landcolor": "#E5ECF6",
           "showlakes": true,
           "showland": true,
           "subunitcolor": "white"
          },
          "hoverlabel": {
           "align": "left"
          },
          "hovermode": "closest",
          "mapbox": {
           "style": "light"
          },
          "paper_bgcolor": "white",
          "plot_bgcolor": "#E5ECF6",
          "polar": {
           "angularaxis": {
            "gridcolor": "white",
            "linecolor": "white",
            "ticks": ""
           },
           "bgcolor": "#E5ECF6",
           "radialaxis": {
            "gridcolor": "white",
            "linecolor": "white",
            "ticks": ""
           }
          },
          "scene": {
           "xaxis": {
            "backgroundcolor": "#E5ECF6",
            "gridcolor": "white",
            "gridwidth": 2,
            "linecolor": "white",
            "showbackground": true,
            "ticks": "",
            "zerolinecolor": "white"
           },
           "yaxis": {
            "backgroundcolor": "#E5ECF6",
            "gridcolor": "white",
            "gridwidth": 2,
            "linecolor": "white",
            "showbackground": true,
            "ticks": "",
            "zerolinecolor": "white"
           },
           "zaxis": {
            "backgroundcolor": "#E5ECF6",
            "gridcolor": "white",
            "gridwidth": 2,
            "linecolor": "white",
            "showbackground": true,
            "ticks": "",
            "zerolinecolor": "white"
           }
          },
          "shapedefaults": {
           "line": {
            "color": "#2a3f5f"
           }
          },
          "ternary": {
           "aaxis": {
            "gridcolor": "white",
            "linecolor": "white",
            "ticks": ""
           },
           "baxis": {
            "gridcolor": "white",
            "linecolor": "white",
            "ticks": ""
           },
           "bgcolor": "#E5ECF6",
           "caxis": {
            "gridcolor": "white",
            "linecolor": "white",
            "ticks": ""
           }
          },
          "title": {
           "x": 0.05
          },
          "xaxis": {
           "automargin": true,
           "gridcolor": "white",
           "linecolor": "white",
           "ticks": "",
           "title": {
            "standoff": 15
           },
           "zerolinecolor": "white",
           "zerolinewidth": 2
          },
          "yaxis": {
           "automargin": true,
           "gridcolor": "white",
           "linecolor": "white",
           "ticks": "",
           "title": {
            "standoff": 15
           },
           "zerolinecolor": "white",
           "zerolinewidth": 2
          }
         }
        }
       }
      }
     },
     "metadata": {},
     "output_type": "display_data"
    }
   ],
   "source": [
    "with open(\"pg_nose.pkl\", \"rb\") as f:\n",
    "    data = pickle.load(f)\n",
    "    data = helpers.undo_differences(data, nose_idx=3)\n",
    "\n",
    "keypoints = data[\"train\"][\"bex_20230226\"][0][\"keypoints\"]\n",
    "print(len(keypoints))\n",
    "keypoints = keypoints[2900]\n",
    "print(keypoints.shape)\n",
    "keypoints = np.reshape(keypoints, (-1, 18, 3))\n",
    "vci.plot.plot_pose(keypoints[0], skeleton)"
   ]
  },
  {
   "cell_type": "markdown",
   "metadata": {},
   "source": [
    "### filters"
   ]
  },
  {
   "cell_type": "code",
   "execution_count": 16,
   "metadata": {},
   "outputs": [
    {
     "data": {
      "image/png": "[encoded data removed]",
      "text/plain": [
       "<Figure size 1500x1200 with 3 Axes>"
      ]
     },
     "metadata": {},
     "output_type": "display_data"
    }
   ],
   "source": [
    "with open(\"pg.pkl\", \"rb\") as f:\n",
    "    base = pickle.load(f)\n",
    "\n",
    "with open(\"pg_lowfilter.pkl\", \"rb\") as f:\n",
    "    lowfilter = pickle.load(f)\n",
    "\n",
    "with open(\"pg_mediumfilter.pkl\", \"rb\") as f:\n",
    "    mediumfilter = pickle.load(f)\n",
    "\n",
    "mode = \"test\"\n",
    "session = \"bex_20230226\"\n",
    "fig, axs = plt.subplots(3, 1, figsize=(15, 12))\n",
    "\n",
    "axs[0].plot(lowfilter[mode][session][\"trial_0\"][\"spikes\"][:, 0], label=\"low\")\n",
    "axs[0].set_title(\"Filtered Signal (Low-pass)\")\n",
    "axs[0].set_ylim(-2, 25)\n",
    "\n",
    "axs[1].plot(\n",
    "    mediumfilter[mode][session][\"trial_0\"][\"spikes\"][:, 0], label=\"medium\"\n",
    ")\n",
    "axs[1].set_title(\"Filtered Signal (Medium-pass)\")\n",
    "axs[1].set_ylim(-2, 25)\n",
    "\n",
    "axs[2].plot(base[mode][session][\"trial_0\"][\"spikes\"][:, 0], label=\"raw\")\n",
    "axs[2].set_title(\"Original Signal\")\n",
    "axs[2].set_ylim(-2, 25)\n",
    "\n",
    "plt.tight_layout()"
   ]
  },
  {
   "cell_type": "code",
   "execution_count": 17,
   "metadata": {},
   "outputs": [
    {
     "name": "stdout",
     "output_type": "stream",
     "text": [
      "0.48775280339899846\n"
     ]
    }
   ],
   "source": [
    "corr = 0\n",
    "n_channels = base[mode][session][\"trial_0\"][\"spikes\"].shape[1]\n",
    "\n",
    "for ch in range(n_channels):\n",
    "    corr += np.corrcoef(\n",
    "        base[mode][session][\"trial_0\"][\"spikes\"][:, ch],\n",
    "        lowfilter[mode][session][\"trial_0\"][\"spikes\"][:, ch],\n",
    "    )[0, 1]\n",
    "\n",
    "corr /= n_channels\n",
    "print(corr)"
   ]
  },
  {
   "cell_type": "markdown",
   "metadata": {},
   "source": [
    "### head coordinates"
   ]
  },
  {
   "cell_type": "code",
   "execution_count": 18,
   "metadata": {},
   "outputs": [
    {
     "name": "stdout",
     "output_type": "stream",
     "text": [
      "[[  1.           0.           0.        ]\n",
      " [  0.           1.           0.        ]\n",
      " [  0.           0.           1.        ]\n",
      " [  0.           0.           0.        ]\n",
      " [  6.76676561  -3.15568817  -5.42406275]\n",
      " [ 17.70889568  -9.9284868  -14.1638877 ]\n",
      " [ 25.25618452 -15.28362051 -20.41034357]\n",
      " [  7.43834829  -4.87309248  -4.95914876]\n",
      " [ 19.95048997 -12.46756955 -15.03626837]\n",
      " [ 27.85557847 -17.23402294 -22.00513604]\n",
      " [ 11.55803862  -5.15488532  -7.18664903]\n",
      " [ 25.5572195  -14.0942151  -18.77504119]\n",
      " [ 33.76463121 -18.82930667 -25.08774947]\n",
      " [ 13.51595145  -8.04456248  -7.72841095]\n",
      " [ 23.75312458 -14.2147675  -16.87571156]\n",
      " [ 32.88923655 -19.61544061 -24.26908854]\n",
      " [ 10.34553092  -4.98564499  -5.30902115]\n",
      " [ 25.12814004 -14.56371025 -16.39311859]\n",
      " [  0.64079524   0.03908474  -0.20217272]]\n"
     ]
    }
   ],
   "source": [
    "with open(\"pg_head.pkl\", \"rb\") as f:\n",
    "    data = pickle.load(f)\n",
    "\n",
    "keypoints = data[\"train\"][\"bex_20230224\"][0][\"keypoints\"][0].reshape(19, 3)\n",
    "print(keypoints)"
   ]
  }
 ],
 "metadata": {
  "kernelspec": {
   "display_name": "venv",
   "language": "python",
   "name": "python3"
  },
  "language_info": {
   "codemirror_mode": {
    "name": "ipython",
    "version": 3
   },
   "file_extension": ".py",
   "mimetype": "text/x-python",
   "name": "python",
   "nbconvert_exporter": "python",
   "pygments_lexer": "ipython3",
   "version": "3.12.7"
  }
 },
 "nbformat": 4,
 "nbformat_minor": 2
}
