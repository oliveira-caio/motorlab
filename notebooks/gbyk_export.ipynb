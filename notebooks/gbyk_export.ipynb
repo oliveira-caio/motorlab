{
 "cells": [
  {
   "cell_type": "code",
   "execution_count": 1,
   "metadata": {},
   "outputs": [],
   "source": [
    "%load_ext autoreload\n",
    "%autoreload 2"
   ]
  },
  {
   "cell_type": "code",
   "execution_count": 2,
   "metadata": {},
   "outputs": [],
   "source": [
    "import os\n",
    "\n",
    "from pathlib import Path\n",
    "\n",
    "import motorlab as ml"
   ]
  },
  {
   "cell_type": "code",
   "execution_count": 3,
   "metadata": {},
   "outputs": [],
   "source": [
    "os.chdir(Path().resolve().parent)"
   ]
  },
  {
   "cell_type": "code",
   "execution_count": 4,
   "metadata": {},
   "outputs": [],
   "source": [
    "old_sessions = [\n",
    "    \"bex_20230623_denoised\",\n",
    "    \"ken_20230614_denoised\",\n",
    "    \"ken_20230618_denoised\",\n",
    "]\n",
    "old_format = True"
   ]
  },
  {
   "cell_type": "code",
   "execution_count": 5,
   "metadata": {},
   "outputs": [],
   "source": [
    "sessions = ml.config.gbyk_sessions\n",
    "old_format = False"
   ]
  },
  {
   "cell_type": "code",
   "execution_count": 6,
   "metadata": {},
   "outputs": [
    {
     "name": "stdout",
     "output_type": "stream",
     "text": [
      "processing session bex_20230621_spikes_sorted_SES.\n",
      "Condition ('L', 'homing'): 22 train, 8 test, 8 validation\n",
      "Condition ('L', 'precue'): 34 train, 11 test, 12 validation\n",
      "Condition ('R', 'homing'): 15 train, 5 test, 5 validation\n",
      "Condition ('R', 'precue'): 23 train, 8 test, 8 validation\n",
      "processing session bex_20230624_spikes_sorted_SES.\n",
      "Condition ('L', 'homing'): 24 train, 8 test, 8 validation\n",
      "Condition ('L', 'precue'): 34 train, 12 test, 12 validation\n",
      "Condition ('R', 'homing'): 19 train, 7 test, 7 validation\n",
      "Condition ('R', 'precue'): 30 train, 10 test, 10 validation\n",
      "processing session bex_20230629_spikes_sorted_SES.\n",
      "Condition ('L', 'homing'): 29 train, 10 test, 10 validation\n",
      "Condition ('L', 'precue'): 42 train, 14 test, 15 validation\n",
      "Condition ('R', 'homing'): 24 train, 8 test, 8 validation\n",
      "Condition ('R', 'precue'): 37 train, 13 test, 13 validation\n",
      "processing session bex_20230630_spikes_sorted_SES.\n",
      "Condition ('L', 'homing'): 29 train, 10 test, 10 validation\n",
      "Condition ('L', 'precue'): 40 train, 14 test, 14 validation\n",
      "Condition ('R', 'homing'): 19 train, 7 test, 7 validation\n",
      "Condition ('R', 'precue'): 38 train, 13 test, 13 validation\n",
      "processing session bex_20230701_spikes_sorted_SES.\n",
      "Condition ('L', 'homing'): 23 train, 8 test, 8 validation\n",
      "Condition ('L', 'precue'): 33 train, 11 test, 12 validation\n",
      "Condition ('R', 'homing'): 15 train, 5 test, 6 validation\n",
      "Condition ('R', 'precue'): 29 train, 10 test, 10 validation\n",
      "processing session bex_20230708_spikes_sorted_SES.\n",
      "Condition ('L', 'gbyk'): 33 train, 11 test, 11 validation\n",
      "Condition ('L', 'homing'): 24 train, 8 test, 8 validation\n",
      "Condition ('R', 'gbyk'): 30 train, 10 test, 11 validation\n",
      "Condition ('R', 'homing'): 22 train, 8 test, 8 validation\n",
      "processing session ken_20230618_spikes_sorted_SES.\n",
      "Condition ('L', 'homing'): 18 train, 6 test, 6 validation\n",
      "Condition ('L', 'precue'): 41 train, 14 test, 14 validation\n",
      "Condition ('R', 'homing'): 37 train, 12 test, 13 validation\n",
      "Condition ('R', 'precue'): 45 train, 15 test, 15 validation\n",
      "processing session ken_20230622_spikes_sorted_SES.\n",
      "Condition ('L', 'gbyk'): 19 train, 7 test, 7 validation\n",
      "Condition ('L', 'homing'): 21 train, 7 test, 7 validation\n",
      "Condition ('L', 'precue'): 16 train, 6 test, 6 validation\n",
      "Condition ('R', 'gbyk'): 20 train, 7 test, 7 validation\n",
      "Condition ('R', 'homing'): 26 train, 9 test, 9 validation\n",
      "Condition ('R', 'precue'): 19 train, 6 test, 7 validation\n",
      "processing session ken_20230629_spikes_sorted_SES.\n",
      "Condition ('L', 'gbyk'): 19 train, 6 test, 7 validation\n",
      "Condition ('L', 'homing'): 22 train, 8 test, 8 validation\n",
      "Condition ('L', 'precue'): 22 train, 8 test, 8 validation\n",
      "Condition ('R', 'gbyk'): 19 train, 7 test, 7 validation\n",
      "Condition ('R', 'homing'): 29 train, 10 test, 10 validation\n",
      "Condition ('R', 'precue'): 16 train, 5 test, 6 validation\n",
      "processing session ken_20230630_spikes_sorted_SES.\n",
      "Condition ('L', 'gbyk'): 48 train, 16 test, 17 validation\n",
      "Condition ('L', 'homing'): 36 train, 12 test, 12 validation\n",
      "Condition ('R', 'gbyk'): 48 train, 16 test, 16 validation\n",
      "Condition ('R', 'homing'): 44 train, 15 test, 15 validation\n",
      "processing session ken_20230701_spikes_sorted_SES.\n",
      "Condition ('L', 'homing'): 31 train, 11 test, 11 validation\n",
      "Condition ('L', 'precue'): 46 train, 16 test, 16 validation\n",
      "Condition ('R', 'homing'): 31 train, 11 test, 11 validation\n",
      "Condition ('R', 'precue'): 35 train, 12 test, 12 validation\n",
      "processing session ken_20230703_spikes_sorted_SES.\n",
      "Condition ('L', 'gbyk'): 62 train, 21 test, 21 validation\n",
      "Condition ('L', 'homing'): 50 train, 17 test, 17 validation\n",
      "Condition ('R', 'gbyk'): 60 train, 20 test, 21 validation\n",
      "Condition ('R', 'homing'): 54 train, 18 test, 18 validation\n"
     ]
    }
   ],
   "source": [
    "for session in sessions:\n",
    "    print(f\"processing session {session}.\")\n",
    "    session_dir = Path(f\"data/gbyk/{session}\")\n",
    "    session_dir.mkdir(parents=True, exist_ok=True)\n",
    "    ml.gbyk_export.intervals(session_dir)\n",
    "    # ml.gbyk_export.spikes(session_dir)\n",
    "    # ml.gbyk_export.poses(session_dir, old_format)\n",
    "    # ml.gbyk_export.target(session_dir)"
   ]
  }
 ],
 "metadata": {
  "kernelspec": {
   "display_name": ".mlab (3.13.5)",
   "language": "python",
   "name": "python3"
  },
  "language_info": {
   "codemirror_mode": {
    "name": "ipython",
    "version": 3
   },
   "file_extension": ".py",
   "mimetype": "text/x-python",
   "name": "python",
   "nbconvert_exporter": "python",
   "pygments_lexer": "ipython3",
   "version": "3.13.5"
  }
 },
 "nbformat": 4,
 "nbformat_minor": 2
}
