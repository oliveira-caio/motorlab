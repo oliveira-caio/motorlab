{
 "cells": [
  {
   "cell_type": "code",
   "execution_count": 1,
   "metadata": {},
   "outputs": [],
   "source": [
    "%load_ext autoreload\n",
    "%autoreload 2"
   ]
  },
  {
   "cell_type": "code",
   "execution_count": 4,
   "metadata": {},
   "outputs": [],
   "source": [
    "import os\n",
    "\n",
    "from pathlib import Path\n",
    "\n",
    "import motorlab as ml\n",
    "import pandas as pd"
   ]
  },
  {
   "cell_type": "code",
   "execution_count": 5,
   "metadata": {},
   "outputs": [],
   "source": [
    "os.chdir(Path().resolve().parent)"
   ]
  },
  {
   "cell_type": "code",
   "execution_count": null,
   "metadata": {},
   "outputs": [],
   "source": [
    "old_sessions = [\n",
    "    \"bex_20230623_denoised\",\n",
    "    \"ken_20230614_denoised\",\n",
    "    \"ken_20230618_denoised\",\n",
    "]\n",
    "old_format = True"
   ]
  },
  {
   "cell_type": "code",
   "execution_count": 7,
   "metadata": {},
   "outputs": [],
   "source": [
    "sessions = ml.config.gbyk_sessions\n",
    "old_format = False"
   ]
  },
  {
   "cell_type": "code",
   "execution_count": null,
   "metadata": {},
   "outputs": [
    {
     "name": "stdout",
     "output_type": "stream",
     "text": [
      "processing session bex_20230621_spikes_sorted_SES.\n",
      "processing session bex_20230624_spikes_sorted_SES.\n",
      "processing session bex_20230629_spikes_sorted_SES.\n",
      "processing session bex_20230630_spikes_sorted_SES.\n",
      "processing session bex_20230701_spikes_sorted_SES.\n",
      "processing session bex_20230708_spikes_sorted_SES.\n",
      "processing session ken_20230618_spikes_sorted_SES.\n",
      "processing session ken_20230622_spikes_sorted_SES.\n",
      "processing session ken_20230629_spikes_sorted_SES.\n",
      "processing session ken_20230630_spikes_sorted_SES.\n",
      "processing session ken_20230701_spikes_sorted_SES.\n",
      "processing session ken_20230703_spikes_sorted_SES.\n"
     ]
    }
   ],
   "source": [
    "for session in sessions:\n",
    "    print(f\"processing session {session}.\")\n",
    "    session_dir = Path(f\"../data/gbyk/{session}\")\n",
    "    session_dir.mkdir(parents=True, exist_ok=True)\n",
    "    ml.gbyk_export.intervals(session_dir)\n",
    "    # ml.gbyk_export.spikes(session_dir)\n",
    "    # ml.gbyk_export.spike_count(session_dir)\n",
    "    # ml.gbyk_export.poses(session_dir, old_format)\n",
    "    # ml.gbyk_export.target(session_dir)"
   ]
  }
 ],
 "metadata": {
  "kernelspec": {
   "display_name": ".mlab",
   "language": "python",
   "name": "python3"
  },
  "language_info": {
   "codemirror_mode": {
    "name": "ipython",
    "version": 3
   },
   "file_extension": ".py",
   "mimetype": "text/x-python",
   "name": "python",
   "nbconvert_exporter": "python",
   "pygments_lexer": "ipython3",
   "version": "3.13.5"
  }
 },
 "nbformat": 4,
 "nbformat_minor": 2
}
