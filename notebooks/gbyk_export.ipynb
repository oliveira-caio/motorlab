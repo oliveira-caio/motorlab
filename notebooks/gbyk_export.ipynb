{
 "cells": [
  {
   "cell_type": "code",
   "execution_count": 1,
   "metadata": {},
   "outputs": [],
   "source": [
    "%load_ext autoreload\n",
    "%autoreload 2"
   ]
  },
  {
   "cell_type": "code",
   "execution_count": 2,
   "metadata": {},
   "outputs": [],
   "source": [
    "import os\n",
    "\n",
    "from pathlib import Path\n",
    "\n",
    "import motorlab as ml"
   ]
  },
  {
   "cell_type": "code",
   "execution_count": 3,
   "metadata": {},
   "outputs": [],
   "source": [
    "os.chdir(Path().resolve().parent)"
   ]
  },
  {
   "cell_type": "code",
   "execution_count": null,
   "metadata": {},
   "outputs": [],
   "source": [
    "sessions = ml.sessions.OLD_GBYK\n",
    "old_format = True\n",
    "data_dir = Path(\"data/old_gbyk\")"
   ]
  },
  {
   "cell_type": "code",
   "execution_count": null,
   "metadata": {},
   "outputs": [],
   "source": [
    "sessions = ml.sessions.GBYK\n",
    "old_format = False\n",
    "data_dir = Path(\"data/gbyk\")"
   ]
  },
  {
   "cell_type": "code",
   "execution_count": null,
   "metadata": {},
   "outputs": [
    {
     "name": "stdout",
     "output_type": "stream",
     "text": [
      "processing session bex_20230621_spikes_sorted_SES.\n",
      "processing session bex_20230624_spikes_sorted_SES.\n",
      "processing session bex_20230629_spikes_sorted_SES.\n",
      "processing session bex_20230630_spikes_sorted_SES.\n",
      "processing session bex_20230701_spikes_sorted_SES.\n",
      "processing session bex_20230708_spikes_sorted_SES.\n",
      "processing session ken_20230618_spikes_sorted_SES.\n",
      "processing session ken_20230622_spikes_sorted_SES.\n",
      "processing session ken_20230629_spikes_sorted_SES.\n",
      "processing session ken_20230630_spikes_sorted_SES.\n",
      "processing session ken_20230701_spikes_sorted_SES.\n",
      "processing session ken_20230703_spikes_sorted_SES.\n"
     ]
    }
   ],
   "source": [
    "for session in sessions:\n",
    "    print(f\"processing session {session}.\")\n",
    "    session_dir = data_dir / session\n",
    "    session_dir.mkdir(parents=True, exist_ok=True)\n",
    "    # ml.gbyk_export.intervals(session_dir)\n",
    "    # ml.gbyk_export.spikes(session_dir)\n",
    "    ml.gbyk_export.poses(session_dir, old_format)\n",
    "    # ml.gbyk_export.target(session_dir)"
   ]
  }
 ],
 "metadata": {
  "kernelspec": {
   "display_name": ".mlab (3.13.5)",
   "language": "python",
   "name": "python3"
  },
  "language_info": {
   "codemirror_mode": {
    "name": "ipython",
    "version": 3
   },
   "file_extension": ".py",
   "mimetype": "text/x-python",
   "name": "python",
   "nbconvert_exporter": "python",
   "pygments_lexer": "ipython3",
   "version": "3.13.5"
  }
 },
 "nbformat": 4,
 "nbformat_minor": 2
}
