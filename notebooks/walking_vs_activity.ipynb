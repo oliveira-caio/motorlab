{
 "cells": [
  {
   "cell_type": "markdown",
   "metadata": {},
   "source": [
    "in this notebook i want to see if the plot of the right limb is indeed similar to the neural activity while monkey is walking."
   ]
  },
  {
   "cell_type": "code",
   "execution_count": 2,
   "metadata": {},
   "outputs": [],
   "source": [
    "import itertools\n",
    "import os\n",
    "\n",
    "from pathlib import Path\n",
    "\n",
    "import matplotlib.pyplot as plt\n",
    "import numpy as np\n",
    "import pandas as pd\n",
    "import seaborn as sns\n",
    "\n",
    "os.chdir(Path().resolve().parent)"
   ]
  },
  {
   "cell_type": "code",
   "execution_count": 12,
   "metadata": {},
   "outputs": [],
   "source": [
    "sessions = [\"bex_20230623\", \"ken_20230614\", \"ken_20230618\"]\n",
    "responses = dict()\n",
    "\n",
    "for session in sessions:\n",
    "    RESP_DIR = os.path.join(session, \"data\", \"responses\")\n",
    "    TRIAL_DIR = os.path.join(session, \"meta\", \"trials\")\n",
    "    with open(os.path.join(RESP_DIR, \"spikes.npy\"), \"rb\") as f:\n",
    "        spikes = np.load(f)\n",
    "        duration = spikes.shape[-1] - (spikes.shape[-1] % 50)\n",
    "        spikes = spikes[..., :duration]\n",
    "        spikes = spikes.reshape(len(spikes), -1, 50).sum(-1)\n",
    "    with open(os.path.join(TRIAL_DIR, \"trial_start.npy\"), \"rb\") as f:\n",
    "        trial_start = np.load(f).astype(int) // 50\n",
    "    with open(os.path.join(TRIAL_DIR, \"trial_end.npy\"), \"rb\") as f:\n",
    "        trial_end = np.load(f).astype(int) // 50\n",
    "    responses[session] = [\n",
    "        spikes[..., b:e] for b, e in zip(trial_start, trial_end)\n",
    "    ]"
   ]
  }
 ],
 "metadata": {
  "kernelspec": {
   "display_name": ".venv",
   "language": "python",
   "name": "python3"
  },
  "language_info": {
   "codemirror_mode": {
    "name": "ipython",
    "version": 3
   },
   "file_extension": ".py",
   "mimetype": "text/x-python",
   "name": "python",
   "nbconvert_exporter": "python",
   "pygments_lexer": "ipython3",
   "version": "3.12.8"
  }
 },
 "nbformat": 4,
 "nbformat_minor": 2
}
