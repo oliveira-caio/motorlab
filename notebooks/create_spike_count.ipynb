{
 "cells": [
  {
   "cell_type": "code",
   "execution_count": 1,
   "id": "13f50e6b",
   "metadata": {},
   "outputs": [],
   "source": [
    "import os\n",
    "import shutil\n",
    "\n",
    "from pathlib import Path\n",
    "\n",
    "import numpy as np\n",
    "import yaml"
   ]
  },
  {
   "cell_type": "code",
   "execution_count": 2,
   "id": "b83c0adc",
   "metadata": {},
   "outputs": [],
   "source": [
    "os.chdir(Path().resolve().parent)"
   ]
  },
  {
   "cell_type": "code",
   "execution_count": 3,
   "id": "d1dc1aa5",
   "metadata": {},
   "outputs": [],
   "source": [
    "sessions = [\n",
    "    \"bex_20230621_spikes_sorted_SES\",  # before\n",
    "    \"bex_20230624_spikes_sorted_SES\",  # before\n",
    "    \"bex_20230629_spikes_sorted_SES\",  # before\n",
    "    \"bex_20230630_spikes_sorted_SES\",  # before\n",
    "    \"bex_20230701_spikes_sorted_SES\",  # before\n",
    "    \"bex_20230708_spikes_sorted_SES\",  # while\n",
    "    \"ken_20230614_spikes_sorted_SES\",  # while and before\n",
    "    \"ken_20230618_spikes_sorted_SES\",  # before\n",
    "    \"ken_20230622_spikes_sorted_SES\",  # while, before and free\n",
    "    \"ken_20230629_spikes_sorted_SES\",  # while, before and free\n",
    "    \"ken_20230630_spikes_sorted_SES\",  # while\n",
    "    \"ken_20230701_spikes_sorted_SES\",  # before\n",
    "    \"ken_20230703_spikes_sorted_SES\",  # while\n",
    "]\n",
    "\n",
    "# sessions = [\n",
    "#     \"bex_20230221\",\n",
    "#     \"bex_20230222\",\n",
    "#     \"bex_20230223\",\n",
    "#     \"bex_20230224\",\n",
    "#     \"bex_20230225\",\n",
    "#     \"bex_20230226\",\n",
    "#     \"jon_20230125\",\n",
    "#     \"jon_20230126\",\n",
    "#     \"jon_20230127\",\n",
    "#     \"jon_20230130\",\n",
    "#     \"jon_20230131\",\n",
    "#     \"jon_20230202\",\n",
    "#     \"jon_20230203\",\n",
    "#     \"luk_20230126\",\n",
    "#     \"luk_20230127\",\n",
    "#     \"luk_20230130\",\n",
    "#     \"luk_20230131\",\n",
    "#     \"luk_20230202\",\n",
    "#     \"luk_20230203\",\n",
    "# ]\n",
    "\n",
    "# sessions = [\"ken_20230614\"]\n",
    "experiment = \"gbyk\""
   ]
  },
  {
   "cell_type": "code",
   "execution_count": 4,
   "id": "7c880020",
   "metadata": {},
   "outputs": [],
   "source": [
    "for session in sessions:\n",
    "    RESP_DIR = Path(f\"data/{experiment}/{session}/responses\")\n",
    "    with open(RESP_DIR / \"meta.yaml\", \"r\") as f:\n",
    "        meta = yaml.safe_load(f)\n",
    "        resp = np.memmap(\n",
    "            RESP_DIR / \"data.mem\",\n",
    "            dtype=meta[\"dtype\"],\n",
    "            mode=\"r\",\n",
    "            shape=(meta[\"n_timestamps\"], meta[\"n_signals\"]),\n",
    "        )\n",
    "        new_meta = {k: v for k, v in meta.items()}\n",
    "\n",
    "    duration = len(resp) - (len(resp) % 50)\n",
    "    spike_count = resp[:duration].reshape(len(resp) // 50, 50, -1).sum(axis=1)\n",
    "\n",
    "    new_meta[\"dtype\"] = \"float32\"\n",
    "    new_meta[\"sampling_rate\"] = 20\n",
    "    new_meta[\"n_timestamps\"] = spike_count.shape[0]\n",
    "    new_meta[\"n_signals\"] = spike_count.shape[1]\n",
    "\n",
    "    OUT_DIR = Path(f\"data/gbyk/{session}/spike_count\")\n",
    "    OUT_DIR.mkdir(parents=True, exist_ok=True)\n",
    "\n",
    "    spike_count_memmap = np.memmap(\n",
    "        os.path.join(OUT_DIR, \"data.mem\"),\n",
    "        dtype=\"float32\",\n",
    "        mode=\"w+\",\n",
    "        shape=spike_count.shape,\n",
    "    )\n",
    "    spike_count_memmap[:] = spike_count[:]\n",
    "    spike_count_memmap.flush()\n",
    "    with open(OUT_DIR / \"meta.yaml\", \"w\") as f:\n",
    "        yaml.dump(new_meta, f)\n",
    "\n",
    "    shutil.copytree(\n",
    "        RESP_DIR / \"meta\", Path(OUT_DIR / \"meta\"), dirs_exist_ok=True\n",
    "    )"
   ]
  }
 ],
 "metadata": {
  "kernelspec": {
   "display_name": ".mlab",
   "language": "python",
   "name": "python3"
  },
  "language_info": {
   "codemirror_mode": {
    "name": "ipython",
    "version": 3
   },
   "file_extension": ".py",
   "mimetype": "text/x-python",
   "name": "python",
   "nbconvert_exporter": "python",
   "pygments_lexer": "ipython3",
   "version": "3.13.5"
  }
 },
 "nbformat": 4,
 "nbformat_minor": 5
}
