{
 "cells": [
  {
   "cell_type": "code",
   "execution_count": 1,
   "id": "589b03ea",
   "metadata": {},
   "outputs": [],
   "source": [
    "%load_ext autoreload\n",
    "%autoreload 2"
   ]
  },
  {
   "cell_type": "code",
   "execution_count": 2,
   "id": "5d4d4864",
   "metadata": {},
   "outputs": [],
   "source": [
    "import copy\n",
    "import os\n",
    "import pathlib\n",
    "\n",
    "import joblib\n",
    "import matplotlib.pyplot as plt\n",
    "import motorlab as ml\n",
    "import numpy as np\n",
    "import seaborn as sns\n",
    "import torch\n",
    "import yaml"
   ]
  },
  {
   "cell_type": "code",
   "execution_count": 3,
   "id": "b3a5faa3",
   "metadata": {},
   "outputs": [],
   "source": [
    "os.chdir(pathlib.Path().resolve().parent)"
   ]
  },
  {
   "cell_type": "code",
   "execution_count": 4,
   "id": "bb38b27d",
   "metadata": {},
   "outputs": [],
   "source": [
    "runs = {\n",
    "    \"all\": 20250820203533,\n",
    "    \"loose\": 20250820204845,\n",
    "    \"medium\": 20250820210428,\n",
    "    \"strict\": 20250820211643,\n",
    "    \"draconian\": 20250820212632,\n",
    "}"
   ]
  },
  {
   "cell_type": "code",
   "execution_count": 5,
   "id": "3fcc361c",
   "metadata": {},
   "outputs": [],
   "source": [
    "ARTIFACTS_DIR = pathlib.Path(\"artifacts/poses_to_location/\")\n",
    "DATA_DIR = pathlib.Path(\"data\")\n",
    "OLD_GBYK = True\n",
    "EXPERIMENT_NAME = \"old_gbyk\" if OLD_GBYK else \"gbyk\"\n",
    "EXPERIMENT_DIR = DATA_DIR / EXPERIMENT_NAME\n",
    "PREFIX = \"old_\" if OLD_GBYK else \"\"\n",
    "RUN = \"draconian\"\n",
    "RUN_DIR = ARTIFACTS_DIR / str(runs[RUN])"
   ]
  },
  {
   "cell_type": "code",
   "execution_count": 6,
   "id": "e67cd9f9",
   "metadata": {},
   "outputs": [],
   "source": [
    "config_path = RUN_DIR / \"config.yml\"\n",
    "with open(config_path, \"r\") as file:\n",
    "    config = yaml.safe_load(file)"
   ]
  },
  {
   "cell_type": "code",
   "execution_count": 7,
   "id": "46744a22",
   "metadata": {},
   "outputs": [
    {
     "data": {
      "text/plain": [
       "{'artifacts_dir': 'artifacts/',\n",
       " 'data': {'dataloader': {'batch_size': 64, 'max_length': 80, 'min_length': 80},\n",
       "  'dataset': {'concat_input': True,\n",
       "   'concat_output': True,\n",
       "   'input_dims': {'bex_20230623_denoised': {'poses': 14},\n",
       "    'ken_20230614_denoised': {'poses': 33},\n",
       "    'ken_20230618_denoised': {'poses': 15}},\n",
       "   'input_modalities': ['poses'],\n",
       "   'output_dims': {'bex_20230623_denoised': {'location': 2},\n",
       "    'ken_20230614_denoised': {'location': 2},\n",
       "    'ken_20230618_denoised': {'location': 2}},\n",
       "   'output_modalities': ['location'],\n",
       "   'stride': 20},\n",
       "  'dir': 'data',\n",
       "  'intervals': {'balance_intervals': False,\n",
       "   'include_homing': True,\n",
       "   'include_sitting': True,\n",
       "   'include_trial': True},\n",
       "  'modalities': {'kinematics': {'representation': 'com_vec'},\n",
       "   'location': {'representation': 'com'},\n",
       "   'poses': {'coordinates': 'egocentric',\n",
       "    'project_to_pcs': 'draconian',\n",
       "    'representation': 'draconian',\n",
       "    'skeleton_type': 'normal'},\n",
       "   'spike_count': {'brain_areas': 'all'},\n",
       "   'spikes': {'brain_areas': 'all'}},\n",
       "  'sampling_rate': 20},\n",
       " 'experiment': 'old_gbyk',\n",
       " 'logger': {'dir': 'artifacts/poses_to_location/20250820212632',\n",
       "  'plots': False},\n",
       " 'model': {'architecture': 'embedding_core_readout',\n",
       "  'core': {'architecture': 'fc', 'dims': 128, 'n_layers': 3},\n",
       "  'embedding': {'architecture': {'bex_20230623_denoised': {'poses': 'linear'},\n",
       "    'ken_20230614_denoised': {'poses': 'linear'},\n",
       "    'ken_20230618_denoised': {'poses': 'linear'}},\n",
       "   'dim': 128},\n",
       "  'readout': {'map': {'bex_20230623_denoised': {'location': 'linear'},\n",
       "    'ken_20230614_denoised': {'location': 'linear'},\n",
       "    'ken_20230618_denoised': {'location': 'linear'}}}},\n",
       " 'save': True,\n",
       " 'seed': 0,\n",
       " 'sessions': ['bex_20230623_denoised',\n",
       "  'ken_20230614_denoised',\n",
       "  'ken_20230618_denoised'],\n",
       " 'task': 'poses_to_location',\n",
       " 'trainer': {'early_stopper': {'enabled': True},\n",
       "  'loss_fns': {'location': 'mse'},\n",
       "  'max_epochs': 10000,\n",
       "  'metrics': {'location': 'rmse'},\n",
       "  'optimizer': {'algorithm': 'adam', 'lr': 0.001, 'weight_decay': 1e-05},\n",
       "  'scheduler': {'T_max': 100, 'eta_min': 0.0001, 'method': 'cosine_annealing'},\n",
       "  'validation_frequency': 25},\n",
       " 'uid': '20250820212632'}"
      ]
     },
     "execution_count": 7,
     "metadata": {},
     "output_type": "execute_result"
    }
   ],
   "source": [
    "config"
   ]
  },
  {
   "cell_type": "code",
   "execution_count": 8,
   "id": "260d2326",
   "metadata": {},
   "outputs": [
    {
     "name": "stdout",
     "output_type": "stream",
     "text": [
      "EmbeddingCoreReadoutModel(\n",
      "  (embedding): EmbeddingLayer(\n",
      "    (embeddings): ModuleDict(\n",
      "      (bex_20230623_denoised): ModuleDict(\n",
      "        (poses): LazyLinear(in_features=0, out_features=128, bias=True)\n",
      "      )\n",
      "      (ken_20230614_denoised): ModuleDict(\n",
      "        (poses): LazyLinear(in_features=0, out_features=128, bias=True)\n",
      "      )\n",
      "      (ken_20230618_denoised): ModuleDict(\n",
      "        (poses): LazyLinear(in_features=0, out_features=128, bias=True)\n",
      "      )\n",
      "    )\n",
      "  )\n",
      "  (core): CoreLayer(\n",
      "    (core): FCModule(\n",
      "      (fc): ModuleList(\n",
      "        (0): Sequential(\n",
      "          (0): LazyLinear(in_features=0, out_features=128, bias=True)\n",
      "          (1): GELU(approximate='none')\n",
      "        )\n",
      "        (1-2): 2 x Sequential(\n",
      "          (0): Linear(in_features=128, out_features=128, bias=True)\n",
      "          (1): GELU(approximate='none')\n",
      "        )\n",
      "      )\n",
      "    )\n",
      "  )\n",
      "  (readout): ReadoutLayer(\n",
      "    (readouts): ModuleDict(\n",
      "      (bex_20230623_denoised): ModuleDict(\n",
      "        (location): LazyLinear(in_features=0, out_features=2, bias=True)\n",
      "      )\n",
      "      (ken_20230614_denoised): ModuleDict(\n",
      "        (location): LazyLinear(in_features=0, out_features=2, bias=True)\n",
      "      )\n",
      "      (ken_20230618_denoised): ModuleDict(\n",
      "        (location): LazyLinear(in_features=0, out_features=2, bias=True)\n",
      "      )\n",
      "    )\n",
      "  )\n",
      ")\n"
     ]
    },
    {
     "data": {
      "text/plain": [
       "<All keys matched successfully>"
      ]
     },
     "execution_count": 8,
     "metadata": {},
     "output_type": "execute_result"
    }
   ],
   "source": [
    "checkpoint_state = ml.utils.load_checkpoint(RUN_DIR)\n",
    "model = ml.models.create(\n",
    "    config[\"model\"],\n",
    "    config[\"data\"][\"dataset\"][\"output_dims\"],\n",
    ")\n",
    "model.load_state_dict(checkpoint_state[\"model\"])"
   ]
  },
  {
   "cell_type": "code",
   "execution_count": 9,
   "id": "0014ed2c",
   "metadata": {},
   "outputs": [
    {
     "name": "stderr",
     "output_type": "stream",
     "text": [
      "/Users/caio/dev/motorlab/motorlab/poses.py:30: RuntimeWarning: Mean of empty slice\n",
      "  poses_data = np.nanmean(poses_data, axis=1)\n",
      "/Users/caio/dev/motorlab/motorlab/poses.py:54: RuntimeWarning: Mean of empty slice\n",
      "  com_data = np.nanmean(com_data, axis=1)\n",
      "/Users/caio/dev/motorlab/motorlab/poses.py:30: RuntimeWarning: Mean of empty slice\n",
      "  poses_data = np.nanmean(poses_data, axis=1)\n",
      "/Users/caio/dev/motorlab/motorlab/poses.py:54: RuntimeWarning: Mean of empty slice\n",
      "  com_data = np.nanmean(com_data, axis=1)\n"
     ]
    }
   ],
   "source": [
    "test_dls = ml.data.create_dataloaders_sessions(\n",
    "    sessions=config[\"sessions\"],\n",
    "    experiment=EXPERIMENT_NAME,\n",
    "    cfg=config[\"data\"],\n",
    "    query={\"tier\": \"test\"},\n",
    "    preprocess_cfg=False,\n",
    ")"
   ]
  },
  {
   "cell_type": "code",
   "execution_count": 10,
   "id": "73c538f6",
   "metadata": {},
   "outputs": [],
   "source": [
    "baseline = dict()\n",
    "\n",
    "with torch.no_grad():\n",
    "    for session in config[\"sessions\"]:\n",
    "        losses = []\n",
    "        for x_interval, y_interval in test_dls[session]:\n",
    "            pred = model(x_interval, session)\n",
    "            y_numpy = y_interval[\"location\"].cpu().numpy()\n",
    "            pred_numpy = pred[\"location\"].cpu().numpy()\n",
    "            losses.append(np.sqrt(np.mean((y_numpy - pred_numpy) ** 2)))\n",
    "        baseline[session] = np.mean(losses)"
   ]
  },
  {
   "cell_type": "code",
   "execution_count": 11,
   "id": "e9f45f31",
   "metadata": {},
   "outputs": [],
   "source": [
    "ml.utils.fix_seed(0)\n",
    "pcs_importance = dict()\n",
    "n_iters = 1  # how many times i'll shuffle\n",
    "\n",
    "with torch.no_grad():\n",
    "    for session in config[\"sessions\"]:\n",
    "        session_losses = []\n",
    "        for x_interval, y_interval in test_dls[session]:\n",
    "            x_poses = x_interval[\"poses\"]\n",
    "            n_pcs = x_poses.shape[-1]\n",
    "            n_samples = x_poses.shape[1]\n",
    "            losses = np.zeros((n_pcs, n_iters))\n",
    "            for pc in range(n_pcs):\n",
    "                for i in range(n_iters):\n",
    "                    shuffled = x_poses.clone()\n",
    "                    idx = torch.randperm(n_samples)\n",
    "                    shuffled[..., :, pc] = shuffled[..., idx, pc]\n",
    "                    pred = model({\"poses\": shuffled}, session)\n",
    "                    y_numpy = y_interval[\"location\"].cpu().numpy()\n",
    "                    pred_numpy = pred[\"location\"].cpu().numpy()\n",
    "                    losses[pc, i] = np.sqrt(\n",
    "                        np.mean((y_numpy - pred_numpy) ** 2)\n",
    "                    )\n",
    "            session_losses.append(np.mean(losses, axis=1))\n",
    "        pcs_importance[session] = np.mean(np.stack(session_losses), axis=0)"
   ]
  },
  {
   "cell_type": "code",
   "execution_count": 12,
   "id": "054f1c6e",
   "metadata": {},
   "outputs": [],
   "source": [
    "results_dict = {\"session\": [], \"pc\": [], \"rmse\": []}\n",
    "\n",
    "for session in pcs_importance:\n",
    "    for i in range(len(pcs_importance[session])):\n",
    "        results_dict[\"session\"].append(session)\n",
    "        results_dict[\"pc\"].append(i)\n",
    "        results_dict[\"rmse\"].append(pcs_importance[session][i])"
   ]
  },
  {
   "cell_type": "code",
   "execution_count": 13,
   "id": "a5ce4284",
   "metadata": {},
   "outputs": [
    {
     "data": {
      "image/png": "[encoded data removed]",
      "text/plain": [
       "<Figure size 1011.11x1000 with 3 Axes>"
      ]
     },
     "metadata": {},
     "output_type": "display_data"
    }
   ],
   "source": [
    "%matplotlib inline\n",
    "sns.set_style(\"whitegrid\")\n",
    "\n",
    "\n",
    "g = sns.catplot(\n",
    "    data=results_dict,\n",
    "    x=\"pc\",\n",
    "    y=\"rmse\",\n",
    "    col=\"session\",\n",
    "    col_wrap=2,\n",
    "    kind=\"bar\",\n",
    "    color=\"black\",\n",
    ")\n",
    "\n",
    "threshold = 0.1\n",
    "\n",
    "for ax in g.axes.flatten():\n",
    "    title = ax.get_title()\n",
    "    session = title.split(\" = \")[-1]\n",
    "    ax.text(\n",
    "        1.0,\n",
    "        -0.04,\n",
    "        f\"Baseline: {baseline[session]:.3f}\",\n",
    "        color=\"red\",\n",
    "        ha=\"right\",\n",
    "        va=\"bottom\",\n",
    "        fontsize=9,\n",
    "        transform=ax.get_yaxis_transform(),\n",
    "    )\n",
    "    ax.axhline(\n",
    "        y=baseline[session], color=\"red\", linestyle=\"--\", label=\"Baseline\"\n",
    "    )\n",
    "    ax.axhline(\n",
    "        y=baseline[session] + threshold,\n",
    "        color=\"orange\",\n",
    "        linestyle=\"--\",\n",
    "        label=\"Threshold\",\n",
    "    )\n",
    "\n",
    "g.axes.flatten()[1].legend(loc=\"upper right\")\n",
    "g.set(xticks=[])\n",
    "plt.tight_layout()\n",
    "plt.savefig(\n",
    "    f\"plots/analysis_pca/{PREFIX}barplot_rmse_pcs_baseline_{RUN}.svg\",\n",
    "    bbox_inches=\"tight\",\n",
    ")"
   ]
  },
  {
   "cell_type": "code",
   "execution_count": null,
   "id": "20b20560",
   "metadata": {},
   "outputs": [
    {
     "name": "stdout",
     "output_type": "stream",
     "text": [
      "Summary of Principal Component Importance Analysis\n",
      "\n",
      "Using importance threshold: 0.10\n",
      "-------------------------------------------------------------------------------\n",
      "Session: bex_20230623_denoised\n",
      "Baseline RMSE: 0.8624\n",
      "Important PCs (n=9): [0, 2, 4, 6, 8, 9, 10, 11, 14]\n",
      "===============================================================================\n",
      "Session: ken_20230614_denoised\n",
      "Baseline RMSE: 0.5914\n",
      "Important PCs (n=4): [0, 2, 3, 6]\n",
      "===============================================================================\n",
      "Session: ken_20230618_denoised\n",
      "Baseline RMSE: 0.7525\n",
      "Important PCs (n=11): [2, 3, 4, 5, 6, 7, 8, 9, 11, 16, 17]\n",
      "===============================================================================\n"
     ]
    }
   ],
   "source": [
    "pcs_to_exclude = dict()\n",
    "\n",
    "print(\"Summary of Principal Component Importance Analysis\")\n",
    "\n",
    "\n",
    "print(f\"\\nUsing importance threshold: {threshold:.2f}\")\n",
    "print(\"-\" * 79)\n",
    "for session, rmses in pcs_importance.items():\n",
    "    rmses = np.array(rmses)\n",
    "    session_baseline = baseline[session]\n",
    "\n",
    "    important_indices = np.where(rmses >= threshold + session_baseline)[0]\n",
    "    pcs_to_exclude[session] = important_indices.tolist()\n",
    "\n",
    "    print(f\"Session: {session}\")\n",
    "    print(f\"Baseline RMSE: {session_baseline:.4f}\")\n",
    "    print(\n",
    "        f\"Important PCs (n={len(important_indices)}): {important_indices.tolist()}\"\n",
    "    )\n",
    "    print(\"=\" * 79)"
   ]
  },
  {
   "cell_type": "code",
   "execution_count": null,
   "id": "72d722d9",
   "metadata": {},
   "outputs": [],
   "source": [
    "repr_map = {\n",
    "    \"all\": \"loose\",\n",
    "    \"loose\": \"medium\",\n",
    "    \"medium\": \"strict\",\n",
    "    \"strict\": \"draconian\",\n",
    "}"
   ]
  },
  {
   "cell_type": "code",
   "execution_count": null,
   "id": "f5b95fd7",
   "metadata": {},
   "outputs": [],
   "source": [
    "coordinates = config[\"data\"][\"modalities\"][\"poses\"][\"coordinates\"]"
   ]
  },
  {
   "cell_type": "code",
   "execution_count": null,
   "id": "bcf3831c",
   "metadata": {},
   "outputs": [],
   "source": [
    "for session in config[\"sessions\"]:\n",
    "    poses_meta_dir = EXPERIMENT_DIR / session / \"poses\" / \"meta\"\n",
    "    pca = joblib.load(poses_meta_dir / f\"pcs_{coordinates}_{RUN}.pkl\")\n",
    "    new_pca = copy.deepcopy(pca)\n",
    "    idxs_to_include = [\n",
    "        i\n",
    "        for i in range(len(pca.components_))\n",
    "        if i not in pcs_to_exclude[session]\n",
    "    ]\n",
    "    new_pca.components_ = pca.components_[idxs_to_include]\n",
    "    new_pca.explained_variance_ = pca.explained_variance_[idxs_to_include]\n",
    "    new_pca.explained_variance_ratio_ = pca.explained_variance_ratio_[\n",
    "        idxs_to_include\n",
    "    ]\n",
    "    new_pca.n_components_ = len(idxs_to_include)\n",
    "    if hasattr(pca, \"singular_values_\"):\n",
    "        new_pca.singular_values_ = pca.singular_values_[idxs_to_include]\n",
    "    joblib.dump(\n",
    "        new_pca,\n",
    "        poses_meta_dir / f\"pcs_{coordinates}_{repr_map[RUN]}.pkl\",\n",
    "    )"
   ]
  }
 ],
 "metadata": {
  "kernelspec": {
   "display_name": ".mlab (3.13.5)",
   "language": "python",
   "name": "python3"
  },
  "language_info": {
   "codemirror_mode": {
    "name": "ipython",
    "version": 3
   },
   "file_extension": ".py",
   "mimetype": "text/x-python",
   "name": "python",
   "nbconvert_exporter": "python",
   "pygments_lexer": "ipython3",
   "version": "3.13.5"
  }
 },
 "nbformat": 4,
 "nbformat_minor": 5
}
