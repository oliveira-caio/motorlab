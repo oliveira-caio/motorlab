{
 "cells": [
  {
   "cell_type": "code",
   "execution_count": 36,
   "metadata": {},
   "outputs": [],
   "source": [
    "import numpy as np\n",
    "import matplotlib.pyplot as plt\n",
    "\n",
    "import vci"
   ]
  },
  {
   "cell_type": "code",
   "execution_count": 37,
   "metadata": {},
   "outputs": [],
   "source": [
    "extra_kps = [1, 2, 5, 6, 11, 12, 16, 17, 21, 22, 26, 27, 29]\n",
    "skeleton = [\n",
    "    [16, 17],\n",
    "    [16, 10],\n",
    "    [16, 13],\n",
    "    [14, 13],\n",
    "    [14, 15],\n",
    "    [11, 10],\n",
    "    [11, 12],\n",
    "    [8, 7],\n",
    "    [8, 9],\n",
    "    [5, 4],\n",
    "    [5, 6],\n",
    "    [0, 16],\n",
    "    [0, 3],\n",
    "    [0, 4],\n",
    "    [0, 7],\n",
    "    [0, 1],\n",
    "    [0, 2],\n",
    "    [3, 1],\n",
    "    [3, 2],\n",
    "]"
   ]
  },
  {
   "cell_type": "markdown",
   "metadata": {},
   "source": [
    "# the idea\n",
    "\n",
    "For each edge in the skeleton I compute its size. Repeat this for all frames, obtaining a tensor with shape `(n_frames, n_edges)`. Then I select only the frames in which more than 80% of the edges are between the 0.3- and 0.7-quantiles. After that I extract all periods of time with at least 1s and then I extract the 1s intervals."
   ]
  },
  {
   "cell_type": "code",
   "execution_count": 124,
   "metadata": {},
   "outputs": [],
   "source": [
    "keypoints = np.load(\"bex_20230226/keypoints/keypoints.npy\")\n",
    "keypoints = np.delete(keypoints, extra_kps, axis=1)\n",
    "\n",
    "distances = np.empty((len(skeleton), len(keypoints)))  # (n_edges, n_frames)\n",
    "quantiles = np.empty((len(skeleton), 2))\n",
    "percent = 0.8\n",
    "fst_qtl = 0.2\n",
    "snd_qtl = 0.8\n",
    "\n",
    "# compute the distance of each edge for all frames\n",
    "for i, edge in enumerate(skeleton):\n",
    "    distances[i] = np.linalg.norm(\n",
    "        keypoints[:, edge[0]] - keypoints[:, edge[1]], axis=1\n",
    "    )\n",
    "\n",
    "# compute the quantiles of the distances across frame for each edge\n",
    "for i, edge in enumerate(distances):\n",
    "    quantiles[i, 0] = np.quantile(edge, fst_qtl)\n",
    "    quantiles[i, 1] = np.quantile(edge, snd_qtl)\n",
    "\n",
    "# for each frame check if 80% of the distances is within the quantiles\n",
    "frames = []\n",
    "for i in range(distances.shape[1]):\n",
    "    if len(\n",
    "        [\n",
    "            j\n",
    "            for j in range(distances.shape[0])\n",
    "            if quantiles[j][0] < distances[j, i] < quantiles[j][1]\n",
    "        ]\n",
    "    ) > percent * len(skeleton):\n",
    "        frames.append(i)"
   ]
  },
  {
   "cell_type": "code",
   "execution_count": 125,
   "metadata": {},
   "outputs": [
    {
     "name": "stdout",
     "output_type": "stream",
     "text": [
      "[[2453, 35921], [41803, 52870], [78916, 122022], [145867, 196439]]\n"
     ]
    }
   ],
   "source": [
    "consec = []\n",
    "start = frames[0]\n",
    "end = frames[0]\n",
    "\n",
    "for i in range(1, len(frames)):\n",
    "    if frames[i] < end + 5000:\n",
    "        end = frames[i]\n",
    "    else:\n",
    "        consec.append([start, end])\n",
    "        start = frames[i]\n",
    "        end = frames[i]\n",
    "\n",
    "consec.append([start, end])\n",
    "print(consec)"
   ]
  },
  {
   "cell_type": "code",
   "execution_count": 132,
   "metadata": {},
   "outputs": [
    {
     "data": {
      "application/vnd.plotly.v1+json": {
       "config": {
        "plotlyServerURL": "https://plot.ly"
       },
       "data": [
        {
         "line": {
          "color": "blue",
          "width": 7
         },
         "marker": {
          "color": "black",
          "size": 5
         },
         "mode": "lines+markers",
         "type": "scatter3d",
         "x": [
          -833.232774386796,
          -807.586915613746
         ],
         "y": [
          792.217132249522,
          854.551721573738
         ],
         "z": [
          -1924.59509118345,
          -1886.66207930753
         ]
        },
        {
         "line": {
          "color": "blue",
          "width": 7
         },
         "marker": {
          "color": "black",
          "size": 5
         },
         "mode": "lines+markers",
         "type": "scatter3d",
         "x": [
          -833.232774386796,
          -829.761937466789
         ],
         "y": [
          792.217132249522,
          767.941626581006
         ],
         "z": [
          -1924.59509118345,
          -1955.94485953279
         ]
        },
        {
         "line": {
          "color": "blue",
          "width": 7
         },
         "marker": {
          "color": "black",
          "size": 5
         },
         "mode": "lines+markers",
         "type": "scatter3d",
         "x": [
          -833.232774386796,
          -994.46408524155
         ],
         "y": [
          792.217132249522,
          523.497974208061
         ],
         "z": [
          -1924.59509118345,
          -2265.31325598574
         ]
        },
        {
         "line": {
          "color": "blue",
          "width": 7
         },
         "marker": {
          "color": "black",
          "size": 5
         },
         "mode": "lines+markers",
         "type": "scatter3d",
         "x": [
          -1072.67695467449,
          -994.46408524155
         ],
         "y": [
          742.931437405531,
          523.497974208061
         ],
         "z": [
          -2328.48277516354,
          -2265.31325598574
         ]
        },
        {
         "line": {
          "color": "blue",
          "width": 7
         },
         "marker": {
          "color": "black",
          "size": 5
         },
         "mode": "lines+markers",
         "type": "scatter3d",
         "x": [
          -1072.67695467449,
          -1028.60293497094
         ],
         "y": [
          742.931437405531,
          808.093262749772
         ],
         "z": [
          -2328.48277516354,
          -2438.18275982236
         ]
        },
        {
         "line": {
          "color": "blue",
          "width": 7
         },
         "marker": {
          "color": "black",
          "size": 5
         },
         "mode": "lines+markers",
         "type": "scatter3d",
         "x": [
          -832.857846078193,
          -829.761937466789
         ],
         "y": [
          849.778782264071,
          767.941626581006
         ],
         "z": [
          -2280.86835223271,
          -1955.94485953279
         ]
        },
        {
         "line": {
          "color": "blue",
          "width": 7
         },
         "marker": {
          "color": "black",
          "size": 5
         },
         "mode": "lines+markers",
         "type": "scatter3d",
         "x": [
          -832.857846078193,
          -806.203077195486
         ],
         "y": [
          849.778782264071,
          790.615680290151
         ],
         "z": [
          -2280.86835223271,
          -2370.06069862899
         ]
        },
        {
         "line": {
          "color": "blue",
          "width": 7
         },
         "marker": {
          "color": "black",
          "size": 5
         },
         "mode": "lines+markers",
         "type": "scatter3d",
         "x": [
          -990.97356708208,
          -983.706948233184
         ],
         "y": [
          684.967473074719,
          699.008565650314
         ],
         "z": [
          -2265.63449837445,
          -2097.7951875901
         ]
        },
        {
         "line": {
          "color": "blue",
          "width": 7
         },
         "marker": {
          "color": "black",
          "size": 5
         },
         "mode": "lines+markers",
         "type": "scatter3d",
         "x": [
          -990.97356708208,
          -908.733188588973
         ],
         "y": [
          684.967473074719,
          760.125548649266
         ],
         "z": [
          -2265.63449837445,
          -2433.76942721632
         ]
        },
        {
         "line": {
          "color": "blue",
          "width": 7
         },
         "marker": {
          "color": "black",
          "size": 5
         },
         "mode": "lines+markers",
         "type": "scatter3d",
         "x": [
          -834.884830236618,
          -856.571660959097
         ],
         "y": [
          831.700198179934,
          809.761716328679
         ],
         "z": [
          -2266.01817281705,
          -2113.61319897112
         ]
        },
        {
         "line": {
          "color": "blue",
          "width": 7
         },
         "marker": {
          "color": "black",
          "size": 5
         },
         "mode": "lines+markers",
         "type": "scatter3d",
         "x": [
          -834.884830236618,
          -807.025605158172
         ],
         "y": [
          831.700198179934,
          796.215309095016
         ],
         "z": [
          -2266.01817281705,
          -2389.58115117934
         ]
        },
        {
         "line": {
          "color": "blue",
          "width": 7
         },
         "marker": {
          "color": "black",
          "size": 5
         },
         "mode": "lines+markers",
         "type": "scatter3d",
         "x": [
          -1012.22369627456,
          -833.232774386796
         ],
         "y": [
          737.651133467608,
          792.217132249522
         ],
         "z": [
          -2061.93451788456,
          -1924.59509118345
         ]
        },
        {
         "line": {
          "color": "blue",
          "width": 7
         },
         "marker": {
          "color": "black",
          "size": 5
         },
         "mode": "lines+markers",
         "type": "scatter3d",
         "x": [
          -1012.22369627456,
          -876.498284466144
         ],
         "y": [
          737.651133467608,
          664.29990915338
         ],
         "z": [
          -2061.93451788456,
          -1985.50997358125
         ]
        },
        {
         "line": {
          "color": "blue",
          "width": 7
         },
         "marker": {
          "color": "black",
          "size": 5
         },
         "mode": "lines+markers",
         "type": "scatter3d",
         "x": [
          -1012.22369627456,
          -856.571660959097
         ],
         "y": [
          737.651133467608,
          809.761716328679
         ],
         "z": [
          -2061.93451788456,
          -2113.61319897112
         ]
        },
        {
         "line": {
          "color": "blue",
          "width": 7
         },
         "marker": {
          "color": "black",
          "size": 5
         },
         "mode": "lines+markers",
         "type": "scatter3d",
         "x": [
          -1012.22369627456,
          -983.706948233184
         ],
         "y": [
          737.651133467608,
          699.008565650314
         ],
         "z": [
          -2061.93451788456,
          -2097.7951875901
         ]
        },
        {
         "line": {
          "color": "blue",
          "width": 7
         },
         "marker": {
          "color": "black",
          "size": 5
         },
         "mode": "lines+markers",
         "type": "scatter3d",
         "x": [
          -1012.22369627456,
          -857.027228490589
         ],
         "y": [
          737.651133467608,
          810.297830694885
         ],
         "z": [
          -2061.93451788456,
          -1992.40918477726
         ]
        },
        {
         "line": {
          "color": "blue",
          "width": 7
         },
         "marker": {
          "color": "black",
          "size": 5
         },
         "mode": "lines+markers",
         "type": "scatter3d",
         "x": [
          -1012.22369627456,
          -998.705944635297
         ],
         "y": [
          737.651133467608,
          714.377630106915
         ],
         "z": [
          -2061.93451788456,
          -1999.09124095973
         ]
        },
        {
         "line": {
          "color": "blue",
          "width": 7
         },
         "marker": {
          "color": "black",
          "size": 5
         },
         "mode": "lines+markers",
         "type": "scatter3d",
         "x": [
          -876.498284466144,
          -857.027228490589
         ],
         "y": [
          664.29990915338,
          810.297830694885
         ],
         "z": [
          -1985.50997358125,
          -1992.40918477726
         ]
        },
        {
         "line": {
          "color": "blue",
          "width": 7
         },
         "marker": {
          "color": "black",
          "size": 5
         },
         "mode": "lines+markers",
         "type": "scatter3d",
         "x": [
          -876.498284466144,
          -998.705944635297
         ],
         "y": [
          664.29990915338,
          714.377630106915
         ],
         "z": [
          -1985.50997358125,
          -1999.09124095973
         ]
        }
       ],
       "layout": {
        "scene": {
         "xaxis": {
          "visible": false
         },
         "yaxis": {
          "visible": false
         },
         "zaxis": {
          "visible": false
         }
        },
        "showlegend": false,
        "template": {
         "data": {
          "bar": [
           {
            "error_x": {
             "color": "#2a3f5f"
            },
            "error_y": {
             "color": "#2a3f5f"
            },
            "marker": {
             "line": {
              "color": "#E5ECF6",
              "width": 0.5
             },
             "pattern": {
              "fillmode": "overlay",
              "size": 10,
              "solidity": 0.2
             }
            },
            "type": "bar"
           }
          ],
          "barpolar": [
           {
            "marker": {
             "line": {
              "color": "#E5ECF6",
              "width": 0.5
             },
             "pattern": {
              "fillmode": "overlay",
              "size": 10,
              "solidity": 0.2
             }
            },
            "type": "barpolar"
           }
          ],
          "carpet": [
           {
            "aaxis": {
             "endlinecolor": "#2a3f5f",
             "gridcolor": "white",
             "linecolor": "white",
             "minorgridcolor": "white",
             "startlinecolor": "#2a3f5f"
            },
            "baxis": {
             "endlinecolor": "#2a3f5f",
             "gridcolor": "white",
             "linecolor": "white",
             "minorgridcolor": "white",
             "startlinecolor": "#2a3f5f"
            },
            "type": "carpet"
           }
          ],
          "choropleth": [
           {
            "colorbar": {
             "outlinewidth": 0,
             "ticks": ""
            },
            "type": "choropleth"
           }
          ],
          "contour": [
           {
            "colorbar": {
             "outlinewidth": 0,
             "ticks": ""
            },
            "colorscale": [
             [
              0,
              "#0d0887"
             ],
             [
              0.1111111111111111,
              "#46039f"
             ],
             [
              0.2222222222222222,
              "#7201a8"
             ],
             [
              0.3333333333333333,
              "#9c179e"
             ],
             [
              0.4444444444444444,
              "#bd3786"
             ],
             [
              0.5555555555555556,
              "#d8576b"
             ],
             [
              0.6666666666666666,
              "#ed7953"
             ],
             [
              0.7777777777777778,
              "#fb9f3a"
             ],
             [
              0.8888888888888888,
              "#fdca26"
             ],
             [
              1,
              "#f0f921"
             ]
            ],
            "type": "contour"
           }
          ],
          "contourcarpet": [
           {
            "colorbar": {
             "outlinewidth": 0,
             "ticks": ""
            },
            "type": "contourcarpet"
           }
          ],
          "heatmap": [
           {
            "colorbar": {
             "outlinewidth": 0,
             "ticks": ""
            },
            "colorscale": [
             [
              0,
              "#0d0887"
             ],
             [
              0.1111111111111111,
              "#46039f"
             ],
             [
              0.2222222222222222,
              "#7201a8"
             ],
             [
              0.3333333333333333,
              "#9c179e"
             ],
             [
              0.4444444444444444,
              "#bd3786"
             ],
             [
              0.5555555555555556,
              "#d8576b"
             ],
             [
              0.6666666666666666,
              "#ed7953"
             ],
             [
              0.7777777777777778,
              "#fb9f3a"
             ],
             [
              0.8888888888888888,
              "#fdca26"
             ],
             [
              1,
              "#f0f921"
             ]
            ],
            "type": "heatmap"
           }
          ],
          "heatmapgl": [
           {
            "colorbar": {
             "outlinewidth": 0,
             "ticks": ""
            },
            "colorscale": [
             [
              0,
              "#0d0887"
             ],
             [
              0.1111111111111111,
              "#46039f"
             ],
             [
              0.2222222222222222,
              "#7201a8"
             ],
             [
              0.3333333333333333,
              "#9c179e"
             ],
             [
              0.4444444444444444,
              "#bd3786"
             ],
             [
              0.5555555555555556,
              "#d8576b"
             ],
             [
              0.6666666666666666,
              "#ed7953"
             ],
             [
              0.7777777777777778,
              "#fb9f3a"
             ],
             [
              0.8888888888888888,
              "#fdca26"
             ],
             [
              1,
              "#f0f921"
             ]
            ],
            "type": "heatmapgl"
           }
          ],
          "histogram": [
           {
            "marker": {
             "pattern": {
              "fillmode": "overlay",
              "size": 10,
              "solidity": 0.2
             }
            },
            "type": "histogram"
           }
          ],
          "histogram2d": [
           {
            "colorbar": {
             "outlinewidth": 0,
             "ticks": ""
            },
            "colorscale": [
             [
              0,
              "#0d0887"
             ],
             [
              0.1111111111111111,
              "#46039f"
             ],
             [
              0.2222222222222222,
              "#7201a8"
             ],
             [
              0.3333333333333333,
              "#9c179e"
             ],
             [
              0.4444444444444444,
              "#bd3786"
             ],
             [
              0.5555555555555556,
              "#d8576b"
             ],
             [
              0.6666666666666666,
              "#ed7953"
             ],
             [
              0.7777777777777778,
              "#fb9f3a"
             ],
             [
              0.8888888888888888,
              "#fdca26"
             ],
             [
              1,
              "#f0f921"
             ]
            ],
            "type": "histogram2d"
           }
          ],
          "histogram2dcontour": [
           {
            "colorbar": {
             "outlinewidth": 0,
             "ticks": ""
            },
            "colorscale": [
             [
              0,
              "#0d0887"
             ],
             [
              0.1111111111111111,
              "#46039f"
             ],
             [
              0.2222222222222222,
              "#7201a8"
             ],
             [
              0.3333333333333333,
              "#9c179e"
             ],
             [
              0.4444444444444444,
              "#bd3786"
             ],
             [
              0.5555555555555556,
              "#d8576b"
             ],
             [
              0.6666666666666666,
              "#ed7953"
             ],
             [
              0.7777777777777778,
              "#fb9f3a"
             ],
             [
              0.8888888888888888,
              "#fdca26"
             ],
             [
              1,
              "#f0f921"
             ]
            ],
            "type": "histogram2dcontour"
           }
          ],
          "mesh3d": [
           {
            "colorbar": {
             "outlinewidth": 0,
             "ticks": ""
            },
            "type": "mesh3d"
           }
          ],
          "parcoords": [
           {
            "line": {
             "colorbar": {
              "outlinewidth": 0,
              "ticks": ""
             }
            },
            "type": "parcoords"
           }
          ],
          "pie": [
           {
            "automargin": true,
            "type": "pie"
           }
          ],
          "scatter": [
           {
            "fillpattern": {
             "fillmode": "overlay",
             "size": 10,
             "solidity": 0.2
            },
            "type": "scatter"
           }
          ],
          "scatter3d": [
           {
            "line": {
             "colorbar": {
              "outlinewidth": 0,
              "ticks": ""
             }
            },
            "marker": {
             "colorbar": {
              "outlinewidth": 0,
              "ticks": ""
             }
            },
            "type": "scatter3d"
           }
          ],
          "scattercarpet": [
           {
            "marker": {
             "colorbar": {
              "outlinewidth": 0,
              "ticks": ""
             }
            },
            "type": "scattercarpet"
           }
          ],
          "scattergeo": [
           {
            "marker": {
             "colorbar": {
              "outlinewidth": 0,
              "ticks": ""
             }
            },
            "type": "scattergeo"
           }
          ],
          "scattergl": [
           {
            "marker": {
             "colorbar": {
              "outlinewidth": 0,
              "ticks": ""
             }
            },
            "type": "scattergl"
           }
          ],
          "scattermapbox": [
           {
            "marker": {
             "colorbar": {
              "outlinewidth": 0,
              "ticks": ""
             }
            },
            "type": "scattermapbox"
           }
          ],
          "scatterpolar": [
           {
            "marker": {
             "colorbar": {
              "outlinewidth": 0,
              "ticks": ""
             }
            },
            "type": "scatterpolar"
           }
          ],
          "scatterpolargl": [
           {
            "marker": {
             "colorbar": {
              "outlinewidth": 0,
              "ticks": ""
             }
            },
            "type": "scatterpolargl"
           }
          ],
          "scatterternary": [
           {
            "marker": {
             "colorbar": {
              "outlinewidth": 0,
              "ticks": ""
             }
            },
            "type": "scatterternary"
           }
          ],
          "surface": [
           {
            "colorbar": {
             "outlinewidth": 0,
             "ticks": ""
            },
            "colorscale": [
             [
              0,
              "#0d0887"
             ],
             [
              0.1111111111111111,
              "#46039f"
             ],
             [
              0.2222222222222222,
              "#7201a8"
             ],
             [
              0.3333333333333333,
              "#9c179e"
             ],
             [
              0.4444444444444444,
              "#bd3786"
             ],
             [
              0.5555555555555556,
              "#d8576b"
             ],
             [
              0.6666666666666666,
              "#ed7953"
             ],
             [
              0.7777777777777778,
              "#fb9f3a"
             ],
             [
              0.8888888888888888,
              "#fdca26"
             ],
             [
              1,
              "#f0f921"
             ]
            ],
            "type": "surface"
           }
          ],
          "table": [
           {
            "cells": {
             "fill": {
              "color": "#EBF0F8"
             },
             "line": {
              "color": "white"
             }
            },
            "header": {
             "fill": {
              "color": "#C8D4E3"
             },
             "line": {
              "color": "white"
             }
            },
            "type": "table"
           }
          ]
         },
         "layout": {
          "annotationdefaults": {
           "arrowcolor": "#2a3f5f",
           "arrowhead": 0,
           "arrowwidth": 1
          },
          "autotypenumbers": "strict",
          "coloraxis": {
           "colorbar": {
            "outlinewidth": 0,
            "ticks": ""
           }
          },
          "colorscale": {
           "diverging": [
            [
             0,
             "#8e0152"
            ],
            [
             0.1,
             "#c51b7d"
            ],
            [
             0.2,
             "#de77ae"
            ],
            [
             0.3,
             "#f1b6da"
            ],
            [
             0.4,
             "#fde0ef"
            ],
            [
             0.5,
             "#f7f7f7"
            ],
            [
             0.6,
             "#e6f5d0"
            ],
            [
             0.7,
             "#b8e186"
            ],
            [
             0.8,
             "#7fbc41"
            ],
            [
             0.9,
             "#4d9221"
            ],
            [
             1,
             "#276419"
            ]
           ],
           "sequential": [
            [
             0,
             "#0d0887"
            ],
            [
             0.1111111111111111,
             "#46039f"
            ],
            [
             0.2222222222222222,
             "#7201a8"
            ],
            [
             0.3333333333333333,
             "#9c179e"
            ],
            [
             0.4444444444444444,
             "#bd3786"
            ],
            [
             0.5555555555555556,
             "#d8576b"
            ],
            [
             0.6666666666666666,
             "#ed7953"
            ],
            [
             0.7777777777777778,
             "#fb9f3a"
            ],
            [
             0.8888888888888888,
             "#fdca26"
            ],
            [
             1,
             "#f0f921"
            ]
           ],
           "sequentialminus": [
            [
             0,
             "#0d0887"
            ],
            [
             0.1111111111111111,
             "#46039f"
            ],
            [
             0.2222222222222222,
             "#7201a8"
            ],
            [
             0.3333333333333333,
             "#9c179e"
            ],
            [
             0.4444444444444444,
             "#bd3786"
            ],
            [
             0.5555555555555556,
             "#d8576b"
            ],
            [
             0.6666666666666666,
             "#ed7953"
            ],
            [
             0.7777777777777778,
             "#fb9f3a"
            ],
            [
             0.8888888888888888,
             "#fdca26"
            ],
            [
             1,
             "#f0f921"
            ]
           ]
          },
          "colorway": [
           "#636efa",
           "#EF553B",
           "#00cc96",
           "#ab63fa",
           "#FFA15A",
           "#19d3f3",
           "#FF6692",
           "#B6E880",
           "#FF97FF",
           "#FECB52"
          ],
          "font": {
           "color": "#2a3f5f"
          },
          "geo": {
           "bgcolor": "white",
           "lakecolor": "white",
           "landcolor": "#E5ECF6",
           "showlakes": true,
           "showland": true,
           "subunitcolor": "white"
          },
          "hoverlabel": {
           "align": "left"
          },
          "hovermode": "closest",
          "mapbox": {
           "style": "light"
          },
          "paper_bgcolor": "white",
          "plot_bgcolor": "#E5ECF6",
          "polar": {
           "angularaxis": {
            "gridcolor": "white",
            "linecolor": "white",
            "ticks": ""
           },
           "bgcolor": "#E5ECF6",
           "radialaxis": {
            "gridcolor": "white",
            "linecolor": "white",
            "ticks": ""
           }
          },
          "scene": {
           "xaxis": {
            "backgroundcolor": "#E5ECF6",
            "gridcolor": "white",
            "gridwidth": 2,
            "linecolor": "white",
            "showbackground": true,
            "ticks": "",
            "zerolinecolor": "white"
           },
           "yaxis": {
            "backgroundcolor": "#E5ECF6",
            "gridcolor": "white",
            "gridwidth": 2,
            "linecolor": "white",
            "showbackground": true,
            "ticks": "",
            "zerolinecolor": "white"
           },
           "zaxis": {
            "backgroundcolor": "#E5ECF6",
            "gridcolor": "white",
            "gridwidth": 2,
            "linecolor": "white",
            "showbackground": true,
            "ticks": "",
            "zerolinecolor": "white"
           }
          },
          "shapedefaults": {
           "line": {
            "color": "#2a3f5f"
           }
          },
          "ternary": {
           "aaxis": {
            "gridcolor": "white",
            "linecolor": "white",
            "ticks": ""
           },
           "baxis": {
            "gridcolor": "white",
            "linecolor": "white",
            "ticks": ""
           },
           "bgcolor": "#E5ECF6",
           "caxis": {
            "gridcolor": "white",
            "linecolor": "white",
            "ticks": ""
           }
          },
          "title": {
           "x": 0.05
          },
          "xaxis": {
           "automargin": true,
           "gridcolor": "white",
           "linecolor": "white",
           "ticks": "",
           "title": {
            "standoff": 15
           },
           "zerolinecolor": "white",
           "zerolinewidth": 2
          },
          "yaxis": {
           "automargin": true,
           "gridcolor": "white",
           "linecolor": "white",
           "ticks": "",
           "title": {
            "standoff": 15
           },
           "zerolinecolor": "white",
           "zerolinewidth": 2
          }
         }
        }
       }
      }
     },
     "metadata": {},
     "output_type": "display_data"
    }
   ],
   "source": [
    "vci.plot.plot_pose(keypoints[26000], skeleton)"
   ]
  },
  {
   "cell_type": "code",
   "execution_count": 79,
   "metadata": {},
   "outputs": [
    {
     "data": {
      "text/plain": [
       "<matplotlib.lines.Line2D at 0x11f5414f0>"
      ]
     },
     "execution_count": 79,
     "metadata": {},
     "output_type": "execute_result"
    },
    {
     "data": {
      "image/png": "[encoded data removed]",
      "text/plain": [
       "<Figure size 640x480 with 1 Axes>"
      ]
     },
     "metadata": {},
     "output_type": "display_data"
    }
   ],
   "source": [
    "i=6\n",
    "plt.hist(distances[i], bins=50)\n",
    "plt.axvline(np.median(distances[i]), color=\"red\")\n",
    "plt.axvline(np.quantile(distances[i], 0.2), color=\"black\")\n",
    "plt.axvline(np.quantile(distances[i], 0.8), color=\"black\")"
   ]
  }
 ],
 "metadata": {
  "kernelspec": {
   "display_name": "venv",
   "language": "python",
   "name": "python3"
  },
  "language_info": {
   "codemirror_mode": {
    "name": "ipython",
    "version": 3
   },
   "file_extension": ".py",
   "mimetype": "text/x-python",
   "name": "python",
   "nbconvert_exporter": "python",
   "pygments_lexer": "ipython3",
   "version": "3.12.4"
  }
 },
 "nbformat": 4,
 "nbformat_minor": 2
}
